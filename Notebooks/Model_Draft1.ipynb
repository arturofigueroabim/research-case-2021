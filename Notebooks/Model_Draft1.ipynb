{
 "cells": [
  {
   "cell_type": "code",
   "execution_count": 271,
   "id": "5df9d260",
   "metadata": {},
   "outputs": [],
   "source": [
    "import numpy as np\n",
    "import pandas as pd\n",
    "import spacy\n",
    "from spacy.tokens import Doc, Span, Token\n",
    "\n",
    "from sklearn.linear_model import LogisticRegression\n",
    "from sklearn.ensemble import RandomForestClassifier\n",
    "\n",
    "from sklearn.metrics import confusion_matrix"
   ]
  },
  {
   "cell_type": "code",
   "execution_count": 6,
   "id": "7697258f",
   "metadata": {},
   "outputs": [],
   "source": [
    "nlp = spacy.load(\"en_core_web_md\")"
   ]
  },
  {
   "cell_type": "markdown",
   "id": "a680e667",
   "metadata": {},
   "source": [
    "# Test with only essay001"
   ]
  },
  {
   "cell_type": "code",
   "execution_count": 282,
   "id": "f4590e39",
   "metadata": {},
   "outputs": [],
   "source": [
    "essay_input_path = \"../data/input/brat-project-final/essay126.txt\"\n",
    "with open(essay_input_path) as f:\n",
    "    essay_text = f.read()\n",
    "    \n",
    "ann_input_path  = \"../data/input/brat-project-final/essay126.ann\"\n",
    "with open(ann_input_path) as f:\n",
    "    ann_text = f.read()\n",
    "    \n"
   ]
  },
  {
   "cell_type": "code",
   "execution_count": 285,
   "id": "2dc53e50",
   "metadata": {},
   "outputs": [
    {
     "data": {
      "text/plain": [
       "\"One or two close friends vs. a large number of casual acquaintances\\n\\nThere is no need for me to put any emphasis on the advantage of having a large number of casual acquaintance. However, I still agree that it's better to have one or two close friends than to have a large number of casual acquaintances.\\nWe can not deny that being a friend with someone is different from only being acquaintant. First, it's not easy to make friend with anyone. I believe friends are people who have great compatibility with each other. After two years in college I have found sometimes there is more differences between people than similarities, for we are growing in the different families and was educated in various ways. Sometimes acquaintances are just acquaintances. We spend time together but we could never be friend. So, it's much easier to have some casual acquaintances than have some close friends.\\nSecond, close friends can easily understand each others feelings. Because of the similarity I talked before, acquaintances probably not able to understand you better than your friends. Moreover, they wouldn't even spare time to consider your feelings. Everyone play the role of acquaintance and friend at the same time. Being friendly is a good way to treat a acquaintance but way not enough for a friend. When my friend is sick, I would not only ask if he is okay like an acquaintance but do my best to make him get well as soon as possible. If my friend is going to the wrong direction in his life trail, I will try my best to pull him back, but not stand and stare like it's not of my business. And I believe my friend will do the same to me. In conclusion, a friend is a person you care about. \\nTo me, friends are the most important people in my life second to my family. I am the kind of person who has only one or two close friends, and I am fully content that I have such nice friends. If someone exchange my friends with thousands of acquaintances, I will definitely say NO.\""
      ]
     },
     "execution_count": 285,
     "metadata": {},
     "output_type": "execute_result"
    }
   ],
   "source": [
    "essay_text"
   ]
  },
  {
   "cell_type": "code",
   "execution_count": 284,
   "id": "fd7b0bed",
   "metadata": {},
   "outputs": [
    {
     "name": "stdout",
     "output_type": "stream",
     "text": [
      "T1\tClaim 814 893\tit's much easier to have some casual acquaintances than have some close friends\n",
      "A1\tStance T1 For\n",
      "T2\tMajorClaim 207 303\tit's better to have one or two close friends than to have a large number of casual acquaintances\n",
      "T3\tPremise 326 394\tbeing a friend with someone is different from only being acquaintant\n",
      "T4\tPremise 403 443\tit's not easy to make friend with anyone\n",
      "T5\tPremise 455 518\tfriends are people who have great compatibility with each other\n",
      "T6\tPremise 520 707\tAfter two years in college I have found sometimes there is more differences between people than similarities, for we are growing in the different families and was educated in various ways\n",
      "T7\tPremise 709 755\tSometimes acquaintances are just acquaintances\n",
      "T8\tPremise 757 808\tWe spend time together but we could never be friend\n",
      "T9\tClaim 903 959\tclose friends can easily understand each others feelings\n",
      "A2\tStance T9 For\n",
      "T10\tPremise 1004 1078\tacquaintances probably not able to understand you better than your friends\n",
      "T11\tPremise 1090 1145\tthey wouldn't even spare time to consider your feelings\n",
      "T12\tPremise 1147 1213\tEveryone play the role of acquaintance and friend at the same time\n",
      "T13\tPremise 1215 1299\tBeing friendly is a good way to treat a acquaintance but way not enough for a friend\n",
      "T14\tPremise 1301 1436\tWhen my friend is sick, I would not only ask if he is okay like an acquaintance but do my best to make him get well as soon as possible\n",
      "T15\tPremise 1438 1591\tIf my friend is going to the wrong direction in his life trail, I will try my best to pull him back, but not stand and stare like it's not of my business\n",
      "T16\tPremise 1607 1639\tmy friend will do the same to me\n",
      "T17\tClaim 1656 1691\ta friend is a person you care about\n",
      "A3\tStance T17 For\n",
      "T18\tMajorClaim 1701 1769\tfriends are the most important people in my life second to my family\n",
      "R1\tsupports Arg1:T7 Arg2:T1\t\n",
      "R2\tsupports Arg1:T8 Arg2:T1\t\n",
      "R3\tsupports Arg1:T3 Arg2:T1\t\n",
      "R4\tsupports Arg1:T4 Arg2:T3\t\n",
      "R5\tsupports Arg1:T5 Arg2:T3\t\n",
      "R6\tsupports Arg1:T10 Arg2:T9\t\n",
      "R7\tsupports Arg1:T11 Arg2:T9\t\n",
      "R8\tsupports Arg1:T12 Arg2:T9\t\n",
      "R9\tsupports Arg1:T13 Arg2:T9\t\n",
      "R10\tsupports Arg1:T14 Arg2:T17\t\n",
      "R11\tsupports Arg1:T15 Arg2:T17\t\n",
      "R12\tsupports Arg1:T16 Arg2:T17\t\n",
      "R13\tsupports Arg1:T6 Arg2:T3\t\n",
      "\n"
     ]
    }
   ],
   "source": [
    "print(ann_text)"
   ]
  },
  {
   "cell_type": "code",
   "execution_count": 280,
   "id": "673a00db",
   "metadata": {},
   "outputs": [],
   "source": [
    "doc = nlp(essay_text)"
   ]
  },
  {
   "cell_type": "code",
   "execution_count": 281,
   "id": "c0411d4e",
   "metadata": {},
   "outputs": [
    {
     "data": {
      "text/plain": [
       "One or two close friends vs. a large number of casual acquaintances\n",
       "\n",
       "There is no need for me to put any emphasis on the advantage of having a large number of casual acquaintance. However, I still agree that it's better to have one or two close friends than to have a large number of casual acquaintances.\n",
       "We can not deny that being a friend with someone is different from only being acquaintant. First, it's not easy to make friend with anyone. I believe friends are people who have great compatibility with each other. After two years in college I have found sometimes there is more differences between people than similarities, for we are growing in the different families and was educated in various ways. Sometimes acquaintances are just acquaintances. We spend time together but we could never be friend. So, it's much easier to have some casual acquaintances than have some close friends.\n",
       "Second, close friends can easily understand each others feelings. Because of the similarity I talked before, acquaintances probably not able to understand you better than your friends. Moreover, they wouldn't even spare time to consider your feelings. Everyone play the role of acquaintance and friend at the same time. Being friendly is a good way to treat a acquaintance but way not enough for a friend. When my friend is sick, I would not only ask if he is okay like an acquaintance but do my best to make him get well as soon as possible. If my friend is going to the wrong direction in his life trail, I will try my best to pull him back, but not stand and stare like it's not of my business. And I believe my friend will do the same to me. In conclusion, a friend is a person you care about. \n",
       "To me, friends are the most important people in my life second to my family. I am the kind of person who has only one or two close friends, and I am fully content that I have such nice friends. If someone exchange my friends with thousands of acquaintances, I will definitely say NO."
      ]
     },
     "execution_count": 281,
     "metadata": {},
     "output_type": "execute_result"
    }
   ],
   "source": [
    "doc"
   ]
  },
  {
   "cell_type": "markdown",
   "id": "5c6317dd",
   "metadata": {},
   "source": [
    "# Test with a few features"
   ]
  },
  {
   "cell_type": "code",
   "execution_count": 122,
   "id": "2eeeacd9",
   "metadata": {},
   "outputs": [],
   "source": [
    "def get_num_puncts(txt):\n",
    "    return sum([tok.is_punct for tok in txt])\n",
    "\n",
    "def get_len(txt):\n",
    "    return len(txt)\n",
    "\n",
    "Span.set_extension(\"num_puncts\", getter = get_num_puncts, force=True)\n",
    "Span.set_extension(\"length\", getter = get_len, force=True)"
   ]
  },
  {
   "cell_type": "code",
   "execution_count": null,
   "id": "d179946c",
   "metadata": {},
   "outputs": [],
   "source": [
    "def get_num_puncts2(doc):\n",
    "    return [s._.num_puncts for s in doc.sents]\n",
    "def get_len2(doc):\n",
    "    return [s._.length for s in doc.sents]\n",
    "\n",
    "\n",
    "Doc.set_extension(\"len2\", getter=get_len2,force=True)\n",
    "Doc.set_extension(\"punct2\", getter=get_num_puncts2,force=True)"
   ]
  },
  {
   "cell_type": "code",
   "execution_count": 161,
   "id": "dda9b5f4",
   "metadata": {},
   "outputs": [
    {
     "data": {
      "text/plain": [
       "10"
      ]
     },
     "execution_count": 161,
     "metadata": {},
     "output_type": "execute_result"
    }
   ],
   "source": [
    "sents[0]._.length"
   ]
  },
  {
   "cell_type": "code",
   "execution_count": 162,
   "id": "eee13502",
   "metadata": {},
   "outputs": [
    {
     "data": {
      "text/plain": [
       "[10, 15, 27, 33, 21, 25, 28, 42, 22, 22, 13, 24, 12, 62, 14, 13, 39]"
      ]
     },
     "execution_count": 162,
     "metadata": {},
     "output_type": "execute_result"
    }
   ],
   "source": [
    "doc._.len2"
   ]
  },
  {
   "cell_type": "code",
   "execution_count": 127,
   "id": "60035560",
   "metadata": {},
   "outputs": [],
   "source": [
    "sents = [sent for sent in doc.sents]"
   ]
  },
  {
   "cell_type": "code",
   "execution_count": null,
   "id": "59da2c02",
   "metadata": {},
   "outputs": [],
   "source": [
    "first_list = list(\n",
    "    zip(\n",
    "        doc._.cl_indicators,\n",
    "        doc._.pr_indicators,\n",
    "        doc._.punctcount,\n",
    "        doc._.questions,\n",
    "        doc._.personals,\n",
    "        doc._.modals,\n",
    "        doc._.tree_depths,\n",
    "        doc._.prodcount,\n",
    "        doc._.sentence_positions,\n",
    "        doc._.sentlengths,\n",
    "    )\n",
    ")"
   ]
  },
  {
   "cell_type": "code",
   "execution_count": 164,
   "id": "eae7ef31",
   "metadata": {},
   "outputs": [
    {
     "data": {
      "text/plain": [
       "[(10, 1),\n",
       " (15, 1),\n",
       " (27, 4),\n",
       " (33, 4),\n",
       " (21, 2),\n",
       " (25, 3),\n",
       " (28, 2),\n",
       " (42, 5),\n",
       " (22, 1),\n",
       " (22, 2),\n",
       " (13, 1),\n",
       " (24, 3),\n",
       " (12, 2),\n",
       " (62, 4),\n",
       " (14, 1),\n",
       " (13, 2),\n",
       " (39, 2)]"
      ]
     },
     "execution_count": 164,
     "metadata": {},
     "output_type": "execute_result"
    }
   ],
   "source": [
    "first_list = list(zip(doc._.len2, doc._.punct2))\n",
    "first_list"
   ]
  },
  {
   "cell_type": "code",
   "execution_count": 190,
   "id": "1574d180",
   "metadata": {},
   "outputs": [],
   "source": [
    "Doc.set_extension(\"Features\", default =[])"
   ]
  },
  {
   "cell_type": "code",
   "execution_count": 193,
   "id": "29c0c219",
   "metadata": {},
   "outputs": [],
   "source": [
    "doc._.Features = first_list"
   ]
  },
  {
   "cell_type": "code",
   "execution_count": 194,
   "id": "03aa044c",
   "metadata": {},
   "outputs": [
    {
     "data": {
      "text/plain": [
       "[(10, 1),\n",
       " (15, 1),\n",
       " (27, 4),\n",
       " (33, 4),\n",
       " (21, 2),\n",
       " (25, 3),\n",
       " (28, 2),\n",
       " (42, 5),\n",
       " (22, 1),\n",
       " (22, 2),\n",
       " (13, 1),\n",
       " (24, 3),\n",
       " (12, 2),\n",
       " (62, 4),\n",
       " (14, 1),\n",
       " (13, 2),\n",
       " (39, 2)]"
      ]
     },
     "execution_count": 194,
     "metadata": {},
     "output_type": "execute_result"
    }
   ],
   "source": [
    "doc._.Features"
   ]
  },
  {
   "cell_type": "code",
   "execution_count": 195,
   "id": "01019d17",
   "metadata": {},
   "outputs": [
    {
     "data": {
      "text/plain": [
       "'International tourism is now more common than ever before\\n\\nThe last 50 years have seen a significant increase in the number of tourist traveling worldwide. While some might think the tourism bring large profit for the destination countries, I would contend that this industry has affected the cultural attributes and damaged the natural environment of the tourist destinations.\\nFirstly, it is an undeniable fact that tourists from different cultures will probably cause changes to the cultural identity of the tourist destinations. Take Thailand for example, in the Vietnam War, many American soldiers came to Thailand for a break and involved in sexual and drug activities, these huge demands caused many local businesses opened and expanded, even illegally involved in under-age prostitutes to maximize their profits. This was due to the lack of adequate controls by authorities and lead to a bad image of Thailand tourism. Therefore this proves that international tourism can create negative impacts on the destination countries.\\nSecondly, there are clear evidences that tourism increasingly create harms to the natural habitats of the destination appeals. As the Australiaâ€™s Great Barrier Reef has shown, the billion visitors per annum has generated immense destruction to this nature wonder, namely breaking the corals caused by walking or throwing boatâ€™s anchors, dropping fuel and other sorts of pollutions. For this reason, many marine lives have been endangered, in the extremes part of the reef become uninhabitable for these marine species. Thus, it is apparent that tourism has threatened the nature environments.\\nTo conclude, I strongly believe that the tourism has created threatening pressure on both the sociocultural and natural environments. If authorities do not take steps to appropriately conserve these precious values, they will be destroyed in the near future.'"
      ]
     },
     "execution_count": 195,
     "metadata": {},
     "output_type": "execute_result"
    }
   ],
   "source": [
    "essay_text"
   ]
  },
  {
   "cell_type": "code",
   "execution_count": null,
   "id": "ff93b5fb",
   "metadata": {},
   "outputs": [],
   "source": []
  },
  {
   "cell_type": "code",
   "execution_count": null,
   "id": "fae55ee5",
   "metadata": {},
   "outputs": [],
   "source": []
  },
  {
   "cell_type": "code",
   "execution_count": null,
   "id": "71755205",
   "metadata": {},
   "outputs": [],
   "source": []
  },
  {
   "cell_type": "code",
   "execution_count": null,
   "id": "6e971d9a",
   "metadata": {},
   "outputs": [],
   "source": []
  },
  {
   "cell_type": "code",
   "execution_count": null,
   "id": "7df80876",
   "metadata": {},
   "outputs": [],
   "source": []
  },
  {
   "cell_type": "code",
   "execution_count": null,
   "id": "65e86e64",
   "metadata": {},
   "outputs": [],
   "source": []
  },
  {
   "cell_type": "code",
   "execution_count": null,
   "id": "9b4e58f7",
   "metadata": {},
   "outputs": [],
   "source": []
  },
  {
   "cell_type": "code",
   "execution_count": null,
   "id": "12948572",
   "metadata": {},
   "outputs": [],
   "source": [
    "adu_df = pd.read_csv(\"../data/output_csv/adus.csv\")"
   ]
  },
  {
   "cell_type": "code",
   "execution_count": 263,
   "id": "001fd19a",
   "metadata": {},
   "outputs": [
    {
     "data": {
      "text/html": [
       "<div>\n",
       "<style scoped>\n",
       "    .dataframe tbody tr th:only-of-type {\n",
       "        vertical-align: middle;\n",
       "    }\n",
       "\n",
       "    .dataframe tbody tr th {\n",
       "        vertical-align: top;\n",
       "    }\n",
       "\n",
       "    .dataframe thead th {\n",
       "        text-align: right;\n",
       "    }\n",
       "</style>\n",
       "<table border=\"1\" class=\"dataframe\">\n",
       "  <thead>\n",
       "    <tr style=\"text-align: right;\">\n",
       "      <th></th>\n",
       "      <th>length</th>\n",
       "      <th>num_puncts</th>\n",
       "      <th>sentence</th>\n",
       "      <th>label</th>\n",
       "    </tr>\n",
       "  </thead>\n",
       "  <tbody>\n",
       "    <tr>\n",
       "      <th>0</th>\n",
       "      <td>10</td>\n",
       "      <td>1</td>\n",
       "      <td>Should students be taught to compete or to coo...</td>\n",
       "      <td>0</td>\n",
       "    </tr>\n",
       "    <tr>\n",
       "      <th>1</th>\n",
       "      <td>15</td>\n",
       "      <td>1</td>\n",
       "      <td>\\n\\nIt is always said that competition can eff...</td>\n",
       "      <td>0</td>\n",
       "    </tr>\n",
       "    <tr>\n",
       "      <th>2</th>\n",
       "      <td>27</td>\n",
       "      <td>4</td>\n",
       "      <td>In order to survive in the competition, compan...</td>\n",
       "      <td>0</td>\n",
       "    </tr>\n",
       "    <tr>\n",
       "      <th>3</th>\n",
       "      <td>33</td>\n",
       "      <td>4</td>\n",
       "      <td>However, when we discuss the issue of competit...</td>\n",
       "      <td>0</td>\n",
       "    </tr>\n",
       "    <tr>\n",
       "      <th>4</th>\n",
       "      <td>21</td>\n",
       "      <td>2</td>\n",
       "      <td>From this point of view, I firmly believe that...</td>\n",
       "      <td>1</td>\n",
       "    </tr>\n",
       "    <tr>\n",
       "      <th>5</th>\n",
       "      <td>25</td>\n",
       "      <td>3</td>\n",
       "      <td>\\nFirst of all, through cooperation, children ...</td>\n",
       "      <td>1</td>\n",
       "    </tr>\n",
       "    <tr>\n",
       "      <th>6</th>\n",
       "      <td>28</td>\n",
       "      <td>2</td>\n",
       "      <td>What we acquired from team work is not only ho...</td>\n",
       "      <td>1</td>\n",
       "    </tr>\n",
       "    <tr>\n",
       "      <th>7</th>\n",
       "      <td>42</td>\n",
       "      <td>5</td>\n",
       "      <td>During the process of cooperation, children ca...</td>\n",
       "      <td>1</td>\n",
       "    </tr>\n",
       "    <tr>\n",
       "      <th>8</th>\n",
       "      <td>22</td>\n",
       "      <td>1</td>\n",
       "      <td>All of these skills help them to get on well w...</td>\n",
       "      <td>1</td>\n",
       "    </tr>\n",
       "    <tr>\n",
       "      <th>9</th>\n",
       "      <td>22</td>\n",
       "      <td>2</td>\n",
       "      <td>\\nOn the other hand, the significance of compe...</td>\n",
       "      <td>1</td>\n",
       "    </tr>\n",
       "    <tr>\n",
       "      <th>10</th>\n",
       "      <td>13</td>\n",
       "      <td>1</td>\n",
       "      <td>Hence it is always said that competition makes...</td>\n",
       "      <td>1</td>\n",
       "    </tr>\n",
       "    <tr>\n",
       "      <th>11</th>\n",
       "      <td>24</td>\n",
       "      <td>3</td>\n",
       "      <td>However, when we consider about the question t...</td>\n",
       "      <td>1</td>\n",
       "    </tr>\n",
       "    <tr>\n",
       "      <th>12</th>\n",
       "      <td>12</td>\n",
       "      <td>2</td>\n",
       "      <td>The greater our goal is, the more competition ...</td>\n",
       "      <td>0</td>\n",
       "    </tr>\n",
       "    <tr>\n",
       "      <th>13</th>\n",
       "      <td>62</td>\n",
       "      <td>4</td>\n",
       "      <td>Take Olympic games which is a form of competit...</td>\n",
       "      <td>1</td>\n",
       "    </tr>\n",
       "    <tr>\n",
       "      <th>14</th>\n",
       "      <td>14</td>\n",
       "      <td>1</td>\n",
       "      <td>The winner is the athlete but the success belo...</td>\n",
       "      <td>0</td>\n",
       "    </tr>\n",
       "    <tr>\n",
       "      <th>15</th>\n",
       "      <td>13</td>\n",
       "      <td>2</td>\n",
       "      <td>Therefore without the cooperation, there would...</td>\n",
       "      <td>1</td>\n",
       "    </tr>\n",
       "    <tr>\n",
       "      <th>16</th>\n",
       "      <td>39</td>\n",
       "      <td>2</td>\n",
       "      <td>\\nConsequently, no matter from the view of ind...</td>\n",
       "      <td>1</td>\n",
       "    </tr>\n",
       "  </tbody>\n",
       "</table>\n",
       "</div>"
      ],
      "text/plain": [
       "    length  num_puncts                                           sentence  \\\n",
       "0       10           1  Should students be taught to compete or to coo...   \n",
       "1       15           1  \\n\\nIt is always said that competition can eff...   \n",
       "2       27           4  In order to survive in the competition, compan...   \n",
       "3       33           4  However, when we discuss the issue of competit...   \n",
       "4       21           2  From this point of view, I firmly believe that...   \n",
       "5       25           3  \\nFirst of all, through cooperation, children ...   \n",
       "6       28           2  What we acquired from team work is not only ho...   \n",
       "7       42           5  During the process of cooperation, children ca...   \n",
       "8       22           1  All of these skills help them to get on well w...   \n",
       "9       22           2  \\nOn the other hand, the significance of compe...   \n",
       "10      13           1  Hence it is always said that competition makes...   \n",
       "11      24           3  However, when we consider about the question t...   \n",
       "12      12           2  The greater our goal is, the more competition ...   \n",
       "13      62           4  Take Olympic games which is a form of competit...   \n",
       "14      14           1  The winner is the athlete but the success belo...   \n",
       "15      13           2  Therefore without the cooperation, there would...   \n",
       "16      39           2  \\nConsequently, no matter from the view of ind...   \n",
       "\n",
       "    label  \n",
       "0       0  \n",
       "1       0  \n",
       "2       0  \n",
       "3       0  \n",
       "4       1  \n",
       "5       1  \n",
       "6       1  \n",
       "7       1  \n",
       "8       1  \n",
       "9       1  \n",
       "10      1  \n",
       "11      1  \n",
       "12      0  \n",
       "13      1  \n",
       "14      0  \n",
       "15      1  \n",
       "16      1  "
      ]
     },
     "execution_count": 263,
     "metadata": {},
     "output_type": "execute_result"
    }
   ],
   "source": [
    "df = pd.DataFrame(first_list)\n",
    "df.columns = ['length', 'num_puncts']\n",
    "df['sentence'] = [s.text for s in sents]\n",
    "\n",
    "df['label'] = 0\n",
    "essay1_adus = adu_df['sentence'][adu_df['essay_id'] == 'essay001']\n",
    "for adu in essay1_adus:\n",
    "    df.loc[[adu in s.text for s in sents].index(True), 'label'] = 1\n",
    "df"
   ]
  },
  {
   "cell_type": "code",
   "execution_count": 264,
   "id": "7d1bdb10",
   "metadata": {},
   "outputs": [],
   "source": [
    "X = df.drop(['sentence', 'label'], axis=1)\n",
    "y = df['label']"
   ]
  },
  {
   "cell_type": "markdown",
   "id": "f9626f21",
   "metadata": {},
   "source": [
    "# Training"
   ]
  },
  {
   "cell_type": "code",
   "execution_count": 257,
   "id": "83dfd6ae",
   "metadata": {},
   "outputs": [],
   "source": [
    "logreg = LogisticRegression()\n",
    "rf = RandomForestClassifier()"
   ]
  },
  {
   "cell_type": "code",
   "execution_count": 268,
   "id": "4787494f",
   "metadata": {},
   "outputs": [
    {
     "data": {
      "text/plain": [
       "RandomForestClassifier()"
      ]
     },
     "execution_count": 268,
     "metadata": {},
     "output_type": "execute_result"
    }
   ],
   "source": [
    "logreg.fit(X,y)\n",
    "rf.fit(X,y)"
   ]
  },
  {
   "cell_type": "code",
   "execution_count": 273,
   "id": "33702f1f",
   "metadata": {},
   "outputs": [
    {
     "data": {
      "text/plain": [
       "array([0, 1, 1, 1, 1, 1, 1, 1, 1, 1, 0, 1, 0, 1, 1, 0, 1], dtype=int64)"
      ]
     },
     "execution_count": 273,
     "metadata": {},
     "output_type": "execute_result"
    }
   ],
   "source": [
    "logreg_pred = logreg.predict(X)\n",
    "logreg_pred"
   ]
  },
  {
   "cell_type": "code",
   "execution_count": 274,
   "id": "723ceea0",
   "metadata": {},
   "outputs": [
    {
     "data": {
      "text/plain": [
       "array([0, 0, 0, 0, 1, 1, 1, 1, 1, 1, 1, 1, 0, 1, 0, 1, 1], dtype=int64)"
      ]
     },
     "execution_count": 274,
     "metadata": {},
     "output_type": "execute_result"
    }
   ],
   "source": [
    "rf_pred = rf.predict(X)\n",
    "rf_pred"
   ]
  },
  {
   "cell_type": "code",
   "execution_count": 275,
   "id": "68261898",
   "metadata": {},
   "outputs": [
    {
     "data": {
      "text/plain": [
       "array([[ 6,  0],\n",
       "       [ 0, 11]], dtype=int64)"
      ]
     },
     "execution_count": 275,
     "metadata": {},
     "output_type": "execute_result"
    }
   ],
   "source": [
    "confusion_matrix(rf_pred, y)"
   ]
  },
  {
   "cell_type": "code",
   "execution_count": 278,
   "id": "04c75b6c",
   "metadata": {},
   "outputs": [
    {
     "data": {
      "text/plain": [
       "array([[2, 2],\n",
       "       [4, 9]], dtype=int64)"
      ]
     },
     "execution_count": 278,
     "metadata": {},
     "output_type": "execute_result"
    }
   ],
   "source": [
    "confusion_matrix(logreg_pred, y)"
   ]
  },
  {
   "cell_type": "code",
   "execution_count": null,
   "id": "54e87fd4",
   "metadata": {},
   "outputs": [],
   "source": []
  },
  {
   "cell_type": "code",
   "execution_count": null,
   "id": "78bea6ff",
   "metadata": {},
   "outputs": [],
   "source": []
  },
  {
   "cell_type": "code",
   "execution_count": null,
   "id": "56d59a15",
   "metadata": {},
   "outputs": [],
   "source": []
  },
  {
   "cell_type": "code",
   "execution_count": null,
   "id": "04d4c6d6",
   "metadata": {},
   "outputs": [],
   "source": []
  },
  {
   "cell_type": "code",
   "execution_count": null,
   "id": "eb540ab7",
   "metadata": {},
   "outputs": [],
   "source": []
  },
  {
   "cell_type": "code",
   "execution_count": 196,
   "id": "cb712206",
   "metadata": {},
   "outputs": [],
   "source": []
  },
  {
   "cell_type": "code",
   "execution_count": 154,
   "id": "7648744a",
   "metadata": {},
   "outputs": [],
   "source": []
  },
  {
   "cell_type": "code",
   "execution_count": 155,
   "id": "9ce72fc7",
   "metadata": {},
   "outputs": [
    {
     "data": {
      "text/plain": [
       "[10, 15, 27, 33, 21, 25, 28, 42, 22, 22, 13, 24, 12, 62, 14, 13, 39]"
      ]
     },
     "execution_count": 155,
     "metadata": {},
     "output_type": "execute_result"
    }
   ],
   "source": [
    "doc._.len2"
   ]
  },
  {
   "cell_type": "code",
   "execution_count": 156,
   "id": "0d1c63c5",
   "metadata": {},
   "outputs": [
    {
     "data": {
      "text/plain": [
       "[1, 1, 4, 4, 2, 3, 2, 5, 1, 2, 1, 3, 2, 4, 1, 2, 2]"
      ]
     },
     "execution_count": 156,
     "metadata": {},
     "output_type": "execute_result"
    }
   ],
   "source": [
    "doc._.punct2"
   ]
  },
  {
   "cell_type": "code",
   "execution_count": null,
   "id": "c0e511ed",
   "metadata": {},
   "outputs": [],
   "source": [
    "first_list = zip()"
   ]
  },
  {
   "cell_type": "code",
   "execution_count": 145,
   "id": "b8ea1f68",
   "metadata": {},
   "outputs": [
    {
     "data": {
      "text/plain": [
       "[(1, 'a'), (2, 'b'), (3, 'c'), (4, 'd'), (5, 'e')]"
      ]
     },
     "execution_count": 145,
     "metadata": {},
     "output_type": "execute_result"
    }
   ],
   "source": [
    "l1 = [1,2,3,4,5]\n",
    "l2 = ['a','b','c','d','e']\n",
    "\n",
    "list(zip(l1,l2))"
   ]
  },
  {
   "cell_type": "code",
   "execution_count": null,
   "id": "a3b21d5b",
   "metadata": {},
   "outputs": [],
   "source": []
  },
  {
   "cell_type": "code",
   "execution_count": null,
   "id": "f37d2ac0",
   "metadata": {},
   "outputs": [],
   "source": []
  },
  {
   "cell_type": "code",
   "execution_count": null,
   "id": "f745cb74",
   "metadata": {},
   "outputs": [],
   "source": []
  }
 ],
 "metadata": {
  "kernelspec": {
   "display_name": "Python 3 (ipykernel)",
   "language": "python",
   "name": "python3"
  },
  "language_info": {
   "codemirror_mode": {
    "name": "ipython",
    "version": 3
   },
   "file_extension": ".py",
   "mimetype": "text/x-python",
   "name": "python",
   "nbconvert_exporter": "python",
   "pygments_lexer": "ipython3",
   "version": "3.9.7"
  }
 },
 "nbformat": 4,
 "nbformat_minor": 5
}
