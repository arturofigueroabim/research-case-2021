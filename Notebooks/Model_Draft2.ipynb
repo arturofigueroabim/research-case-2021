{
 "cells": [
  {
   "cell_type": "code",
   "execution_count": 194,
   "id": "6c44ebca",
   "metadata": {},
   "outputs": [],
   "source": [
    "import numpy as np\n",
    "import pandas as pd\n",
    "import spacy\n",
    "from spacy.tokens import Doc, Span, Token\n",
    "\n",
    "from sklearn.linear_model import LogisticRegression\n",
    "from sklearn.ensemble import RandomForestClassifier\n",
    "\n",
    "from sklearn.metrics import confusion_matrix, accuracy_score\n",
    "from sklearn.model_selection import train_test_split\n",
    "import os\n",
    "import re\n",
    "from matplotlib import pyplot as plt\n",
    "\n",
    "from sklearn.model_selection import StratifiedShuffleSplit"
   ]
  },
  {
   "cell_type": "code",
   "execution_count": 141,
   "id": "27893d72",
   "metadata": {},
   "outputs": [],
   "source": [
    "nlp = spacy.load(\"en_core_web_md\")\n",
    "def get_num_puncts(txt):\n",
    "    return sum([tok.is_punct for tok in txt])\n",
    "\n",
    "def get_len(txt):\n",
    "    return len(txt)\n",
    "\n",
    "Span.set_extension(\"num_puncts\", getter = get_num_puncts, force=True)\n",
    "Span.set_extension(\"length\", getter = get_len, force=True)\n",
    "\n",
    "def get_num_puncts2(doc):\n",
    "    return [s._.num_puncts for s in doc.sents]\n",
    "def get_len2(doc):\n",
    "    return [s._.length for s in doc.sents]\n",
    "\n",
    "\n",
    "Doc.set_extension(\"len2\", getter=get_len2,force=True)\n",
    "Doc.set_extension(\"punct2\", getter=get_num_puncts2,force=True)\n",
    "Doc.set_extension(\"Features\", default =[], force=True)\n"
   ]
  },
  {
   "cell_type": "code",
   "execution_count": 23,
   "id": "732dbd1a",
   "metadata": {},
   "outputs": [],
   "source": [
    "adu_df = pd.read_csv(\"../data/output_csv/adus.csv\")"
   ]
  },
  {
   "cell_type": "markdown",
   "id": "82f18338",
   "metadata": {},
   "source": [
    "# Loop through all essays"
   ]
  },
  {
   "cell_type": "code",
   "execution_count": 126,
   "id": "c259e901",
   "metadata": {
    "scrolled": false
   },
   "outputs": [
    {
     "name": "stdout",
     "output_type": "stream",
     "text": [
      "essay126.txt has issues\n",
      "We spend time together but we could never be friend essay126.txt\n",
      "essay245.txt has issues\n",
      "I get home at about midnight and I still need to answer some questions and to solve some routine problems essay245.txt\n",
      "essay251.txt has issues\n",
      "criticism is essential especially in group working but in other occasions we still need criticism essay251.txt\n",
      "essay260.txt has issues\n",
      "Take the most popular and prestigious technology company- Apple- for example essay260.txt\n",
      "essay273.txt has issues\n",
      "Every technology has it’s good and bad effects but I prefer having the technologies with their disadvantages to living like 16 century without any of modern facilities of technology essay273.txt\n",
      "essay292.txt has issues\n",
      "majority of the students failed in front of the computer games playing and they use their time for studying, sleeping and physical exerice to play these computer games essay292.txt\n",
      "essay324.txt has issues\n",
      "doing same task day and night just server to increase our psychological burden, connecting with different types of job is capable give us more colors to our life essay324.txt\n",
      "essay371.txt has issues\n",
      "eating their meat mean you eat the flesh of your parent sentient beings essay371.txt\n"
     ]
    }
   ],
   "source": [
    "df = pd.DataFrame()\n",
    "for file in os.listdir(\"../data/input/brat-project-final/\"):\n",
    "    \n",
    "    if file.endswith(\".txt\"):\n",
    "        with open(\"../data/input/brat-project-final/\" +file , encoding=\"utf-8\") as f:\n",
    "\n",
    "            essay_text = f.read()\n",
    "            \n",
    "            doc = nlp(essay_text)\n",
    "            sents = [sent for sent in doc.sents]\n",
    "            doc._.Features = list(zip(doc._.len2, doc._.punct2))\n",
    "            \n",
    "            temp_df = pd.DataFrame(doc._.Features)\n",
    "            temp_df.columns = ['length', 'num_puncts']\n",
    "            temp_df['sentence'] = [s.text for s in sents]\n",
    "\n",
    "            temp_df['label'] = 0\n",
    "            essay_adus = adu_df['sentence'][adu_df['essay_id'] == file.strip('.txt')]\n",
    "            for adu in essay_adus:\n",
    "                try:\n",
    "                    temp_df.loc[[adu in s.text for s in sents].index(True), 'label'] = 1\n",
    "                except:\n",
    "                    print(file, \"has issues\")\n",
    "                    print(adu, file)\n",
    "\n",
    "                \n",
    "            temp_df['essay_id'] = file.strip(\".txt\")\n",
    "            df = pd.concat([df, temp_df], axis=0)"
   ]
  },
  {
   "cell_type": "code",
   "execution_count": 124,
   "id": "c10190a0",
   "metadata": {},
   "outputs": [
    {
     "data": {
      "text/html": [
       "<div>\n",
       "<style scoped>\n",
       "    .dataframe tbody tr th:only-of-type {\n",
       "        vertical-align: middle;\n",
       "    }\n",
       "\n",
       "    .dataframe tbody tr th {\n",
       "        vertical-align: top;\n",
       "    }\n",
       "\n",
       "    .dataframe thead th {\n",
       "        text-align: right;\n",
       "    }\n",
       "</style>\n",
       "<table border=\"1\" class=\"dataframe\">\n",
       "  <thead>\n",
       "    <tr style=\"text-align: right;\">\n",
       "      <th></th>\n",
       "      <th>length</th>\n",
       "      <th>num_puncts</th>\n",
       "      <th>sentence</th>\n",
       "      <th>label</th>\n",
       "      <th>essay_id</th>\n",
       "    </tr>\n",
       "  </thead>\n",
       "  <tbody>\n",
       "    <tr>\n",
       "      <th>0</th>\n",
       "      <td>35</td>\n",
       "      <td>1</td>\n",
       "      <td>One or two close friends vs. a large number of...</td>\n",
       "      <td>0</td>\n",
       "      <td>essay126</td>\n",
       "    </tr>\n",
       "    <tr>\n",
       "      <th>1</th>\n",
       "      <td>26</td>\n",
       "      <td>2</td>\n",
       "      <td>However, I still agree that it's better to hav...</td>\n",
       "      <td>0</td>\n",
       "      <td>essay126</td>\n",
       "    </tr>\n",
       "    <tr>\n",
       "      <th>2</th>\n",
       "      <td>18</td>\n",
       "      <td>1</td>\n",
       "      <td>\\nWe can not deny that being a friend with som...</td>\n",
       "      <td>0</td>\n",
       "      <td>essay126</td>\n",
       "    </tr>\n",
       "    <tr>\n",
       "      <th>3</th>\n",
       "      <td>12</td>\n",
       "      <td>2</td>\n",
       "      <td>First, it's not easy to make friend with anyone.</td>\n",
       "      <td>0</td>\n",
       "      <td>essay126</td>\n",
       "    </tr>\n",
       "    <tr>\n",
       "      <th>4</th>\n",
       "      <td>13</td>\n",
       "      <td>1</td>\n",
       "      <td>I believe friends are people who have great co...</td>\n",
       "      <td>0</td>\n",
       "      <td>essay126</td>\n",
       "    </tr>\n",
       "    <tr>\n",
       "      <th>...</th>\n",
       "      <td>...</td>\n",
       "      <td>...</td>\n",
       "      <td>...</td>\n",
       "      <td>...</td>\n",
       "      <td>...</td>\n",
       "    </tr>\n",
       "    <tr>\n",
       "      <th>17</th>\n",
       "      <td>12</td>\n",
       "      <td>1</td>\n",
       "      <td>And I believe my friend will do the same to me.</td>\n",
       "      <td>1</td>\n",
       "      <td>essay126</td>\n",
       "    </tr>\n",
       "    <tr>\n",
       "      <th>18</th>\n",
       "      <td>12</td>\n",
       "      <td>2</td>\n",
       "      <td>In conclusion, a friend is a person you care a...</td>\n",
       "      <td>1</td>\n",
       "      <td>essay126</td>\n",
       "    </tr>\n",
       "    <tr>\n",
       "      <th>19</th>\n",
       "      <td>18</td>\n",
       "      <td>2</td>\n",
       "      <td>\\nTo me, friends are the most important people...</td>\n",
       "      <td>1</td>\n",
       "      <td>essay126</td>\n",
       "    </tr>\n",
       "    <tr>\n",
       "      <th>20</th>\n",
       "      <td>27</td>\n",
       "      <td>2</td>\n",
       "      <td>I am the kind of person who has only one or tw...</td>\n",
       "      <td>0</td>\n",
       "      <td>essay126</td>\n",
       "    </tr>\n",
       "    <tr>\n",
       "      <th>21</th>\n",
       "      <td>16</td>\n",
       "      <td>2</td>\n",
       "      <td>If someone exchange my friends with thousands ...</td>\n",
       "      <td>0</td>\n",
       "      <td>essay126</td>\n",
       "    </tr>\n",
       "  </tbody>\n",
       "</table>\n",
       "<p>374 rows × 5 columns</p>\n",
       "</div>"
      ],
      "text/plain": [
       "    length  num_puncts                                           sentence  \\\n",
       "0       35           1  One or two close friends vs. a large number of...   \n",
       "1       26           2  However, I still agree that it's better to hav...   \n",
       "2       18           1  \\nWe can not deny that being a friend with som...   \n",
       "3       12           2   First, it's not easy to make friend with anyone.   \n",
       "4       13           1  I believe friends are people who have great co...   \n",
       "..     ...         ...                                                ...   \n",
       "17      12           1    And I believe my friend will do the same to me.   \n",
       "18      12           2  In conclusion, a friend is a person you care a...   \n",
       "19      18           2  \\nTo me, friends are the most important people...   \n",
       "20      27           2  I am the kind of person who has only one or tw...   \n",
       "21      16           2  If someone exchange my friends with thousands ...   \n",
       "\n",
       "    label  essay_id  \n",
       "0       0  essay126  \n",
       "1       0  essay126  \n",
       "2       0  essay126  \n",
       "3       0  essay126  \n",
       "4       0  essay126  \n",
       "..    ...       ...  \n",
       "17      1  essay126  \n",
       "18      1  essay126  \n",
       "19      1  essay126  \n",
       "20      0  essay126  \n",
       "21      0  essay126  \n",
       "\n",
       "[374 rows x 5 columns]"
      ]
     },
     "execution_count": 124,
     "metadata": {},
     "output_type": "execute_result"
    }
   ],
   "source": [
    "df[df['essay_id'] == 'essay126']"
   ]
  },
  {
   "cell_type": "code",
   "execution_count": 195,
   "id": "85e22165",
   "metadata": {},
   "outputs": [],
   "source": [
    "split = StratifiedShuffleSplit(n_splits=1, test_size=0.2, random_state=1)"
   ]
  },
  {
   "cell_type": "code",
   "execution_count": 212,
   "id": "5d1530e1",
   "metadata": {},
   "outputs": [],
   "source": [
    "temp = df.drop(['sentence','essay_id'], axis=1).copy().reset_index(drop=True)"
   ]
  },
  {
   "cell_type": "code",
   "execution_count": 213,
   "id": "6f397ec5",
   "metadata": {},
   "outputs": [
    {
     "data": {
      "text/html": [
       "<div>\n",
       "<style scoped>\n",
       "    .dataframe tbody tr th:only-of-type {\n",
       "        vertical-align: middle;\n",
       "    }\n",
       "\n",
       "    .dataframe tbody tr th {\n",
       "        vertical-align: top;\n",
       "    }\n",
       "\n",
       "    .dataframe thead th {\n",
       "        text-align: right;\n",
       "    }\n",
       "</style>\n",
       "<table border=\"1\" class=\"dataframe\">\n",
       "  <thead>\n",
       "    <tr style=\"text-align: right;\">\n",
       "      <th></th>\n",
       "      <th>length</th>\n",
       "      <th>num_puncts</th>\n",
       "      <th>label</th>\n",
       "    </tr>\n",
       "  </thead>\n",
       "  <tbody>\n",
       "    <tr>\n",
       "      <th>0</th>\n",
       "      <td>10</td>\n",
       "      <td>1</td>\n",
       "      <td>0</td>\n",
       "    </tr>\n",
       "    <tr>\n",
       "      <th>1</th>\n",
       "      <td>15</td>\n",
       "      <td>1</td>\n",
       "      <td>0</td>\n",
       "    </tr>\n",
       "    <tr>\n",
       "      <th>2</th>\n",
       "      <td>27</td>\n",
       "      <td>4</td>\n",
       "      <td>0</td>\n",
       "    </tr>\n",
       "    <tr>\n",
       "      <th>3</th>\n",
       "      <td>33</td>\n",
       "      <td>4</td>\n",
       "      <td>0</td>\n",
       "    </tr>\n",
       "    <tr>\n",
       "      <th>4</th>\n",
       "      <td>21</td>\n",
       "      <td>2</td>\n",
       "      <td>1</td>\n",
       "    </tr>\n",
       "    <tr>\n",
       "      <th>...</th>\n",
       "      <td>...</td>\n",
       "      <td>...</td>\n",
       "      <td>...</td>\n",
       "    </tr>\n",
       "    <tr>\n",
       "      <th>7256</th>\n",
       "      <td>21</td>\n",
       "      <td>2</td>\n",
       "      <td>1</td>\n",
       "    </tr>\n",
       "    <tr>\n",
       "      <th>7257</th>\n",
       "      <td>17</td>\n",
       "      <td>2</td>\n",
       "      <td>1</td>\n",
       "    </tr>\n",
       "    <tr>\n",
       "      <th>7258</th>\n",
       "      <td>16</td>\n",
       "      <td>3</td>\n",
       "      <td>1</td>\n",
       "    </tr>\n",
       "    <tr>\n",
       "      <th>7259</th>\n",
       "      <td>1</td>\n",
       "      <td>0</td>\n",
       "      <td>0</td>\n",
       "    </tr>\n",
       "    <tr>\n",
       "      <th>7260</th>\n",
       "      <td>17</td>\n",
       "      <td>2</td>\n",
       "      <td>1</td>\n",
       "    </tr>\n",
       "  </tbody>\n",
       "</table>\n",
       "<p>7261 rows × 3 columns</p>\n",
       "</div>"
      ],
      "text/plain": [
       "      length  num_puncts  label\n",
       "0         10           1      0\n",
       "1         15           1      0\n",
       "2         27           4      0\n",
       "3         33           4      0\n",
       "4         21           2      1\n",
       "...      ...         ...    ...\n",
       "7256      21           2      1\n",
       "7257      17           2      1\n",
       "7258      16           3      1\n",
       "7259       1           0      0\n",
       "7260      17           2      1\n",
       "\n",
       "[7261 rows x 3 columns]"
      ]
     },
     "execution_count": 213,
     "metadata": {},
     "output_type": "execute_result"
    }
   ],
   "source": [
    "temp"
   ]
  },
  {
   "cell_type": "code",
   "execution_count": 216,
   "id": "90518555",
   "metadata": {},
   "outputs": [],
   "source": [
    "split = StratifiedShuffleSplit(n_splits=1, test_size=0.2, random_state=42)\n",
    "for train_index, test_index in split.split(temp, temp['label']):\n",
    "    strat_train_test = temp.loc[train_index]\n",
    "    strat_test_set = temp.loc[test_index]"
   ]
  },
  {
   "cell_type": "code",
   "execution_count": 218,
   "id": "7e84a825",
   "metadata": {},
   "outputs": [
    {
     "data": {
      "text/plain": [
       "1    1099\n",
       "0     354\n",
       "Name: label, dtype: int64"
      ]
     },
     "execution_count": 218,
     "metadata": {},
     "output_type": "execute_result"
    }
   ],
   "source": [
    "strat_test_set['label'].value_countss()"
   ]
  },
  {
   "cell_type": "code",
   "execution_count": 219,
   "id": "437b00b0",
   "metadata": {},
   "outputs": [
    {
     "data": {
      "text/plain": [
       "1    4395\n",
       "0    1413\n",
       "Name: label, dtype: int64"
      ]
     },
     "execution_count": 219,
     "metadata": {},
     "output_type": "execute_result"
    }
   ],
   "source": [
    "strat_train_test['label'].value_counts()"
   ]
  },
  {
   "cell_type": "code",
   "execution_count": 200,
   "id": "8c72bff4",
   "metadata": {},
   "outputs": [
    {
     "name": "stdout",
     "output_type": "stream",
     "text": [
      "[2436  295 4196 ... 4580 2845 1012] [3002  535 3536 ...   95 6876 1939]\n"
     ]
    }
   ],
   "source": [
    "for train, test in split.split(X, y):\n",
    "    print(train, test)"
   ]
  },
  {
   "cell_type": "code",
   "execution_count": 130,
   "id": "a6fb4779",
   "metadata": {},
   "outputs": [],
   "source": [
    "X = df.drop(['sentence','label','essay_id'], axis=1)\n",
    "y = df['label']\n"
   ]
  },
  {
   "cell_type": "code",
   "execution_count": 191,
   "id": "78590b63",
   "metadata": {},
   "outputs": [],
   "source": [
    "X_train, X_test, y_train, y_test = train_test_split(X, y, test_size=0.3, random_state=1, stratify =y)"
   ]
  },
  {
   "cell_type": "code",
   "execution_count": 192,
   "id": "ce16d982",
   "metadata": {},
   "outputs": [
    {
     "data": {
      "text/plain": [
       "1    3845\n",
       "0    1237\n",
       "Name: label, dtype: int64"
      ]
     },
     "execution_count": 192,
     "metadata": {},
     "output_type": "execute_result"
    }
   ],
   "source": [
    "y_train.value_counts()"
   ]
  },
  {
   "cell_type": "code",
   "execution_count": 193,
   "id": "b06c9772",
   "metadata": {},
   "outputs": [
    {
     "data": {
      "text/plain": [
       "1    1649\n",
       "0     530\n",
       "Name: label, dtype: int64"
      ]
     },
     "execution_count": 193,
     "metadata": {},
     "output_type": "execute_result"
    }
   ],
   "source": [
    "y_test.value_counts()"
   ]
  },
  {
   "cell_type": "code",
   "execution_count": 132,
   "id": "a14e1873",
   "metadata": {},
   "outputs": [
    {
     "data": {
      "text/plain": [
       "RandomForestClassifier()"
      ]
     },
     "execution_count": 132,
     "metadata": {},
     "output_type": "execute_result"
    }
   ],
   "source": [
    "logreg = LogisticRegression()\n",
    "rf = RandomForestClassifier()\n",
    "logreg.fit(X_train, y_train)\n",
    "rf.fit(X_train, y_train)\n",
    "\n"
   ]
  },
  {
   "cell_type": "code",
   "execution_count": 133,
   "id": "21770a82",
   "metadata": {},
   "outputs": [],
   "source": [
    "logreg_pred = logreg.predict(X_test)\n",
    "rf_pred = rf.predict(X_test)"
   ]
  },
  {
   "cell_type": "code",
   "execution_count": 134,
   "id": "5c7a59d7",
   "metadata": {},
   "outputs": [
    {
     "data": {
      "text/plain": [
       "array([[ 143,    0],\n",
       "       [ 365, 1671]], dtype=int64)"
      ]
     },
     "execution_count": 134,
     "metadata": {},
     "output_type": "execute_result"
    }
   ],
   "source": [
    "confusion_matrix(logreg_pred, y_test)"
   ]
  },
  {
   "cell_type": "code",
   "execution_count": 135,
   "id": "c70ea325",
   "metadata": {},
   "outputs": [
    {
     "data": {
      "text/plain": [
       "array([[ 169,   34],\n",
       "       [ 339, 1637]], dtype=int64)"
      ]
     },
     "execution_count": 135,
     "metadata": {},
     "output_type": "execute_result"
    }
   ],
   "source": [
    "confusion_matrix(rf_pred, y_test)"
   ]
  },
  {
   "cell_type": "code",
   "execution_count": 136,
   "id": "0a3917e7",
   "metadata": {},
   "outputs": [
    {
     "data": {
      "text/plain": [
       "0.8288205598898577"
      ]
     },
     "execution_count": 136,
     "metadata": {},
     "output_type": "execute_result"
    }
   ],
   "source": [
    "accuracy_score(rf_pred, y_test)"
   ]
  },
  {
   "cell_type": "code",
   "execution_count": 137,
   "id": "85640e86",
   "metadata": {},
   "outputs": [
    {
     "data": {
      "text/plain": [
       "0.8324919687930243"
      ]
     },
     "execution_count": 137,
     "metadata": {},
     "output_type": "execute_result"
    }
   ],
   "source": [
    "accuracy_score(logreg_pred, y_test)"
   ]
  },
  {
   "cell_type": "code",
   "execution_count": 175,
   "id": "e5af9d2c",
   "metadata": {},
   "outputs": [],
   "source": [
    "test_doc = nlp(test_text)\n",
    "\n",
    "test_doc._.Features = list(zip(test_doc._.len2, test_doc._.punct2))"
   ]
  },
  {
   "cell_type": "code",
   "execution_count": 176,
   "id": "e277f623",
   "metadata": {},
   "outputs": [
    {
     "data": {
      "text/plain": [
       "array([1], dtype=int64)"
      ]
     },
     "execution_count": 176,
     "metadata": {},
     "output_type": "execute_result"
    }
   ],
   "source": [
    "logreg.predict(test_doc._.Features)"
   ]
  },
  {
   "cell_type": "code",
   "execution_count": 177,
   "id": "c38bce8f",
   "metadata": {},
   "outputs": [
    {
     "data": {
      "text/plain": [
       "array([1], dtype=int64)"
      ]
     },
     "execution_count": 177,
     "metadata": {},
     "output_type": "execute_result"
    }
   ],
   "source": [
    "rf.predict(test_doc._.Features)"
   ]
  },
  {
   "cell_type": "code",
   "execution_count": 182,
   "id": "289b145f",
   "metadata": {},
   "outputs": [
    {
     "data": {
      "text/plain": [
       "1    5494\n",
       "0    1767\n",
       "Name: label, dtype: int64"
      ]
     },
     "execution_count": 182,
     "metadata": {},
     "output_type": "execute_result"
    }
   ],
   "source": [
    "df.label.value_counts()"
   ]
  },
  {
   "cell_type": "code",
   "execution_count": null,
   "id": "0d526f58",
   "metadata": {},
   "outputs": [],
   "source": [
    "t1 = \"I believe drinking water\" # 0 1\n",
    "t2 = \"believe drinking water is \" # 0 1\n",
    "t3 = \"drinking water is good for your\" # 0 1\n",
    "t4 = \"water is good for your health.\" # 0 1\n",
    "\n",
    "want = \"drinking water is good for your health.\" # 1"
   ]
  },
  {
   "cell_type": "code",
   "execution_count": null,
   "id": "d8ca0186",
   "metadata": {},
   "outputs": [],
   "source": [
    "test = \"I believe drinking water is good for your health.\"  # 0 or 1\n"
   ]
  }
 ],
 "metadata": {
  "kernelspec": {
   "display_name": "Python 3 (ipykernel)",
   "language": "python",
   "name": "python3"
  },
  "language_info": {
   "codemirror_mode": {
    "name": "ipython",
    "version": 3
   },
   "file_extension": ".py",
   "mimetype": "text/x-python",
   "name": "python",
   "nbconvert_exporter": "python",
   "pygments_lexer": "ipython3",
   "version": "3.9.7"
  }
 },
 "nbformat": 4,
 "nbformat_minor": 5
}
