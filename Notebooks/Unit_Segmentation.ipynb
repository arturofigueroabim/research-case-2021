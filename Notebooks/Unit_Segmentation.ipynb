{
 "cells": [
  {
   "cell_type": "code",
   "execution_count": 10,
   "id": "6eb3ed5d",
   "metadata": {
    "ExecuteTime": {
     "end_time": "2022-01-02T18:32:40.372429Z",
     "start_time": "2022-01-02T18:32:39.712859Z"
    }
   },
   "outputs": [],
   "source": [
    "import re\n",
    "import pandas as pd\n",
    "\n",
    "from nltk.tokenize import sent_tokenize\n",
    "import spacy"
   ]
  },
  {
   "cell_type": "code",
   "execution_count": 11,
   "id": "30ea0a71",
   "metadata": {
    "ExecuteTime": {
     "end_time": "2022-01-02T18:32:40.421436Z",
     "start_time": "2022-01-02T18:32:40.374430Z"
    }
   },
   "outputs": [],
   "source": [
    "adus = pd.read_csv(\"../data/output_csv/adus.csv\")\n",
    "\n",
    "essays = pd.read_csv(\"../data/output_csv/essays.csv\")"
   ]
  },
  {
   "cell_type": "code",
   "execution_count": 12,
   "id": "04fb85c0",
   "metadata": {
    "ExecuteTime": {
     "end_time": "2022-01-02T18:32:40.479445Z",
     "start_time": "2022-01-02T18:32:40.422436Z"
    }
   },
   "outputs": [],
   "source": [
    "adus = pd.read_csv(\"../data/output_csv/adus.csv\")\n",
    "\n",
    "\n",
    "essays = pd.read_csv(\"../data/output_csv/essays.csv\")\n",
    "text = essays['text'].iloc[0]\n",
    "unit = sent_tokenize(text)[2]"
   ]
  },
  {
   "cell_type": "code",
   "execution_count": 13,
   "id": "1beedb4c",
   "metadata": {
    "ExecuteTime": {
     "end_time": "2022-01-02T18:32:40.913478Z",
     "start_time": "2022-01-02T18:32:40.481445Z"
    }
   },
   "outputs": [],
   "source": [
    "nlp = spacy.load(\"en_core_web_sm\")"
   ]
  },
  {
   "cell_type": "code",
   "execution_count": 18,
   "id": "74e57443",
   "metadata": {
    "ExecuteTime": {
     "end_time": "2022-01-02T18:33:24.162853Z",
     "start_time": "2022-01-02T18:33:24.153867Z"
    }
   },
   "outputs": [],
   "source": [
    "def extract_sentences(text):\n",
    "    return sent_tokenize(text)\n",
    "def extract_clauses(text):\n",
    "    doc = nlp(text)\n",
    "\n",
    "\n",
    "    seen = set() # keep track of covered words\n",
    "\n",
    "    chunks = []\n",
    "    for sent in doc.sents:\n",
    "        heads = [cc for cc in sent.root.children if cc.dep_ == 'conj']\n",
    "\n",
    "        for head in heads:\n",
    "            words = [ww for ww in head.subtree]\n",
    "            for word in words:\n",
    "                seen.add(word)\n",
    "            chunk = (' '.join([ww.text for ww in words]))\n",
    "            chunks.append( (head.i, chunk) )\n",
    "\n",
    "        unseen = [ww for ww in sent if ww not in seen]\n",
    "        chunk = ' '.join([ww.text for ww in unseen])\n",
    "        chunks.append( (sent.root.i, chunk) )\n",
    "\n",
    "    chunks = sorted(chunks, key=lambda x: x[0])\n",
    "\n",
    "    return chunks    "
   ]
  },
  {
   "cell_type": "code",
   "execution_count": 19,
   "id": "859113f5",
   "metadata": {
    "ExecuteTime": {
     "end_time": "2022-01-02T18:33:24.395542Z",
     "start_time": "2022-01-02T18:33:24.377540Z"
    }
   },
   "outputs": [
    {
     "data": {
      "text/plain": [
       "[(4, 'This all encompassing experience wore off for a moment and and'),\n",
       " (16,\n",
       "  'in that moment , my awareness came gasping to the surface of the hallucination'),\n",
       " (26,\n",
       "  'I was able to consider momentarily that I had killed myself by taking an outrageous dose of an online drug and this was the most pathetic death experience of all time .')]"
      ]
     },
     "execution_count": 19,
     "metadata": {},
     "output_type": "execute_result"
    }
   ],
   "source": [
    "text = \"This all encompassing experience wore off for a moment and in that moment, my awareness came gasping to the surface of the hallucination and I was able to consider momentarily that I had killed myself by taking an outrageous dose of an online drug and this was the most pathetic death experience of all time.\"\n",
    "extract_clauses(text)"
   ]
  },
  {
   "cell_type": "code",
   "execution_count": 56,
   "id": "3de2458e",
   "metadata": {
    "ExecuteTime": {
     "end_time": "2022-01-02T18:55:24.885760Z",
     "start_time": "2022-01-02T18:55:24.879759Z"
    }
   },
   "outputs": [],
   "source": [
    "essay_id = 1\n",
    "essay_id = str(essay_id).rjust(3,'0')\n",
    "\n",
    "\n",
    "essay_text = essays[essays['essay_id'] == f\"essay{essay_id}\"].text.iloc[0]\n",
    "\n",
    "adus_essay = adus[adus['essay_id'] == f\"essay{essay_id}\"]\n"
   ]
  },
  {
   "cell_type": "code",
   "execution_count": 69,
   "id": "1f9f8216",
   "metadata": {
    "ExecuteTime": {
     "end_time": "2022-01-02T18:58:51.830195Z",
     "start_time": "2022-01-02T18:58:51.824199Z"
    }
   },
   "outputs": [
    {
     "name": "stdout",
     "output_type": "stream",
     "text": [
      "0 we should attach more importance to cooperation during primary education \n",
      "\n",
      "1 a more cooperative attitudes towards life is more profitable in one's success \n",
      "\n",
      "2 through cooperation, children can learn about interpersonal skills which are significant in the future life of all students \n",
      "\n",
      "3 What we acquired from team work is not only how to achieve the same goal with others but more importantly, how to get along with others \n",
      "\n",
      "4 During the process of cooperation, children can learn about how to listen to opinions of others, how to communicate with others, how to think comprehensively, and even how to compromise with other team members when conflicts occurred \n",
      "\n",
      "5 All of these skills help them to get on well with other people and will benefit them for the whole life \n",
      "\n",
      "6 competition makes the society more effective \n",
      "\n",
      "7 the significance of competition is that how to become more excellence to gain the victory \n",
      "\n",
      "8 when we consider about the question that how to win the game, we always find that we need the cooperation \n",
      "\n",
      "9 Take Olympic games which is a form of competition for instance, it is hard to imagine how an athlete could win the game without the training of his or her coach, and the help of other professional staffs such as the people who take care of his diet, and those who are in charge of the medical care \n",
      "\n",
      "10 without the cooperation, there would be no victory of competition \n",
      "\n"
     ]
    }
   ],
   "source": [
    "for i, s in enumerate(adus_essay['sentence']):\n",
    "    print(i,s, \"\\n\")"
   ]
  },
  {
   "cell_type": "code",
   "execution_count": 60,
   "id": "42b63bbc",
   "metadata": {
    "ExecuteTime": {
     "end_time": "2022-01-02T18:56:50.664457Z",
     "start_time": "2022-01-02T18:56:50.656457Z"
    }
   },
   "outputs": [
    {
     "name": "stdout",
     "output_type": "stream",
     "text": [
      "0 Should students be taught to compete or to cooperate? \n",
      "\n",
      "1 It is always said that competition can effectively promote the development of economy. \n",
      "\n",
      "2 In order to survive in the competition, companies continue to improve their products and service, and as a result, the whole society prospers. \n",
      "\n",
      "3 However, when we discuss the issue of competition or cooperation, what we are concerned about is not the whole society, but the development of an individual's whole life. \n",
      "\n",
      "4 From this point of view, I firmly believe that we should attach more importance to cooperation during primary education. \n",
      "\n",
      "5 First of all, through cooperation, children can learn about interpersonal skills which are significant in the future life of all students. \n",
      "\n",
      "6 What we acquired from team work is not only how to achieve the same goal with others but more importantly, how to get along with others. \n",
      "\n",
      "7 During the process of cooperation, children can learn about how to listen to opinions of others, how to communicate with others, how to think comprehensively, and even how to compromise with other team members when conflicts occurred. \n",
      "\n",
      "8 All of these skills help them to get on well with other people and will benefit them for the whole life. \n",
      "\n",
      "9 On the other hand, the significance of competition is that how to become more excellence to gain the victory. \n",
      "\n",
      "10 Hence it is always said that competition makes the society more effective. \n",
      "\n",
      "11 However, when we consider about the question that how to win the game, we always find that we need the cooperation. \n",
      "\n",
      "12 The greater our goal is, the more competition we need. \n",
      "\n",
      "13 Take Olympic games which is a form of competition for instance, it is hard to imagine how an athlete could win the game without the training of his or her coach, and the help of other professional staffs such as the people who take care of his diet, and those who are in charge of the medical care. \n",
      "\n",
      "14 The winner is the athlete but the success belongs to the whole team. \n",
      "\n",
      "15 Therefore without the cooperation, there would be no victory of competition. \n",
      "\n",
      "16 Consequently, no matter from the view of individual development or the relationship between competition and cooperation we can receive the same conclusion that a more cooperative attitudes towards life is more profitable in one's success. \n",
      "\n"
     ]
    }
   ],
   "source": [
    "sents = extract_sentences(essay_text)\n",
    "\n",
    "for i,sent in enumerate(sents):\n",
    "    print(i, sent,'\\n')"
   ]
  },
  {
   "cell_type": "code",
   "execution_count": 77,
   "id": "1431a602",
   "metadata": {
    "ExecuteTime": {
     "end_time": "2022-01-02T19:00:33.758915Z",
     "start_time": "2022-01-02T19:00:33.744927Z"
    }
   },
   "outputs": [
    {
     "name": "stdout",
     "output_type": "stream",
     "text": [
      "Hence it is always said that competition makes the society more effective.\n"
     ]
    },
    {
     "data": {
      "text/plain": [
       "[(4,\n",
       "  'Hence it is always said that competition makes the society more effective .')]"
      ]
     },
     "execution_count": 77,
     "metadata": {},
     "output_type": "execute_result"
    }
   ],
   "source": [
    "sent = sents[10]\n",
    "print(sent)\n",
    "\n",
    "extract_clauses(sent)"
   ]
  },
  {
   "cell_type": "code",
   "execution_count": 78,
   "id": "9b8cb2eb",
   "metadata": {
    "ExecuteTime": {
     "end_time": "2022-01-02T19:00:34.844455Z",
     "start_time": "2022-01-02T19:00:34.839455Z"
    }
   },
   "outputs": [
    {
     "data": {
      "text/plain": [
       "'we should attach more importance to cooperation during primary education'"
      ]
     },
     "execution_count": 78,
     "metadata": {},
     "output_type": "execute_result"
    }
   ],
   "source": [
    "adus_essay['sentence'].iloc[0]"
   ]
  },
  {
   "cell_type": "code",
   "execution_count": 80,
   "id": "bd17bebc",
   "metadata": {
    "ExecuteTime": {
     "end_time": "2022-01-02T19:00:44.885570Z",
     "start_time": "2022-01-02T19:00:44.872568Z"
    }
   },
   "outputs": [
    {
     "name": "stdout",
     "output_type": "stream",
     "text": [
      "Hence       ADV   <══════════════════╗   advmod\n",
      "it          PRON  <════════════════╗ ║   nsubjpass\n",
      "is          AUX   <══════════════╗ ║ ║   auxpass\n",
      "always      ADV   <════════════╗ ║ ║ ║   advmod\n",
      "said        VERB  ═══════════╗═╝═╝═╝═╝═╗ ROOT\n",
      "that        SCONJ <════════╗ ║         ║ mark\n",
      "competition NOUN  <══════╗ ║ ║         ║ nsubj\n",
      "makes       VERB  ═════╗═╝═╝<╝         ║ ccomp\n",
      "the         DET   <╗   ║               ║ det\n",
      "society     NOUN  ═╝<╗ ║               ║ nsubj\n",
      "more        ADV   <╗ ║ ║               ║ advmod\n",
      "effective   ADJ   ═╝═╝<╝               ║ ccomp\n",
      ".           PUNCT <════════════════════╝ punct\n"
     ]
    }
   ],
   "source": [
    "deplacy.render(nlp(sent))"
   ]
  },
  {
   "cell_type": "code",
   "execution_count": null,
   "id": "b7fb586f",
   "metadata": {},
   "outputs": [],
   "source": []
  },
  {
   "cell_type": "code",
   "execution_count": 82,
   "id": "b9537f44",
   "metadata": {
    "ExecuteTime": {
     "end_time": "2022-01-02T19:09:22.927732Z",
     "start_time": "2022-01-02T19:09:22.360703Z"
    }
   },
   "outputs": [
    {
     "name": "stdout",
     "output_type": "stream",
     "text": [
      "[drink]\n",
      "He eats cheese but \n",
      "\n",
      "he does not drink milk \n",
      "\n"
     ]
    }
   ],
   "source": [
    "import spacy\n",
    "\n",
    "nlp = spacy.load('en_core_web_sm')\n",
    "\n",
    "text = \"This all encompassing experience wore off for a moment and in that moment, my awareness came gasping to the surface of the hallucination and I was able to consider momentarily that I had killed myself by taking an outrageous dose of an online drug and this was the most pathetic death experience of all time.\"\n",
    "text = \"He eats cheese but he does not drink milk\"\n",
    "doc = nlp(text)\n",
    "\n",
    "\n",
    "seen = set() # keep track of covered words\n",
    "\n",
    "chunks = []\n",
    "for sent in doc.sents:\n",
    "    heads = [cc for cc in sent.root.children if cc.dep_ == 'conj']\n",
    "    print(heads)\n",
    "    for head in heads:\n",
    "        words = [ww for ww in head.subtree]\n",
    "        for word in words:\n",
    "            seen.add(word)\n",
    "        chunk = (' '.join([ww.text for ww in words]))\n",
    "        chunks.append( (head.i, chunk) )\n",
    "\n",
    "    unseen = [ww for ww in sent if ww not in seen]\n",
    "    chunk = ' '.join([ww.text for ww in unseen])\n",
    "    chunks.append( (sent.root.i, chunk) )\n",
    "\n",
    "chunks = sorted(chunks, key=lambda x: x[0])\n",
    "\n",
    "for ii, chunk in chunks:\n",
    "    print(chunk,\"\\n\")\n",
    "        "
   ]
  },
  {
   "cell_type": "code",
   "execution_count": 91,
   "id": "783669a1",
   "metadata": {
    "ExecuteTime": {
     "end_time": "2022-01-02T19:10:29.301399Z",
     "start_time": "2022-01-02T19:10:29.295397Z"
    }
   },
   "outputs": [
    {
     "data": {
      "text/plain": [
       "[he, does, not, drink, milk]"
      ]
     },
     "execution_count": 91,
     "metadata": {},
     "output_type": "execute_result"
    }
   ],
   "source": [
    "list(doc[7].subtree)"
   ]
  },
  {
   "cell_type": "code",
   "execution_count": 88,
   "id": "16bea787",
   "metadata": {
    "ExecuteTime": {
     "end_time": "2022-01-02T19:10:08.597025Z",
     "start_time": "2022-01-02T19:10:08.591029Z"
    }
   },
   "outputs": [
    {
     "name": "stdout",
     "output_type": "stream",
     "text": [
      "He     PRON  <════╗     nsubj\n",
      "eats   VERB  ═╗═╗═╝═══╗ ROOT\n",
      "cheese NOUN  <╝ ║     ║ dobj\n",
      "but    CCONJ <══╝     ║ cc\n",
      "he     PRON  <══════╗ ║ nsubj\n",
      "does   AUX   <════╗ ║ ║ aux\n",
      "not    PART  <══╗ ║ ║ ║ neg\n",
      "drink  VERB  ═╗═╝═╝═╝<╝ conj\n",
      "milk   NOUN  <╝         dobj\n"
     ]
    }
   ],
   "source": [
    "deplacy.render(doc)"
   ]
  },
  {
   "cell_type": "code",
   "execution_count": 2,
   "id": "532094a5",
   "metadata": {
    "ExecuteTime": {
     "end_time": "2022-01-02T18:29:48.018995Z",
     "start_time": "2022-01-02T18:29:48.008994Z"
    }
   },
   "outputs": [
    {
     "name": "stdout",
     "output_type": "stream",
     "text": [
      "This          DET   <════╗                                   det\n",
      "all           DET   <══╗ ║                                   det\n",
      "encompassing  VERB  <╗ ║ ║                                   amod\n",
      "experience    NOUN  ═╝═╝═╝<══╗                               nsubj\n",
      "wore          VERB  ═╗═══╗═╗═╝═══════════╗═╗═══════════════╗ ROOT\n",
      "off           ADP   <╝   ║ ║             ║ ║               ║ prt\n",
      "for           ADP   ═══╗<╝ ║             ║ ║               ║ prep\n",
      "a             DET   <╗ ║   ║             ║ ║               ║ det\n",
      "moment        NOUN  ═╝<╝   ║             ║ ║               ║ pobj\n",
      "and           CCONJ <══════╝             ║ ║               ║ cc\n",
      "in            ADP   ═══╗<════════════╗   ║ ║               ║ prep\n",
      "that          DET   <╗ ║             ║   ║ ║               ║ det\n",
      "moment        NOUN  ═╝<╝             ║   ║ ║               ║ pobj\n",
      ",             PUNCT <════════════════║═╗ ║ ║               ║ punct\n",
      "my            PRON  <╗               ║ ║ ║ ║               ║ poss\n",
      "awareness     NOUN  ═╝<════════════╗ ║ ║ ║ ║               ║ nsubj\n",
      "came          VERB  ═════════════╗═╝═╝═╝<╝ ║               ║ conj\n",
      "gasping       VERB  ═══════════╗<╝         ║               ║ advcl\n",
      "to            ADP   ═════════╗<╝           ║               ║ prep\n",
      "the           DET   <══════╗ ║             ║               ║ det\n",
      "surface       NOUN  ═════╗═╝<╝             ║               ║ pobj\n",
      "of            ADP   ═══╗<╝                 ║               ║ prep\n",
      "the           DET   <╗ ║                   ║               ║ det\n",
      "hallucination NOUN  ═╝<╝                   ║               ║ pobj\n",
      "and           CCONJ <══════════════════════╝               ║ cc\n",
      "I             PRON  <════════════════════════════════════╗ ║ nsubj\n",
      "was           VERB  ═══════════════════════════════════╗═╝<╝ conj\n",
      "able          ADJ   ═════════════════════════════════╗<╝     acomp\n",
      "to            PART  <══════════════════════════════╗ ║       aux\n",
      "consider      VERB  ═╗═══════════════════════════╗═╝<╝       xcomp\n",
      "momentarily   ADV   <╝                           ║           advmod\n",
      "that          SCONJ <════════════════════════╗   ║           mark\n",
      "I             PRON  <══════════════════════╗ ║   ║           nsubj\n",
      "had           AUX   <════════════════════╗ ║ ║   ║           aux\n",
      "killed        VERB  ═╗═══════════════╗═╗═╝═╝═╝═╗<╝           ccomp\n",
      "myself        PRON  <╝               ║ ║       ║             dobj\n",
      "by            ADP   ═══════════════╗<╝ ║       ║             prep\n",
      "taking        VERB  ═════════════╗<╝   ║       ║             pcomp\n",
      "an            DET   <══════════╗ ║     ║       ║             det\n",
      "outrageous    ADJ   <════════╗ ║ ║     ║       ║             amod\n",
      "dose          NOUN  ═══════╗═╝═╝<╝     ║       ║             dobj\n",
      "of            ADP   ═════╗<╝           ║       ║             prep\n",
      "an            DET   <══╗ ║             ║       ║             det\n",
      "online        ADJ   <╗ ║ ║             ║       ║             amod\n",
      "drug          NOUN  ═╝═╝<╝             ║       ║             pobj\n",
      "and           CCONJ <══════════════════╝       ║             cc\n",
      "this          DET   <════════════╗             ║             nsubj\n",
      "was           VERB  ═══════════╗═╝═╗<══════════╝             conj\n",
      "the           DET   <════════╗ ║   ║                         det\n",
      "most          ADV   <╗       ║ ║   ║                         advmod\n",
      "pathetic      ADJ   ═╝<════╗ ║ ║   ║                         amod\n",
      "death         NOUN  <╗     ║ ║ ║   ║                         compound\n",
      "experience    NOUN  ═╝═══╗═╝═╝<╝   ║                         attr\n",
      "of            ADP   ═══╗<╝         ║                         prep\n",
      "all           DET   <╗ ║           ║                         det\n",
      "time          NOUN  ═╝<╝           ║                         pobj\n",
      ".             PUNCT <══════════════╝                         punct\n"
     ]
    }
   ],
   "source": [
    "import deplacy\n",
    "deplacy.render(doc)"
   ]
  },
  {
   "cell_type": "code",
   "execution_count": 97,
   "id": "831f1d97",
   "metadata": {
    "ExecuteTime": {
     "end_time": "2022-01-02T19:27:00.246263Z",
     "start_time": "2022-01-02T19:27:00.232141Z"
    }
   },
   "outputs": [
    {
     "data": {
      "text/plain": [
       "[(1, 'He eats cheese but'), (7, 'he does not drink milk')]"
      ]
     },
     "execution_count": 97,
     "metadata": {},
     "output_type": "execute_result"
    }
   ],
   "source": [
    "text = \"He eats cheese but he does not drink milk\"\n",
    "extract_clauses(text)"
   ]
  },
  {
   "cell_type": "code",
   "execution_count": 99,
   "id": "f3812f8f",
   "metadata": {
    "ExecuteTime": {
     "end_time": "2022-01-02T19:27:15.325365Z",
     "start_time": "2022-01-02T19:27:15.311364Z"
    }
   },
   "outputs": [
    {
     "data": {
      "text/plain": [
       "[(9,\n",
       "  'On the other hand , the significance of competition is that how to become more excellence to gain the victory .')]"
      ]
     },
     "execution_count": 99,
     "metadata": {},
     "output_type": "execute_result"
    }
   ],
   "source": [
    "extract_clauses(sents[9])"
   ]
  },
  {
   "cell_type": "code",
   "execution_count": 100,
   "id": "ad2534da",
   "metadata": {
    "ExecuteTime": {
     "end_time": "2022-01-02T19:27:20.620214Z",
     "start_time": "2022-01-02T19:27:20.615214Z"
    }
   },
   "outputs": [
    {
     "data": {
      "text/plain": [
       "'On the other hand, the significance of competition is that how to become more excellence to gain the victory.'"
      ]
     },
     "execution_count": 100,
     "metadata": {},
     "output_type": "execute_result"
    }
   ],
   "source": [
    "sents[9]"
   ]
  },
  {
   "cell_type": "code",
   "execution_count": 103,
   "id": "ece5be2c",
   "metadata": {
    "ExecuteTime": {
     "end_time": "2022-01-02T19:49:18.987194Z",
     "start_time": "2022-01-02T19:49:18.982193Z"
    }
   },
   "outputs": [
    {
     "data": {
      "text/plain": [
       "\"Should students be taught to compete or to cooperate?\\n\\nIt is always said that competition can effectively promote the development of economy. In order to survive in the competition, companies continue to improve their products and service, and as a result, the whole society prospers. However, when we discuss the issue of competition or cooperation, what we are concerned about is not the whole society, but the development of an individual's whole life. From this point of view, I firmly believe that we should attach more importance to cooperation during primary education.\\nFirst of all, through cooperation, children can learn about interpersonal skills which are significant in the future life of all students. What we acquired from team work is not only how to achieve the same goal with others but more importantly, how to get along with others. During the process of cooperation, children can learn about how to listen to opinions of others, how to communicate with others, how to think comprehensively, and even how to compromise with other team members when conflicts occurred. All of these skills help them to get on well with other people and will benefit them for the whole life.\\nOn the other hand, the significance of competition is that how to become more excellence to gain the victory. Hence it is always said that competition makes the society more effective. However, when we consider about the question that how to win the game, we always find that we need the cooperation. The greater our goal is, the more competition we need. Take Olympic games which is a form of competition for instance, it is hard to imagine how an athlete could win the game without the training of his or her coach, and the help of other professional staffs such as the people who take care of his diet, and those who are in charge of the medical care. The winner is the athlete but the success belongs to the whole team. Therefore without the cooperation, there would be no victory of competition.\\nConsequently, no matter from the view of individual development or the relationship between competition and cooperation we can receive the same conclusion that a more cooperative attitudes towards life is more profitable in one's success.\""
      ]
     },
     "execution_count": 103,
     "metadata": {},
     "output_type": "execute_result"
    }
   ],
   "source": [
    "essay_text"
   ]
  },
  {
   "cell_type": "code",
   "execution_count": 106,
   "id": "36352c06",
   "metadata": {
    "ExecuteTime": {
     "end_time": "2022-01-02T19:53:03.338902Z",
     "start_time": "2022-01-02T19:53:03.333903Z"
    }
   },
   "outputs": [
    {
     "name": "stdout",
     "output_type": "stream",
     "text": [
      "0 Should students be taught to compete or to cooperate?\n",
      "1 It is always said that competition can effectively promote the development of economy.\n",
      "2 In order to survive in the competition, companies continue to improve their products and service, and as a result, the whole society prospers.\n",
      "3 However, when we discuss the issue of competition or cooperation, what we are concerned about is not the whole society, but the development of an individual's whole life.\n",
      "4 From this point of view, I firmly believe that we should attach more importance to cooperation during primary education.\n",
      "5 First of all, through cooperation, children can learn about interpersonal skills which are significant in the future life of all students.\n",
      "6 What we acquired from team work is not only how to achieve the same goal with others but more importantly, how to get along with others.\n",
      "7 During the process of cooperation, children can learn about how to listen to opinions of others, how to communicate with others, how to think comprehensively, and even how to compromise with other team members when conflicts occurred.\n",
      "8 All of these skills help them to get on well with other people and will benefit them for the whole life.\n",
      "9 On the other hand, the significance of competition is that how to become more excellence to gain the victory.\n",
      "10 Hence it is always said that competition makes the society more effective.\n",
      "11 However, when we consider about the question that how to win the game, we always find that we need the cooperation.\n",
      "12 The greater our goal is, the more competition we need.\n",
      "13 Take Olympic games which is a form of competition for instance, it is hard to imagine how an athlete could win the game without the training of his or her coach, and the help of other professional staffs such as the people who take care of his diet, and those who are in charge of the medical care.\n",
      "14 The winner is the athlete but the success belongs to the whole team.\n",
      "15 Therefore without the cooperation, there would be no victory of competition.\n",
      "16 Consequently, no matter from the view of individual development or the relationship between competition and cooperation we can receive the same conclusion that a more cooperative attitudes towards life is more profitable in one's success.\n"
     ]
    }
   ],
   "source": [
    "for i,j in enumerate(sents):\n",
    "    print(i, j)\n",
    "    "
   ]
  },
  {
   "cell_type": "code",
   "execution_count": 5,
   "id": "089bd27f",
   "metadata": {
    "ExecuteTime": {
     "end_time": "2022-01-03T18:30:37.698630Z",
     "start_time": "2022-01-03T18:30:37.694632Z"
    }
   },
   "outputs": [],
   "source": [
    "from flask import Flask"
   ]
  },
  {
   "cell_type": "code",
   "execution_count": 6,
   "id": "ca0ef7a7",
   "metadata": {
    "ExecuteTime": {
     "end_time": "2022-01-03T18:31:43.265346Z",
     "start_time": "2022-01-03T18:30:37.700632Z"
    }
   },
   "outputs": [
    {
     "name": "stdout",
     "output_type": "stream",
     "text": [
      " * Serving Flask app '__main__' (lazy loading)\n",
      " * Environment: production\n",
      "   WARNING: This is a development server. Do not use it in a production deployment.\n",
      "   Use a production WSGI server instead.\n",
      " * Debug mode: off\n"
     ]
    },
    {
     "name": "stderr",
     "output_type": "stream",
     "text": [
      " * Running on http://127.0.0.1:5000/ (Press CTRL+C to quit)\n"
     ]
    }
   ],
   "source": [
    "app = Flask(__name__)\n",
    "\n",
    "@app.route(\"/\")\n",
    "def index():\n",
    "    return \"Hello\"\n",
    "\n",
    "app.run()"
   ]
  },
  {
   "cell_type": "code",
   "execution_count": 8,
   "id": "57e00264",
   "metadata": {
    "ExecuteTime": {
     "end_time": "2022-01-03T18:54:15.172879Z",
     "start_time": "2022-01-03T18:54:15.162880Z"
    }
   },
   "outputs": [
    {
     "name": "stdout",
     "output_type": "stream",
     "text": [
      "Help on package werkzeug:\n",
      "\n",
      "NAME\n",
      "    werkzeug\n",
      "\n",
      "PACKAGE CONTENTS\n",
      "    _internal\n",
      "    _reloader\n",
      "    datastructures\n",
      "    debug (package)\n",
      "    exceptions\n",
      "    filesystem\n",
      "    formparser\n",
      "    http\n",
      "    local\n",
      "    middleware (package)\n",
      "    routing\n",
      "    sansio (package)\n",
      "    security\n",
      "    serving\n",
      "    test\n",
      "    testapp\n",
      "    urls\n",
      "    user_agent\n",
      "    useragents\n",
      "    utils\n",
      "    wrappers (package)\n",
      "    wsgi\n",
      "\n",
      "VERSION\n",
      "    2.0.1\n",
      "\n",
      "FILE\n",
      "    c:\\anaconda\\lib\\site-packages\\werkzeug\\__init__.py\n",
      "\n",
      "\n"
     ]
    }
   ],
   "source": [
    "import werkzeug\n",
    "help(werkzeug)"
   ]
  }
 ],
 "metadata": {
  "kernelspec": {
   "display_name": "Python 3 (ipykernel)",
   "language": "python",
   "name": "python3"
  },
  "language_info": {
   "codemirror_mode": {
    "name": "ipython",
    "version": 3
   },
   "file_extension": ".py",
   "mimetype": "text/x-python",
   "name": "python",
   "nbconvert_exporter": "python",
   "pygments_lexer": "ipython3",
   "version": "3.8.5"
  }
 },
 "nbformat": 4,
 "nbformat_minor": 5
}
