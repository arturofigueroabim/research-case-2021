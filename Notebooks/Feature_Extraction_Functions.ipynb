{
 "cells": [
  {
   "cell_type": "code",
   "execution_count": 2,
   "id": "c35e3276",
   "metadata": {
    "ExecuteTime": {
     "end_time": "2022-01-02T14:43:47.372437Z",
     "start_time": "2022-01-02T14:43:45.648129Z"
    }
   },
   "outputs": [],
   "source": [
    "import re\n",
    "import pandas as pd"
   ]
  },
  {
   "cell_type": "code",
   "execution_count": 8,
   "id": "6292cf09",
   "metadata": {
    "ExecuteTime": {
     "end_time": "2022-01-02T14:46:00.283761Z",
     "start_time": "2022-01-02T14:46:00.279759Z"
    }
   },
   "outputs": [],
   "source": [
    "from nltk.tokenize import sent_tokenize"
   ]
  },
  {
   "cell_type": "code",
   "execution_count": 5,
   "id": "a9bb3210",
   "metadata": {
    "ExecuteTime": {
     "end_time": "2022-01-02T14:45:03.787076Z",
     "start_time": "2022-01-02T14:45:03.728073Z"
    }
   },
   "outputs": [],
   "source": []
  },
  {
   "cell_type": "code",
   "execution_count": 9,
   "id": "9d1e3469",
   "metadata": {
    "ExecuteTime": {
     "end_time": "2022-01-02T14:46:09.644419Z",
     "start_time": "2022-01-02T14:46:09.639897Z"
    }
   },
   "outputs": [],
   "source": []
  },
  {
   "cell_type": "code",
   "execution_count": 16,
   "id": "f4a30e97",
   "metadata": {
    "ExecuteTime": {
     "end_time": "2022-01-02T14:46:52.635554Z",
     "start_time": "2022-01-02T14:46:52.631552Z"
    }
   },
   "outputs": [],
   "source": []
  },
  {
   "cell_type": "code",
   "execution_count": 17,
   "id": "616fd750",
   "metadata": {
    "ExecuteTime": {
     "end_time": "2022-01-02T14:46:54.828716Z",
     "start_time": "2022-01-02T14:46:54.823715Z"
    }
   },
   "outputs": [
    {
     "data": {
      "text/plain": [
       "'In order to survive in the competition, companies continue to improve their products and service, and as a result, the whole society prospers.'"
      ]
     },
     "execution_count": 17,
     "metadata": {},
     "output_type": "execute_result"
    }
   ],
   "source": [
    "unit\n",
    "\n"
   ]
  },
  {
   "cell_type": "code",
   "execution_count": 25,
   "id": "4c035d7f",
   "metadata": {
    "ExecuteTime": {
     "end_time": "2022-01-02T14:49:46.277177Z",
     "start_time": "2022-01-02T14:49:46.271177Z"
    }
   },
   "outputs": [
    {
     "data": {
      "text/plain": [
       "[' ',\n",
       " ' ',\n",
       " ' ',\n",
       " ' ',\n",
       " ' ',\n",
       " ' ',\n",
       " ',',\n",
       " ' ',\n",
       " ' ',\n",
       " ' ',\n",
       " ' ',\n",
       " ' ',\n",
       " ' ',\n",
       " ' ',\n",
       " ' ',\n",
       " ',',\n",
       " ' ',\n",
       " ' ',\n",
       " ' ',\n",
       " ' ',\n",
       " ',',\n",
       " ' ',\n",
       " ' ',\n",
       " ' ',\n",
       " ' ',\n",
       " '.']"
      ]
     },
     "execution_count": 25,
     "metadata": {},
     "output_type": "execute_result"
    }
   ],
   "source": [
    "re.findall(r'\\W', unit)"
   ]
  },
  {
   "cell_type": "code",
   "execution_count": 27,
   "id": "7b435d21",
   "metadata": {
    "ExecuteTime": {
     "end_time": "2022-01-02T19:48:48.563103Z",
     "start_time": "2022-01-02T19:48:48.558104Z"
    }
   },
   "outputs": [
    {
     "data": {
      "text/plain": [
       "'!\"#$%&\\'()*+,-./:;<=>?@[\\\\]^_`{|}~'"
      ]
     },
     "execution_count": 27,
     "metadata": {},
     "output_type": "execute_result"
    }
   ],
   "source": [
    "string.punctuation"
   ]
  },
  {
   "cell_type": "code",
   "execution_count": 28,
   "id": "9a37a815",
   "metadata": {
    "ExecuteTime": {
     "end_time": "2022-01-02T19:48:54.520502Z",
     "start_time": "2022-01-02T19:48:54.517473Z"
    }
   },
   "outputs": [],
   "source": [
    "def ext_num_punct(unit):\n",
    "    \"\"\"Extracts number of punctuations from a unit\"\"\"\n",
    "    return 3"
   ]
  },
  {
   "cell_type": "code",
   "execution_count": 29,
   "id": "fab02811",
   "metadata": {
    "ExecuteTime": {
     "end_time": "2022-01-02T19:48:59.947093Z",
     "start_time": "2022-01-02T19:48:59.941091Z"
    }
   },
   "outputs": [
    {
     "data": {
      "text/plain": [
       "3"
      ]
     },
     "execution_count": 29,
     "metadata": {},
     "output_type": "execute_result"
    }
   ],
   "source": [
    "ext_num_punct('text')"
   ]
  }
 ],
 "metadata": {
  "kernelspec": {
   "display_name": "Python 3 (ipykernel)",
   "language": "python",
   "name": "python3"
  },
  "language_info": {
   "codemirror_mode": {
    "name": "ipython",
    "version": 3
   },
   "file_extension": ".py",
   "mimetype": "text/x-python",
   "name": "python",
   "nbconvert_exporter": "python",
   "pygments_lexer": "ipython3",
   "version": "3.8.5"
  }
 },
 "nbformat": 4,
 "nbformat_minor": 5
}
