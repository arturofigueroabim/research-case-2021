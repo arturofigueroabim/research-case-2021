{
 "cells": [
  {
   "cell_type": "code",
   "execution_count": 44,
   "id": "59a7bd46",
   "metadata": {},
   "outputs": [],
   "source": [
    "import numpy as np\n",
    "import pandas as pd\n",
    "import spacy\n",
    "from spacy.tokens import Doc, Span, Token\n",
    "nlp = spacy.load(\"en_core_web_md\")\n",
    "import re"
   ]
  },
  {
   "cell_type": "code",
   "execution_count": 45,
   "id": "97a65bbf",
   "metadata": {},
   "outputs": [],
   "source": [
    "from spacy import displacy\n",
    "import deplacy"
   ]
  },
  {
   "cell_type": "code",
   "execution_count": 85,
   "id": "86a93063",
   "metadata": {},
   "outputs": [],
   "source": [
    "\n",
    "def get_num_tokens(obj):\n",
    "    return len(obj)\n",
    "Span.set_extension(\"my_custom_token_len\", getter = get_num_tokens)"
   ]
  },
  {
   "cell_type": "code",
   "execution_count": 102,
   "id": "77149673",
   "metadata": {},
   "outputs": [
    {
     "data": {
      "text/plain": [
       "130248"
      ]
     },
     "execution_count": 102,
     "metadata": {},
     "output_type": "execute_result"
    }
   ],
   "source": [
    "units = segmentation(nlp(input_text), 'token')"
   ]
  },
  {
   "cell_type": "code",
   "execution_count": null,
   "id": "6d37ae29",
   "metadata": {},
   "outputs": [],
   "source": []
  },
  {
   "cell_type": "code",
   "execution_count": 134,
   "id": "e3449821",
   "metadata": {},
   "outputs": [],
   "source": [
    "doc_features = ['num_tokens']\n",
    "span_features = ['word_emb', 'num_tokens', 'num_verbs', 'num_pos_pronouns', 'num_conj_adv', 'num_punct']\n",
    "token_features =['word_emb']\n",
    "features_dict = dict(doc_features=doc_features, span_features=span_features, token_features=token_features)\n",
    "\n",
    "\n",
    "\n",
    "\n",
    "\n",
    "def create_extensions(features_dict=None, force=True):\n",
    "    \n",
    "    # Feature Getters\n",
    "\n",
    "    def get_word_emb(obj):\n",
    "        return obj.vector\n",
    "    \n",
    "    def get_num_tokens(obj):\n",
    "        return len(obj)\n",
    "    \n",
    "    def get_num_verbs(span):\n",
    "        return sum([1 for token in span if token.pos_ == \"VERB\"])\n",
    "\n",
    "    def get_num_pos_pronouns(span):\n",
    "        return sum([1 for token in span if token.tag_ == \"PRP$\"])\n",
    "\n",
    "    def get_num_pron(span):\n",
    "        return sum([1 for token in span if token.pos_ == \"PRON\"])\n",
    "    \n",
    "    def get_num_conj_adv(span):\n",
    "        conj_advs = ['moreover', 'incidentally', 'next', 'yet', 'finally', 'then', 'for example', 'thus', 'accordingly', 'namely', 'meanwhile', 'that is', 'also', 'undoubtedly', 'all in all', 'lately', 'hence', 'still', 'therefore', 'in addition', 'indeed', 'again', 'so', 'nevertheless', 'besides', 'instead', 'for instance', 'certainly', 'however', 'anyway', 'further', 'furthermore', 'similarly', 'now', 'in conclusion', 'nonetheless', 'thereafter', 'likewise', 'otherwise', 'consequently']\n",
    "        return sum([len(re.findall(adv, span.text.lower())) for adv in conj_advs])\n",
    "    \n",
    "    def get_num_punct(span):\n",
    "        return sum([1 for token in span if token.tag_ == \"PUNCT\"])\n",
    "    \n",
    "    # Set Extensions\n",
    "    \n",
    "    for feature in features_dict['doc_features']:\n",
    "        Doc.set_extension(feature, force=force, getter=locals()[f\"get_{feature}\"])\n",
    "        \n",
    "    for feature in features_dict['span_features']:\n",
    "        Span.set_extension(feature, force=force, getter=locals()[f\"get_{feature}\"])\n",
    "        \n",
    "    for feature in features_dict['token_features']:\n",
    "        Token.set_extension(feature, force=force, getter=locals()[f\"get_{feature}\"])\n",
    "        \n",
    "create_extensions(features_dict)   \n",
    "\n"
   ]
  },
  {
   "cell_type": "code",
   "execution_count": 135,
   "id": "4c869f62",
   "metadata": {},
   "outputs": [],
   "source": [
    "essays = pd.read_csv(\"../data/output_csv/essays.csv\")\n",
    "adus = pd.read_csv(\"../data/output_csv/adus.csv\")"
   ]
  },
  {
   "cell_type": "code",
   "execution_count": 136,
   "id": "4d9f38cc",
   "metadata": {},
   "outputs": [],
   "source": [
    "# Optional\n",
    "def add_full_stops(text):\n",
    "    \"\"\"adds full stops to texts that end with \\n missing full stops\"\"\"\n",
    "    return re.sub(\"\\n+(?!\\.)\",'.\\n', text)"
   ]
  },
  {
   "cell_type": "code",
   "execution_count": 137,
   "id": "a0288b67",
   "metadata": {},
   "outputs": [],
   "source": [
    "def text2doc(text):\n",
    "    return nlp(text)"
   ]
  },
  {
   "cell_type": "code",
   "execution_count": 138,
   "id": "497c7eea",
   "metadata": {},
   "outputs": [],
   "source": [
    "def segmentation(doc=None ,mode = 'sentence'):\n",
    "    if mode=='paragraph':\n",
    "        pass\n",
    "    if mode=='sentence':\n",
    "        return [sent for sent in doc.sents if not (sent.text.isspace() or sent.text =='')] #if not sent.text.isspace()]\n",
    "    if mode =='avg_n_grams':\n",
    "        # Code to segment with 15 grams here (aveage)    \n",
    "        pass\n",
    "    if mode=='clause':\n",
    "        # Code to segment by clause\n",
    "        pass\n",
    "    if mode=='token':\n",
    "        return [token for token in doc if not (token.text.isspace() or token.text =='')]"
   ]
  },
  {
   "cell_type": "code",
   "execution_count": 139,
   "id": "c957aeba",
   "metadata": {},
   "outputs": [],
   "source": [
    "# # With Indexing\n",
    "# def segmentation(doc=None ,mode = 'sentence'):\n",
    "#     if mode=='paragraph':\n",
    "#         return \n",
    "#     if mode=='sentence':\n",
    "#         return [(i,sent) for i,sent in enumerate(doc.sents)] #if not sent.text.isspace()]\n",
    "#     if mode =='avg_n_grams':\n",
    "#         # Code to segment with 15 grams here (aveage)    \n",
    "#         pass\n",
    "#     if mode=='clause':\n",
    "#         # Code to segment by clause\n",
    "#         pass\n",
    "#     if mode=='token':\n",
    "#         return [token for token in doc]# if not token.isspace()]"
   ]
  },
  {
   "cell_type": "code",
   "execution_count": 140,
   "id": "cf9fc6c7",
   "metadata": {},
   "outputs": [],
   "source": [
    "# RUNNING THE FUNCTIONS\n",
    "input_text = essays[essays['essay_id'] == 'essay024']['text'].iloc[0]\n",
    "\n",
    "doc = text2doc(input_text)\n",
    "\n",
    "units = segmentation(doc=doc, mode='sentence')\n"
   ]
  },
  {
   "cell_type": "code",
   "execution_count": 141,
   "id": "61fa1772",
   "metadata": {},
   "outputs": [],
   "source": [
    "list2 = [units[0]._.get(feature) for feature in span_features]\n",
    "\n",
    "\n",
    "list1 = [units[0]._.word_emb, units[0]._.num_tokens]\n"
   ]
  },
  {
   "cell_type": "code",
   "execution_count": 162,
   "id": "55209a20",
   "metadata": {},
   "outputs": [],
   "source": [
    "def unit2fv(unit,feature_list):\n",
    "    \n",
    "    return np.array([unit._.get(feature) for feature in feature_list])\n",
    "    "
   ]
  },
  {
   "cell_type": "code",
   "execution_count": 163,
   "id": "a4a0327a",
   "metadata": {},
   "outputs": [
    {
     "name": "stderr",
     "output_type": "stream",
     "text": [
      "C:\\Users\\BILALM~1\\AppData\\Local\\Temp/ipykernel_11760/4264911920.py:3: VisibleDeprecationWarning: Creating an ndarray from ragged nested sequences (which is a list-or-tuple of lists-or-tuples-or ndarrays with different lengths or shapes) is deprecated. If you meant to do this, you must specify 'dtype=object' when creating the ndarray.\n",
      "  return np.array([unit._.get(feature) for feature in feature_list])\n"
     ]
    }
   ],
   "source": [
    "fv = list(map(lambda x: unit2fv(x, feature_list=span_features), units))"
   ]
  },
  {
   "cell_type": "code",
   "execution_count": 164,
   "id": "5cae4c62",
   "metadata": {},
   "outputs": [
    {
     "data": {
      "text/plain": [
       "['word_emb',\n",
       " 'num_tokens',\n",
       " 'num_verbs',\n",
       " 'num_pos_pronouns',\n",
       " 'num_conj_adv',\n",
       " 'num_punct']"
      ]
     },
     "execution_count": 164,
     "metadata": {},
     "output_type": "execute_result"
    }
   ],
   "source": [
    "span_features"
   ]
  },
  {
   "cell_type": "code",
   "execution_count": 175,
   "id": "cab563c8",
   "metadata": {},
   "outputs": [
    {
     "name": "stderr",
     "output_type": "stream",
     "text": [
      "C:\\Users\\BILALM~1\\AppData\\Local\\Temp/ipykernel_11760/4264911920.py:3: VisibleDeprecationWarning: Creating an ndarray from ragged nested sequences (which is a list-or-tuple of lists-or-tuples-or ndarrays with different lengths or shapes) is deprecated. If you meant to do this, you must specify 'dtype=object' when creating the ndarray.\n",
      "  return np.array([unit._.get(feature) for feature in feature_list])\n"
     ]
    },
    {
     "ename": "TypeError",
     "evalue": "reshape() takes exactly 1 argument (0 given)",
     "output_type": "error",
     "traceback": [
      "\u001b[1;31m---------------------------------------------------------------------------\u001b[0m",
      "\u001b[1;31mTypeError\u001b[0m                                 Traceback (most recent call last)",
      "\u001b[1;32mC:\\Users\\BILALM~1\\AppData\\Local\\Temp/ipykernel_11760/1955680700.py\u001b[0m in \u001b[0;36m<module>\u001b[1;34m\u001b[0m\n\u001b[0;32m      6\u001b[0m \u001b[1;31m# fv\u001b[0m\u001b[1;33m\u001b[0m\u001b[1;33m\u001b[0m\u001b[0m\n\u001b[0;32m      7\u001b[0m \u001b[1;33m\u001b[0m\u001b[0m\n\u001b[1;32m----> 8\u001b[1;33m \u001b[0mfv\u001b[0m\u001b[1;33m.\u001b[0m\u001b[0mreshape\u001b[0m\u001b[1;33m(\u001b[0m\u001b[1;33m)\u001b[0m\u001b[1;33m\u001b[0m\u001b[1;33m\u001b[0m\u001b[0m\n\u001b[0m",
      "\u001b[1;31mTypeError\u001b[0m: reshape() takes exactly 1 argument (0 given)"
     ]
    }
   ],
   "source": [
    "u1 = units[1]\n",
    "u1\n",
    "fv = unit2fv(u1, span_features)\n",
    "\n",
    "# fv = np.concatenate([fv[0],fv[1:]])\n",
    "# fv\n"
   ]
  },
  {
   "cell_type": "code",
   "execution_count": 114,
   "id": "e3929eba",
   "metadata": {},
   "outputs": [
    {
     "data": {
      "text/plain": [
       "['word_emb',\n",
       " 'num_tokens',\n",
       " 'num_verbs',\n",
       " 'num_pos_pronouns',\n",
       " 'num_conj_adv',\n",
       " 'num_punct']"
      ]
     },
     "execution_count": 114,
     "metadata": {},
     "output_type": "execute_result"
    }
   ],
   "source": [
    "span_features"
   ]
  },
  {
   "cell_type": "code",
   "execution_count": 124,
   "id": "587e3a53",
   "metadata": {},
   "outputs": [
    {
     "data": {
      "text/plain": [
       "Some people think that computer is good for children and it should be used daily by children but some others think differently."
      ]
     },
     "execution_count": 124,
     "metadata": {},
     "output_type": "execute_result"
    }
   ],
   "source": [
    "\n",
    "u1 = units[1]\n",
    "u1\n",
    "\n"
   ]
  },
  {
   "cell_type": "code",
   "execution_count": 57,
   "id": "709ca97d",
   "metadata": {},
   "outputs": [
    {
     "data": {
      "text/plain": [
       "0       essay001\n",
       "1       essay001\n",
       "2       essay001\n",
       "3       essay001\n",
       "4       essay001\n",
       "          ...   \n",
       "6084    essay402\n",
       "6085    essay402\n",
       "6086    essay402\n",
       "6087    essay402\n",
       "6088    essay402\n",
       "Name: essay_id, Length: 6089, dtype: object"
      ]
     },
     "execution_count": 57,
     "metadata": {},
     "output_type": "execute_result"
    }
   ],
   "source": [
    "adus['essay_id']"
   ]
  },
  {
   "cell_type": "code",
   "execution_count": 58,
   "id": "3891cc79",
   "metadata": {},
   "outputs": [
    {
     "data": {
      "text/plain": [
       "[Computer has negative effects to children\n",
       " \n",
       " Nowadays, thanks to the development of technology, computer is now indispensable to life.,\n",
       " Some people think that computer is good for children and it should be used daily by children but some others think differently.,\n",
       " In my opinion, the latter opinion is true.,\n",
       " \n",
       " First, using computer constantly has bad influence on children's eyes.,\n",
       " When they concentrate on computer for too long, their eyes will get tired, which is the main reason for some eyes problems, typically shortsighted.,\n",
       " \n",
       " Moreover, children who play games too much on computer can seriously lack communicating skills, they will know little about the outside life.,\n",
       " It is a well-known fact that people who are addicted to games, especially online games, can eventually bear dangerous consequences.,\n",
       " For instance, several teenagers play games without rest, which leads to health depression, a typical example is the death of Korean gamer, who had a non-stop playing for 3 days.,\n",
       " \n",
       " Finally, even people who are not interested in online game can still be negatively affected by using computer too much.,\n",
       " Some social surveys have shown that a few children use computer for studying purpose, most of them are attracted by facebook, blog, etc. instead.,\n",
       " Due to this neglect, they will have a bad result in school because when they can not live without internet, they will have no time for their studying.,\n",
       " In conclusion, although it is undeniable that computer is a crucial part of human life, it still has its bad side, especially for children.,\n",
       " People should learn how to use it properly to make it an effective tool because computer should be used not only for entertaining but also for working and studying purpose.]"
      ]
     },
     "execution_count": 58,
     "metadata": {},
     "output_type": "execute_result"
    }
   ],
   "source": [
    "units"
   ]
  },
  {
   "cell_type": "code",
   "execution_count": null,
   "id": "b7eb6930",
   "metadata": {},
   "outputs": [],
   "source": []
  },
  {
   "cell_type": "code",
   "execution_count": 59,
   "id": "b71b0c06",
   "metadata": {},
   "outputs": [
    {
     "data": {
      "text/html": [
       "<div>\n",
       "<style scoped>\n",
       "    .dataframe tbody tr th:only-of-type {\n",
       "        vertical-align: middle;\n",
       "    }\n",
       "\n",
       "    .dataframe tbody tr th {\n",
       "        vertical-align: top;\n",
       "    }\n",
       "\n",
       "    .dataframe thead th {\n",
       "        text-align: right;\n",
       "    }\n",
       "</style>\n",
       "<table border=\"1\" class=\"dataframe\">\n",
       "  <thead>\n",
       "    <tr style=\"text-align: right;\">\n",
       "      <th></th>\n",
       "      <th>ADU_index</th>\n",
       "      <th>ADU</th>\n",
       "      <th>essay_id</th>\n",
       "      <th>label</th>\n",
       "      <th>start_ind</th>\n",
       "      <th>end_ind</th>\n",
       "      <th>claim_type</th>\n",
       "      <th>ADU_text</th>\n",
       "    </tr>\n",
       "  </thead>\n",
       "  <tbody>\n",
       "    <tr>\n",
       "      <th>0</th>\n",
       "      <td>T1</td>\n",
       "      <td>MajorClaim 503 575\\twe should attach more impo...</td>\n",
       "      <td>essay001</td>\n",
       "      <td>train</td>\n",
       "      <td>503</td>\n",
       "      <td>575</td>\n",
       "      <td>MajorClaim</td>\n",
       "      <td>we should attach more importance to cooperatio...</td>\n",
       "    </tr>\n",
       "    <tr>\n",
       "      <th>1</th>\n",
       "      <td>T2</td>\n",
       "      <td>MajorClaim 2154 2231\\ta more cooperative attit...</td>\n",
       "      <td>essay001</td>\n",
       "      <td>train</td>\n",
       "      <td>2154</td>\n",
       "      <td>2231</td>\n",
       "      <td>MajorClaim</td>\n",
       "      <td>a more cooperative attitudes towards life is m...</td>\n",
       "    </tr>\n",
       "    <tr>\n",
       "      <th>2</th>\n",
       "      <td>T3</td>\n",
       "      <td>Claim 591 714\\tthrough cooperation, children c...</td>\n",
       "      <td>essay001</td>\n",
       "      <td>train</td>\n",
       "      <td>591</td>\n",
       "      <td>714</td>\n",
       "      <td>Claim</td>\n",
       "      <td>through cooperation, children can learn about ...</td>\n",
       "    </tr>\n",
       "    <tr>\n",
       "      <th>3</th>\n",
       "      <td>T4</td>\n",
       "      <td>Premise 716 851\\tWhat we acquired from team wo...</td>\n",
       "      <td>essay001</td>\n",
       "      <td>train</td>\n",
       "      <td>716</td>\n",
       "      <td>851</td>\n",
       "      <td>Premise</td>\n",
       "      <td>What we acquired from team work is not only ho...</td>\n",
       "    </tr>\n",
       "    <tr>\n",
       "      <th>4</th>\n",
       "      <td>T5</td>\n",
       "      <td>Premise 853 1086\\tDuring the process of cooper...</td>\n",
       "      <td>essay001</td>\n",
       "      <td>train</td>\n",
       "      <td>853</td>\n",
       "      <td>1086</td>\n",
       "      <td>Premise</td>\n",
       "      <td>During the process of cooperation, children ca...</td>\n",
       "    </tr>\n",
       "    <tr>\n",
       "      <th>...</th>\n",
       "      <td>...</td>\n",
       "      <td>...</td>\n",
       "      <td>...</td>\n",
       "      <td>...</td>\n",
       "      <td>...</td>\n",
       "      <td>...</td>\n",
       "      <td>...</td>\n",
       "      <td>...</td>\n",
       "    </tr>\n",
       "    <tr>\n",
       "      <th>6084</th>\n",
       "      <td>T11</td>\n",
       "      <td>Premise 1275 1339\\tindirectly they will learn ...</td>\n",
       "      <td>essay402</td>\n",
       "      <td>train</td>\n",
       "      <td>1275</td>\n",
       "      <td>1339</td>\n",
       "      <td>Premise</td>\n",
       "      <td>indirectly they will learn how to socialize ea...</td>\n",
       "    </tr>\n",
       "    <tr>\n",
       "      <th>6085</th>\n",
       "      <td>T12</td>\n",
       "      <td>Premise 1341 1388\\tThat will make children get...</td>\n",
       "      <td>essay402</td>\n",
       "      <td>train</td>\n",
       "      <td>1341</td>\n",
       "      <td>1388</td>\n",
       "      <td>Premise</td>\n",
       "      <td>That will make children getting lots of friends</td>\n",
       "    </tr>\n",
       "    <tr>\n",
       "      <th>6086</th>\n",
       "      <td>T13</td>\n",
       "      <td>Premise 1393 1436\\tthey can contribute positiv...</td>\n",
       "      <td>essay402</td>\n",
       "      <td>train</td>\n",
       "      <td>1393</td>\n",
       "      <td>1436</td>\n",
       "      <td>Premise</td>\n",
       "      <td>they can contribute positively to community</td>\n",
       "    </tr>\n",
       "    <tr>\n",
       "      <th>6087</th>\n",
       "      <td>T14</td>\n",
       "      <td>Premise 1448 1525\\tplaying sport makes childre...</td>\n",
       "      <td>essay402</td>\n",
       "      <td>train</td>\n",
       "      <td>1448</td>\n",
       "      <td>1525</td>\n",
       "      <td>Premise</td>\n",
       "      <td>playing sport makes children getting healthy a...</td>\n",
       "    </tr>\n",
       "    <tr>\n",
       "      <th>6088</th>\n",
       "      <td>T15</td>\n",
       "      <td>Claim 916 965\\tplaying sports will give good e...</td>\n",
       "      <td>essay402</td>\n",
       "      <td>train</td>\n",
       "      <td>916</td>\n",
       "      <td>965</td>\n",
       "      <td>Claim</td>\n",
       "      <td>playing sports will give good effects on children</td>\n",
       "    </tr>\n",
       "  </tbody>\n",
       "</table>\n",
       "<p>6089 rows × 8 columns</p>\n",
       "</div>"
      ],
      "text/plain": [
       "     ADU_index                                                ADU  essay_id  \\\n",
       "0           T1  MajorClaim 503 575\\twe should attach more impo...  essay001   \n",
       "1           T2  MajorClaim 2154 2231\\ta more cooperative attit...  essay001   \n",
       "2           T3  Claim 591 714\\tthrough cooperation, children c...  essay001   \n",
       "3           T4  Premise 716 851\\tWhat we acquired from team wo...  essay001   \n",
       "4           T5  Premise 853 1086\\tDuring the process of cooper...  essay001   \n",
       "...        ...                                                ...       ...   \n",
       "6084       T11  Premise 1275 1339\\tindirectly they will learn ...  essay402   \n",
       "6085       T12  Premise 1341 1388\\tThat will make children get...  essay402   \n",
       "6086       T13  Premise 1393 1436\\tthey can contribute positiv...  essay402   \n",
       "6087       T14  Premise 1448 1525\\tplaying sport makes childre...  essay402   \n",
       "6088       T15  Claim 916 965\\tplaying sports will give good e...  essay402   \n",
       "\n",
       "      label  start_ind  end_ind  claim_type  \\\n",
       "0     train        503      575  MajorClaim   \n",
       "1     train       2154     2231  MajorClaim   \n",
       "2     train        591      714       Claim   \n",
       "3     train        716      851     Premise   \n",
       "4     train        853     1086     Premise   \n",
       "...     ...        ...      ...         ...   \n",
       "6084  train       1275     1339     Premise   \n",
       "6085  train       1341     1388     Premise   \n",
       "6086  train       1393     1436     Premise   \n",
       "6087  train       1448     1525     Premise   \n",
       "6088  train        916      965       Claim   \n",
       "\n",
       "                                               ADU_text  \n",
       "0     we should attach more importance to cooperatio...  \n",
       "1     a more cooperative attitudes towards life is m...  \n",
       "2     through cooperation, children can learn about ...  \n",
       "3     What we acquired from team work is not only ho...  \n",
       "4     During the process of cooperation, children ca...  \n",
       "...                                                 ...  \n",
       "6084  indirectly they will learn how to socialize ea...  \n",
       "6085    That will make children getting lots of friends  \n",
       "6086        they can contribute positively to community  \n",
       "6087  playing sport makes children getting healthy a...  \n",
       "6088  playing sports will give good effects on children  \n",
       "\n",
       "[6089 rows x 8 columns]"
      ]
     },
     "execution_count": 59,
     "metadata": {},
     "output_type": "execute_result"
    }
   ],
   "source": [
    "adus"
   ]
  },
  {
   "cell_type": "markdown",
   "id": "637d8acc",
   "metadata": {},
   "source": [
    "# Classification"
   ]
  },
  {
   "cell_type": "code",
   "execution_count": 60,
   "id": "b388630d",
   "metadata": {},
   "outputs": [],
   "source": [
    "from sklearn.linear_model import LogisticRegression"
   ]
  },
  {
   "cell_type": "code",
   "execution_count": 61,
   "id": "a9fd3284",
   "metadata": {},
   "outputs": [],
   "source": [
    "logreg = LogisticRegression()"
   ]
  },
  {
   "cell_type": "code",
   "execution_count": 62,
   "id": "3beab391",
   "metadata": {},
   "outputs": [
    {
     "data": {
      "text/plain": [
       "Computer has negative effects to children\n",
       "\n",
       "Nowadays, thanks to the development of technology, computer is now indispensable to life."
      ]
     },
     "execution_count": 62,
     "metadata": {},
     "output_type": "execute_result"
    }
   ],
   "source": [
    "units[0]"
   ]
  },
  {
   "cell_type": "code",
   "execution_count": 63,
   "id": "95f9d6df",
   "metadata": {},
   "outputs": [
    {
     "data": {
      "text/plain": [
       "\"Computer has negative effects to children\\n\\nNowadays, thanks to the development of technology, computer is now indispensable to life. Some people think that computer is good for children and it should be used daily by children but some others think differently. In my opinion, the latter opinion is true.\\nFirst, using computer constantly has bad influence on children's eyes. When they concentrate on computer for too long, their eyes will get tired, which is the main reason for some eyes problems, typically shortsighted.\\nMoreover, children who play games too much on computer can seriously lack communicating skills, they will know little about the outside life. It is a well-known fact that people who are addicted to games, especially online games, can eventually bear dangerous consequences. For instance, several teenagers play games without rest, which leads to health depression, a typical example is the death of Korean gamer, who had a non-stop playing for 3 days.\\nFinally, even people who are not interested in online game can still be negatively affected by using computer too much. Some social surveys have shown that a few children use computer for studying purpose, most of them are attracted by facebook, blog, etc. instead. Due to this neglect, they will have a bad result in school because when they can not live without internet, they will have no time for their studying.\\nIn conclusion, although it is undeniable that computer is a crucial part of human life, it still has its bad side, especially for children. People should learn how to use it properly to make it an effective tool because computer should be used not only for entertaining but also for working and studying purpose.\\n\""
      ]
     },
     "execution_count": 63,
     "metadata": {},
     "output_type": "execute_result"
    }
   ],
   "source": [
    "input_text"
   ]
  },
  {
   "cell_type": "code",
   "execution_count": null,
   "id": "a9391a41",
   "metadata": {},
   "outputs": [],
   "source": []
  },
  {
   "cell_type": "code",
   "execution_count": 64,
   "id": "09259cd7",
   "metadata": {},
   "outputs": [
    {
     "data": {
      "text/plain": [
       "'Some important characteristics of a co-worker\\n\\nAt work, you meet people with diverse backgrounds and you are required to maintain sound relationships with many of them in order to have a pleasant work environment. However, the relationship you need to maintain with your co-worker is the most important one since he or she is the person who works very closely with you, and in most instances you have to rely on him or her. Therefore in my view, a good co-worker needs to have three most important characteristics such as cooperation, trustworthiness, and fellowship.\\nThe co-workers should be cooperative with one another. If they do not cooperate, there will be lots of disputes. I once had a co-worker who was too family conscious. Therefore he always left office sharp on time without giving any consideration whether the work has been finished or not. Most of the time, I had to do his work in order to protect him from getting caught to the supervisor who was a very authoritative person. However, one day I wanted to be off early because I had to take my mother to the doctor. When I requested my co-worker to give a helping hand to finish my work early, he turned down my request giving a silly excuse. From that day onwards I did not offer him any support and finally he was transferred from our department to a distant location as a punishment for his irresponsibility. Therefore, I believe if the co-workers do not corporate with each other that would be devastating in a work environment.\\nThe co-workers need to trust each other. They should not act on suspicion. This is a very important aspect in the work environment. I came across a situation once such that one of my subordinates used to suspect his co-worker for carrying tales to me. To a certain extent his suspicion was valid as his co-worker made several attempts to highlight the drawbacks of him. However I never encourage tale carriers as a principle and therefore his co-worker gave up talking ill against him with me. But this mistrust continued and created very unpleasant situations for everybody in my department. \\nFinally, the co-workers should believe in fellowship. This helps them to enjoy their work life while building up very strong personal relationships. After all, you spend most of your day at office. If you have a good company in office, it is certainly a blessing.'"
      ]
     },
     "execution_count": 64,
     "metadata": {},
     "output_type": "execute_result"
    }
   ],
   "source": [
    "essays['text'].iloc[201]\n"
   ]
  },
  {
   "cell_type": "code",
   "execution_count": 65,
   "id": "7bcc1017",
   "metadata": {},
   "outputs": [
    {
     "data": {
      "text/html": [
       "<div>\n",
       "<style scoped>\n",
       "    .dataframe tbody tr th:only-of-type {\n",
       "        vertical-align: middle;\n",
       "    }\n",
       "\n",
       "    .dataframe tbody tr th {\n",
       "        vertical-align: top;\n",
       "    }\n",
       "\n",
       "    .dataframe thead th {\n",
       "        text-align: right;\n",
       "    }\n",
       "</style>\n",
       "<table border=\"1\" class=\"dataframe\">\n",
       "  <thead>\n",
       "    <tr style=\"text-align: right;\">\n",
       "      <th></th>\n",
       "      <th>ADU_index</th>\n",
       "      <th>ADU</th>\n",
       "      <th>essay_id</th>\n",
       "      <th>label</th>\n",
       "      <th>start_ind</th>\n",
       "      <th>end_ind</th>\n",
       "      <th>claim_type</th>\n",
       "      <th>ADU_text</th>\n",
       "    </tr>\n",
       "  </thead>\n",
       "  <tbody>\n",
       "    <tr>\n",
       "      <th>0</th>\n",
       "      <td>T1</td>\n",
       "      <td>MajorClaim 503 575\\twe should attach more impo...</td>\n",
       "      <td>essay001</td>\n",
       "      <td>train</td>\n",
       "      <td>503</td>\n",
       "      <td>575</td>\n",
       "      <td>MajorClaim</td>\n",
       "      <td>we should attach more importance to cooperatio...</td>\n",
       "    </tr>\n",
       "    <tr>\n",
       "      <th>1</th>\n",
       "      <td>T2</td>\n",
       "      <td>MajorClaim 2154 2231\\ta more cooperative attit...</td>\n",
       "      <td>essay001</td>\n",
       "      <td>train</td>\n",
       "      <td>2154</td>\n",
       "      <td>2231</td>\n",
       "      <td>MajorClaim</td>\n",
       "      <td>a more cooperative attitudes towards life is m...</td>\n",
       "    </tr>\n",
       "    <tr>\n",
       "      <th>2</th>\n",
       "      <td>T3</td>\n",
       "      <td>Claim 591 714\\tthrough cooperation, children c...</td>\n",
       "      <td>essay001</td>\n",
       "      <td>train</td>\n",
       "      <td>591</td>\n",
       "      <td>714</td>\n",
       "      <td>Claim</td>\n",
       "      <td>through cooperation, children can learn about ...</td>\n",
       "    </tr>\n",
       "    <tr>\n",
       "      <th>3</th>\n",
       "      <td>T4</td>\n",
       "      <td>Premise 716 851\\tWhat we acquired from team wo...</td>\n",
       "      <td>essay001</td>\n",
       "      <td>train</td>\n",
       "      <td>716</td>\n",
       "      <td>851</td>\n",
       "      <td>Premise</td>\n",
       "      <td>What we acquired from team work is not only ho...</td>\n",
       "    </tr>\n",
       "    <tr>\n",
       "      <th>4</th>\n",
       "      <td>T5</td>\n",
       "      <td>Premise 853 1086\\tDuring the process of cooper...</td>\n",
       "      <td>essay001</td>\n",
       "      <td>train</td>\n",
       "      <td>853</td>\n",
       "      <td>1086</td>\n",
       "      <td>Premise</td>\n",
       "      <td>During the process of cooperation, children ca...</td>\n",
       "    </tr>\n",
       "    <tr>\n",
       "      <th>5</th>\n",
       "      <td>T6</td>\n",
       "      <td>Premise 1088 1191\\tAll of these skills help th...</td>\n",
       "      <td>essay001</td>\n",
       "      <td>train</td>\n",
       "      <td>1088</td>\n",
       "      <td>1191</td>\n",
       "      <td>Premise</td>\n",
       "      <td>All of these skills help them to get on well w...</td>\n",
       "    </tr>\n",
       "    <tr>\n",
       "      <th>6</th>\n",
       "      <td>T7</td>\n",
       "      <td>Claim 1332 1376\\tcompetition makes the society...</td>\n",
       "      <td>essay001</td>\n",
       "      <td>train</td>\n",
       "      <td>1332</td>\n",
       "      <td>1376</td>\n",
       "      <td>Claim</td>\n",
       "      <td>competition makes the society more effective</td>\n",
       "    </tr>\n",
       "    <tr>\n",
       "      <th>7</th>\n",
       "      <td>T8</td>\n",
       "      <td>Premise 1212 1301\\tthe significance of competi...</td>\n",
       "      <td>essay001</td>\n",
       "      <td>train</td>\n",
       "      <td>1212</td>\n",
       "      <td>1301</td>\n",
       "      <td>Premise</td>\n",
       "      <td>the significance of competition is that how to...</td>\n",
       "    </tr>\n",
       "    <tr>\n",
       "      <th>8</th>\n",
       "      <td>T9</td>\n",
       "      <td>Premise 1387 1492\\twhen we consider about the ...</td>\n",
       "      <td>essay001</td>\n",
       "      <td>train</td>\n",
       "      <td>1387</td>\n",
       "      <td>1492</td>\n",
       "      <td>Premise</td>\n",
       "      <td>when we consider about the question that how t...</td>\n",
       "    </tr>\n",
       "    <tr>\n",
       "      <th>9</th>\n",
       "      <td>T10</td>\n",
       "      <td>Premise 1549 1846\\tTake Olympic games which is...</td>\n",
       "      <td>essay001</td>\n",
       "      <td>train</td>\n",
       "      <td>1549</td>\n",
       "      <td>1846</td>\n",
       "      <td>Premise</td>\n",
       "      <td>Take Olympic games which is a form of competit...</td>\n",
       "    </tr>\n",
       "    <tr>\n",
       "      <th>10</th>\n",
       "      <td>T11</td>\n",
       "      <td>Claim 1927 1992\\twithout the cooperation, ther...</td>\n",
       "      <td>essay001</td>\n",
       "      <td>train</td>\n",
       "      <td>1927</td>\n",
       "      <td>1992</td>\n",
       "      <td>Claim</td>\n",
       "      <td>without the cooperation, there would be no vic...</td>\n",
       "    </tr>\n",
       "  </tbody>\n",
       "</table>\n",
       "</div>"
      ],
      "text/plain": [
       "   ADU_index                                                ADU  essay_id  \\\n",
       "0         T1  MajorClaim 503 575\\twe should attach more impo...  essay001   \n",
       "1         T2  MajorClaim 2154 2231\\ta more cooperative attit...  essay001   \n",
       "2         T3  Claim 591 714\\tthrough cooperation, children c...  essay001   \n",
       "3         T4  Premise 716 851\\tWhat we acquired from team wo...  essay001   \n",
       "4         T5  Premise 853 1086\\tDuring the process of cooper...  essay001   \n",
       "5         T6  Premise 1088 1191\\tAll of these skills help th...  essay001   \n",
       "6         T7  Claim 1332 1376\\tcompetition makes the society...  essay001   \n",
       "7         T8  Premise 1212 1301\\tthe significance of competi...  essay001   \n",
       "8         T9  Premise 1387 1492\\twhen we consider about the ...  essay001   \n",
       "9        T10  Premise 1549 1846\\tTake Olympic games which is...  essay001   \n",
       "10       T11  Claim 1927 1992\\twithout the cooperation, ther...  essay001   \n",
       "\n",
       "    label  start_ind  end_ind  claim_type  \\\n",
       "0   train        503      575  MajorClaim   \n",
       "1   train       2154     2231  MajorClaim   \n",
       "2   train        591      714       Claim   \n",
       "3   train        716      851     Premise   \n",
       "4   train        853     1086     Premise   \n",
       "5   train       1088     1191     Premise   \n",
       "6   train       1332     1376       Claim   \n",
       "7   train       1212     1301     Premise   \n",
       "8   train       1387     1492     Premise   \n",
       "9   train       1549     1846     Premise   \n",
       "10  train       1927     1992       Claim   \n",
       "\n",
       "                                             ADU_text  \n",
       "0   we should attach more importance to cooperatio...  \n",
       "1   a more cooperative attitudes towards life is m...  \n",
       "2   through cooperation, children can learn about ...  \n",
       "3   What we acquired from team work is not only ho...  \n",
       "4   During the process of cooperation, children ca...  \n",
       "5   All of these skills help them to get on well w...  \n",
       "6        competition makes the society more effective  \n",
       "7   the significance of competition is that how to...  \n",
       "8   when we consider about the question that how t...  \n",
       "9   Take Olympic games which is a form of competit...  \n",
       "10  without the cooperation, there would be no vic...  "
      ]
     },
     "execution_count": 65,
     "metadata": {},
     "output_type": "execute_result"
    }
   ],
   "source": [
    "adus[adus['essay_id'] == 'essay001']"
   ]
  },
  {
   "cell_type": "code",
   "execution_count": null,
   "id": "b94d39d1",
   "metadata": {},
   "outputs": [],
   "source": []
  },
  {
   "cell_type": "code",
   "execution_count": null,
   "id": "6040c299",
   "metadata": {},
   "outputs": [],
   "source": []
  },
  {
   "cell_type": "code",
   "execution_count": 78,
   "id": "497ae771",
   "metadata": {},
   "outputs": [
    {
     "data": {
      "text/plain": [
       "spacy.tokens.span.Span"
      ]
     },
     "execution_count": 78,
     "metadata": {},
     "output_type": "execute_result"
    }
   ],
   "source": [
    "text = \"This is a sentence.. This is another sentence.\"\n",
    "\n",
    "doc = nlp(text)\n",
    "\n",
    "type(doc)\n"
   ]
  },
  {
   "cell_type": "code",
   "execution_count": 71,
   "id": "37b0f7fa",
   "metadata": {},
   "outputs": [
    {
     "data": {
      "text/plain": [
       "0"
      ]
     },
     "execution_count": 71,
     "metadata": {},
     "output_type": "execute_result"
    }
   ],
   "source": [
    "s = segmentation(doc, \"sentence\")\n",
    "\n",
    "s[0]._.num_punct"
   ]
  },
  {
   "cell_type": "code",
   "execution_count": 176,
   "id": "8dbef9a4",
   "metadata": {},
   "outputs": [
    {
     "data": {
      "text/html": [
       "<div>\n",
       "<style scoped>\n",
       "    .dataframe tbody tr th:only-of-type {\n",
       "        vertical-align: middle;\n",
       "    }\n",
       "\n",
       "    .dataframe tbody tr th {\n",
       "        vertical-align: top;\n",
       "    }\n",
       "\n",
       "    .dataframe thead th {\n",
       "        text-align: right;\n",
       "    }\n",
       "</style>\n",
       "<table border=\"1\" class=\"dataframe\">\n",
       "  <thead>\n",
       "    <tr style=\"text-align: right;\">\n",
       "      <th></th>\n",
       "      <th>ADU_index</th>\n",
       "      <th>ADU</th>\n",
       "      <th>essay_id</th>\n",
       "      <th>label</th>\n",
       "      <th>start_ind</th>\n",
       "      <th>end_ind</th>\n",
       "      <th>claim_type</th>\n",
       "      <th>ADU_text</th>\n",
       "    </tr>\n",
       "  </thead>\n",
       "  <tbody>\n",
       "    <tr>\n",
       "      <th>0</th>\n",
       "      <td>T1</td>\n",
       "      <td>MajorClaim 503 575\\twe should attach more impo...</td>\n",
       "      <td>essay001</td>\n",
       "      <td>train</td>\n",
       "      <td>503</td>\n",
       "      <td>575</td>\n",
       "      <td>MajorClaim</td>\n",
       "      <td>we should attach more importance to cooperatio...</td>\n",
       "    </tr>\n",
       "    <tr>\n",
       "      <th>1</th>\n",
       "      <td>T2</td>\n",
       "      <td>MajorClaim 2154 2231\\ta more cooperative attit...</td>\n",
       "      <td>essay001</td>\n",
       "      <td>train</td>\n",
       "      <td>2154</td>\n",
       "      <td>2231</td>\n",
       "      <td>MajorClaim</td>\n",
       "      <td>a more cooperative attitudes towards life is m...</td>\n",
       "    </tr>\n",
       "    <tr>\n",
       "      <th>2</th>\n",
       "      <td>T3</td>\n",
       "      <td>Claim 591 714\\tthrough cooperation, children c...</td>\n",
       "      <td>essay001</td>\n",
       "      <td>train</td>\n",
       "      <td>591</td>\n",
       "      <td>714</td>\n",
       "      <td>Claim</td>\n",
       "      <td>through cooperation, children can learn about ...</td>\n",
       "    </tr>\n",
       "    <tr>\n",
       "      <th>3</th>\n",
       "      <td>T4</td>\n",
       "      <td>Premise 716 851\\tWhat we acquired from team wo...</td>\n",
       "      <td>essay001</td>\n",
       "      <td>train</td>\n",
       "      <td>716</td>\n",
       "      <td>851</td>\n",
       "      <td>Premise</td>\n",
       "      <td>What we acquired from team work is not only ho...</td>\n",
       "    </tr>\n",
       "    <tr>\n",
       "      <th>4</th>\n",
       "      <td>T5</td>\n",
       "      <td>Premise 853 1086\\tDuring the process of cooper...</td>\n",
       "      <td>essay001</td>\n",
       "      <td>train</td>\n",
       "      <td>853</td>\n",
       "      <td>1086</td>\n",
       "      <td>Premise</td>\n",
       "      <td>During the process of cooperation, children ca...</td>\n",
       "    </tr>\n",
       "    <tr>\n",
       "      <th>...</th>\n",
       "      <td>...</td>\n",
       "      <td>...</td>\n",
       "      <td>...</td>\n",
       "      <td>...</td>\n",
       "      <td>...</td>\n",
       "      <td>...</td>\n",
       "      <td>...</td>\n",
       "      <td>...</td>\n",
       "    </tr>\n",
       "    <tr>\n",
       "      <th>6084</th>\n",
       "      <td>T11</td>\n",
       "      <td>Premise 1275 1339\\tindirectly they will learn ...</td>\n",
       "      <td>essay402</td>\n",
       "      <td>train</td>\n",
       "      <td>1275</td>\n",
       "      <td>1339</td>\n",
       "      <td>Premise</td>\n",
       "      <td>indirectly they will learn how to socialize ea...</td>\n",
       "    </tr>\n",
       "    <tr>\n",
       "      <th>6085</th>\n",
       "      <td>T12</td>\n",
       "      <td>Premise 1341 1388\\tThat will make children get...</td>\n",
       "      <td>essay402</td>\n",
       "      <td>train</td>\n",
       "      <td>1341</td>\n",
       "      <td>1388</td>\n",
       "      <td>Premise</td>\n",
       "      <td>That will make children getting lots of friends</td>\n",
       "    </tr>\n",
       "    <tr>\n",
       "      <th>6086</th>\n",
       "      <td>T13</td>\n",
       "      <td>Premise 1393 1436\\tthey can contribute positiv...</td>\n",
       "      <td>essay402</td>\n",
       "      <td>train</td>\n",
       "      <td>1393</td>\n",
       "      <td>1436</td>\n",
       "      <td>Premise</td>\n",
       "      <td>they can contribute positively to community</td>\n",
       "    </tr>\n",
       "    <tr>\n",
       "      <th>6087</th>\n",
       "      <td>T14</td>\n",
       "      <td>Premise 1448 1525\\tplaying sport makes childre...</td>\n",
       "      <td>essay402</td>\n",
       "      <td>train</td>\n",
       "      <td>1448</td>\n",
       "      <td>1525</td>\n",
       "      <td>Premise</td>\n",
       "      <td>playing sport makes children getting healthy a...</td>\n",
       "    </tr>\n",
       "    <tr>\n",
       "      <th>6088</th>\n",
       "      <td>T15</td>\n",
       "      <td>Claim 916 965\\tplaying sports will give good e...</td>\n",
       "      <td>essay402</td>\n",
       "      <td>train</td>\n",
       "      <td>916</td>\n",
       "      <td>965</td>\n",
       "      <td>Claim</td>\n",
       "      <td>playing sports will give good effects on children</td>\n",
       "    </tr>\n",
       "  </tbody>\n",
       "</table>\n",
       "<p>6089 rows × 8 columns</p>\n",
       "</div>"
      ],
      "text/plain": [
       "     ADU_index                                                ADU  essay_id  \\\n",
       "0           T1  MajorClaim 503 575\\twe should attach more impo...  essay001   \n",
       "1           T2  MajorClaim 2154 2231\\ta more cooperative attit...  essay001   \n",
       "2           T3  Claim 591 714\\tthrough cooperation, children c...  essay001   \n",
       "3           T4  Premise 716 851\\tWhat we acquired from team wo...  essay001   \n",
       "4           T5  Premise 853 1086\\tDuring the process of cooper...  essay001   \n",
       "...        ...                                                ...       ...   \n",
       "6084       T11  Premise 1275 1339\\tindirectly they will learn ...  essay402   \n",
       "6085       T12  Premise 1341 1388\\tThat will make children get...  essay402   \n",
       "6086       T13  Premise 1393 1436\\tthey can contribute positiv...  essay402   \n",
       "6087       T14  Premise 1448 1525\\tplaying sport makes childre...  essay402   \n",
       "6088       T15  Claim 916 965\\tplaying sports will give good e...  essay402   \n",
       "\n",
       "      label  start_ind  end_ind  claim_type  \\\n",
       "0     train        503      575  MajorClaim   \n",
       "1     train       2154     2231  MajorClaim   \n",
       "2     train        591      714       Claim   \n",
       "3     train        716      851     Premise   \n",
       "4     train        853     1086     Premise   \n",
       "...     ...        ...      ...         ...   \n",
       "6084  train       1275     1339     Premise   \n",
       "6085  train       1341     1388     Premise   \n",
       "6086  train       1393     1436     Premise   \n",
       "6087  train       1448     1525     Premise   \n",
       "6088  train        916      965       Claim   \n",
       "\n",
       "                                               ADU_text  \n",
       "0     we should attach more importance to cooperatio...  \n",
       "1     a more cooperative attitudes towards life is m...  \n",
       "2     through cooperation, children can learn about ...  \n",
       "3     What we acquired from team work is not only ho...  \n",
       "4     During the process of cooperation, children ca...  \n",
       "...                                                 ...  \n",
       "6084  indirectly they will learn how to socialize ea...  \n",
       "6085    That will make children getting lots of friends  \n",
       "6086        they can contribute positively to community  \n",
       "6087  playing sport makes children getting healthy a...  \n",
       "6088  playing sports will give good effects on children  \n",
       "\n",
       "[6089 rows x 8 columns]"
      ]
     },
     "execution_count": 176,
     "metadata": {},
     "output_type": "execute_result"
    }
   ],
   "source": [
    "adus"
   ]
  },
  {
   "cell_type": "code",
   "execution_count": 183,
   "id": "3aeebba4",
   "metadata": {},
   "outputs": [],
   "source": [
    "adus24 = adus[adus['essay_id']=='essay024']['ADU_text']"
   ]
  },
  {
   "cell_type": "code",
   "execution_count": 185,
   "id": "1bacf7e1",
   "metadata": {},
   "outputs": [
    {
     "name": "stdout",
     "output_type": "stream",
     "text": [
      "it still has its bad side, especially for children\n",
      "it is undeniable that computer is a crucial part of human life\n",
      "using computer constantly has bad influence on children's eyes\n",
      "When they concentrate on computer for too long, their eyes will get tired, which is the main reason for some eyes problems, typically shortsighted\n",
      "children who play games too much on computer can seriously lack communicating skills\n",
      "people who are addicted to games, especially online games, can eventually bear dangerous consequences\n",
      "several teenagers play games without rest, which leads to health depression\n",
      "a typical example is the death of Korean gamer, who had a non-stop playing for 3 days\n",
      "even people who are not interested in online game can still be negatively affected by using computer too much\n",
      "Some social surveys have shown that a few children use computer for studying purpose, most of them are attracted by facebook, blog, etc. instead\n",
      "they will have a bad result in school\n",
      "when they can not live without internet, they will have no time for their studying\n",
      "they will know little about the outside life\n"
     ]
    }
   ],
   "source": [
    "for adu_text in adus24:\n",
    "    print(adu_text)"
   ]
  },
  {
   "cell_type": "code",
   "execution_count": 191,
   "id": "80607086",
   "metadata": {},
   "outputs": [
    {
     "name": "stdout",
     "output_type": "stream",
     "text": [
      "Not-ADU Computer has negative effects to children\n",
      "\n",
      "Nowadays, thanks to the development of technology, computer is now indispensable to life. \n",
      "\n",
      "Not-ADU Some people think that computer is good for children and it should be used daily by children but some others think differently. \n",
      "\n",
      "Not-ADU In my opinion, the latter opinion is true. \n",
      "\n",
      "ADU \n",
      "First, using computer constantly has bad influence on children's eyes. \n",
      "\n",
      "ADU When they concentrate on computer for too long, their eyes will get tired, which is the main reason for some eyes problems, typically shortsighted. \n",
      "\n",
      "ADU \n",
      "Moreover, children who play games too much on computer can seriously lack communicating skills, they will know little about the outside life. \n",
      "\n",
      "ADU It is a well-known fact that people who are addicted to games, especially online games, can eventually bear dangerous consequences. \n",
      "\n",
      "ADU For instance, several teenagers play games without rest, which leads to health depression, a typical example is the death of Korean gamer, who had a non-stop playing for 3 days. \n",
      "\n",
      "ADU \n",
      "Finally, even people who are not interested in online game can still be negatively affected by using computer too much. \n",
      "\n",
      "ADU Some social surveys have shown that a few children use computer for studying purpose, most of them are attracted by facebook, blog, etc. instead. \n",
      "\n",
      "ADU Due to this neglect, they will have a bad result in school because when they can not live without internet, they will have no time for their studying. \n",
      "\n",
      "ADU In conclusion, although it is undeniable that computer is a crucial part of human life, it still has its bad side, especially for children. \n",
      "\n",
      "Not-ADU People should learn how to use it properly to make it an effective tool because computer should be used not only for entertaining but also for working and studying purpose. \n",
      "\n"
     ]
    }
   ],
   "source": [
    "for unit in units:\n",
    "    adu = False\n",
    "    for adu_text in adus24:\n",
    "        if adu_text in unit.text:\n",
    "            adu=True\n",
    "    \n",
    "    lb = \"ADU\" if adu else \"Not-ADU\"\n",
    "    print(lb, unit, \"\\n\")"
   ]
  },
  {
   "cell_type": "code",
   "execution_count": 192,
   "id": "6f64c6c7",
   "metadata": {},
   "outputs": [
    {
     "data": {
      "text/plain": [
       "Computer has negative effects to children\n",
       "\n",
       "Nowadays, thanks to the development of technology, computer is now indispensable to life."
      ]
     },
     "execution_count": 192,
     "metadata": {},
     "output_type": "execute_result"
    }
   ],
   "source": [
    "units[0]._.label"
   ]
  },
  {
   "cell_type": "code",
   "execution_count": null,
   "id": "07636982",
   "metadata": {},
   "outputs": [],
   "source": []
  }
 ],
 "metadata": {
  "kernelspec": {
   "display_name": "Python 3 (ipykernel)",
   "language": "python",
   "name": "python3"
  },
  "language_info": {
   "codemirror_mode": {
    "name": "ipython",
    "version": 3
   },
   "file_extension": ".py",
   "mimetype": "text/x-python",
   "name": "python",
   "nbconvert_exporter": "python",
   "pygments_lexer": "ipython3",
   "version": "3.9.7"
  }
 },
 "nbformat": 4,
 "nbformat_minor": 5
}
