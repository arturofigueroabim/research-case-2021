{
 "cells": [
  {
   "cell_type": "code",
   "execution_count": 1,
   "id": "59a7bd46",
   "metadata": {
    "ExecuteTime": {
     "end_time": "2022-01-20T21:58:11.746418Z",
     "start_time": "2022-01-20T21:58:07.524220Z"
    }
   },
   "outputs": [],
   "source": [
    "import numpy as np\n",
    "import pandas as pd\n",
    "import spacy\n",
    "from spacy.tokens import Doc, Span, Token\n",
    "nlp = spacy.load(\"en_core_web_md\")\n",
    "import re\n",
    "\n",
    "from itertools import chain"
   ]
  },
  {
   "cell_type": "code",
   "execution_count": 2,
   "id": "97a65bbf",
   "metadata": {
    "ExecuteTime": {
     "end_time": "2022-01-20T21:58:11.756429Z",
     "start_time": "2022-01-20T21:58:11.748403Z"
    }
   },
   "outputs": [],
   "source": [
    "from spacy import displacy\n",
    "import deplacy"
   ]
  },
  {
   "cell_type": "code",
   "execution_count": 3,
   "id": "e3449821",
   "metadata": {
    "ExecuteTime": {
     "end_time": "2022-01-20T21:58:11.854512Z",
     "start_time": "2022-01-20T21:58:11.757411Z"
    }
   },
   "outputs": [],
   "source": [
    "doc_features = ['num_tokens', 'para_starts']\n",
    "span_features = ['word_emb', 'num_tokens', 'num_verbs', 'num_pos_pronouns', 'num_conj_adv', 'num_punct', 'is_para_start',\n",
    "                 'index_in_doc']\n",
    "\n",
    "# getters that are not used as features\n",
    "span_utilities = ['prev_unit', 'label']\n",
    "# methods\n",
    "span_methods = ['get_nth_unit', 'get_prev_unit_attr']\n",
    "token_features =['word_emb']\n",
    "\n",
    "\n",
    "\n",
    "extensions_dict = dict(doc_features=doc_features, span_features=span_features+span_utilities,\n",
    "                       token_features=token_features, span_methods=span_methods)\n",
    "\n",
    "\n",
    "\n",
    "\n",
    "\n",
    "def create_extensions(extensions_dict=None, force=True):\n",
    "    \n",
    "    # Features that take 'unit' as input refer to the segmentation, they do not work with just any span.\n",
    "    \n",
    "    # Property attributes\n",
    "    \n",
    "    # Store starting and ending indices of spans in the whole doc\n",
    "    # 1 list per each document: [(s1_start, s1_end), (s2_start, s2_end),.., (sn_start, sn_end)]\n",
    "    Doc.set_extension(\"units_index_list\", default=[],force=True)\n",
    "    \n",
    "    # Store essay_id within doc\n",
    "    Doc.set_extension(\"essay_id\", default=None, force=True)\n",
    "    \n",
    "    \n",
    "    \n",
    "    # Feature Getters\n",
    "    \n",
    "    def get_label(span):\n",
    "        \n",
    "        # Gets ADU vs non-ADU LABEL for the span (intended only for sentences)\n",
    "\n",
    "        # Works if the span is larger or equal to the adu\n",
    "\n",
    "        # TODO:\n",
    "        # DOES NOT WORK IF SPAN IS SMALLER THAN ADU, OR IF ADU IS SPLIT BETWEEN TWO SPANS (NEEDS MORE WORK!!!)\n",
    "        # CLAIM VS PREMISE\n",
    "        essay_id = span.doc._.essay_id\n",
    "\n",
    "        span_start = span[0].idx\n",
    "        span_end = span[-1].idx  + len(span[-1])\n",
    "        start_inds = adus[adus['essay_id'] == essay_id ]['start_ind'].values\n",
    "        end_inds = adus[adus['essay_id'] == essay_id ]['end_ind'].values\n",
    "\n",
    "        # Checks if starting index of span is smaller than ADU and the ending index of the span is larger than the ADU\n",
    "        return ((start_inds >= span_start) & (end_inds <= span_end)).any()\n",
    "    \n",
    "\n",
    "    \n",
    "    \n",
    "    def get_para_starts(doc):\n",
    "        # Units starting with \\n or preceding \\n are considered as paragraph starts\n",
    "        # if start is 0, start -1 goes back to the last token of the doc\n",
    "\n",
    "        # TODO\n",
    "        # para_ends can be obtained by shifing this list to the right by one position\n",
    "        return [int(doc[start].text =='\\n' or doc[start-1].text=='\\n') for start, end in doc._.units_index_list]\n",
    "    \n",
    "    def get_is_para_start(unit):\n",
    "        \n",
    "        para_starts = unit.doc._.para_starts\n",
    "        unit_ind = unit._.index_in_doc\n",
    "        \n",
    "        return para_starts[unit_ind]\n",
    "        \n",
    "    \n",
    "    def get_word_emb(obj):\n",
    "        return obj.vector\n",
    "    \n",
    "    def get_num_tokens(obj):\n",
    "        return len(obj)\n",
    "    \n",
    "    def get_num_verbs(span):\n",
    "        return sum([1 for token in span if token.pos_ == \"VERB\"])\n",
    "\n",
    "    def get_num_pos_pronouns(span):\n",
    "        return sum([1 for token in span if token.tag_ == \"PRP$\"])\n",
    "\n",
    "    def get_num_pron(span):\n",
    "        return sum([1 for token in span if token.pos_ == \"PRON\"])\n",
    "    \n",
    "    def get_num_conj_adv(span):\n",
    "        conj_advs = ['moreover', 'incidentally', 'next', 'yet', 'finally', 'then', 'for example', 'thus', 'accordingly', 'namely', 'meanwhile', 'that is', 'also', 'undoubtedly', 'all in all', 'lately', 'hence', 'still', 'therefore', 'in addition', 'indeed', 'again', 'so', 'nevertheless', 'besides', 'instead', 'for instance', 'certainly', 'however', 'anyway', 'further', 'furthermore', 'similarly', 'now', 'in conclusion', 'nonetheless', 'thereafter', 'likewise', 'otherwise', 'consequently']\n",
    "        return sum([len(re.findall(adv, span.text.lower())) for adv in conj_advs])\n",
    "    \n",
    "    def get_num_punct(span):\n",
    "        return sum([1 for token in span if token.tag_ == \".\"])\n",
    "    \n",
    "\n",
    "    def get_index_in_doc(span):\n",
    "        \"\"\"Gets index of the segmented unit in the doc\"\"\"\n",
    "        span_start = span.start\n",
    "\n",
    "        # span end not used yet\n",
    "        span_end = span.end\n",
    "\n",
    "        # finds where span_start is in units_index_list [(s1_start, s1_end), (s2_start, s2_end),.., (sn_start, sn_end)]\n",
    "        # returns the index of the corresponding span\n",
    "        return np.where([span.start in range(start, end) for start, end in span.doc._.units_index_list])[0][-1]\n",
    "\n",
    "\n",
    "    def get_prev_unit(span):\n",
    "\n",
    "        return span._.get_nth_unit(span._.index_in_doc-1)\n",
    "    \n",
    "        \n",
    "    def get_nth_unit(span, n):\n",
    "\n",
    "        # Tuple containing the start and end index of the nth span\n",
    "        span_index = span.doc._.units_index_list[n]\n",
    "\n",
    "        # Return nth span\n",
    "        return span.doc[span_index[0]: span_index[1]]\n",
    "\n",
    "\n",
    "\n",
    "    def get_prev_unit_attr(span, attribute):\n",
    "\n",
    "        return span._.prev_unit._.get(attribute)\n",
    "    \n",
    "    \n",
    "\n",
    "    # Iterate list of features and Set Extensions (Just to not manually set extensions one by one)\n",
    "    \n",
    "    for feature in extensions_dict['doc_features']:\n",
    "        Doc.set_extension(feature, force=force, getter=locals()[f\"get_{feature}\"])\n",
    "        \n",
    "    for feature in extensions_dict['span_features']:\n",
    "        Span.set_extension(feature, force=force, getter=locals()[f\"get_{feature}\"])\n",
    "        \n",
    "    for feature in extensions_dict['token_features']:\n",
    "        Token.set_extension(feature, force=force, getter=locals()[f\"get_{feature}\"])\n",
    "        \n",
    "    for method in extensions_dict['span_methods']:\n",
    "        Span.set_extension(method, force=force, method=locals()[method])\n",
    "\n",
    "\n",
    "def segmentation(doc=None ,mode = 'sentence'):\n",
    "    if mode=='paragraph':\n",
    "        pass\n",
    "    if mode=='sentence':\n",
    "        # segment by sentences\n",
    "        units = [sent for sent in doc.sents  if not (sent.text.isspace() or sent.text =='')] \n",
    "        \n",
    "        # keep track of (start, end) of units in doc object\n",
    "        doc._.units_index_list = [(unit.start, unit.end) for unit in units]\n",
    "        return units\n",
    "    \n",
    "    if mode =='avg_n_grams':\n",
    "        # Code to segment with 15 grams here (average)    \n",
    "        pass\n",
    "    if mode=='clause':\n",
    "        # Code to segment by clause\n",
    "        pass\n",
    "    if mode=='token':\n",
    "        return [token for token in doc if not (token.text.isspace() or token.text =='')]\n",
    "\n",
    "def unit2fv(unit, feature_list):\n",
    "    \n",
    "    fv = np.array([unit._.get(feature) for feature in feature_list], dtype='object')\n",
    "    \n",
    "    _fv = np.array([np.reshape(feature, -1) for feature in fv], dtype='object')\n",
    "    \n",
    "    return np.concatenate(_fv)\n",
    "\n",
    "# Run\n",
    "create_extensions(extensions_dict)   \n"
   ]
  },
  {
   "cell_type": "code",
   "execution_count": 4,
   "id": "b78f8b89",
   "metadata": {
    "ExecuteTime": {
     "end_time": "2022-01-20T21:58:11.860513Z",
     "start_time": "2022-01-20T21:58:11.856510Z"
    }
   },
   "outputs": [],
   "source": [
    "# Optional, not used yet. Trying to solve problem that title gets included with the first sentence\n",
    "def add_full_stops(text):\n",
    "    \"\"\"adds full stops to texts that end with \\n missing full stops\"\"\"\n",
    "    return re.sub(\"\\n+(?!\\.)\",'.\\n', text)\n",
    "# Not used\n",
    "def text2doc(text):\n",
    "    # need to use nlp.pipe here instead\n",
    "    return nlp(text)"
   ]
  },
  {
   "cell_type": "code",
   "execution_count": 5,
   "id": "800d067c",
   "metadata": {
    "ExecuteTime": {
     "end_time": "2022-01-20T21:58:11.904513Z",
     "start_time": "2022-01-20T21:58:11.861511Z"
    }
   },
   "outputs": [],
   "source": [
    "# INPUTS \n",
    "essays = pd.read_csv(\"../data/output_csv/essays.csv\")\n",
    "adus = pd.read_csv(\"../data/output_csv/adus.csv\")"
   ]
  },
  {
   "cell_type": "code",
   "execution_count": 6,
   "id": "771b3418",
   "metadata": {
    "ExecuteTime": {
     "end_time": "2022-01-20T21:58:11.907514Z",
     "start_time": "2022-01-20T21:58:11.905515Z"
    }
   },
   "outputs": [],
   "source": [
    "####### TEST\n",
    "# in_text = essays.iloc[23].text\n",
    "# doc = nlp(in_text)\n",
    "# units=segmentation(doc)\n",
    "# doc._.para_starts"
   ]
  },
  {
   "cell_type": "code",
   "execution_count": 7,
   "id": "3830e6c4",
   "metadata": {
    "ExecuteTime": {
     "end_time": "2022-01-20T21:58:11.915515Z",
     "start_time": "2022-01-20T21:58:11.908514Z"
    }
   },
   "outputs": [],
   "source": [
    "# Pipelinev1\n",
    "\n",
    "def text2fv(df):\n",
    "    data = [(row['text'], dict(id=row['essay_id'])) for ind, row in df.iterrows()]\n",
    "    docs = []\n",
    "    data\n",
    "    for doc, context in nlp.pipe(data, as_tuples=True):\n",
    "        doc._.essay_id = context['id']\n",
    "        docs.append(doc)\n",
    "        \n",
    "    segmented_docs = [segmentation(doc, mode='sentence') for doc in docs]\n",
    "    \n",
    "    # Flatten lists (Dissolve docs boundaries and store all units together in one huge list)\n",
    "    units = list(chain.from_iterable(segmented_docs))\n",
    "    \n",
    "    X_features = span_features\n",
    "    \n",
    "\n",
    "    X = np.array([unit2fv(unit, X_features) for unit in units])\n",
    "    y = np.array([int(unit._.label) for unit in units])\n",
    "    \n",
    "    return X,y "
   ]
  },
  {
   "cell_type": "code",
   "execution_count": 8,
   "id": "db74011e",
   "metadata": {
    "ExecuteTime": {
     "end_time": "2022-01-20T21:58:16.461653Z",
     "start_time": "2022-01-20T21:58:11.916516Z"
    }
   },
   "outputs": [],
   "source": [
    "train = essays[essays['label'] =='train']\n",
    "test =essays[essays['label'] =='test']\n",
    "\n",
    "X_train, y_train = text2fv(train)\n",
    "\n",
    "X_test, y_test = text2fv(test)\n",
    "\n"
   ]
  },
  {
   "cell_type": "markdown",
   "id": "637d8acc",
   "metadata": {},
   "source": [
    "# Classification"
   ]
  },
  {
   "cell_type": "code",
   "execution_count": 9,
   "id": "b388630d",
   "metadata": {
    "ExecuteTime": {
     "end_time": "2022-01-20T21:58:16.774676Z",
     "start_time": "2022-01-20T21:58:16.462655Z"
    }
   },
   "outputs": [],
   "source": [
    "from sklearn.linear_model import LogisticRegression\n",
    "from sklearn.metrics import confusion_matrix, classification_report"
   ]
  },
  {
   "cell_type": "code",
   "execution_count": 10,
   "id": "a9fd3284",
   "metadata": {
    "ExecuteTime": {
     "end_time": "2022-01-20T21:58:16.819681Z",
     "start_time": "2022-01-20T21:58:16.777676Z"
    }
   },
   "outputs": [
    {
     "data": {
      "text/plain": [
       "LogisticRegression(solver='newton-cg')"
      ]
     },
     "execution_count": 10,
     "metadata": {},
     "output_type": "execute_result"
    }
   ],
   "source": [
    "logreg = LogisticRegression(solver='newton-cg')\n",
    "logreg.fit(X_train, y_train)\n"
   ]
  },
  {
   "cell_type": "code",
   "execution_count": 11,
   "id": "5a65a24e",
   "metadata": {
    "ExecuteTime": {
     "end_time": "2022-01-20T21:58:16.833682Z",
     "start_time": "2022-01-20T21:58:16.820682Z"
    }
   },
   "outputs": [
    {
     "name": "stdout",
     "output_type": "stream",
     "text": [
      "              precision    recall  f1-score   support\n",
      "\n",
      "           0       0.61      0.35      0.45        85\n",
      "           1       0.84      0.94      0.89       318\n",
      "\n",
      "    accuracy                           0.82       403\n",
      "   macro avg       0.73      0.65      0.67       403\n",
      "weighted avg       0.80      0.82      0.80       403\n",
      "\n"
     ]
    }
   ],
   "source": [
    "preds_lr = logreg.predict(X_test)\n",
    "print(classification_report(y_test, preds_lr))"
   ]
  },
  {
   "cell_type": "code",
   "execution_count": 12,
   "id": "a54503cc",
   "metadata": {
    "ExecuteTime": {
     "end_time": "2022-01-20T21:58:16.895685Z",
     "start_time": "2022-01-20T21:58:16.835682Z"
    }
   },
   "outputs": [],
   "source": [
    "from sklearn.ensemble import RandomForestClassifier\n",
    "rf = RandomForestClassifier()"
   ]
  },
  {
   "cell_type": "code",
   "execution_count": 13,
   "id": "3d81b7f3",
   "metadata": {
    "ExecuteTime": {
     "end_time": "2022-01-20T21:58:17.050698Z",
     "start_time": "2022-01-20T21:58:16.896688Z"
    }
   },
   "outputs": [
    {
     "data": {
      "text/plain": [
       "RandomForestClassifier()"
      ]
     },
     "execution_count": 13,
     "metadata": {},
     "output_type": "execute_result"
    }
   ],
   "source": [
    "rf.fit(X_train, y_train)"
   ]
  },
  {
   "cell_type": "code",
   "execution_count": 14,
   "id": "e1fc039d",
   "metadata": {
    "ExecuteTime": {
     "end_time": "2022-01-20T21:58:17.074700Z",
     "start_time": "2022-01-20T21:58:17.052702Z"
    }
   },
   "outputs": [
    {
     "data": {
      "text/plain": [
       "array([[ 46,  39],\n",
       "       [ 22, 296]], dtype=int64)"
      ]
     },
     "execution_count": 14,
     "metadata": {},
     "output_type": "execute_result"
    }
   ],
   "source": [
    "preds = rf.predict(X_test)\n",
    "\n",
    "confusion_matrix(y_test, preds)"
   ]
  }
 ],
 "metadata": {
  "kernelspec": {
   "display_name": "Python 3 (ipykernel)",
   "language": "python",
   "name": "python3"
  },
  "language_info": {
   "codemirror_mode": {
    "name": "ipython",
    "version": 3
   },
   "file_extension": ".py",
   "mimetype": "text/x-python",
   "name": "python",
   "nbconvert_exporter": "python",
   "pygments_lexer": "ipython3",
   "version": "3.9.7"
  }
 },
 "nbformat": 4,
 "nbformat_minor": 5
}
