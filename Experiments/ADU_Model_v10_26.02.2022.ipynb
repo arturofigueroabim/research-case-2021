{
 "cells": [
  {
   "cell_type": "code",
   "execution_count": 13,
   "id": "0350e9ae",
   "metadata": {
    "ExecuteTime": {
     "end_time": "2022-02-26T17:03:33.361942Z",
     "start_time": "2022-02-26T17:03:27.872869Z"
    }
   },
   "outputs": [],
   "source": [
    "import numpy as np\n",
    "import pandas as pd\n",
    "import spacy\n",
    "from spacy.tokens import Doc, Span, Token\n",
    "import re\n",
    "import benepar\n",
    "\n",
    "nlp = spacy.load('en_core_web_md')\n",
    "nlp.add_pipe(\"benepar\", config={\"model\": \"benepar_en3\"})\n",
    "\n",
    "\n",
    "\n",
    "from itertools import chain"
   ]
  },
  {
   "cell_type": "code",
   "execution_count": 14,
   "id": "76e521c4",
   "metadata": {
    "ExecuteTime": {
     "end_time": "2022-02-26T17:03:33.376942Z",
     "start_time": "2022-02-26T17:03:33.363943Z"
    }
   },
   "outputs": [],
   "source": [
    "#from spacy import displacy\n",
    "#import deplacy"
   ]
  },
  {
   "cell_type": "code",
   "execution_count": 284,
   "id": "1ac0fbbb",
   "metadata": {
    "ExecuteTime": {
     "end_time": "2022-02-26T21:59:02.343952Z",
     "start_time": "2022-02-26T21:59:02.298542Z"
    }
   },
   "outputs": [],
   "source": [
    "doc_features = ['num_tokens', 'para_starts']\n",
    "span_features = ['word_emb', 'num_tokens', 'num_verbs', 'num_pos_pronouns', 'num_conj_adv', 'num_punct', 'is_para_start',\n",
    "                 'index_in_doc', 'num_claim_indicator', 'num_premise_indicator', 'has_question_mark', 'has_personal_pronoun',\n",
    "                 'has_possessive_pronoun', 'has_modal_verb', 'is_first_token_gerund', 'tree_depth']\n",
    "\n",
    "# getters that are not used as features\n",
    "span_utilities = ['prev_unit', 'idx_start', 'idx_end', ]\n",
    "# methods\n",
    "span_methods = ['get_nth_unit', 'get_prev_unit_attr', 'get_label_and_error', 'get_label_clpr', 'get_label']\n",
    "token_features =['word_emb']\n",
    "\n",
    "\n",
    "\n",
    "extensions_dict = dict(doc_features=doc_features, span_features=span_features+span_utilities,\n",
    "                       token_features=token_features, span_methods=span_methods)\n",
    "\n",
    "\n",
    "\n",
    "\n",
    "\n",
    "def create_extensions(extensions_dict=None, force=True):\n",
    "    \n",
    "    # Features that take 'unit' as input refer to the segmentation, they do not work with just any span.\n",
    "    \n",
    "    # Property attributes\n",
    "    \n",
    "    # Store starting and ending indices of spans in the whole doc\n",
    "    # 1 list per each document: [(s1_start, s1_end), (s2_start, s2_end),.., (sn_start, sn_end)]\n",
    "    Doc.set_extension(\"units_index_list\", default=[],force=True)\n",
    "    \n",
    "    # Store essay_id within doc\n",
    "    Doc.set_extension(\"essay_id\", default=None, force=True)\n",
    "\n",
    "    \n",
    "    # Feature Getters\n",
    "    def get_label_and_error(unit, error_function='percentage_correctness'):\n",
    "        \"\"\"\n",
    "        Inputs: unit\n",
    "\n",
    "        Outputs: label for the unit and segmentation error\n",
    "\n",
    "        \"\"\"\n",
    "\n",
    "        def overlap_case(unit_start, unit_end, adu_start, adu_end):\n",
    "            if adu_start >= unit_start and adu_end <= unit_end:\n",
    "                # Case 1, ADU is fully contained in UNIT\n",
    "                return 1\n",
    "\n",
    "            elif adu_start <= unit_start and adu_end <=unit_end and adu_end>=unit_start:\n",
    "\n",
    "                # Case 2, ADU starts before UNIT, start(Left) of ADU is cut\n",
    "                return 2\n",
    "\n",
    "            elif adu_start >= unit_start and adu_end >= unit_end and adu_start<unit_end:\n",
    "\n",
    "                # Case 3, ADU starts after UNIT, end(Right) of ADU is cut\n",
    "                return 3\n",
    "\n",
    "            elif adu_start < unit_start and adu_end > unit_end:\n",
    "\n",
    "                # Case 4, ADU starts before UNIT and ends after UNIT, both sides of ADU are cut\n",
    "                return 4\n",
    "\n",
    "            else: \n",
    "                # ADU does not overlap with UNIT\n",
    "                return False\n",
    "            \n",
    "\n",
    "        def percentage_correctness(unit, adu_start, adu_end, overlap_case):\n",
    "\n",
    "            if overlap_case==2:\n",
    "                adu_start = unit._.idx_start\n",
    "            elif overlap_case==3:\n",
    "                adu_end = unit._.idx_end\n",
    "            elif overlap_case==4:\n",
    "                adu_start = unit._.idx_start\n",
    "                adu_end = unit._.idx_end\n",
    "\n",
    "            adu = unit.doc.char_span(adu_start, adu_end, alignment_mode='expand')\n",
    "            \n",
    "\n",
    "            unit_ntokens = len(unit)\n",
    "            adu_ntokens = len(adu)\n",
    "            pct_correct = adu_ntokens/unit_ntokens\n",
    "            return pct_correct\n",
    "\n",
    "        def extended_accuracy(unit, adu_start, adu_end, overlap_case):\n",
    "            # Compares number of tokens to get the the correct ADU in proportional with UNIT length\n",
    "\n",
    "            if overlap_case==2:\n",
    "                adu_start = unit._.idx_start\n",
    "            if overlap_case==3:\n",
    "                adu_end = unit._.idx_end\n",
    "            adu = unit.doc.char_span(adu_start, adu_end, alignment_mode='expand')\n",
    "\n",
    "            unit_ntokens = len(unit)\n",
    "            adu_ntokens = len(adu)\n",
    "            diff_ntokens = np.abs(unit_ntokens - adu_ntokens)\n",
    "\n",
    "            return 1/((diff_ntokens+1)**(np.log2(diff_ntokens+1)/np.log2(unit_ntokens+1)))\n",
    "\n",
    "\n",
    "        if error_function.lower() == 'percentage_correctness':\n",
    "            err_func = percentage_correctness\n",
    "        elif error_function.lower() == 'extended_accuracy':\n",
    "            err_func = extended_accuracy\n",
    "        \n",
    "        unit_start = unit._.idx_start\n",
    "        unit_end = unit._.idx_end\n",
    "\n",
    "        essay_id = unit.doc._.essay_id\n",
    "\n",
    "        # DataFrame containing ADUs indices & labels, filtered for current essay_id\n",
    "        adus_doc = adus[adus['essay_id'] == essay_id]\n",
    "\n",
    "        ### WORKING 09.02.2022#$$$$$$$$$$$$\n",
    "        def segmentation_error(unit, adu_start, adu_end, overlap_case, error_function):\n",
    "            \n",
    "            adu = unit.doc.char_span(adu_start, adu_end, alignment_mode='expand')\n",
    "            \n",
    "            # positive value = too many tokens in segment, unit should be shorter (include less non-adu tokens)\n",
    "            # negative value = too less tokens in segment, unit should be longer (include more adu tokens)\n",
    "            \n",
    "            left_tokens = adu.start - unit.start\n",
    "            right_tokens = unit.end - adu.end\n",
    "            \n",
    "            if error_function.lower() == 'percentage_correctness':\n",
    "                err_func = percentage_correctness\n",
    "            elif error_function.lower() == 'extended_accuracy':\n",
    "                err_func = extended_accuracy\n",
    "\n",
    "            \n",
    "            return (left_tokens, err_func(unit, adu_start, adu_end, overlap_case), right_tokens)\n",
    "            \n",
    "# v7 returns: (ADU_Type, (left_error_tokens, err_func, right_error_tokens))\n",
    "        label_and_error = [(row['ADU_type'], segmentation_error(unit, row['start_ind'],row['end_ind'], \n",
    "                          overlap_case(unit_start, unit_end,row['start_ind'], row['end_ind']), error_function),\n",
    "                          #(row['start_ind'], row['end_ind'])\n",
    "                           ) \n",
    "                         for row_ind, row in adus_doc.iterrows() \n",
    "                        # NOT SURE ABOUT <= or < SIGNS\n",
    "                         if unit_start < row['end_ind'] and unit_end >= row['start_ind']]\n",
    "\n",
    "            \n",
    "# v6 returns: (ADU_Type, err_func)\n",
    "#\n",
    "#         label_and_error = [(row['ADU_type'], err_func(unit, row['start_ind'],row['end_ind'], \n",
    "#                           overlap_case(unit_start, unit_end,row['start_ind'], row['end_ind'])),\n",
    "#                           #(row['start_ind'], row['end_ind'])\n",
    "#                            ) \n",
    "#                          for row_ind, row in adus_doc.iterrows() \n",
    "#                          if unit_start <= row['end_ind'] and unit_end >= row['start_ind']]\n",
    "\n",
    "    #     # Contains information of the ADUs that overlap with the UNIT\n",
    "    #     # Structure: (adu_start, adu_end, overlap_case, ADU_type)\n",
    "    #     overlap_adus = [(row['start_ind'],\n",
    "    #                      row['end_ind'], \n",
    "    #                      overlap_case(unit_start, unit_end,row['start_ind'], row['end_ind']), \n",
    "    #                      row['ADU_type']) \n",
    "    #                      for row_ind, row in adus_doc.iterrows()\n",
    "    #           if unit_start <= row['end_ind'] and unit_end >= row['start_ind']]\n",
    "\n",
    "        return label_and_error\n",
    "\n",
    "    def get_label_clpr(unit, label_mode='clpr', threshold=0):\n",
    "        # DUPLICATE OF get_label\n",
    "        error_tuple = unit._.get_label_and_error()\n",
    "\n",
    "        if len(error_tuple) == 0:\n",
    "            return \"Non-ADU\"\n",
    "        else:\n",
    "            # Get position of label with maximum accuracy\n",
    "            label_position = np.argmax([error[1] for label, error in error_tuple])\n",
    "            if error_tuple[label_position][1][1] > threshold:\n",
    "                if label_mode=='clpr':\n",
    "                    label = error_tuple[label_position][0]\n",
    "                elif label_mode=='adu':\n",
    "                    label = 'ADU'\n",
    "                    \n",
    "            else:\n",
    "                label = \"Non-ADU\"\n",
    "\n",
    "            return label\n",
    "    \n",
    "    def get_label(unit, label_mode='clpr', threshold=0):\n",
    "        error_tuple = unit._.get_label_and_error()\n",
    "\n",
    "        if len(error_tuple) == 0:\n",
    "            return \"Non-ADU\"\n",
    "        else:\n",
    "            # Get position of label with maximum accuracy\n",
    "            label_position = np.argmax([error[1] for label, error in error_tuple])\n",
    "            if error_tuple[label_position][1][1] > threshold:\n",
    "                if label_mode=='clpr':\n",
    "                    label = error_tuple[label_position][0]\n",
    "                elif label_mode=='adu':\n",
    "                    label = 'ADU'\n",
    "                    \n",
    "            else:\n",
    "                label = \"Non-ADU\"\n",
    "\n",
    "            return label\n",
    "\n",
    "    def _NOT_USED_get_label_adu(span):\n",
    "        \n",
    "        # Gets ADU vs non-ADU LABEL for the span (intended only for sentences)\n",
    "\n",
    "        # Works if the span is larger or equal to the adu\n",
    "\n",
    "        # TODO:\n",
    "        # DOES NOT WORK IF SPAN IS SMALLER THAN ADU, OR IF ADU IS SPLIT BETWEEN TWO SPANS (NEEDS MORE WORK!!!)\n",
    "        # CLAIM VS PREMISE\n",
    "        essay_id = span.doc._.essay_id\n",
    "\n",
    "        span_start = span[0].idx\n",
    "        #  + len(span[-1]) to get to the end of the last word\n",
    "        span_end = span[-1].idx  + len(span[-1])\n",
    "        start_inds = adus[adus['essay_id'] == essay_id ]['start_ind'].values\n",
    "        end_inds = adus[adus['essay_id'] == essay_id ]['end_ind'].values\n",
    "\n",
    "        # Checks if starting index of span is smaller than ADU and the ending index of the span is larger than the ADU\n",
    "        return ((start_inds >= span_start) & (end_inds <= span_end)).any()\n",
    "\n",
    "    \n",
    "    def get_idx_start(unit):\n",
    "        return unit[0].idx\n",
    "    \n",
    "    def get_idx_end(unit):\n",
    "        return unit[-1].idx  + len(unit[-1])\n",
    "    \n",
    "    \n",
    "    def get_para_starts(doc):\n",
    "        # Units starting with \\n or preceding \\n are considered as paragraph starts\n",
    "        # if start is 0, start -1 goes back to the last token of the doc\n",
    "\n",
    "        # TODO\n",
    "        # para_ends can be obtained by shifing this list to the right by one position\n",
    "        \n",
    "        # PROBLEM! WORKS ONLY FOR SENTENCE SEGMENTATION\n",
    "        \n",
    "        return [int(doc[start].text =='\\n' or doc[start-1].text=='\\n') for start, end in doc._.units_index_list]\n",
    "    \n",
    "    def get_is_para_start(unit):\n",
    "        \n",
    "        para_starts = unit.doc._.para_starts\n",
    "        unit_ind = unit._.index_in_doc\n",
    "        \n",
    "        return para_starts[unit_ind]\n",
    "    \n",
    "    def get_has_personal_pronoun(unit):\n",
    "        \n",
    "        return 'PRP' in [token.tag_ for token in unit]\n",
    "    \n",
    "    def get_has_possessive_pronoun(unit):\n",
    "        \n",
    "        return 'PRP$' in [token.tag_ for token in unit]     \n",
    "    \n",
    "    def get_has_modal_verb(unit):\n",
    "        \n",
    "        return 'MD' in [token.tag_ for token in unit]            \n",
    "    \n",
    "    def get_word_emb(obj):\n",
    "        return obj.vector\n",
    "    \n",
    "    def get_num_tokens(obj):\n",
    "        return len(obj)\n",
    "    \n",
    "    def get_num_verbs(span):\n",
    "        return sum([1 for token in span if token.pos_ == \"VERB\"])\n",
    "\n",
    "    def get_num_pos_pronouns(span):\n",
    "        return sum([1 for token in span if token.tag_ == \"PRP$\"])\n",
    "\n",
    "    def get_num_pron(span):\n",
    "        return sum([1 for token in span if token.pos_ == \"PRON\"])\n",
    "    \n",
    "    def get_num_conj_adv(span):\n",
    "        conj_advs = ['moreover', 'incidentally', 'next', 'yet', 'finally', 'then', 'for example', 'thus', 'accordingly', 'namely', 'meanwhile', 'that is', 'also', 'undoubtedly', 'all in all', 'lately', 'hence', 'still', 'therefore', 'in addition', 'indeed', 'again', 'so', 'nevertheless', 'besides', 'instead', 'for instance', 'certainly', 'however', 'anyway', 'further', 'furthermore', 'similarly', 'now', 'in conclusion', 'nonetheless', 'thereafter', 'likewise', 'otherwise', 'consequently']\n",
    "        return sum([1 for adv in conj_advs if adv in span.text.lower()])\n",
    "    \n",
    "        \n",
    "    def get_num_claim_indicator(span):\n",
    "        claim_indicators = [\"accordingly\", \"as a result\", \"consequently\", \"conclude that\", \"clearly\", \"demonstrates that\", \"entails\", \"follows that\", \"hence\", \"however\", \"implies\", \"in fact\", \"in my opinion\", \"in short\", \"in conclusion\", \"indicates that\", \"it follows that\", \"it is highly probable that\", \"it is my contention\", \"it should be clear that\", \"I believe\", \"I mean\", \"I think\", \"must be that\", \"on the contrary\", \"points to the conclusions\", \"proves that\", \"shows that\", \"so\", \"suggests that\", \"the most obvious explanation\", \"the point I’m trying to make\", \"therefore\", \"thus\", \"the truth of the matter\", \"to sum up\", \"we may deduce\"]\n",
    "        \n",
    "        return sum([1 for c_indicator in claim_indicators if c_indicator in span.text.lower()])\n",
    "    \n",
    "    def get_num_premise_indicator(span):\n",
    "        premise_indicators=[\"after all\", \"assuming that\", \"as\", \"as indicated by\", \"as shown\", \"besides\", \"because\", \"deduced\", \"derived from\", \"due to\", \"firstly\", \"follows from\", \"for\", \"for example\", \"for instance\", \"for one thing\", \"for the reason that\", \"furthermore\", \"given that\", \"in addition\", \"in light of\", \"in that\", \"in view of\", \"in view of the fact that\", \"indicated by\", \"is supported by\", \"may be inferred\", \"moreover\", \"owing to\", \"researchers found that\", \"secondly\", \"this can be seen from\", \"since\", \"since the evidence is\", \"what’s more\", \"whereas\",]\n",
    "        return sum([1 for p_indicator in premise_indicators if p_indicator in span.text.lower()])\n",
    "    \n",
    "    def get_is_first_token_gerund(span):\n",
    "        \n",
    "        return span[0].tag_ =='VBG'\n",
    "    \n",
    "    def get_has_question_mark(span):\n",
    "        return '?' in span.text\n",
    "\n",
    "    def get_num_punct(span):\n",
    "        return sum([1 for token in span if token.tag_ == \".\"])\n",
    "    \n",
    "    def get_tree_depth(unit):\n",
    "        depths = {}\n",
    "\n",
    "        def walk_tree(node, depth):\n",
    "            depths[node.orth_] = depth\n",
    "            if node.n_lefts + node.n_rights > 0:\n",
    "                return [walk_tree(child, depth + 1) for child in node.children]\n",
    "\n",
    "        walk_tree(unit.root, 0)\n",
    "        return max(depths.values())\n",
    "    \n",
    "\n",
    "    def get_index_in_doc(span):\n",
    "        \"\"\"Gets index of the segmented unit in the doc\"\"\"\n",
    "        span_start = span.start\n",
    "\n",
    "        # span end not used yet\n",
    "        span_end = span.end\n",
    "\n",
    "        # finds where span_start is in units_index_list [(s1_start, s1_end), (s2_start, s2_end),.., (sn_start, sn_end)]\n",
    "        # returns the index of the corresponding span\n",
    "        return np.where([span.start in range(start, end) for start, end in span.doc._.units_index_list])[0][-1]\n",
    "\n",
    "\n",
    "    def get_prev_unit(span):\n",
    "\n",
    "        return span._.get_nth_unit(span._.index_in_doc-1)\n",
    "    \n",
    "        \n",
    "    def get_nth_unit(span, n):\n",
    "\n",
    "        # Tuple containing the start and end index of the nth span\n",
    "        span_index = span.doc._.units_index_list[n]\n",
    "\n",
    "        # Return nth span\n",
    "        return span.doc[span_index[0]: span_index[1]]\n",
    "\n",
    "    def get_prev_unit_attr(span, attribute):\n",
    "\n",
    "        return span._.prev_unit._.get(attribute)\n",
    "\n",
    "        \n",
    "\n",
    "    # Iterate list of features and Set Extensions (Just to not manually set extensions one by one)\n",
    "    \n",
    "    for feature in extensions_dict['doc_features']:\n",
    "        Doc.set_extension(feature, force=force, getter=locals()[f\"get_{feature}\"])\n",
    "        \n",
    "    for feature in extensions_dict['span_features']:\n",
    "        Span.set_extension(feature, force=force, getter=locals()[f\"get_{feature}\"])\n",
    "        \n",
    "    for feature in extensions_dict['token_features']:\n",
    "        Token.set_extension(feature, force=force, getter=locals()[f\"get_{feature}\"])\n",
    "        \n",
    "    for method in extensions_dict['span_methods']:\n",
    "        Span.set_extension(method, force=force, method=locals()[method])\n",
    "\n",
    "\n",
    "def segmentation(doc=None ,mode = 'sentence', n_grams=15):\n",
    "    if mode=='paragraph':\n",
    "        pass\n",
    "    elif mode=='sentence':\n",
    "        # segment by sentences\n",
    "        units = [sent for sent in doc.sents  if not (sent.text.isspace() or sent.text =='')] \n",
    "        \n",
    "        # keep track of (start, end) of units in doc object\n",
    "        doc._.units_index_list = [(unit.start, unit.end) for unit in units]\n",
    "        return units\n",
    "    \n",
    "    elif mode =='n_grams':\n",
    "        # Code to segment with 15 grams here (average)  \n",
    "        units = [doc[i:i+n_grams] for i in range(len(doc))]\n",
    "\n",
    "        doc._.units_index_list = [(unit.start, unit.end) for unit in units]\n",
    "\n",
    "        return units\n",
    "    \n",
    "    elif mode=='clause':\n",
    "        # Code to segment by clause\n",
    "        pass\n",
    "    elif mode=='constituency1':\n",
    "        # Take the first level subordinating conjunction (SBAR)\n",
    "        # The first dependent clause\n",
    "        units = []\n",
    "        for sent in doc.sents:\n",
    "            for node in sent._.constituents:\n",
    "\n",
    "                if \"SBAR\" in node._.labels:\n",
    "\n",
    "                    # Before SBAR\n",
    "                    units.append(sent.doc[sent.start:node.start])\n",
    "                    # SBAR\n",
    "                    units.append(sent.doc[node.start:node.end])\n",
    "\n",
    "                    # After SBAR\n",
    "                    units.append(sent.doc[node.end:sent.end])\n",
    "\n",
    "                    # Break out to take only the first SBAR we encounter\n",
    "                    break\n",
    "        \n",
    "        units = [unit for unit in units if unit.text != '']\n",
    "        doc._.units_index_list = [(unit.start, unit.end) for unit in units]\n",
    "        \n",
    "        return units\n",
    "        \n",
    "    elif mode=='token':\n",
    "        return [token for token in doc if not (token.text.isspace() or token.text =='')]\n",
    "    elif mode=='gold_standard':\n",
    "        \n",
    "        # Segments ADUs according to annotations\n",
    "        \n",
    "        adu_inds = adus[adus['essay_id']==doc._.essay_id].sort_values('start_ind')[['start_ind','end_ind']]\n",
    "\n",
    "        units = []\n",
    "\n",
    "        start = 0\n",
    "        for i, row in adu_inds.iterrows():\n",
    "\n",
    "            # From previous adu end to current adu start (Non-ADU)\n",
    "            end = row['start_ind']-1\n",
    "\n",
    "            units.append(doc.char_span(start,end, alignment_mode='expand'))\n",
    "\n",
    "            start = row['start_ind']\n",
    "            end = row['end_ind']\n",
    "\n",
    "            # From current adu start to current adu end\n",
    "            units.append(doc.char_span(start,end,  alignment_mode='expand'))\n",
    "\n",
    "            # set current adu end as start for next iteration\n",
    "            start = row['end_ind']\n",
    "        \n",
    "        \n",
    "        # keep track of (start, end) of units in doc object\n",
    "        doc._.units_index_list = [(unit.start, unit.end) for unit in units]\n",
    "        \n",
    "        return units\n",
    "\n",
    "def unit2fv(unit, feature_list):\n",
    "    \n",
    "    fv = np.array([unit._.get(feature) for feature in feature_list], dtype='object')\n",
    "    \n",
    "    _fv = np.array([np.reshape(feature, -1) for feature in fv], dtype='object')\n",
    "    \n",
    "    return np.concatenate(_fv)\n",
    "\n",
    "\n",
    "def calculate_segmentation_accuracy(units, error_function='percentage_correctness'):\n",
    "    \n",
    "    \n",
    "    \n",
    "    start_errors = np.array([])\n",
    "    segmentation_accs = np.array([])\n",
    "    end_errors = np.array([])\n",
    "\n",
    "    for unit in units:\n",
    "        error_tuple = unit._.get_label_and_error(error_function=error_function)\n",
    "\n",
    "        if len(error_tuple) != 0:\n",
    "            label_position = np.argmax([error[1] for label, error in error_tuple])\n",
    "\n",
    "            start_errors = np.append(start_errors,error_tuple[label_position][1][0])\n",
    "\n",
    "            segmentation_accs = np.append(segmentation_accs, error_tuple[label_position][1][1])\n",
    "\n",
    "            end_errors = np.append(end_errors, error_tuple[label_position][1][2])\n",
    "\n",
    "\n",
    "\n",
    "    start_error = sum((start_errors**2))/len(start_errors)\n",
    "\n",
    "    end_error = sum((end_errors**2))/len(end_errors)\n",
    "\n",
    "    segmentation_acc = segmentation_accs.mean()\n",
    "    \n",
    "    return (start_error, segmentation_acc, end_error)\n",
    "\n",
    "\n",
    "\n",
    "\n",
    "# Run\n",
    "create_extensions(extensions_dict)   \n"
   ]
  },
  {
   "cell_type": "code",
   "execution_count": 285,
   "id": "1abd7fc8",
   "metadata": {
    "ExecuteTime": {
     "end_time": "2022-02-26T21:59:02.486475Z",
     "start_time": "2022-02-26T21:59:02.479475Z"
    }
   },
   "outputs": [],
   "source": [
    "# Optional, not used yet. Trying to solve problem that title gets included with the first sentence\n",
    "def add_full_stops(text):\n",
    "    \"\"\"adds full stops to texts that end with \\n missing full stops\"\"\"\n",
    "    return re.sub(\"\\n+(?!\\.)\",'.\\n', text)\n",
    "# Not used\n",
    "def text2doc(text):\n",
    "    # need to use nlp.pipe here instead\n",
    "    return nlp(text)"
   ]
  },
  {
   "cell_type": "code",
   "execution_count": 286,
   "id": "010a19ed",
   "metadata": {
    "ExecuteTime": {
     "end_time": "2022-02-26T21:59:02.644451Z",
     "start_time": "2022-02-26T21:59:02.624454Z"
    }
   },
   "outputs": [],
   "source": [
    "# Pipelinev1\n",
    "\n",
    "def text2fv(df, segmentation_mode='sentence', label_mode='adu', threshold=0, n_grams=None ,print_segmentation_error = False):\n",
    "    \n",
    "    \n",
    "    \n",
    "    # Rename to create_training_data?\n",
    "    data = [(row['text'], dict(id=row['essay_id'])) for ind, row in df.iterrows()]\n",
    "    docs = []\n",
    "    \n",
    "    if segmentation_mode != \"constituency1\":\n",
    "    \n",
    "        for doc, context in nlp.pipe(data, as_tuples=True, disable=['benepar']):\n",
    "            doc._.essay_id = context['id']\n",
    "            docs.append(doc)\n",
    "    \n",
    "    else:\n",
    "        \n",
    "        for doc, context in nlp.pipe(data, as_tuples=True):\n",
    "            doc._.essay_id = context['id']\n",
    "            docs.append(doc)\n",
    "\n",
    "    segmented_docs = [segmentation(doc, mode=segmentation_mode ,n_grams=n_grams) for doc in docs]\n",
    "    \n",
    "    # Flatten lists (Dissolve docs boundaries and store all units together in one huge list)\n",
    "    units = list(chain.from_iterable(segmented_docs))\n",
    "    \n",
    "    if print_segmentation_error:\n",
    "        print(f\"Segmentation Mode: {segmentation_mode}\\nAccuracy:{calculate_segmentation_accuracy(units)}\")\n",
    "\n",
    "    X_features = span_features\n",
    "    \n",
    "\n",
    "    X = np.array([unit2fv(unit, X_features) for unit in units])\n",
    "    y = np.array([unit._.get_label(label_mode=label_mode, threshold=threshold) for unit in units])\n",
    "\n",
    "    return X,y "
   ]
  },
  {
   "cell_type": "code",
   "execution_count": 287,
   "id": "c1473cad",
   "metadata": {
    "ExecuteTime": {
     "end_time": "2022-02-26T21:59:03.858331Z",
     "start_time": "2022-02-26T21:59:02.776414Z"
    }
   },
   "outputs": [
    {
     "name": "stderr",
     "output_type": "stream",
     "text": [
      "C:\\Users\\BilalMehyar\\anaconda3\\lib\\site-packages\\torch\\distributions\\distribution.py:44: UserWarning: <class 'torch_struct.distributions.TreeCRF'> does not define `arg_constraints`. Please set `arg_constraints = {}` or initialize the distribution with `validate_args=False` to turn off validation.\n",
      "  warnings.warn(f'{self.__class__} does not define `arg_constraints`. ' +\n"
     ]
    }
   ],
   "source": [
    "# INPUTS \n",
    "essays = pd.read_csv(\"../data/output_csv/essays.csv\")\n",
    "adus = pd.read_csv(\"../data/output_csv/adus.csv\")\n",
    "\n",
    "###### TEST\n",
    "in_text = essays.iloc[23].text\n",
    "doc = nlp(in_text)\n",
    "doc._.essay_id = essays.iloc[23]['essay_id']\n",
    "adu24 = adus[adus['essay_id'] == doc._.essay_id]\n",
    "units=segmentation(doc, mode='n_grams', n_grams=15)\n",
    "units=segmentation(doc, mode='sentence')"
   ]
  },
  {
   "cell_type": "code",
   "execution_count": 288,
   "id": "5a178014",
   "metadata": {
    "ExecuteTime": {
     "end_time": "2022-02-26T21:59:03.890332Z",
     "start_time": "2022-02-26T21:59:03.860331Z"
    }
   },
   "outputs": [],
   "source": [
    "# Utility, Delete Later\n",
    "def print_adus(units):\n",
    "    for i, u in enumerate(units):\n",
    "            unit_start = u._.idx_start\n",
    "            unit_end = u._.idx_end\n",
    "            \n",
    "            essay_id = u.doc._.essay_id\n",
    "            \n",
    "            \n",
    "            doc_adus = adus[adus['essay_id'] == essay_id]\n",
    "             \n",
    "            lis = [((unit_start, unit_end),(row['start_ind'], row['end_ind'], row['ADU_type'],is_adu(unit_start, unit_end, row['start_ind'] ,row['end_ind']))) for row_ind,row in doc_adus.iterrows() if is_adu(unit_start, unit_end, row['start_ind'] ,row['end_ind'])]\n",
    "            \n",
    "            \n",
    "            \n",
    "            if len(lis)>0:\n",
    "                print(i, lis)\n",
    "\n",
    "def verbose_print(units):\n",
    "    # Detailed Printer\n",
    "    \n",
    "    essay_id = units[0].doc._.essay_id\n",
    "    adu_doc = adus[adus['essay_id']==essay_id]\n",
    "    for i, u in enumerate(units):\n",
    "            span_start = u[0].idx\n",
    "            span_end = u[-1].idx  + len(u[-1])\n",
    "\n",
    "            lis = [((span_start, span_end),(row['start_ind'], row['end_ind'], row['ADU_type'],\n",
    "                                            is_adu(span_start, span_end, row['start_ind'] ,row['end_ind'])))\n",
    "                   for row_ind,row in adu_doc.iterrows() if is_adu(span_start, span_end, row['start_ind'] ,row['end_ind'])]\n",
    "            if len(lis)>0:\n",
    "                print(i)\n",
    "                print(lis,\"\\n\")\n",
    "                print(\"UNIT:\",u,\"\\n\")\n",
    "                for ind, adu in enumerate(lis):\n",
    "\n",
    "                    #print(adu[1][2].upper()+':',adu[1][0:2])\n",
    "                    #print(doc.char_span(*adu[1][0:2]), \"\\n\")\n",
    "                    label = adu[1][2].upper() \n",
    "                    adu_range = adu[1][0:2]\n",
    "                    adu_status = adu[1][3]\n",
    "                    print(f'ADU #{ind+1}',label+':',*adu_range, adu_status)\n",
    "                    print(doc.char_span(*adu_range), \"\\n\")\n",
    "                print(\"-----------------\\n\")\n",
    "                \n",
    "def is_adu(unit_start, unit_end, adu_start, adu_end):\n",
    "    \n",
    "    if adu_start<=unit_start and adu_end <=unit_start:\n",
    "        # ADU comes before UNIT\n",
    "        return False\n",
    "    elif adu_start>=unit_end and adu_end >=unit_end:\n",
    "        # ADU comes after UNIT\n",
    "        return False\n",
    "    else:\n",
    "        if adu_start >= unit_start and adu_end <= unit_end:\n",
    "            #print(\"Fully Contains ADU\")\n",
    "            return \"Full\"\n",
    "        elif adu_start <= unit_start and adu_end <=unit_end:\n",
    "            \n",
    "            #print(\"ADU start is cut\")\n",
    "            return \"Start_Cut\"\n",
    "        elif adu_start >= unit_start and adu_end >= unit_end:\n",
    "            # End of ADU is after UNIT\n",
    "            return \"End_Cut\"\n",
    "\n",
    "        elif adu_start <= unit_start and adu_end >= unit_end:\n",
    "\n",
    "            # UNIT is smaller than ADU, ADU start and end are cut\n",
    "            return \"Both_Sides_Cut\"# Utility, Delete Later\n",
    "        \n",
    "# FOR VIEWING ACCURACY ONLY\n",
    "def all_docs(df, segmentation_mode='sentence', label_mode='adu', threshold=0, n_grams=None):\n",
    "    # TEMP\n",
    "    # Rename to create_training_data?\n",
    "    data = [(row['text'], dict(id=row['essay_id'])) for ind, row in df.iterrows()]\n",
    "    docs = []\n",
    "    data\n",
    "    for doc, context in nlp.pipe(data, as_tuples=True):\n",
    "        doc._.essay_id = context['id']\n",
    "        docs.append(doc)\n",
    "    return docs\n",
    "    segmented_docs = [segmentation(doc, mode=segmentation_mode ,n_grams=n_grams) for doc in docs]\n",
    "    \n",
    "    # Flatten lists (Dissolve docs boundaries and store all units together in one huge list)\n",
    "    units = list(chain.from_iterable(segmented_docs))\n",
    "    \n",
    "    \n",
    "\n"
   ]
  },
  {
   "cell_type": "code",
   "execution_count": 289,
   "id": "b079f343",
   "metadata": {
    "ExecuteTime": {
     "end_time": "2022-02-26T21:59:03.954329Z",
     "start_time": "2022-02-26T21:59:03.892332Z"
    }
   },
   "outputs": [
    {
     "name": "stdout",
     "output_type": "stream",
     "text": [
      "('Claim', (0, 1.0, 0))\n",
      "('Premise', (0, 1.0, 0))\n",
      "('Premise', (0, 1.0, 0))\n",
      "('Premise', (0, 1.0, 0))\n",
      "('Claim', (0, 1.0, 0))\n",
      "('Premise', (0, 1.0, 0))\n",
      "('Premise', (0, 1.0, 0))\n",
      "('Claim', (0, 1.0, 0))\n",
      "('Premise', (0, 1.0, 0))\n",
      "('Premise', (0, 1.0, 0))\n",
      "('Premise', (0, 1.0, 0))\n",
      "('Claim', (0, 1.0, 0))\n",
      "('Claim', (0, 1.0, 0))\n"
     ]
    }
   ],
   "source": [
    "units = segmentation(doc, mode='gold_standard')\n",
    "# Coding Error Evaluation\n",
    "start_errors = np.array([])\n",
    "segmentation_accs = np.array([])\n",
    "end_errors = np.array([])\n",
    "\n",
    "for unit in units:\n",
    "    error_tuple = unit._.get_label_and_error()\n",
    "\n",
    "    if len(error_tuple) != 0:\n",
    "        label_position = np.argmax([error[1] for label, error in error_tuple])\n",
    "        \n",
    "        print(error_tuple[label_position])\n",
    "        start_errors = np.append(start_errors,error_tuple[label_position][1][0])\n",
    "        \n",
    "        segmentation_accs = np.append(segmentation_accs, error_tuple[label_position][1][1])\n",
    "        \n",
    "        end_errors = np.append(end_errors, error_tuple[label_position][1][2])\n",
    "        \n",
    "        \n",
    "\n",
    "start_error = sum((start_errors**2))/len(start_errors)\n",
    "\n",
    "end_error = sum((end_errors**2))/len(end_errors)\n",
    "\n",
    "segmentation_acc = segmentation_accs.mean()\n"
   ]
  },
  {
   "cell_type": "code",
   "execution_count": 290,
   "id": "8c2d4c61",
   "metadata": {
    "ExecuteTime": {
     "end_time": "2022-02-26T21:59:06.406192Z",
     "start_time": "2022-02-26T21:59:03.956330Z"
    }
   },
   "outputs": [],
   "source": [
    "# Smaller set\n",
    "essays= essays[:30].copy()\n",
    "\n",
    "train = essays[essays['label'] =='train']\n",
    "test =essays[essays['label'] =='test']\n",
    "\n",
    "X_train, y_train = text2fv(train)\n",
    "\n",
    "X_test, y_test = text2fv(test)\n"
   ]
  },
  {
   "cell_type": "markdown",
   "id": "3b9167b6",
   "metadata": {},
   "source": [
    "# Classification"
   ]
  },
  {
   "cell_type": "code",
   "execution_count": 291,
   "id": "22c2af60",
   "metadata": {
    "ExecuteTime": {
     "end_time": "2022-02-26T21:59:06.426743Z",
     "start_time": "2022-02-26T21:59:06.408270Z"
    }
   },
   "outputs": [],
   "source": [
    "from sklearn.linear_model import LogisticRegression\n",
    "from sklearn.metrics import confusion_matrix, classification_report\n",
    "from sklearn.ensemble import RandomForestClassifier"
   ]
  },
  {
   "cell_type": "code",
   "execution_count": 292,
   "id": "171eac00",
   "metadata": {
    "ExecuteTime": {
     "end_time": "2022-02-26T21:59:06.475789Z",
     "start_time": "2022-02-26T21:59:06.428798Z"
    }
   },
   "outputs": [
    {
     "data": {
      "text/plain": [
       "LogisticRegression(solver='newton-cg')"
      ]
     },
     "execution_count": 292,
     "metadata": {},
     "output_type": "execute_result"
    }
   ],
   "source": [
    "logreg = LogisticRegression(solver='newton-cg')\n",
    "logreg.fit(X_train, y_train)\n"
   ]
  },
  {
   "cell_type": "code",
   "execution_count": 293,
   "id": "96892454",
   "metadata": {
    "ExecuteTime": {
     "end_time": "2022-02-26T21:59:06.491801Z",
     "start_time": "2022-02-26T21:59:06.478808Z"
    }
   },
   "outputs": [
    {
     "name": "stdout",
     "output_type": "stream",
     "text": [
      "              precision    recall  f1-score   support\n",
      "\n",
      "         ADU       0.91      0.88      0.89        58\n",
      "     Non-ADU       0.22      0.29      0.25         7\n",
      "\n",
      "    accuracy                           0.82        65\n",
      "   macro avg       0.57      0.58      0.57        65\n",
      "weighted avg       0.84      0.82      0.83        65\n",
      "\n"
     ]
    }
   ],
   "source": [
    "preds_lr = logreg.predict(X_test)\n",
    "print(classification_report(y_test, preds_lr))"
   ]
  },
  {
   "cell_type": "markdown",
   "id": "445a7282",
   "metadata": {},
   "source": [
    "# Multiclass Classifier"
   ]
  },
  {
   "cell_type": "code",
   "execution_count": 294,
   "id": "4855023d",
   "metadata": {
    "ExecuteTime": {
     "end_time": "2022-02-26T21:59:08.919274Z",
     "start_time": "2022-02-26T21:59:06.493799Z"
    }
   },
   "outputs": [],
   "source": [
    "# Smaller set\n",
    "\n",
    "# Sentence segmentation\n",
    "essays= essays[:30].copy()\n",
    "\n",
    "train = essays[essays['label'] =='train']\n",
    "test =essays[essays['label'] =='test']\n",
    "\n",
    "X_train, y_train = text2fv(train, segmentation_mode='sentence', label_mode='clpr')\n",
    "\n",
    "X_test, y_test = text2fv(test, segmentation_mode='sentence', label_mode='clpr')\n",
    "\n"
   ]
  },
  {
   "cell_type": "code",
   "execution_count": 295,
   "id": "ba109bb9",
   "metadata": {
    "ExecuteTime": {
     "end_time": "2022-02-26T21:59:11.038686Z",
     "start_time": "2022-02-26T21:59:08.921356Z"
    }
   },
   "outputs": [],
   "source": [
    "X_train, y_train = text2fv(train, segmentation_mode='sentence', n_grams=15, label_mode='clpr')"
   ]
  },
  {
   "cell_type": "code",
   "execution_count": 296,
   "id": "432739f8",
   "metadata": {
    "ExecuteTime": {
     "end_time": "2022-02-26T22:01:20.053144Z",
     "start_time": "2022-02-26T21:59:11.038934Z"
    },
    "scrolled": false
   },
   "outputs": [
    {
     "name": "stdout",
     "output_type": "stream",
     "text": [
      "Segmentation Mode: sentence\n",
      "Accuracy:(37.09036144578313, 0.790242407624386, 7.719879518072289)\n",
      "Segmentation Mode: sentence\n",
      "Accuracy:(19.896551724137932, 0.7950075024442745, 5.379310344827586)\n",
      "LOGISTIC REG --- Segmentation: sentence\n",
      "              precision    recall  f1-score   support\n",
      "\n",
      "       Claim       0.59      0.45      0.51        22\n",
      "     Non-ADU       0.22      0.29      0.25         7\n",
      "     Premise       0.69      0.75      0.72        36\n",
      "\n",
      "    accuracy                           0.60        65\n",
      "   macro avg       0.50      0.50      0.49        65\n",
      "weighted avg       0.61      0.60      0.60        65\n",
      "\n",
      "RANDOM FOREST --- Segmentation: sentence\n",
      "              precision    recall  f1-score   support\n",
      "\n",
      "       Claim       0.55      0.27      0.36        22\n",
      "     Non-ADU       1.00      0.43      0.60         7\n",
      "     Premise       0.63      0.89      0.74        36\n",
      "\n",
      "    accuracy                           0.63        65\n",
      "   macro avg       0.72      0.53      0.57        65\n",
      "weighted avg       0.64      0.63      0.60        65\n",
      "\n",
      "Segmentation Mode: n_grams\n",
      "Accuracy:(90.20594994892748, 0.700325308487336, 83.21335546475996)\n",
      "Segmentation Mode: n_grams\n",
      "Accuracy:(89.24508966695133, 0.6847526157304125, 78.3672075149445)\n",
      "LOGISTIC REG --- Segmentation: n_grams\n",
      "              precision    recall  f1-score   support\n",
      "\n",
      "       Claim       0.38      0.27      0.32       460\n",
      "     Non-ADU       0.29      0.53      0.37       121\n",
      "     Premise       0.65      0.68      0.67       711\n",
      "\n",
      "    accuracy                           0.52      1292\n",
      "   macro avg       0.44      0.49      0.45      1292\n",
      "weighted avg       0.52      0.52      0.51      1292\n",
      "\n",
      "RANDOM FOREST --- Segmentation: n_grams\n",
      "              precision    recall  f1-score   support\n",
      "\n",
      "       Claim       0.57      0.32      0.41       460\n",
      "     Non-ADU       0.47      0.63      0.54       121\n",
      "     Premise       0.72      0.88      0.79       711\n",
      "\n",
      "    accuracy                           0.66      1292\n",
      "   macro avg       0.59      0.61      0.58      1292\n",
      "weighted avg       0.64      0.66      0.63      1292\n",
      "\n"
     ]
    },
    {
     "name": "stderr",
     "output_type": "stream",
     "text": [
      "C:\\Users\\BilalMehyar\\anaconda3\\lib\\site-packages\\torch\\distributions\\distribution.py:44: UserWarning: <class 'torch_struct.distributions.TreeCRF'> does not define `arg_constraints`. Please set `arg_constraints = {}` or initialize the distribution with `validate_args=False` to turn off validation.\n",
      "  warnings.warn(f'{self.__class__} does not define `arg_constraints`. ' +\n"
     ]
    },
    {
     "name": "stdout",
     "output_type": "stream",
     "text": [
      "Segmentation Mode: constituency1\n",
      "Accuracy:(46.37466307277628, 0.8900162347013647, 107.11590296495957)\n",
      "Segmentation Mode: constituency1\n",
      "Accuracy:(31.43076923076923, 0.874172310846519, 86.3076923076923)\n",
      "LOGISTIC REG --- Segmentation: constituency1\n",
      "              precision    recall  f1-score   support\n",
      "\n",
      "       Claim       0.31      0.13      0.18        31\n",
      "     Non-ADU       0.65      0.86      0.74        36\n",
      "     Premise       0.57      0.68      0.62        34\n",
      "\n",
      "    accuracy                           0.57       101\n",
      "   macro avg       0.51      0.56      0.51       101\n",
      "weighted avg       0.52      0.57      0.53       101\n",
      "\n",
      "RANDOM FOREST --- Segmentation: constituency1\n",
      "              precision    recall  f1-score   support\n",
      "\n",
      "       Claim       0.36      0.16      0.22        31\n",
      "     Non-ADU       0.68      0.83      0.75        36\n",
      "     Premise       0.51      0.65      0.57        34\n",
      "\n",
      "    accuracy                           0.56       101\n",
      "   macro avg       0.52      0.55      0.51       101\n",
      "weighted avg       0.52      0.56      0.53       101\n",
      "\n",
      "Segmentation Mode: gold_standard\n",
      "Accuracy:(0.0, 1.0, 0.0)\n",
      "Segmentation Mode: gold_standard\n",
      "Accuracy:(0.0, 1.0, 0.0)\n",
      "LOGISTIC REG --- Segmentation: gold_standard\n",
      "              precision    recall  f1-score   support\n",
      "\n",
      "       Claim       0.56      0.39      0.46        23\n",
      "     Non-ADU       1.00      1.00      1.00        60\n",
      "     Premise       0.68      0.81      0.74        37\n",
      "\n",
      "    accuracy                           0.82       120\n",
      "   macro avg       0.75      0.73      0.73       120\n",
      "weighted avg       0.82      0.82      0.82       120\n",
      "\n",
      "RANDOM FOREST --- Segmentation: gold_standard\n",
      "              precision    recall  f1-score   support\n",
      "\n",
      "       Claim       0.50      0.35      0.41        23\n",
      "     Non-ADU       1.00      1.00      1.00        60\n",
      "     Premise       0.66      0.78      0.72        37\n",
      "\n",
      "    accuracy                           0.81       120\n",
      "   macro avg       0.72      0.71      0.71       120\n",
      "weighted avg       0.80      0.81      0.80       120\n",
      "\n"
     ]
    }
   ],
   "source": [
    "\n",
    "for segmentation_mode in ['sentence', 'n_grams', 'constituency1', 'gold_standard']:\n",
    "\n",
    "    X_train, y_train = text2fv(train, segmentation_mode=segmentation_mode, n_grams=15, label_mode='clpr', print_segmentation_error=True)\n",
    "\n",
    "    X_test, y_test = text2fv(test, segmentation_mode=segmentation_mode, n_grams=15, label_mode='clpr', print_segmentation_error=True)\n",
    "\n",
    "    logreg = LogisticRegression(solver='newton-cg')\n",
    "    logreg.fit(X_train, y_train)\n",
    "    preds_lr = logreg.predict(X_test)\n",
    "    print(f\"LOGISTIC REG --- Segmentation: {segmentation_mode}\")\n",
    "    print(classification_report(y_test, preds_lr))\n",
    "    rf = RandomForestClassifier()\n",
    "    rf.fit(X_train, y_train)\n",
    "    preds_rf = rf.predict(X_test)\n",
    "    print(f\"RANDOM FOREST --- Segmentation: {segmentation_mode}\")\n",
    "    print(classification_report(y_test, preds_rf))"
   ]
  },
  {
   "cell_type": "code",
   "execution_count": 254,
   "id": "7c4c99c8",
   "metadata": {
    "ExecuteTime": {
     "end_time": "2022-02-26T21:50:43.560131Z",
     "start_time": "2022-02-26T21:50:43.144185Z"
    }
   },
   "outputs": [
    {
     "name": "stdout",
     "output_type": "stream",
     "text": [
      "              precision    recall  f1-score   support\n",
      "\n",
      "       Claim       0.77      0.43      0.56        23\n",
      "     Non-ADU       0.98      1.00      0.99        60\n",
      "     Premise       0.72      0.89      0.80        37\n",
      "\n",
      "    accuracy                           0.86       120\n",
      "   macro avg       0.82      0.78      0.78       120\n",
      "weighted avg       0.86      0.86      0.85       120\n",
      "\n"
     ]
    }
   ],
   "source": [
    "rf = RandomForestClassifier()\n",
    "rf.fit(X_train, y_train)\n",
    "preds_rf = rf.predict(X_test)\n",
    "print(classification_report(y_test, preds_rf))"
   ]
  },
  {
   "cell_type": "code",
   "execution_count": null,
   "id": "610a99de",
   "metadata": {},
   "outputs": [],
   "source": [
    "# Smaller set\n",
    "\n",
    "# Sentence segmentation\n",
    "essays= essays[:30].copy()\n",
    "\n",
    "train = essays[essays['label'] =='train']\n",
    "test =essays[essays['label'] =='test']\n",
    "\n",
    "X_train, y_train = text2fv(train, segmentation_mode='n_grams', n_grams=15, label_mode='clpr')\n",
    "\n",
    "X_test, y_test = text2fv(test, segmentation_mode='sentence', label_mode='clpr')\n"
   ]
  },
  {
   "cell_type": "markdown",
   "id": "0c5da68e",
   "metadata": {},
   "source": [
    "# Two Binary Classifiers"
   ]
  },
  {
   "cell_type": "code",
   "execution_count": 71,
   "id": "af54034c",
   "metadata": {
    "ExecuteTime": {
     "end_time": "2022-02-26T16:04:37.218084Z",
     "start_time": "2022-02-26T16:04:30.158535Z"
    }
   },
   "outputs": [],
   "source": [
    "# Smaller set + Cl1\n",
    "essays= essays[:30].copy()\n",
    "\n",
    "train = essays[essays['label'] =='train']\n",
    "test =essays[essays['label'] =='test']\n",
    "\n",
    "X_train, y_train = text2fv(train, segmentation_mode='sentence', label_mode='adu')\n",
    "\n",
    "X_test, y_test = text2fv(train, segmentation_mode='sentence', label_mode='adu')\n",
    "\n",
    "\n",
    "X_train_clpr, y_train_clpr = text2fv(train, segmentation_mode='sentence', label_mode='clpr')\n",
    "\n",
    "X_test_clpr, y_test_clpr = text2fv(train, segmentation_mode='sentence', label_mode='clpr')\n"
   ]
  },
  {
   "cell_type": "code",
   "execution_count": 72,
   "id": "7d06ba04",
   "metadata": {
    "ExecuteTime": {
     "end_time": "2022-02-26T16:04:37.233943Z",
     "start_time": "2022-02-26T16:04:37.220145Z"
    }
   },
   "outputs": [],
   "source": [
    "clpr_index_train = np.where(y_train_clpr!='Non-ADU')[0]\n",
    "\n",
    "clpr_index_test = np.where(y_test_clpr!='Non-ADU')[0]\n",
    "\n",
    "X_train_clpr_only = X_train[clpr_index_train].copy()\n",
    "X_test_clpr_only = X_test[clpr_index_test].copy()\n",
    "\n",
    "\n",
    "y_train_clpr_only = y_train_clpr[clpr_index_train].copy()\n",
    "\n",
    "y_test_clpr_only = y_test_clpr[clpr_index_test].copy()"
   ]
  },
  {
   "cell_type": "code",
   "execution_count": 39,
   "id": "a16985b7",
   "metadata": {
    "ExecuteTime": {
     "end_time": "2022-02-26T15:59:00.353643Z",
     "start_time": "2022-02-26T15:59:00.308034Z"
    }
   },
   "outputs": [
    {
     "data": {
      "text/plain": [
       "LogisticRegression(solver='newton-cg')"
      ]
     },
     "execution_count": 39,
     "metadata": {},
     "output_type": "execute_result"
    }
   ],
   "source": [
    "cl1 = LogisticRegression(solver='newton-cg')\n",
    "cl1.fit(X_train, y_train)"
   ]
  },
  {
   "cell_type": "code",
   "execution_count": 40,
   "id": "1b419af2",
   "metadata": {
    "ExecuteTime": {
     "end_time": "2022-02-26T15:59:00.385675Z",
     "start_time": "2022-02-26T15:59:00.355642Z"
    }
   },
   "outputs": [
    {
     "data": {
      "text/plain": [
       "LogisticRegression(solver='newton-cg')"
      ]
     },
     "execution_count": 40,
     "metadata": {},
     "output_type": "execute_result"
    }
   ],
   "source": [
    "cl2 = LogisticRegression(solver='newton-cg')\n",
    "cl2.fit(X_train_clpr_only, y_train_clpr_only)"
   ]
  },
  {
   "cell_type": "code",
   "execution_count": 41,
   "id": "02ab3bea",
   "metadata": {
    "ExecuteTime": {
     "end_time": "2022-02-26T15:59:00.401665Z",
     "start_time": "2022-02-26T15:59:00.387648Z"
    }
   },
   "outputs": [
    {
     "name": "stdout",
     "output_type": "stream",
     "text": [
      "              precision    recall  f1-score   support\n",
      "\n",
      "       Claim       0.58      0.67      0.62       112\n",
      "     Non-ADU       0.56      0.88      0.68        59\n",
      "     Premise       0.84      0.67      0.74       254\n",
      "\n",
      "    accuracy                           0.70       425\n",
      "   macro avg       0.66      0.74      0.68       425\n",
      "weighted avg       0.73      0.70      0.70       425\n",
      "\n"
     ]
    }
   ],
   "source": [
    "preds_cl1 = cl1.predict(X_test)\n",
    "\n",
    "preds_cl1_adu_index = np.where(preds_cl1=='ADU')\n",
    "\n",
    "\n",
    "X_test_cl1_pred_adu = X_test[preds_cl1_adu_index]\n",
    "y_test_cl1_pred_adu = y_test[preds_cl1_adu_index]\n",
    "\n",
    "\n",
    "preds_cl2 = cl2.predict(X_test_cl1_pred_adu)\n",
    "\n",
    "preds_all = preds_cl1.copy()\n",
    "preds_all[preds_cl1_adu_index] = preds_cl2\n",
    "preds_all \n",
    "\n",
    "print(classification_report(preds_all, y_test_clpr))"
   ]
  },
  {
   "cell_type": "code",
   "execution_count": 43,
   "id": "7896d16f",
   "metadata": {
    "ExecuteTime": {
     "end_time": "2022-02-26T15:59:00.573186Z",
     "start_time": "2022-02-26T15:59:00.419646Z"
    }
   },
   "outputs": [],
   "source": [
    "from sklearn.ensemble import RandomForestClassifier\n",
    "rf = RandomForestClassifier()"
   ]
  },
  {
   "cell_type": "code",
   "execution_count": null,
   "id": "ac6ca98b",
   "metadata": {},
   "outputs": [],
   "source": []
  },
  {
   "cell_type": "code",
   "execution_count": 24,
   "id": "a111222f",
   "metadata": {
    "ExecuteTime": {
     "end_time": "2022-01-20T21:58:17.050698Z",
     "start_time": "2022-01-20T21:58:16.896688Z"
    }
   },
   "outputs": [
    {
     "data": {
      "text/plain": [
       "RandomForestClassifier()"
      ]
     },
     "execution_count": 24,
     "metadata": {},
     "output_type": "execute_result"
    }
   ],
   "source": [
    "rf.fit(X_train, y_train)"
   ]
  },
  {
   "cell_type": "code",
   "execution_count": 25,
   "id": "da87119a",
   "metadata": {
    "ExecuteTime": {
     "end_time": "2022-01-20T21:58:17.074700Z",
     "start_time": "2022-01-20T21:58:17.052702Z"
    }
   },
   "outputs": [
    {
     "data": {
      "text/plain": [
       "array([[ 168,   94],\n",
       "       [  22, 1113]])"
      ]
     },
     "execution_count": 25,
     "metadata": {},
     "output_type": "execute_result"
    }
   ],
   "source": [
    "preds = rf.predict(X_test)\n",
    "\n",
    "confusion_matrix(y_test, preds)"
   ]
  },
  {
   "cell_type": "code",
   "execution_count": 32,
   "id": "b00d11f1",
   "metadata": {},
   "outputs": [
    {
     "name": "stdout",
     "output_type": "stream",
     "text": [
      "              precision    recall  f1-score   support\n",
      "\n",
      "           0       0.88      0.64      0.74       262\n",
      "           1       0.92      0.98      0.95      1135\n",
      "\n",
      "    accuracy                           0.92      1397\n",
      "   macro avg       0.90      0.81      0.85      1397\n",
      "weighted avg       0.92      0.92      0.91      1397\n",
      "\n"
     ]
    }
   ],
   "source": [
    "print(classification_report(y_test, preds))"
   ]
  },
  {
   "cell_type": "markdown",
   "id": "9d76c42f",
   "metadata": {},
   "source": [
    "## CrossValidation"
   ]
  },
  {
   "cell_type": "code",
   "execution_count": 26,
   "id": "7696698e",
   "metadata": {},
   "outputs": [],
   "source": [
    "from sklearn.model_selection import StratifiedKFold\n",
    "from sklearn.linear_model import SGDClassifier\n",
    "from sklearn.base import clone"
   ]
  },
  {
   "cell_type": "code",
   "execution_count": 27,
   "id": "203bf524",
   "metadata": {},
   "outputs": [
    {
     "data": {
      "text/plain": [
       "SGDClassifier(random_state=42)"
      ]
     },
     "execution_count": 27,
     "metadata": {},
     "output_type": "execute_result"
    }
   ],
   "source": [
    "\"\"\" Stochastic Gradient Descent (SGD) classifier, \n",
    "This classifier has the advantage of being capable of handling very large datasets efficiently\"\"\"\n",
    "sgd_clf = SGDClassifier(random_state=42)\n",
    "sgd_clf.fit(X_train, y_train)"
   ]
  },
  {
   "cell_type": "code",
   "execution_count": 47,
   "id": "f9ae099f",
   "metadata": {},
   "outputs": [
    {
     "name": "stderr",
     "output_type": "stream",
     "text": [
      "/opt/anaconda3/lib/python3.8/site-packages/sklearn/model_selection/_split.py:293: FutureWarning: Setting a random_state has no effect since shuffle is False. This will raise an error in 0.24. You should leave random_state to its default (None), or set shuffle=True.\n",
      "  warnings.warn(\n"
     ]
    },
    {
     "name": "stdout",
     "output_type": "stream",
     "text": [
      "0.7224231464737794\n",
      "[[181  53]\n",
      " [254 618]]\n",
      "0.8707052441229657\n",
      "[[145  89]\n",
      " [ 54 818]]\n",
      "0.8471971066907775\n",
      "[[110 124]\n",
      " [ 45 827]]\n",
      "0.8426763110307414\n",
      "[[ 69 164]\n",
      " [ 10 863]]\n",
      "0.8090497737556561\n",
      "[[183  50]\n",
      " [161 711]]\n"
     ]
    }
   ],
   "source": [
    "skfolds = StratifiedKFold(n_splits=5, random_state=42)\n",
    "\n",
    "best_model = None \n",
    "precision = 0\n",
    "for train_index, test_index in skfolds.split(X_train, y_train):\n",
    "    clone_clf = clone(sgd_clf)\n",
    "    X_train_folds = X_train[train_index]\n",
    "    y_train_folds = y_train[train_index]\n",
    "    X_test_fold = X_train[test_index]\n",
    "    y_test_fold = y_train[test_index]\n",
    "    \n",
    "    clone_clf.fit(X_train_folds, y_train_folds)\n",
    "    y_pred = clone_clf.predict(X_test_fold)\n",
    "    n_correct = sum(y_pred == y_test_fold)\n",
    "    if precision < n_correct / len(y_pred):\n",
    "        best_model = clone_clf\n",
    "        precision = n_correct / len(y_pred)\n",
    "    print(n_correct / len(y_pred))\n",
    "    print(confusion_matrix(y_test_fold, y_pred))\n",
    "    "
   ]
  },
  {
   "cell_type": "code",
   "execution_count": 48,
   "id": "379c52c5",
   "metadata": {},
   "outputs": [
    {
     "data": {
      "text/plain": [
       "array([[ 173,   89],\n",
       "       [  81, 1054]])"
      ]
     },
     "execution_count": 48,
     "metadata": {},
     "output_type": "execute_result"
    }
   ],
   "source": [
    "preds = best_model.predict(X_test)\n",
    "\n",
    "confusion_matrix(y_test, preds)"
   ]
  },
  {
   "cell_type": "code",
   "execution_count": 50,
   "id": "a93135b1",
   "metadata": {},
   "outputs": [
    {
     "name": "stdout",
     "output_type": "stream",
     "text": [
      "              precision    recall  f1-score   support\n",
      "\n",
      "           0       0.68      0.66      0.67       262\n",
      "           1       0.92      0.93      0.93      1135\n",
      "\n",
      "    accuracy                           0.88      1397\n",
      "   macro avg       0.80      0.79      0.80      1397\n",
      "weighted avg       0.88      0.88      0.88      1397\n",
      "\n"
     ]
    }
   ],
   "source": [
    "print(classification_report(y_test, preds))"
   ]
  },
  {
   "cell_type": "code",
   "execution_count": 78,
   "id": "76770e84",
   "metadata": {},
   "outputs": [],
   "source": [
    "from sklearn.pipeline import Pipeline\n",
    "from sklearn.preprocessing import StandardScaler\n",
    "from sklearn.svm import LinearSVC"
   ]
  },
  {
   "cell_type": "code",
   "execution_count": 91,
   "id": "561a3c3b",
   "metadata": {},
   "outputs": [],
   "source": [
    "svm_clf = LinearSVC(random_state=0, tol=1e-5, verbose=1, max_iter=50000)"
   ]
  },
  {
   "cell_type": "code",
   "execution_count": 92,
   "id": "0eb4754b",
   "metadata": {},
   "outputs": [
    {
     "name": "stdout",
     "output_type": "stream",
     "text": [
      "[LibLinear]"
     ]
    },
    {
     "name": "stderr",
     "output_type": "stream",
     "text": [
      "/opt/anaconda3/lib/python3.8/site-packages/sklearn/svm/_base.py:976: ConvergenceWarning: Liblinear failed to converge, increase the number of iterations.\n",
      "  warnings.warn(\"Liblinear failed to converge, increase \"\n"
     ]
    },
    {
     "data": {
      "text/plain": [
       "LinearSVC(max_iter=50000, random_state=0, tol=1e-05, verbose=1)"
      ]
     },
     "execution_count": 92,
     "metadata": {},
     "output_type": "execute_result"
    }
   ],
   "source": [
    "svm_clf.fit(X_train, y_train)"
   ]
  },
  {
   "cell_type": "code",
   "execution_count": 95,
   "id": "ab409054",
   "metadata": {},
   "outputs": [
    {
     "data": {
      "text/plain": [
       "array([[ 127,  135],\n",
       "       [  35, 1100]])"
      ]
     },
     "execution_count": 95,
     "metadata": {},
     "output_type": "execute_result"
    }
   ],
   "source": [
    "preds = svm_clf.predict(X_test)\n",
    "\n",
    "confusion_matrix(y_test, preds)"
   ]
  },
  {
   "cell_type": "code",
   "execution_count": 96,
   "id": "77cde40b",
   "metadata": {},
   "outputs": [
    {
     "name": "stdout",
     "output_type": "stream",
     "text": [
      "              precision    recall  f1-score   support\n",
      "\n",
      "           0       0.78      0.48      0.60       262\n",
      "           1       0.89      0.97      0.93      1135\n",
      "\n",
      "    accuracy                           0.88      1397\n",
      "   macro avg       0.84      0.73      0.76      1397\n",
      "weighted avg       0.87      0.88      0.87      1397\n",
      "\n"
     ]
    }
   ],
   "source": [
    "print(classification_report(y_test, preds))\n"
   ]
  },
  {
   "cell_type": "code",
   "execution_count": 97,
   "id": "9c1da7d2",
   "metadata": {},
   "outputs": [],
   "source": [
    "from sklearn import svm\n",
    "svm_clf = svm.SVC(kernel='linear')\n"
   ]
  },
  {
   "cell_type": "code",
   "execution_count": 98,
   "id": "8f5b2df2",
   "metadata": {},
   "outputs": [
    {
     "data": {
      "text/plain": [
       "SVC(kernel='linear')"
      ]
     },
     "execution_count": 98,
     "metadata": {},
     "output_type": "execute_result"
    }
   ],
   "source": [
    "svm_clf.fit(X_train, y_train)"
   ]
  },
  {
   "cell_type": "code",
   "execution_count": 99,
   "id": "8f0c26a1",
   "metadata": {},
   "outputs": [
    {
     "data": {
      "text/plain": [
       "array([[ 132,  130],\n",
       "       [  32, 1103]])"
      ]
     },
     "execution_count": 99,
     "metadata": {},
     "output_type": "execute_result"
    }
   ],
   "source": [
    "preds = svm_clf.predict(X_test)\n",
    "\n",
    "confusion_matrix(y_test, preds)"
   ]
  },
  {
   "cell_type": "code",
   "execution_count": 100,
   "id": "d9fe0f27",
   "metadata": {},
   "outputs": [
    {
     "name": "stdout",
     "output_type": "stream",
     "text": [
      "              precision    recall  f1-score   support\n",
      "\n",
      "           0       0.80      0.50      0.62       262\n",
      "           1       0.89      0.97      0.93      1135\n",
      "\n",
      "    accuracy                           0.88      1397\n",
      "   macro avg       0.85      0.74      0.78      1397\n",
      "weighted avg       0.88      0.88      0.87      1397\n",
      "\n"
     ]
    }
   ],
   "source": [
    "print(classification_report(y_test, preds))\n"
   ]
  },
  {
   "cell_type": "markdown",
   "id": "2b1bf6ba",
   "metadata": {},
   "source": [
    "### Hard Voting "
   ]
  },
  {
   "cell_type": "code",
   "execution_count": 107,
   "id": "3c86b84f",
   "metadata": {},
   "outputs": [],
   "source": [
    "from sklearn.ensemble import RandomForestClassifier\n",
    "from sklearn.ensemble import VotingClassifier\n",
    "from sklearn.linear_model import LogisticRegression\n",
    "from sklearn.svm import SVC\n",
    "from sklearn.metrics import accuracy_score"
   ]
  },
  {
   "cell_type": "code",
   "execution_count": 105,
   "id": "4005e897",
   "metadata": {},
   "outputs": [],
   "source": [
    "log_clf = LogisticRegression(solver='newton-cg')\n",
    "rnd_clf = RandomForestClassifier()\n",
    "smv_clf = SVC()"
   ]
  },
  {
   "cell_type": "code",
   "execution_count": 106,
   "id": "5ecf6537",
   "metadata": {},
   "outputs": [
    {
     "data": {
      "text/plain": [
       "VotingClassifier(estimators=[('lr', LogisticRegression(solver='newton-cg')),\n",
       "                             ('rf', RandomForestClassifier()), ('svc', SVC())])"
      ]
     },
     "execution_count": 106,
     "metadata": {},
     "output_type": "execute_result"
    }
   ],
   "source": [
    "voting_clf = VotingClassifier(\n",
    "    estimators=[('lr', log_clf), ('rf', rnd_clf), ('svc', smv_clf)],\n",
    "    voting='hard')\n",
    "voting_clf.fit(X_train, y_train)"
   ]
  },
  {
   "cell_type": "code",
   "execution_count": 108,
   "id": "a2ae80a1",
   "metadata": {},
   "outputs": [
    {
     "name": "stdout",
     "output_type": "stream",
     "text": [
      "LogisticRegression 0.8869005010737294\n",
      "RandomForestClassifier 0.9112383679312813\n",
      "SVC 0.8840372226198998\n",
      "VotingClassifier 0.9226914817465999\n"
     ]
    }
   ],
   "source": [
    "for clf in (log_clf, rnd_clf, svm_clf, voting_clf):\n",
    "    clf.fit(X_train, y_train)\n",
    "    y_pred = clf.predict(X_test)\n",
    "    print(clf.__class__.__name__, accuracy_score(y_test, y_pred))"
   ]
  },
  {
   "cell_type": "code",
   "execution_count": 114,
   "id": "d38e81bc",
   "metadata": {},
   "outputs": [
    {
     "data": {
      "text/plain": [
       "array([[ 176,   86],\n",
       "       [  22, 1113]])"
      ]
     },
     "execution_count": 114,
     "metadata": {},
     "output_type": "execute_result"
    }
   ],
   "source": [
    "preds = voting_clf.predict(X_test)\n",
    "\n",
    "confusion_matrix(y_test, preds)"
   ]
  },
  {
   "cell_type": "code",
   "execution_count": 115,
   "id": "ab0f5471",
   "metadata": {},
   "outputs": [
    {
     "name": "stdout",
     "output_type": "stream",
     "text": [
      "              precision    recall  f1-score   support\n",
      "\n",
      "           0       0.89      0.67      0.77       262\n",
      "           1       0.93      0.98      0.95      1135\n",
      "\n",
      "    accuracy                           0.92      1397\n",
      "   macro avg       0.91      0.83      0.86      1397\n",
      "weighted avg       0.92      0.92      0.92      1397\n",
      "\n"
     ]
    }
   ],
   "source": [
    "print(classification_report(y_test, preds))"
   ]
  },
  {
   "cell_type": "markdown",
   "id": "ef30bf32",
   "metadata": {},
   "source": [
    "## Bagging and Pasting"
   ]
  },
  {
   "cell_type": "code",
   "execution_count": 109,
   "id": "aed279dc",
   "metadata": {},
   "outputs": [],
   "source": [
    "from sklearn.ensemble import BaggingClassifier\n",
    "from sklearn.tree import DecisionTreeClassifier"
   ]
  },
  {
   "cell_type": "code",
   "execution_count": 110,
   "id": "0c3ebe8b",
   "metadata": {},
   "outputs": [],
   "source": [
    "bag_clf = BaggingClassifier(\n",
    "        DecisionTreeClassifier(), n_estimators=500,\n",
    "        max_samples=100, bootstrap=True, n_jobs=-1)"
   ]
  },
  {
   "cell_type": "code",
   "execution_count": 111,
   "id": "eea8734f",
   "metadata": {},
   "outputs": [
    {
     "data": {
      "text/plain": [
       "BaggingClassifier(base_estimator=DecisionTreeClassifier(), max_samples=100,\n",
       "                  n_estimators=500, n_jobs=-1)"
      ]
     },
     "execution_count": 111,
     "metadata": {},
     "output_type": "execute_result"
    }
   ],
   "source": [
    "bag_clf.fit(X_train, y_train)"
   ]
  },
  {
   "cell_type": "code",
   "execution_count": 112,
   "id": "ca47b747",
   "metadata": {},
   "outputs": [
    {
     "data": {
      "text/plain": [
       "array([[ 179,   83],\n",
       "       [  61, 1074]])"
      ]
     },
     "execution_count": 112,
     "metadata": {},
     "output_type": "execute_result"
    }
   ],
   "source": [
    "preds = bag_clf.predict(X_test)\n",
    "\n",
    "confusion_matrix(y_test, preds)"
   ]
  },
  {
   "cell_type": "code",
   "execution_count": 113,
   "id": "3a57e58f",
   "metadata": {
    "scrolled": true
   },
   "outputs": [
    {
     "name": "stdout",
     "output_type": "stream",
     "text": [
      "              precision    recall  f1-score   support\n",
      "\n",
      "           0       0.75      0.68      0.71       262\n",
      "           1       0.93      0.95      0.94      1135\n",
      "\n",
      "    accuracy                           0.90      1397\n",
      "   macro avg       0.84      0.81      0.83      1397\n",
      "weighted avg       0.89      0.90      0.90      1397\n",
      "\n"
     ]
    }
   ],
   "source": [
    "\n"
   ]
  },
  {
   "cell_type": "code",
   "execution_count": null,
   "id": "07fa747c",
   "metadata": {},
   "outputs": [],
   "source": []
  }
 ],
 "metadata": {
  "kernelspec": {
   "display_name": "Python 3 (ipykernel)",
   "language": "python",
   "name": "python3"
  },
  "language_info": {
   "codemirror_mode": {
    "name": "ipython",
    "version": 3
   },
   "file_extension": ".py",
   "mimetype": "text/x-python",
   "name": "python",
   "nbconvert_exporter": "python",
   "pygments_lexer": "ipython3",
   "version": "3.9.7"
  }
 },
 "nbformat": 4,
 "nbformat_minor": 5
}
