{
 "cells": [
  {
   "cell_type": "code",
   "execution_count": 27,
   "id": "59a7bd46",
   "metadata": {
    "ExecuteTime": {
     "end_time": "2022-01-07T12:40:00.860731Z",
     "start_time": "2022-01-07T12:39:59.666647Z"
    }
   },
   "outputs": [],
   "source": [
    "import pandas as pd\n",
    "import spacy\n",
    "from spacy.tokens import Doc, Span, Token\n",
    "import re\n",
    "nlp = spacy.load(\"en_core_web_md\")"
   ]
  },
  {
   "cell_type": "code",
   "execution_count": 28,
   "id": "97a65bbf",
   "metadata": {
    "ExecuteTime": {
     "end_time": "2022-01-07T12:40:00.864733Z",
     "start_time": "2022-01-07T12:40:00.862733Z"
    }
   },
   "outputs": [],
   "source": [
    "from spacy import displacy\n",
    "import deplacy"
   ]
  },
  {
   "cell_type": "code",
   "execution_count": 29,
   "id": "4c869f62",
   "metadata": {
    "ExecuteTime": {
     "end_time": "2022-01-07T12:40:00.909735Z",
     "start_time": "2022-01-07T12:40:00.865734Z"
    }
   },
   "outputs": [],
   "source": [
    "essays = pd.read_csv(\"../data/output_csv/essays.csv\")\n",
    "adus = pd.read_csv(\"../data/output_csv/adus.csv\")"
   ]
  },
  {
   "cell_type": "code",
   "execution_count": 30,
   "id": "a0288b67",
   "metadata": {
    "ExecuteTime": {
     "end_time": "2022-01-07T12:40:00.915736Z",
     "start_time": "2022-01-07T12:40:00.911736Z"
    }
   },
   "outputs": [],
   "source": [
    "def text2doc(text):\n",
    "    return nlp(text)"
   ]
  },
  {
   "cell_type": "code",
   "execution_count": 38,
   "id": "50901729",
   "metadata": {
    "ExecuteTime": {
     "end_time": "2022-01-07T13:04:58.129210Z",
     "start_time": "2022-01-07T13:04:58.124206Z"
    }
   },
   "outputs": [
    {
     "data": {
      "text/plain": [
       "\"Computer has negative effects to children\\n\\nNowadays, thanks to the development of technology, computer is now indispensable to life. Some people think that computer is good for children and it should be used daily by children but some others think differently. In my opinion, the latter opinion is true.\\nFirst, using computer constantly has bad influence on children's eyes. When they concentrate on computer for too long, their eyes will get tired, which is the main reason for some eyes problems, typically shortsighted.\\nMoreover, children who play games too much on computer can seriously lack communicating skills, they will know little about the outside life. It is a well-known fact that people who are addicted to games, especially online games, can eventually bear dangerous consequences. For instance, several teenagers play games without rest, which leads to health depression, a typical example is the death of Korean gamer, who had a non-stop playing for 3 days.\\nFinally, even people who are not interested in online game can still be negatively affected by using computer too much. Some social surveys have shown that a few children use computer for studying purpose, most of them are attracted by facebook, blog, etc. instead. Due to this neglect, they will have a bad result in school because when they can not live without internet, they will have no time for their studying.\\nIn conclusion, although it is undeniable that computer is a crucial part of human life, it still has its bad side, especially for children. People should learn how to use it properly to make it an effective tool because computer should be used not only for entertaining but also for working and studying purpose.\\n\""
      ]
     },
     "execution_count": 38,
     "metadata": {},
     "output_type": "execute_result"
    }
   ],
   "source": [
    "input_text"
   ]
  },
  {
   "cell_type": "code",
   "execution_count": 31,
   "id": "497c7eea",
   "metadata": {
    "ExecuteTime": {
     "end_time": "2022-01-07T12:40:00.921736Z",
     "start_time": "2022-01-07T12:40:00.916738Z"
    }
   },
   "outputs": [],
   "source": [
    "def segmentation(doc=None ,mode = 'sentence'):\n",
    "    if mode=='paragraph':\n",
    "        pass\n",
    "    if mode=='sentence':\n",
    "        return [sent for sent in doc.sents] #if not sent.text.isspace()]\n",
    "    if mode =='avg_n_grams':\n",
    "        # Code to segment with 15 grams here (aveage)    \n",
    "        pass\n",
    "    if mode=='clause':\n",
    "        # Code to segment by clause\n",
    "        pass\n",
    "    if mode=='token':\n",
    "        return [token for token in doc]# if not token.isspace()]"
   ]
  },
  {
   "cell_type": "code",
   "execution_count": 32,
   "id": "c957aeba",
   "metadata": {
    "ExecuteTime": {
     "end_time": "2022-01-07T12:40:00.926738Z",
     "start_time": "2022-01-07T12:40:00.922739Z"
    }
   },
   "outputs": [],
   "source": [
    "# # With Indexing\n",
    "# def segmentation(doc=None ,mode = 'sentence'):\n",
    "#     if mode=='paragraph':\n",
    "#         return \n",
    "#     if mode=='sentence':\n",
    "#         return [(i,sent) for i,sent in enumerate(doc.sents)] #if not sent.text.isspace()]\n",
    "#     if mode =='avg_n_grams':\n",
    "#         # Code to segment with 15 grams here (aveage)    \n",
    "#         pass\n",
    "#     if mode=='clause':\n",
    "#         # Code to segment by clause\n",
    "#         pass\n",
    "#     if mode=='token':\n",
    "#         return [token for token in doc]# if not token.isspace()]"
   ]
  },
  {
   "cell_type": "code",
   "execution_count": 33,
   "id": "0dff752b",
   "metadata": {
    "ExecuteTime": {
     "end_time": "2022-01-07T12:40:00.931739Z",
     "start_time": "2022-01-07T12:40:00.928739Z"
    }
   },
   "outputs": [],
   "source": [
    "conj_advs = ['moreover', 'incidentally', 'next', 'yet', 'finally', 'then', 'for example', 'thus', 'accordingly', 'namely', 'meanwhile', 'that is', 'also', 'undoubtedly', 'all in all', 'lately', 'hence', 'still', 'therefore', 'in addition', 'indeed', 'again', 'so', 'nevertheless', 'besides', 'instead', 'for instance', 'certainly', 'however', 'anyway', 'further', 'furthermore', 'similarly', 'now', 'in conclusion', 'nonetheless', 'thereafter', 'likewise', 'otherwise', 'consequently']"
   ]
  },
  {
   "cell_type": "code",
   "execution_count": 34,
   "id": "b9c42c22",
   "metadata": {
    "ExecuteTime": {
     "end_time": "2022-01-07T12:40:00.941740Z",
     "start_time": "2022-01-07T12:40:00.932738Z"
    }
   },
   "outputs": [],
   "source": [
    "doc_features = ['num_tokens']\n",
    "span_features = ['word_emb', 'num_tokens', 'num_verbs', 'num_pos_pronouns', 'num_conj_adv', 'num_punct']\n",
    "token_features =['word_emb']\n",
    "features_dict = dict(doc_features=doc_features, span_features=span_features, token_features=token_features)\n",
    "\n",
    "\n",
    "\n",
    "\n",
    "\n",
    "def create_extensions(features_dict=None, force=True):\n",
    "    \n",
    "    # Feature Getters\n",
    "\n",
    "    def get_word_emb(obj):\n",
    "        return obj.vector\n",
    "    \n",
    "    def get_num_tokens(obj):\n",
    "        return len(obj)\n",
    "    \n",
    "    def get_num_verbs(span):\n",
    "        return sum([1 for token in span if token.pos_ == \"VERB\"])\n",
    "\n",
    "    def get_num_pos_pronouns(span):\n",
    "        return sum([1 for token in span if token.tag_ == \"PRP$\"])\n",
    "\n",
    "    def get_num_pron(span):\n",
    "        return sum([1 for token in span if token.pos_ == \"PRON\"])\n",
    "    \n",
    "    def get_num_conj_adv(span):\n",
    "        return sum([len(re.findall(adv, span.text.lower())) for adv in conj_advs])\n",
    "    \n",
    "    def get_num_punct(span):\n",
    "        return sum([1 for token in span if token.tag_ == \"PUNCT\"])\n",
    "    \n",
    "    # Set Extensions\n",
    "    \n",
    "    for feature in features_dict['doc_features']:\n",
    "        Doc.set_extension(feature, force=force, getter=locals()[f\"get_{feature}\"])\n",
    "        \n",
    "    for feature in features_dict['span_features']:\n",
    "        Span.set_extension(feature, force=force, getter=locals()[f\"get_{feature}\"])\n",
    "        \n",
    "    for feature in features_dict['token_features']:\n",
    "        Token.set_extension(feature, force=force, getter=locals()[f\"get_{feature}\"])\n",
    "        \n",
    "create_extensions(features_dict)   "
   ]
  },
  {
   "cell_type": "code",
   "execution_count": 35,
   "id": "cf9fc6c7",
   "metadata": {
    "ExecuteTime": {
     "end_time": "2022-01-07T12:40:01.074770Z",
     "start_time": "2022-01-07T12:40:01.009767Z"
    }
   },
   "outputs": [],
   "source": [
    "# RUNNING THE FUNCTIONS\n",
    "input_text = essays[essays['essay_id'] == 'essay024']['text'].iloc[0]\n",
    "doc = text2doc(input_text)\n",
    "\n",
    "units = segmentation(doc=doc, mode='sentence')\n"
   ]
  },
  {
   "cell_type": "code",
   "execution_count": 36,
   "id": "27385f8d",
   "metadata": {
    "ExecuteTime": {
     "end_time": "2022-01-07T12:40:01.209640Z",
     "start_time": "2022-01-07T12:40:01.201639Z"
    }
   },
   "outputs": [
    {
     "data": {
      "text/plain": [
       "0"
      ]
     },
     "execution_count": 36,
     "metadata": {},
     "output_type": "execute_result"
    }
   ],
   "source": [
    "s = units[0]\n",
    "\n"
   ]
  },
  {
   "cell_type": "code",
   "execution_count": null,
   "id": "5a5db448",
   "metadata": {},
   "outputs": [],
   "source": []
  }
 ],
 "metadata": {
  "kernelspec": {
   "display_name": "Python 3 (ipykernel)",
   "language": "python",
   "name": "python3"
  },
  "language_info": {
   "codemirror_mode": {
    "name": "ipython",
    "version": 3
   },
   "file_extension": ".py",
   "mimetype": "text/x-python",
   "name": "python",
   "nbconvert_exporter": "python",
   "pygments_lexer": "ipython3",
   "version": "3.8.5"
  }
 },
 "nbformat": 4,
 "nbformat_minor": 5
}
