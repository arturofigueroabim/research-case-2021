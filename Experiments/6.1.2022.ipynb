{
 "cells": [
  {
   "cell_type": "code",
   "execution_count": 24,
   "id": "a778461c",
   "metadata": {},
   "outputs": [],
   "source": [
    "import pandas as pd\n",
    "import nltk"
   ]
  },
  {
   "cell_type": "code",
   "execution_count": 30,
   "id": "00284d43",
   "metadata": {},
   "outputs": [],
   "source": [
    "from nltk.tokenize import sent_tokenize\n"
   ]
  },
  {
   "cell_type": "code",
   "execution_count": 2,
   "id": "9e648a30",
   "metadata": {},
   "outputs": [],
   "source": [
    "essays = pd.read_csv(\"../data/output_csv/essays.csv\")\n",
    "adus = pd.read_csv(\"../data/output_csv/adus.csv\")\n"
   ]
  },
  {
   "cell_type": "code",
   "execution_count": 62,
   "id": "2ae04a2e",
   "metadata": {},
   "outputs": [
    {
     "data": {
      "text/plain": [
       "0      Should students be taught to compete or to coo...\n",
       "1      More people are migrating to other countries t...\n",
       "2      International tourism is now more common than ...\n",
       "3      International tourism is now more common than ...\n",
       "4      Living and studying overseas\\n\\nIt is every st...\n",
       "                             ...                        \n",
       "397    We can not forcedly put the same numbers of ma...\n",
       "398    Drugs, alcohol and messy sex lives\\n\\nCelebrit...\n",
       "399    A greater proportion of the budget should be a...\n",
       "400    Fatherhood should be as present as motherhood ...\n",
       "401    Children should studying hard or playing sport...\n",
       "Name: text, Length: 402, dtype: object"
      ]
     },
     "execution_count": 62,
     "metadata": {},
     "output_type": "execute_result"
    }
   ],
   "source": [
    "essays['text']"
   ]
  },
  {
   "cell_type": "code",
   "execution_count": 63,
   "id": "10208cbd",
   "metadata": {},
   "outputs": [
    {
     "data": {
      "text/plain": [
       "\"Should students be taught to compete or to cooperate?\\n\\nIt is always said that competition can effectively promote the development of economy. In order to survive in the competition, companies continue to improve their products and service, and as a result, the whole society prospers. However, when we discuss the issue of competition or cooperation, what we are concerned about is not the whole society, but the development of an individual's whole life. From this point of view, I firmly believe that we should attach more importance to cooperation during primary education.\\nFirst of all, through cooperation, children can learn about interpersonal skills which are significant in the future life of all students. What we acquired from team work is not only how to achieve the same goal with others but more importantly, how to get along with others. During the process of cooperation, children can learn about how to listen to opinions of others, how to communicate with others, how to think comprehensively, and even how to compromise with other team members when conflicts occurred. All of these skills help them to get on well with other people and will benefit them for the whole life.\\nOn the other hand, the significance of competition is that how to become more excellence to gain the victory. Hence it is always said that competition makes the society more effective. However, when we consider about the question that how to win the game, we always find that we need the cooperation. The greater our goal is, the more competition we need. Take Olympic games which is a form of competition for instance, it is hard to imagine how an athlete could win the game without the training of his or her coach, and the help of other professional staffs such as the people who take care of his diet, and those who are in charge of the medical care. The winner is the athlete but the success belongs to the whole team. Therefore without the cooperation, there would be no victory of competition.\\nConsequently, no matter from the view of individual development or the relationship between competition and cooperation we can receive the same conclusion that a more cooperative attitudes towards life is more profitable in one's success.\""
      ]
     },
     "execution_count": 63,
     "metadata": {},
     "output_type": "execute_result"
    }
   ],
   "source": [
    "essays['text'].iloc[0]"
   ]
  },
  {
   "cell_type": "code",
   "execution_count": 67,
   "id": "5da12048",
   "metadata": {},
   "outputs": [
    {
     "data": {
      "text/html": [
       "<div>\n",
       "<style scoped>\n",
       "    .dataframe tbody tr th:only-of-type {\n",
       "        vertical-align: middle;\n",
       "    }\n",
       "\n",
       "    .dataframe tbody tr th {\n",
       "        vertical-align: top;\n",
       "    }\n",
       "\n",
       "    .dataframe thead th {\n",
       "        text-align: right;\n",
       "    }\n",
       "</style>\n",
       "<table border=\"1\" class=\"dataframe\">\n",
       "  <thead>\n",
       "    <tr style=\"text-align: right;\">\n",
       "      <th></th>\n",
       "      <th>adu_label</th>\n",
       "      <th>ADU</th>\n",
       "      <th>essay_id</th>\n",
       "      <th>label</th>\n",
       "      <th>start_ind</th>\n",
       "      <th>end_ind</th>\n",
       "      <th>claim_type</th>\n",
       "      <th>sentence</th>\n",
       "      <th>split_text</th>\n",
       "      <th>num_tokens_text</th>\n",
       "    </tr>\n",
       "  </thead>\n",
       "  <tbody>\n",
       "    <tr>\n",
       "      <th>35</th>\n",
       "      <td>T1</td>\n",
       "      <td>MajorClaim 262 376\\tthis industry has affected...</td>\n",
       "      <td>essay004</td>\n",
       "      <td>test</td>\n",
       "      <td>262</td>\n",
       "      <td>376</td>\n",
       "      <td>MajorClaim</td>\n",
       "      <td>this industry has affected the cultural attrib...</td>\n",
       "      <td>[this, industry, has, affected, the, cultural,...</td>\n",
       "      <td>16</td>\n",
       "    </tr>\n",
       "    <tr>\n",
       "      <th>36</th>\n",
       "      <td>T2</td>\n",
       "      <td>MajorClaim 1663 1758\\tthe tourism has created ...</td>\n",
       "      <td>essay004</td>\n",
       "      <td>test</td>\n",
       "      <td>1663</td>\n",
       "      <td>1758</td>\n",
       "      <td>MajorClaim</td>\n",
       "      <td>the tourism has created threatening pressure o...</td>\n",
       "      <td>[the, tourism, has, created, threatening, pres...</td>\n",
       "      <td>13</td>\n",
       "    </tr>\n",
       "    <tr>\n",
       "      <th>37</th>\n",
       "      <td>T3</td>\n",
       "      <td>Claim 179 239\\tthe tourism bring large profit ...</td>\n",
       "      <td>essay004</td>\n",
       "      <td>test</td>\n",
       "      <td>179</td>\n",
       "      <td>239</td>\n",
       "      <td>Claim</td>\n",
       "      <td>the tourism bring large profit for the destina...</td>\n",
       "      <td>[the, tourism, bring, large, profit, for, the,...</td>\n",
       "      <td>9</td>\n",
       "    </tr>\n",
       "    <tr>\n",
       "      <th>38</th>\n",
       "      <td>T4</td>\n",
       "      <td>Claim 953 1031\\tinternational tourism can crea...</td>\n",
       "      <td>essay004</td>\n",
       "      <td>test</td>\n",
       "      <td>953</td>\n",
       "      <td>1031</td>\n",
       "      <td>Claim</td>\n",
       "      <td>international tourism can create negative impa...</td>\n",
       "      <td>[international, tourism, can, create, negative...</td>\n",
       "      <td>10</td>\n",
       "    </tr>\n",
       "    <tr>\n",
       "      <th>39</th>\n",
       "      <td>T5</td>\n",
       "      <td>Claim 1578 1624\\ttourism has threatened the na...</td>\n",
       "      <td>essay004</td>\n",
       "      <td>test</td>\n",
       "      <td>1578</td>\n",
       "      <td>1624</td>\n",
       "      <td>Claim</td>\n",
       "      <td>tourism has threatened the nature environments</td>\n",
       "      <td>[tourism, has, threatened, the, nature, enviro...</td>\n",
       "      <td>6</td>\n",
       "    </tr>\n",
       "    <tr>\n",
       "      <th>...</th>\n",
       "      <td>...</td>\n",
       "      <td>...</td>\n",
       "      <td>...</td>\n",
       "      <td>...</td>\n",
       "      <td>...</td>\n",
       "      <td>...</td>\n",
       "      <td>...</td>\n",
       "      <td>...</td>\n",
       "      <td>...</td>\n",
       "      <td>...</td>\n",
       "    </tr>\n",
       "    <tr>\n",
       "      <th>6039</th>\n",
       "      <td>T12</td>\n",
       "      <td>Claim 1484 1589\\tuniversities should encourage...</td>\n",
       "      <td>essay398</td>\n",
       "      <td>test</td>\n",
       "      <td>1484</td>\n",
       "      <td>1589</td>\n",
       "      <td>Claim</td>\n",
       "      <td>universities should encourage more girls to ch...</td>\n",
       "      <td>[universities, should, encourage, more, girls,...</td>\n",
       "      <td>16</td>\n",
       "    </tr>\n",
       "    <tr>\n",
       "      <th>6040</th>\n",
       "      <td>T13</td>\n",
       "      <td>Premise 1595 1648\\tthis could avoid imbalance ...</td>\n",
       "      <td>essay398</td>\n",
       "      <td>test</td>\n",
       "      <td>1595</td>\n",
       "      <td>1648</td>\n",
       "      <td>Premise</td>\n",
       "      <td>this could avoid imbalance of gender in some s...</td>\n",
       "      <td>[this, could, avoid, imbalance, of, gender, in...</td>\n",
       "      <td>9</td>\n",
       "    </tr>\n",
       "    <tr>\n",
       "      <th>6041</th>\n",
       "      <td>T14</td>\n",
       "      <td>Premise 1650 1734\\tIt would affect students' m...</td>\n",
       "      <td>essay398</td>\n",
       "      <td>test</td>\n",
       "      <td>1650</td>\n",
       "      <td>1734</td>\n",
       "      <td>Premise</td>\n",
       "      <td>It would affect students' mental health to stu...</td>\n",
       "      <td>[It, would, affect, students', mental, health,...</td>\n",
       "      <td>14</td>\n",
       "    </tr>\n",
       "    <tr>\n",
       "      <th>6042</th>\n",
       "      <td>T15</td>\n",
       "      <td>Premise 1349 1388\\tshe is unlikely to focus on...</td>\n",
       "      <td>essay398</td>\n",
       "      <td>test</td>\n",
       "      <td>1349</td>\n",
       "      <td>1388</td>\n",
       "      <td>Premise</td>\n",
       "      <td>she is unlikely to focus on her subject</td>\n",
       "      <td>[she, is, unlikely, to, focus, on, her, subject]</td>\n",
       "      <td>8</td>\n",
       "    </tr>\n",
       "    <tr>\n",
       "      <th>6043</th>\n",
       "      <td>T16</td>\n",
       "      <td>Premise 1394 1463\\tthis also can block the gir...</td>\n",
       "      <td>essay398</td>\n",
       "      <td>test</td>\n",
       "      <td>1394</td>\n",
       "      <td>1463</td>\n",
       "      <td>Premise</td>\n",
       "      <td>this also can block the girl's future developm...</td>\n",
       "      <td>[this, also, can, block, the, girl's, future, ...</td>\n",
       "      <td>11</td>\n",
       "    </tr>\n",
       "  </tbody>\n",
       "</table>\n",
       "<p>1266 rows × 10 columns</p>\n",
       "</div>"
      ],
      "text/plain": [
       "     adu_label                                                ADU  essay_id  \\\n",
       "35          T1  MajorClaim 262 376\\tthis industry has affected...  essay004   \n",
       "36          T2  MajorClaim 1663 1758\\tthe tourism has created ...  essay004   \n",
       "37          T3  Claim 179 239\\tthe tourism bring large profit ...  essay004   \n",
       "38          T4  Claim 953 1031\\tinternational tourism can crea...  essay004   \n",
       "39          T5  Claim 1578 1624\\ttourism has threatened the na...  essay004   \n",
       "...        ...                                                ...       ...   \n",
       "6039       T12  Claim 1484 1589\\tuniversities should encourage...  essay398   \n",
       "6040       T13  Premise 1595 1648\\tthis could avoid imbalance ...  essay398   \n",
       "6041       T14  Premise 1650 1734\\tIt would affect students' m...  essay398   \n",
       "6042       T15  Premise 1349 1388\\tshe is unlikely to focus on...  essay398   \n",
       "6043       T16  Premise 1394 1463\\tthis also can block the gir...  essay398   \n",
       "\n",
       "     label  start_ind  end_ind  claim_type  \\\n",
       "35    test        262      376  MajorClaim   \n",
       "36    test       1663     1758  MajorClaim   \n",
       "37    test        179      239       Claim   \n",
       "38    test        953     1031       Claim   \n",
       "39    test       1578     1624       Claim   \n",
       "...    ...        ...      ...         ...   \n",
       "6039  test       1484     1589       Claim   \n",
       "6040  test       1595     1648     Premise   \n",
       "6041  test       1650     1734     Premise   \n",
       "6042  test       1349     1388     Premise   \n",
       "6043  test       1394     1463     Premise   \n",
       "\n",
       "                                               sentence  \\\n",
       "35    this industry has affected the cultural attrib...   \n",
       "36    the tourism has created threatening pressure o...   \n",
       "37    the tourism bring large profit for the destina...   \n",
       "38    international tourism can create negative impa...   \n",
       "39       tourism has threatened the nature environments   \n",
       "...                                                 ...   \n",
       "6039  universities should encourage more girls to ch...   \n",
       "6040  this could avoid imbalance of gender in some s...   \n",
       "6041  It would affect students' mental health to stu...   \n",
       "6042            she is unlikely to focus on her subject   \n",
       "6043  this also can block the girl's future developm...   \n",
       "\n",
       "                                             split_text  num_tokens_text  \n",
       "35    [this, industry, has, affected, the, cultural,...               16  \n",
       "36    [the, tourism, has, created, threatening, pres...               13  \n",
       "37    [the, tourism, bring, large, profit, for, the,...                9  \n",
       "38    [international, tourism, can, create, negative...               10  \n",
       "39    [tourism, has, threatened, the, nature, enviro...                6  \n",
       "...                                                 ...              ...  \n",
       "6039  [universities, should, encourage, more, girls,...               16  \n",
       "6040  [this, could, avoid, imbalance, of, gender, in...                9  \n",
       "6041  [It, would, affect, students', mental, health,...               14  \n",
       "6042   [she, is, unlikely, to, focus, on, her, subject]                8  \n",
       "6043  [this, also, can, block, the, girl's, future, ...               11  \n",
       "\n",
       "[1266 rows x 10 columns]"
      ]
     },
     "execution_count": 67,
     "metadata": {},
     "output_type": "execute_result"
    }
   ],
   "source": [
    "adus[adus['label']=='test']"
   ]
  },
  {
   "cell_type": "code",
   "execution_count": 38,
   "id": "47a9b6c2",
   "metadata": {},
   "outputs": [
    {
     "name": "stdout",
     "output_type": "stream",
     "text": [
      "Computer has negative effects to children\n",
      "\n",
      "Nowadays, thanks to the development of technology, computer is now indispensable to life. Some people think that computer is good for children and it should be used daily by children but some others think differently. In my opinion, the latter opinion is true.\n",
      "First, using computer constantly has bad influence on children's eyes. When they concentrate on computer for too long, their eyes will get tired, which is the main reason for some eyes problems, typically shortsighted.\n",
      "Moreover, children who play games too much on computer can seriously lack communicating skills, they will know little about the outside life. It is a well-known fact that people who are addicted to games, especially online games, can eventually bear dangerous consequences. For instance, several teenagers play games without rest, which leads to health depression, a typical example is the death of Korean gamer, who had a non-stop playing for 3 days.\n",
      "Finally, even people who are not interested in online game can still be negatively affected by using computer too much. Some social surveys have shown that a few children use computer for studying purpose, most of them are attracted by facebook, blog, etc. instead. Due to this neglect, they will have a bad result in school because when they can not live without internet, they will have no time for their studying.\n",
      "In conclusion, although it is undeniable that computer is a crucial part of human life, it still has its bad side, especially for children. People should learn how to use it properly to make it an effective tool because computer should be used not only for entertaining but also for working and studying purpose.\n",
      "\n"
     ]
    }
   ],
   "source": [
    "input_text = essays[essays['essay_id']=='essay024']['text'].iloc[0]\n",
    "print(input_text)\n",
    "\n"
   ]
  },
  {
   "cell_type": "markdown",
   "id": "ec9853d5",
   "metadata": {},
   "source": [
    "# Segmentation"
   ]
  },
  {
   "cell_type": "code",
   "execution_count": 14,
   "id": "9976958a",
   "metadata": {},
   "outputs": [
    {
     "data": {
      "text/plain": [
       "'Should students be taught to compete or to cooperate?\\n\\nIt is always said that competition can effectively promote the development of economy'"
      ]
     },
     "execution_count": 14,
     "metadata": {},
     "output_type": "execute_result"
    }
   ],
   "source": [
    "units = input_text.split(\".\")\n",
    "units[0]"
   ]
  },
  {
   "cell_type": "markdown",
   "id": "3aa857ec",
   "metadata": {},
   "source": [
    "# Classification"
   ]
  },
  {
   "cell_type": "code",
   "execution_count": 6,
   "id": "c58afe06",
   "metadata": {},
   "outputs": [
    {
     "data": {
      "text/html": [
       "<div>\n",
       "<style scoped>\n",
       "    .dataframe tbody tr th:only-of-type {\n",
       "        vertical-align: middle;\n",
       "    }\n",
       "\n",
       "    .dataframe tbody tr th {\n",
       "        vertical-align: top;\n",
       "    }\n",
       "\n",
       "    .dataframe thead th {\n",
       "        text-align: right;\n",
       "    }\n",
       "</style>\n",
       "<table border=\"1\" class=\"dataframe\">\n",
       "  <thead>\n",
       "    <tr style=\"text-align: right;\">\n",
       "      <th></th>\n",
       "      <th>adu_label</th>\n",
       "      <th>ADU</th>\n",
       "      <th>essay_id</th>\n",
       "      <th>label</th>\n",
       "      <th>start_ind</th>\n",
       "      <th>end_ind</th>\n",
       "      <th>claim_type</th>\n",
       "      <th>sentence</th>\n",
       "    </tr>\n",
       "  </thead>\n",
       "  <tbody>\n",
       "    <tr>\n",
       "      <th>0</th>\n",
       "      <td>T1</td>\n",
       "      <td>MajorClaim 503 575\\twe should attach more impo...</td>\n",
       "      <td>essay001</td>\n",
       "      <td>train</td>\n",
       "      <td>503</td>\n",
       "      <td>575</td>\n",
       "      <td>MajorClaim</td>\n",
       "      <td>we should attach more importance to cooperatio...</td>\n",
       "    </tr>\n",
       "    <tr>\n",
       "      <th>1</th>\n",
       "      <td>T2</td>\n",
       "      <td>MajorClaim 2154 2231\\ta more cooperative attit...</td>\n",
       "      <td>essay001</td>\n",
       "      <td>train</td>\n",
       "      <td>2154</td>\n",
       "      <td>2231</td>\n",
       "      <td>MajorClaim</td>\n",
       "      <td>a more cooperative attitudes towards life is m...</td>\n",
       "    </tr>\n",
       "    <tr>\n",
       "      <th>2</th>\n",
       "      <td>T3</td>\n",
       "      <td>Claim 591 714\\tthrough cooperation, children c...</td>\n",
       "      <td>essay001</td>\n",
       "      <td>train</td>\n",
       "      <td>591</td>\n",
       "      <td>714</td>\n",
       "      <td>Claim</td>\n",
       "      <td>through cooperation, children can learn about ...</td>\n",
       "    </tr>\n",
       "    <tr>\n",
       "      <th>3</th>\n",
       "      <td>T4</td>\n",
       "      <td>Premise 716 851\\tWhat we acquired from team wo...</td>\n",
       "      <td>essay001</td>\n",
       "      <td>train</td>\n",
       "      <td>716</td>\n",
       "      <td>851</td>\n",
       "      <td>Premise</td>\n",
       "      <td>What we acquired from team work is not only ho...</td>\n",
       "    </tr>\n",
       "    <tr>\n",
       "      <th>4</th>\n",
       "      <td>T5</td>\n",
       "      <td>Premise 853 1086\\tDuring the process of cooper...</td>\n",
       "      <td>essay001</td>\n",
       "      <td>train</td>\n",
       "      <td>853</td>\n",
       "      <td>1086</td>\n",
       "      <td>Premise</td>\n",
       "      <td>During the process of cooperation, children ca...</td>\n",
       "    </tr>\n",
       "    <tr>\n",
       "      <th>5</th>\n",
       "      <td>T6</td>\n",
       "      <td>Premise 1088 1191\\tAll of these skills help th...</td>\n",
       "      <td>essay001</td>\n",
       "      <td>train</td>\n",
       "      <td>1088</td>\n",
       "      <td>1191</td>\n",
       "      <td>Premise</td>\n",
       "      <td>All of these skills help them to get on well w...</td>\n",
       "    </tr>\n",
       "    <tr>\n",
       "      <th>6</th>\n",
       "      <td>T7</td>\n",
       "      <td>Claim 1332 1376\\tcompetition makes the society...</td>\n",
       "      <td>essay001</td>\n",
       "      <td>train</td>\n",
       "      <td>1332</td>\n",
       "      <td>1376</td>\n",
       "      <td>Claim</td>\n",
       "      <td>competition makes the society more effective</td>\n",
       "    </tr>\n",
       "    <tr>\n",
       "      <th>7</th>\n",
       "      <td>T8</td>\n",
       "      <td>Premise 1212 1301\\tthe significance of competi...</td>\n",
       "      <td>essay001</td>\n",
       "      <td>train</td>\n",
       "      <td>1212</td>\n",
       "      <td>1301</td>\n",
       "      <td>Premise</td>\n",
       "      <td>the significance of competition is that how to...</td>\n",
       "    </tr>\n",
       "    <tr>\n",
       "      <th>8</th>\n",
       "      <td>T9</td>\n",
       "      <td>Premise 1387 1492\\twhen we consider about the ...</td>\n",
       "      <td>essay001</td>\n",
       "      <td>train</td>\n",
       "      <td>1387</td>\n",
       "      <td>1492</td>\n",
       "      <td>Premise</td>\n",
       "      <td>when we consider about the question that how t...</td>\n",
       "    </tr>\n",
       "    <tr>\n",
       "      <th>9</th>\n",
       "      <td>T10</td>\n",
       "      <td>Premise 1549 1846\\tTake Olympic games which is...</td>\n",
       "      <td>essay001</td>\n",
       "      <td>train</td>\n",
       "      <td>1549</td>\n",
       "      <td>1846</td>\n",
       "      <td>Premise</td>\n",
       "      <td>Take Olympic games which is a form of competit...</td>\n",
       "    </tr>\n",
       "    <tr>\n",
       "      <th>10</th>\n",
       "      <td>T11</td>\n",
       "      <td>Claim 1927 1992\\twithout the cooperation, ther...</td>\n",
       "      <td>essay001</td>\n",
       "      <td>train</td>\n",
       "      <td>1927</td>\n",
       "      <td>1992</td>\n",
       "      <td>Claim</td>\n",
       "      <td>without the cooperation, there would be no vic...</td>\n",
       "    </tr>\n",
       "  </tbody>\n",
       "</table>\n",
       "</div>"
      ],
      "text/plain": [
       "   adu_label                                                ADU  essay_id  \\\n",
       "0         T1  MajorClaim 503 575\\twe should attach more impo...  essay001   \n",
       "1         T2  MajorClaim 2154 2231\\ta more cooperative attit...  essay001   \n",
       "2         T3  Claim 591 714\\tthrough cooperation, children c...  essay001   \n",
       "3         T4  Premise 716 851\\tWhat we acquired from team wo...  essay001   \n",
       "4         T5  Premise 853 1086\\tDuring the process of cooper...  essay001   \n",
       "5         T6  Premise 1088 1191\\tAll of these skills help th...  essay001   \n",
       "6         T7  Claim 1332 1376\\tcompetition makes the society...  essay001   \n",
       "7         T8  Premise 1212 1301\\tthe significance of competi...  essay001   \n",
       "8         T9  Premise 1387 1492\\twhen we consider about the ...  essay001   \n",
       "9        T10  Premise 1549 1846\\tTake Olympic games which is...  essay001   \n",
       "10       T11  Claim 1927 1992\\twithout the cooperation, ther...  essay001   \n",
       "\n",
       "    label  start_ind  end_ind  claim_type  \\\n",
       "0   train        503      575  MajorClaim   \n",
       "1   train       2154     2231  MajorClaim   \n",
       "2   train        591      714       Claim   \n",
       "3   train        716      851     Premise   \n",
       "4   train        853     1086     Premise   \n",
       "5   train       1088     1191     Premise   \n",
       "6   train       1332     1376       Claim   \n",
       "7   train       1212     1301     Premise   \n",
       "8   train       1387     1492     Premise   \n",
       "9   train       1549     1846     Premise   \n",
       "10  train       1927     1992       Claim   \n",
       "\n",
       "                                             sentence  \n",
       "0   we should attach more importance to cooperatio...  \n",
       "1   a more cooperative attitudes towards life is m...  \n",
       "2   through cooperation, children can learn about ...  \n",
       "3   What we acquired from team work is not only ho...  \n",
       "4   During the process of cooperation, children ca...  \n",
       "5   All of these skills help them to get on well w...  \n",
       "6        competition makes the society more effective  \n",
       "7   the significance of competition is that how to...  \n",
       "8   when we consider about the question that how t...  \n",
       "9   Take Olympic games which is a form of competit...  \n",
       "10  without the cooperation, there would be no vic...  "
      ]
     },
     "execution_count": 6,
     "metadata": {},
     "output_type": "execute_result"
    }
   ],
   "source": [
    "adus[adus['essay_id'] =='essay001']"
   ]
  },
  {
   "cell_type": "code",
   "execution_count": 48,
   "id": "a338b21b",
   "metadata": {},
   "outputs": [],
   "source": [
    "\n",
    "\n",
    "def segmentation(text =None ,mode = 'sentence'):\n",
    "    if mode=='paragraph':\n",
    "        pass\n",
    "    if mode=='sentence':\n",
    "        return sent_tokenize(text)\n",
    "    if mode =='avg_n_grams':\n",
    "        # Code to segment with 15 grams here (aveage)    \n",
    "        pass\n",
    "    if mode=='clause':\n",
    "        # Code to segment by clause\n",
    "        pass\n",
    "    if mode=='token':\n",
    "        return text.split(\" \")"
   ]
  },
  {
   "cell_type": "code",
   "execution_count": null,
   "id": "b628f59d",
   "metadata": {},
   "outputs": [],
   "source": [
    "pre_defined_labels_model(segmentation_mode = 'avg_n_grams')"
   ]
  },
  {
   "cell_type": "code",
   "execution_count": 74,
   "id": "339f54a9",
   "metadata": {},
   "outputs": [
    {
     "name": "stdout",
     "output_type": "stream",
     "text": [
      "0 Computer has negative effects to children\n",
      "\n",
      "Nowadays, thanks to the development of technology, computer is now indispensable to life.\n",
      "1 Some people think that computer is good for children and it should be used daily by children but some others think differently.\n",
      "2 In my opinion, the latter opinion is true.\n",
      "3 First, using computer constantly has bad influence on children's eyes.\n",
      "4 When they concentrate on computer for too long, their eyes will get tired, which is the main reason for some eyes problems, typically shortsighted.\n",
      "5 Moreover, children who play games too much on computer can seriously lack communicating skills, they will know little about the outside life.\n",
      "6 It is a well-known fact that people who are addicted to games, especially online games, can eventually bear dangerous consequences.\n",
      "7 For instance, several teenagers play games without rest, which leads to health depression, a typical example is the death of Korean gamer, who had a non-stop playing for 3 days.\n",
      "8 Finally, even people who are not interested in online game can still be negatively affected by using computer too much.\n",
      "9 Some social surveys have shown that a few children use computer for studying purpose, most of them are attracted by facebook, blog, etc.\n",
      "10 instead.\n",
      "11 Due to this neglect, they will have a bad result in school because when they can not live without internet, they will have no time for their studying.\n",
      "12 In conclusion, although it is undeniable that computer is a crucial part of human life, it still has its bad side, especially for children.\n",
      "13 People should learn how to use it properly to make it an effective tool because computer should be used not only for entertaining but also for working and studying purpose.\n"
     ]
    }
   ],
   "source": [
    "for i, j in enumerate(segmentation(input_text)):\n",
    "    print(i,j)"
   ]
  },
  {
   "cell_type": "code",
   "execution_count": 71,
   "id": "d8196cd1",
   "metadata": {},
   "outputs": [
    {
     "ename": "NameError",
     "evalue": "name 's1' is not defined",
     "output_type": "error",
     "traceback": [
      "\u001b[1;31m---------------------------------------------------------------------------\u001b[0m",
      "\u001b[1;31mNameError\u001b[0m                                 Traceback (most recent call last)",
      "\u001b[1;32mC:\\Users\\BILALM~1\\AppData\\Local\\Temp/ipykernel_26964/1234754133.py\u001b[0m in \u001b[0;36m<module>\u001b[1;34m\u001b[0m\n\u001b[1;32m----> 1\u001b[1;33m \u001b[0ms1\u001b[0m\u001b[1;33m\u001b[0m\u001b[1;33m\u001b[0m\u001b[0m\n\u001b[0m",
      "\u001b[1;31mNameError\u001b[0m: name 's1' is not defined"
     ]
    }
   ],
   "source": [
    "s1"
   ]
  },
  {
   "cell_type": "code",
   "execution_count": 69,
   "id": "0c599a76",
   "metadata": {},
   "outputs": [],
   "source": [
    "import seaborn as sns"
   ]
  },
  {
   "cell_type": "code",
   "execution_count": 58,
   "id": "a05cbc5d",
   "metadata": {},
   "outputs": [
    {
     "data": {
      "text/plain": [
       "count    6089.000000\n",
       "mean       15.696009\n",
       "std         7.180587\n",
       "min         3.000000\n",
       "25%        10.000000\n",
       "50%        15.000000\n",
       "75%        20.000000\n",
       "max        67.000000\n",
       "Name: num_tokens_text, dtype: float64"
      ]
     },
     "execution_count": 58,
     "metadata": {},
     "output_type": "execute_result"
    }
   ],
   "source": [
    "adus['split_text'] = adus['sentence'].apply(lambda x: x.split(' '))\n",
    "\n",
    "adus['num_tokens_text'] = adus['split_text'].apply(lambda x: len(x))\n",
    "adus['num_tokens_text'].describe()"
   ]
  },
  {
   "cell_type": "code",
   "execution_count": 50,
   "id": "de3bfd50",
   "metadata": {},
   "outputs": [
    {
     "data": {
      "text/plain": [
       "['Computer has negative effects to children\\n\\nNowadays, thanks to the development of technology, computer is now indispensable to life.',\n",
       " 'Some people think that computer is good for children and it should be used daily by children but some others think differently.',\n",
       " 'In my opinion, the latter opinion is true.',\n",
       " \"First, using computer constantly has bad influence on children's eyes.\",\n",
       " 'When they concentrate on computer for too long, their eyes will get tired, which is the main reason for some eyes problems, typically shortsighted.',\n",
       " 'Moreover, children who play games too much on computer can seriously lack communicating skills, they will know little about the outside life.',\n",
       " 'It is a well-known fact that people who are addicted to games, especially online games, can eventually bear dangerous consequences.',\n",
       " 'For instance, several teenagers play games without rest, which leads to health depression, a typical example is the death of Korean gamer, who had a non-stop playing for 3 days.',\n",
       " 'Finally, even people who are not interested in online game can still be negatively affected by using computer too much.',\n",
       " 'Some social surveys have shown that a few children use computer for studying purpose, most of them are attracted by facebook, blog, etc.',\n",
       " 'instead.',\n",
       " 'Due to this neglect, they will have a bad result in school because when they can not live without internet, they will have no time for their studying.',\n",
       " 'In conclusion, although it is undeniable that computer is a crucial part of human life, it still has its bad side, especially for children.',\n",
       " 'People should learn how to use it properly to make it an effective tool because computer should be used not only for entertaining but also for working and studying purpose.']"
      ]
     },
     "execution_count": 50,
     "metadata": {},
     "output_type": "execute_result"
    }
   ],
   "source": [
    "segmentation(input_text, mode='sentence')"
   ]
  },
  {
   "cell_type": "code",
   "execution_count": 77,
   "id": "347677ec",
   "metadata": {},
   "outputs": [
    {
     "data": {
      "text/plain": [
       "\"Computer has negative effects to children\\n\\nNowadays, thanks to the development of technology, computer is now indispensable to life. Some people think that computer is good for children and it should be used daily by children but some others think differently. In my opinion, the latter opinion is true.\\nFirst, using computer constantly has bad influence on children's eyes. When they concentrate on computer for too long, their eyes will get tired, which is the main reason for some eyes problems, typically shortsighted.\\nMoreover, children who play games too much on computer can seriously lack communicating skills, they will know little about the outside life. It is a well-known fact that people who are addicted to games, especially online games, can eventually bear dangerous consequences. For instance, several teenagers play games without rest, which leads to health depression, a typical example is the death of Korean gamer, who had a non-stop playing for 3 days.\\nFinally, even people who are not interested in online game can still be negatively affected by using computer too much. Some social surveys have shown that a few children use computer for studying purpose, most of them are attracted by facebook, blog, etc. instead. Due to this neglect, they will have a bad result in school because when they can not live without internet, they will have no time for their studying.\\nIn conclusion, although it is undeniable that computer is a crucial part of human life, it still has its bad side, especially for children. People should learn how to use it properly to make it an effective tool because computer should be used not only for entertaining but also for working and studying purpose.\""
      ]
     },
     "execution_count": 77,
     "metadata": {},
     "output_type": "execute_result"
    }
   ],
   "source": [
    "input_text.strip()"
   ]
  },
  {
   "cell_type": "code",
   "execution_count": 52,
   "id": "c97728f9",
   "metadata": {},
   "outputs": [],
   "source": [
    "import spacy\n",
    "nlp =spacy.load('en_core_web_md')\n"
   ]
  },
  {
   "cell_type": "code",
   "execution_count": 53,
   "id": "e9c7f03d",
   "metadata": {},
   "outputs": [],
   "source": [
    "doc= nlp(input_text)"
   ]
  },
  {
   "cell_type": "code",
   "execution_count": 54,
   "id": "1886e2b4",
   "metadata": {},
   "outputs": [
    {
     "name": "stdout",
     "output_type": "stream",
     "text": [
      "0 Computer has negative effects to children\n",
      "\n",
      "Nowadays, thanks to the development of technology, computer is now indispensable to life. \n",
      "\n",
      "1 Some people think that computer is good for children and it should be used daily by children but some others think differently. \n",
      "\n",
      "2 In my opinion, the latter opinion is true. \n",
      "\n",
      "3 \n",
      "First, using computer constantly has bad influence on children's eyes. \n",
      "\n",
      "4 When they concentrate on computer for too long, their eyes will get tired, which is the main reason for some eyes problems, typically shortsighted. \n",
      "\n",
      "5 \n",
      "Moreover, children who play games too much on computer can seriously lack communicating skills, they will know little about the outside life. \n",
      "\n",
      "6 It is a well-known fact that people who are addicted to games, especially online games, can eventually bear dangerous consequences. \n",
      "\n",
      "7 For instance, several teenagers play games without rest, which leads to health depression, a typical example is the death of Korean gamer, who had a non-stop playing for 3 days. \n",
      "\n",
      "8 \n",
      "Finally, even people who are not interested in online game can still be negatively affected by using computer too much. \n",
      "\n",
      "9 Some social surveys have shown that a few children use computer for studying purpose, most of them are attracted by facebook, blog, etc. instead. \n",
      "\n",
      "10 Due to this neglect, they will have a bad result in school because when they can not live without internet, they will have no time for their studying. \n",
      "\n",
      "11 \n",
      " \n",
      "\n",
      "12 In conclusion, although it is undeniable that computer is a crucial part of human life, it still has its bad side, especially for children. \n",
      "\n",
      "13 People should learn how to use it properly to make it an effective tool because computer should be used not only for entertaining but also for working and studying purpose. \n",
      "\n",
      "14 \n",
      " \n",
      "\n"
     ]
    },
    {
     "data": {
      "text/plain": [
       "[None,\n",
       " None,\n",
       " None,\n",
       " None,\n",
       " None,\n",
       " None,\n",
       " None,\n",
       " None,\n",
       " None,\n",
       " None,\n",
       " None,\n",
       " None,\n",
       " None,\n",
       " None,\n",
       " None]"
      ]
     },
     "execution_count": 54,
     "metadata": {},
     "output_type": "execute_result"
    }
   ],
   "source": [
    "[print(i,sent,\"\\n\") for i,sent in enumerate(doc.sents)]"
   ]
  },
  {
   "cell_type": "code",
   "execution_count": null,
   "id": "7ca70c1b",
   "metadata": {},
   "outputs": [],
   "source": []
  }
 ],
 "metadata": {
  "kernelspec": {
   "display_name": "Python 3 (ipykernel)",
   "language": "python",
   "name": "python3"
  },
  "language_info": {
   "codemirror_mode": {
    "name": "ipython",
    "version": 3
   },
   "file_extension": ".py",
   "mimetype": "text/x-python",
   "name": "python",
   "nbconvert_exporter": "python",
   "pygments_lexer": "ipython3",
   "version": "3.9.7"
  }
 },
 "nbformat": 4,
 "nbformat_minor": 5
}
