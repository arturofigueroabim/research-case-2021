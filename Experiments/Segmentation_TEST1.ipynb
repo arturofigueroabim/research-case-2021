{
 "cells": [
  {
   "cell_type": "code",
   "execution_count": 7,
   "id": "bcb8d16e",
   "metadata": {
    "ExecuteTime": {
     "end_time": "2022-02-26T20:36:26.820096Z",
     "start_time": "2022-02-26T20:36:26.750108Z"
    }
   },
   "outputs": [],
   "source": [
    "import pandas as pd\n",
    "# INPUTS \n",
    "essays = pd.read_csv(\"../data/output_csv/essays.csv\")\n",
    "adus = pd.read_csv(\"../data/output_csv/adus.csv\")\n"
   ]
  },
  {
   "cell_type": "code",
   "execution_count": 8,
   "id": "5a974d1f",
   "metadata": {
    "ExecuteTime": {
     "end_time": "2022-02-26T20:36:32.417627Z",
     "start_time": "2022-02-26T20:36:26.980659Z"
    }
   },
   "outputs": [
    {
     "name": "stdout",
     "output_type": "stream",
     "text": [
      "(S (SBAR (IN If) (S (NP (DT the) (NN student)) (VP (VBD did) (RB nt) (VP (VB arrive))))) (NP (PRP we)) (VP (MD will) (VP (VB go) (PP (IN to) (NP (DT the) (NN school))) (PP (IN without) (NP (PRP him))))) (. .))\n",
      "('S',)\n",
      "If the student didnt arrive\n"
     ]
    },
    {
     "name": "stderr",
     "output_type": "stream",
     "text": [
      "C:\\Users\\BilalMehyar\\anaconda3\\lib\\site-packages\\torch\\distributions\\distribution.py:44: UserWarning: <class 'torch_struct.distributions.TreeCRF'> does not define `arg_constraints`. Please set `arg_constraints = {}` or initialize the distribution with `validate_args=False` to turn off validation.\n",
      "  warnings.warn(f'{self.__class__} does not define `arg_constraints`. ' +\n"
     ]
    }
   ],
   "source": [
    "import benepar, spacy\n",
    "#import nltk\n",
    "#benepar.download('benepar_en3')\n",
    "nlp = spacy.load('en_core_web_md')\n",
    "nlp.add_pipe(\"benepar\", config={\"model\": \"benepar_en3\"})\n",
    "\n",
    "doc = nlp('If the student didnt arrive we will go to the school without him.')\n",
    "\n",
    "sent = list(doc.sents)[0]\n",
    "print(sent._.parse_string)\n",
    "print(sent._.labels)\n",
    "print(list(sent._.children)[0])"
   ]
  },
  {
   "cell_type": "code",
   "execution_count": 9,
   "id": "df2d6fe0",
   "metadata": {
    "ExecuteTime": {
     "end_time": "2022-02-26T20:36:34.546610Z",
     "start_time": "2022-02-26T20:36:32.420633Z"
    }
   },
   "outputs": [],
   "source": [
    "essay1 = essays[essays['essay_id'] == 'essay001']['text'].values[0]\n",
    "essay1\n",
    "\n",
    "\n",
    "essay24 = essays[essays['essay_id'] == 'essay024']['text'].values[0]\n",
    "essay24 = nlp(essay24)\n",
    "\n",
    "e24_sents  = list(nlp(essay24).sents)"
   ]
  },
  {
   "cell_type": "code",
   "execution_count": 10,
   "id": "351cda9e",
   "metadata": {
    "ExecuteTime": {
     "end_time": "2022-02-26T20:36:34.562613Z",
     "start_time": "2022-02-26T20:36:34.548613Z"
    }
   },
   "outputs": [
    {
     "data": {
      "text/plain": [
       "'(S (SBAR (IN If) (S (NP (DT the) (NN student)) (VP (VBD did) (RB nt) (VP (VB arrive))))) (NP (PRP we)) (VP (MD will) (VP (VB go) (PP (IN to) (NP (DT the) (NN school))) (PP (IN without) (NP (PRP him))))) (. .))'"
      ]
     },
     "execution_count": 10,
     "metadata": {},
     "output_type": "execute_result"
    }
   ],
   "source": [
    "sent._.parse_string"
   ]
  },
  {
   "cell_type": "code",
   "execution_count": 11,
   "id": "5221d060",
   "metadata": {},
   "outputs": [
    {
     "data": {
      "text/plain": [
       "'subordinating conjunction'"
      ]
     },
     "execution_count": 11,
     "metadata": {},
     "output_type": "execute_result"
    }
   ],
   "source": [
    "spacy.explain(\"SBAR\")"
   ]
  },
  {
   "cell_type": "code",
   "execution_count": 12,
   "id": "412b0370",
   "metadata": {},
   "outputs": [
    {
     "data": {
      "text/plain": [
       "we"
      ]
     },
     "execution_count": 12,
     "metadata": {},
     "output_type": "execute_result"
    }
   ],
   "source": [
    "list(sent._.children)[1]"
   ]
  },
  {
   "cell_type": "code",
   "execution_count": 27,
   "id": "91550563",
   "metadata": {
    "ExecuteTime": {
     "end_time": "2022-02-26T20:41:12.706291Z",
     "start_time": "2022-02-26T20:41:12.621313Z"
    }
   },
   "outputs": [
    {
     "name": "stdout",
     "output_type": "stream",
     "text": [
      "If      SCONJ <══════╗         mark\n",
      "the     DET   <╗     ║         det\n",
      "student NOUN  ═╝<══╗ ║         nsubj\n",
      "did     AUX   <══╗ ║ ║         aux\n",
      "nt      PART  <╗ ║ ║ ║         neg\n",
      "arrive  VERB  ═╝═╝═╝═╝<════╗   advcl\n",
      "we      PRON  <══════════╗ ║   nsubj\n",
      "will    AUX   <════════╗ ║ ║   aux\n",
      "go      VERB  ═════╗═╗═╝═╝═╝═╗ ROOT\n",
      "to      ADP   ═══╗<╝ ║       ║ prep\n",
      "the     DET   <╗ ║   ║       ║ det\n",
      "school  NOUN  ═╝<╝   ║       ║ pobj\n",
      "without ADP   ═╗<════╝       ║ prep\n",
      "him     PRON  <╝             ║ pobj\n",
      ".       PUNCT <══════════════╝ punct\n"
     ]
    }
   ],
   "source": [
    "from nltk import Tree\n",
    "\n",
    "doc = nlp(\"If the student didnt arrive we will go to the school without him.\")\n",
    "\n",
    "import deplacy\n",
    "deplacy.render(doc)"
   ]
  },
  {
   "cell_type": "code",
   "execution_count": 28,
   "id": "0284ec47",
   "metadata": {
    "ExecuteTime": {
     "end_time": "2022-02-26T20:41:13.191543Z",
     "start_time": "2022-02-26T20:41:13.077758Z"
    }
   },
   "outputs": [
    {
     "name": "stdout",
     "output_type": "stream",
     "text": [
      "                                                  know_VB                                                                                         \n",
      "  ___________________________________________________|____________________________________________________________________________                 \n",
      " |     |        |     |                                      lack_VB                                                              |               \n",
      " |     |        |     |        _________________________________|____________________________________________                     |                \n",
      " |     |        |     |       |       |    |         |               children_NNS                            |                little_JJ           \n",
      " |     |        |     |       |       |    |         |                    |                                  |                    |                \n",
      " |     |        |     |       |       |    |         |                 play_VBP                              |                 about_IN           \n",
      " |     |        |     |       |       |    |         |           _________|____________________              |                    |                \n",
      " |     |        |     |       |       |    |         |          |         |       much_RB    on_IN       skills_NNS            life_NN            \n",
      " |     |        |     |       |       |    |         |          |         |          |         |             |            ________|_________       \n",
      ",_, they_PRP will_MD ._. Moreover_RB ,_, can_MD seriously_RB  who_WP  games_NNS    too_RB computer_NN communicating_NN the_DT           outside_JJ\n",
      "\n"
     ]
    },
    {
     "data": {
      "text/plain": [
       "[None]"
      ]
     },
     "execution_count": 28,
     "metadata": {},
     "output_type": "execute_result"
    }
   ],
   "source": [
    "doc = nlp('Moreover, children who play games too much on computer can seriously lack communicating skills, they will know little about the outside life.')\n",
    "\n",
    "def tok_format(tok):\n",
    "    return \"_\".join([tok.orth_, tok.tag_])\n",
    "\n",
    "\n",
    "def to_nltk_tree(node):\n",
    "    if node.n_lefts + node.n_rights > 0:\n",
    "        return Tree(tok_format(node), [to_nltk_tree(child) for child in node.children])\n",
    "    else:\n",
    "        return tok_format(node)\n",
    "    \n",
    "[to_nltk_tree(sent.root).pretty_print() for sent in doc.sents]"
   ]
  },
  {
   "cell_type": "code",
   "execution_count": 11,
   "id": "983d8e34",
   "metadata": {
    "ExecuteTime": {
     "end_time": "2022-02-26T20:36:43.475464Z",
     "start_time": "2022-02-26T20:36:43.466870Z"
    }
   },
   "outputs": [],
   "source": [
    "def tree_depth(span):\n",
    "    \"\"\"Returns the depth of the dependency tree of a sentence.\"\"\"\n",
    "    i = 1\n",
    "    d = 1\n",
    "    obj = span.root\n",
    "    children = obj.children\n",
    "    children_left = True\n",
    "    while children_left == True:\n",
    "        clist = []\n",
    "        i += 1\n",
    "        for c in children:\n",
    "            if len(list(c.children)) > 0:\n",
    "                for c2 in c.children:\n",
    "                    clist.append(c2)\n",
    "                d = i\n",
    "        if len(clist) == 0:\n",
    "            children_left = False\n",
    "        else:\n",
    "            children = clist\n",
    "    return d\n"
   ]
  },
  {
   "cell_type": "code",
   "execution_count": 24,
   "id": "dceed19f",
   "metadata": {
    "ExecuteTime": {
     "end_time": "2022-02-26T20:40:30.873593Z",
     "start_time": "2022-02-26T20:40:30.867594Z"
    }
   },
   "outputs": [
    {
     "name": "stdout",
     "output_type": "stream",
     "text": [
      "In      ADP   ═══╗<══╗     prep\n",
      "my      PRON  <╗ ║   ║     poss\n",
      "opinion NOUN  ═╝<╝   ║     pobj\n",
      ",       PUNCT <══════║═╗   punct\n",
      "the     DET   <══╗   ║ ║   det\n",
      "latter  ADJ   <╗ ║   ║ ║   amod\n",
      "opinion NOUN  ═╝═╝<╗ ║ ║   nsubj\n",
      "is      AUX   ═╗═══╝═╝═╝═╗ ROOT\n",
      "true    ADJ   <╝         ║ acomp\n",
      ".       PUNCT <══════════╝ punct\n"
     ]
    }
   ],
   "source": [
    "deplacy.render(unit)"
   ]
  },
  {
   "cell_type": "code",
   "execution_count": 29,
   "id": "1d8bd584",
   "metadata": {
    "ExecuteTime": {
     "end_time": "2022-02-26T20:41:16.639936Z",
     "start_time": "2022-02-26T20:41:16.613920Z"
    }
   },
   "outputs": [
    {
     "name": "stdout",
     "output_type": "stream",
     "text": [
      "            is_VBZ                                       \n",
      "  ____________|__________________________                 \n",
      " |     |      |      In_IN               |               \n",
      " |     |      |        |                 |                \n",
      " |     |      |    opinion_NN        opinion_NN          \n",
      " |     |      |        |         ________|__________      \n",
      ",_, true_JJ  ._.    my_PRP$   the_DT            latter_JJ\n",
      "\n"
     ]
    }
   ],
   "source": [
    "to_nltk_tree(unit.root).pretty_print()"
   ]
  },
  {
   "cell_type": "code",
   "execution_count": 61,
   "id": "5d016dfe",
   "metadata": {
    "ExecuteTime": {
     "end_time": "2022-02-26T20:57:24.159901Z",
     "start_time": "2022-02-26T20:57:24.151918Z"
    }
   },
   "outputs": [],
   "source": [
    "def get_tree_depth(unit):\n",
    "    depths = {}\n",
    "\n",
    "    def walk_tree(node, depth):\n",
    "        depths[node.orth_] = depth\n",
    "        if node.n_lefts + node.n_rights > 0:\n",
    "            return [walk_tree(child, depth + 1) for child in node.children]\n",
    "    \n",
    "    walk_tree(unit.root, 0)\n",
    "    return max(depths.values())\n"
   ]
  },
  {
   "cell_type": "code",
   "execution_count": 54,
   "id": "4cb12ad8",
   "metadata": {
    "ExecuteTime": {
     "end_time": "2022-02-26T20:54:07.745187Z",
     "start_time": "2022-02-26T20:54:07.729553Z"
    }
   },
   "outputs": [
    {
     "name": "stdout",
     "output_type": "stream",
     "text": [
      "{'is': 0, 'In': 1, 'opinion': 1, 'my': 3, ',': 1, 'the': 2, 'latter': 2, 'true': 1, '.': 1}\n"
     ]
    }
   ],
   "source": [
    "depths = {}\n",
    "\n",
    "def walk_tree(node, depth):\n",
    "    depths[node.orth_] = depth\n",
    "    if node.n_lefts + node.n_rights > 0:\n",
    "        return [walk_tree(child, depth + 1) for child in node.children]\n",
    "    \n",
    "\n",
    "walk_tree(unit.root, 0)\n",
    "print(depths)"
   ]
  },
  {
   "cell_type": "code",
   "execution_count": 60,
   "id": "f3aa9da8",
   "metadata": {
    "ExecuteTime": {
     "end_time": "2022-02-26T20:55:00.997027Z",
     "start_time": "2022-02-26T20:55:00.980511Z"
    }
   },
   "outputs": [
    {
     "data": {
      "text/plain": [
       "2"
      ]
     },
     "execution_count": 60,
     "metadata": {},
     "output_type": "execute_result"
    }
   ],
   "source": [
    "unit.root.n_rights"
   ]
  },
  {
   "cell_type": "code",
   "execution_count": 95,
   "id": "9883e609",
   "metadata": {},
   "outputs": [
    {
     "name": "stderr",
     "output_type": "stream",
     "text": [
      "C:\\Users\\BilalMehyar\\anaconda3\\lib\\site-packages\\torch\\distributions\\distribution.py:44: UserWarning: <class 'torch_struct.distributions.TreeCRF'> does not define `arg_constraints`. Please set `arg_constraints = {}` or initialize the distribution with `validate_args=False` to turn off validation.\n",
      "  warnings.warn(f'{self.__class__} does not define `arg_constraints`. ' +\n"
     ]
    },
    {
     "data": {
      "text/plain": [
       "[Should students be taught to compete or to cooperate?,\n",
       " \n",
       " \n",
       " It is always said that competition can effectively promote the development of economy.,\n",
       " In order to survive in the competition, companies continue to improve their products and service, and as a result, the whole society prospers.,\n",
       " However, when we discuss the issue of competition or cooperation, what we are concerned about is not the whole society, but the development of an individual's whole life.,\n",
       " From this point of view, I firmly believe that we should attach more importance to cooperation during primary education.,\n",
       " \n",
       " First of all, through cooperation, children can learn about interpersonal skills which are significant in the future life of all students.,\n",
       " What we acquired from team work is not only how to achieve the same goal with others but more importantly, how to get along with others.,\n",
       " During the process of cooperation, children can learn about how to listen to opinions of others, how to communicate with others, how to think comprehensively, and even how to compromise with other team members when conflicts occurred.,\n",
       " All of these skills help them to get on well with other people and will benefit them for the whole life.,\n",
       " \n",
       " On the other hand, the significance of competition is that how to become more excellence to gain the victory.,\n",
       " Hence it is always said that competition makes the society more effective.,\n",
       " However, when we consider about the question that how to win the game, we always find that we need the cooperation.,\n",
       " The greater our goal is, the more competition we need.,\n",
       " Take Olympic games which is a form of competition for instance, it is hard to imagine how an athlete could win the game without the training of his or her coach, and the help of other professional staffs such as the people who take care of his diet, and those who are in charge of the medical care.,\n",
       " The winner is the athlete but the success belongs to the whole team.,\n",
       " Therefore without the cooperation, there would be no victory of competition.,\n",
       " \n",
       " Consequently, no matter from the view of individual development or the relationship between competition and cooperation we can receive the same conclusion that a more cooperative attitudes towards life is more profitable in one's success.]"
      ]
     },
     "execution_count": 95,
     "metadata": {},
     "output_type": "execute_result"
    }
   ],
   "source": [
    "doc_e1 = nlp(essay1)\n",
    "\n",
    "doc_e1\n",
    "\n",
    "e1_sents = list(doc_e1.sents)\n"
   ]
  },
  {
   "cell_type": "code",
   "execution_count": 99,
   "id": "b4058820",
   "metadata": {},
   "outputs": [
    {
     "data": {
      "text/plain": [
       "\n",
       "\n",
       "It is always said that competition can effectively promote the development of economy."
      ]
     },
     "execution_count": 99,
     "metadata": {},
     "output_type": "execute_result"
    }
   ],
   "source": [
    "\n",
    "e1_sents[1]"
   ]
  },
  {
   "cell_type": "code",
   "execution_count": 164,
   "id": "06c5cefa",
   "metadata": {},
   "outputs": [],
   "source": [
    "sent = e24_sents[10]"
   ]
  },
  {
   "cell_type": "code",
   "execution_count": 169,
   "id": "d7f7bec3",
   "metadata": {},
   "outputs": [
    {
     "data": {
      "text/plain": [
       "have"
      ]
     },
     "execution_count": 169,
     "metadata": {},
     "output_type": "execute_result"
    }
   ],
   "source": [
    "sent.root"
   ]
  },
  {
   "cell_type": "code",
   "execution_count": 192,
   "id": "c4f35997",
   "metadata": {},
   "outputs": [
    {
     "name": "stderr",
     "output_type": "stream",
     "text": [
      "C:\\Users\\BilalMehyar\\anaconda3\\lib\\site-packages\\torch\\distributions\\distribution.py:44: UserWarning: <class 'torch_struct.distributions.TreeCRF'> does not define `arg_constraints`. Please set `arg_constraints = {}` or initialize the distribution with `validate_args=False` to turn off validation.\n",
      "  warnings.warn(f'{self.__class__} does not define `arg_constraints`. ' +\n"
     ]
    },
    {
     "data": {
      "text/plain": [
       "Due to this neglect, they will have a bad result in school because when they can not live without internet, they will have no time for their studying."
      ]
     },
     "execution_count": 192,
     "metadata": {},
     "output_type": "execute_result"
    }
   ],
   "source": [
    "s = \"Due to this neglect, they will have a bad result in school because when they can not live without internet, they will have no time for their studying.\"\n",
    "\n",
    "nlp(s)"
   ]
  },
  {
   "cell_type": "code",
   "execution_count": null,
   "id": "5120d991",
   "metadata": {},
   "outputs": [],
   "source": [
    "sent._."
   ]
  },
  {
   "cell_type": "code",
   "execution_count": 197,
   "id": "8ed932c1",
   "metadata": {},
   "outputs": [
    {
     "data": {
      "text/plain": [
       "['S']"
      ]
     },
     "execution_count": 197,
     "metadata": {},
     "output_type": "execute_result"
    }
   ],
   "source": [
    "list(sent._.labels)"
   ]
  },
  {
   "cell_type": "code",
   "execution_count": 213,
   "id": "69546fda",
   "metadata": {},
   "outputs": [],
   "source": [
    "conlist = [con for con in sent._.constituents ]"
   ]
  },
  {
   "cell_type": "code",
   "execution_count": 223,
   "id": "6c68514f",
   "metadata": {},
   "outputs": [
    {
     "data": {
      "text/plain": [
       "tuple"
      ]
     },
     "execution_count": 223,
     "metadata": {},
     "output_type": "execute_result"
    }
   ],
   "source": [
    "conlist[2]._.labels"
   ]
  },
  {
   "cell_type": "code",
   "execution_count": 226,
   "id": "25d12058",
   "metadata": {},
   "outputs": [
    {
     "data": {
      "text/plain": [
       "[Due to this neglect, they will have a bad result in school because when they can not live without internet, they will have no time for their studying.,\n",
       " Due to this neglect,\n",
       " this neglect,\n",
       " they,\n",
       " will have a bad result in school because when they can not live without internet, they will have no time for their studying,\n",
       " have a bad result in school because when they can not live without internet, they will have no time for their studying,\n",
       " a bad result,\n",
       " in school,\n",
       " school,\n",
       " because when they can not live without internet, they will have no time for their studying,\n",
       " when they can not live without internet, they will have no time for their studying,\n",
       " when they can not live without internet,\n",
       " when,\n",
       " they can not live without internet,\n",
       " they,\n",
       " can not live without internet,\n",
       " live without internet,\n",
       " without internet,\n",
       " internet,\n",
       " they,\n",
       " will have no time for their studying,\n",
       " have no time for their studying,\n",
       " no time for their studying,\n",
       " no time,\n",
       " for their studying,\n",
       " their studying]"
      ]
     },
     "execution_count": 226,
     "metadata": {},
     "output_type": "execute_result"
    }
   ],
   "source": [
    "[con for con in sent._.constituents if len(con._.labels) >0 ]"
   ]
  },
  {
   "cell_type": "code",
   "execution_count": 188,
   "id": "4d749ee7",
   "metadata": {},
   "outputs": [
    {
     "data": {
      "text/plain": [
       "[Due to this neglect,\n",
       " ,,\n",
       " they,\n",
       " will have a bad result in school because when they can not live without internet, they will have no time for their studying,\n",
       " .]"
      ]
     },
     "execution_count": 188,
     "metadata": {},
     "output_type": "execute_result"
    }
   ],
   "source": [
    "list(sent._.children)"
   ]
  },
  {
   "cell_type": "code",
   "execution_count": 177,
   "id": "0e43c635",
   "metadata": {},
   "outputs": [],
   "source": [
    "import re"
   ]
  },
  {
   "cell_type": "code",
   "execution_count": 227,
   "id": "c8c8b4d2",
   "metadata": {},
   "outputs": [
    {
     "data": {
      "text/plain": [
       "Due to this neglect, they will have a bad result in school because when they can not live without internet, they will have no time for their studying."
      ]
     },
     "execution_count": 227,
     "metadata": {},
     "output_type": "execute_result"
    }
   ],
   "source": [
    "sent._."
   ]
  },
  {
   "cell_type": "code",
   "execution_count": 240,
   "id": "d2d6e925",
   "metadata": {},
   "outputs": [
    {
     "data": {
      "text/plain": [
       "()"
      ]
     },
     "execution_count": 240,
     "metadata": {},
     "output_type": "execute_result"
    }
   ],
   "source": [
    "list(sent._.constituents)[2]."
   ]
  },
  {
   "cell_type": "code",
   "execution_count": 185,
   "id": "82710a79",
   "metadata": {},
   "outputs": [
    {
     "data": {
      "text/plain": [
       "'(((Due) (to) ((this) (neglect))) (, ,) ((they)) ((will) ((have) ((a) (bad) (result)) ((in) ((school))) ((because) ((((when)) (((they)) ((can) (not) ((live) ((without) ((internet))))))) (, ,) ((they)) ((will) ((have) (((no) (time)) ((for) ((their) (studying)))))))))) (. .))'"
      ]
     },
     "execution_count": 185,
     "metadata": {},
     "output_type": "execute_result"
    }
   ],
   "source": [
    "text = sent._.parse_string\n",
    "\n",
    "\n",
    "re.sub(r\"[A-Z]+\\$?\\s\", \"\", text)"
   ]
  },
  {
   "cell_type": "code",
   "execution_count": 172,
   "id": "76cc2c0c",
   "metadata": {},
   "outputs": [
    {
     "name": "stdout",
     "output_type": "stream",
     "text": [
      "Due      ADP   ═╗═╗<══════════════════════╗     prep\n",
      "to       ADP   <╝ ║                       ║     pcomp\n",
      "this     DET   <╗ ║                       ║     det\n",
      "neglect  NOUN  ═╝<╝                       ║     pobj\n",
      ",        PUNCT <══════════════════════════║═╗   punct\n",
      "they     PRON  <════════════════════════╗ ║ ║   nsubj\n",
      "will     AUX   <══════════════════════╗ ║ ║ ║   aux\n",
      "have     VERB  ═════╗═╗═════════════╗═╝═╝═╝═╝═╗ ROOT\n",
      "a        DET   <══╗ ║ ║             ║         ║ det\n",
      "bad      ADJ   <╗ ║ ║ ║             ║         ║ amod\n",
      "result   NOUN  ═╝═╝<╝ ║             ║         ║ dobj\n",
      "in       ADP   ═╗<════╝             ║         ║ prep\n",
      "school   NOUN  <╝                   ║         ║ pobj\n",
      "because  SCONJ <════════════════╗   ║         ║ mark\n",
      "when     SCONJ <══════════╗     ║   ║         ║ advmod\n",
      "they     PRON  <════════╗ ║     ║   ║         ║ nsubj\n",
      "can      AUX   <══════╗ ║ ║     ║   ║         ║ aux\n",
      "not      PART  <════╗ ║ ║ ║     ║   ║         ║ neg\n",
      "live     VERB  ═══╗═╝═╝═╝═╝<══╗ ║   ║         ║ advcl\n",
      "without  ADP   ═╗<╝           ║ ║   ║         ║ prep\n",
      "internet NOUN  <╝             ║ ║   ║         ║ pobj\n",
      ",        PUNCT                ║ ║<╗ ║         ║ punct\n",
      "they     PRON  <════════════╗ ║ ║ ║ ║         ║ nsubj\n",
      "will     AUX   <══════════╗ ║ ║ ║ ║ ║         ║ aux\n",
      "have     VERB  ═════════╗═╝═╝═╝═╝═╝<╝         ║ advcl\n",
      "no       DET   <══════╗ ║                     ║ det\n",
      "time     NOUN  ═════╗═╝<╝                     ║ dobj\n",
      "for      ADP   ═══╗<╝                         ║ prep\n",
      "their    PRON  <╗ ║                           ║ poss\n",
      "studying NOUN  ═╝<╝                           ║ pobj\n",
      ".        PUNCT <══════════════════════════════╝ punct\n"
     ]
    }
   ],
   "source": [
    "deplacy.render(sent)"
   ]
  },
  {
   "cell_type": "code",
   "execution_count": 272,
   "id": "3b845fa3",
   "metadata": {},
   "outputs": [
    {
     "data": {
      "text/plain": [
       "[Due to this neglect, they will have a bad result in school because when they can not live without internet, they will have no time for their studying.,\n",
       " Due to this neglect,\n",
       " Due,\n",
       " to,\n",
       " this neglect,\n",
       " this,\n",
       " neglect,\n",
       " ,,\n",
       " they,\n",
       " will have a bad result in school because when they can not live without internet, they will have no time for their studying,\n",
       " will,\n",
       " have a bad result in school because when they can not live without internet, they will have no time for their studying,\n",
       " have,\n",
       " a bad result,\n",
       " a,\n",
       " bad,\n",
       " result,\n",
       " in school,\n",
       " in,\n",
       " school,\n",
       " because when they can not live without internet, they will have no time for their studying,\n",
       " because,\n",
       " when they can not live without internet, they will have no time for their studying,\n",
       " when they can not live without internet,\n",
       " when,\n",
       " they can not live without internet,\n",
       " they,\n",
       " can not live without internet,\n",
       " can,\n",
       " not,\n",
       " live without internet,\n",
       " live,\n",
       " without internet,\n",
       " without,\n",
       " internet,\n",
       " ,,\n",
       " they,\n",
       " will have no time for their studying,\n",
       " will,\n",
       " have no time for their studying,\n",
       " have,\n",
       " no time for their studying,\n",
       " no time,\n",
       " no,\n",
       " time,\n",
       " for their studying,\n",
       " for,\n",
       " their studying,\n",
       " their,\n",
       " studying,\n",
       " .]"
      ]
     },
     "execution_count": 272,
     "metadata": {},
     "output_type": "execute_result"
    }
   ],
   "source": [
    "list(sent._.constituents)"
   ]
  },
  {
   "cell_type": "code",
   "execution_count": 294,
   "id": "4aa695e9",
   "metadata": {},
   "outputs": [
    {
     "data": {
      "text/plain": [
       "[Due to this neglect, they will have a bad result in school because when they can not live without internet, they will have no time for their studying.,\n",
       " Due to this neglect,\n",
       " Due,\n",
       " to,\n",
       " this neglect,\n",
       " this,\n",
       " neglect,\n",
       " ,,\n",
       " they,\n",
       " will have a bad result in school because when they can not live without internet, they will have no time for their studying,\n",
       " will,\n",
       " have a bad result in school because when they can not live without internet, they will have no time for their studying,\n",
       " have,\n",
       " a bad result,\n",
       " a,\n",
       " bad,\n",
       " result,\n",
       " in school,\n",
       " in,\n",
       " school,\n",
       " because when they can not live without internet, they will have no time for their studying,\n",
       " because,\n",
       " when they can not live without internet, they will have no time for their studying,\n",
       " when they can not live without internet,\n",
       " when,\n",
       " they can not live without internet,\n",
       " they,\n",
       " can not live without internet,\n",
       " can,\n",
       " not,\n",
       " live without internet,\n",
       " live,\n",
       " without internet,\n",
       " without,\n",
       " internet,\n",
       " ,,\n",
       " they,\n",
       " will have no time for their studying,\n",
       " will,\n",
       " have no time for their studying,\n",
       " have,\n",
       " no time for their studying,\n",
       " no time,\n",
       " no,\n",
       " time,\n",
       " for their studying,\n",
       " for,\n",
       " their studying,\n",
       " their,\n",
       " studying,\n",
       " .]"
      ]
     },
     "execution_count": 294,
     "metadata": {},
     "output_type": "execute_result"
    }
   ],
   "source": [
    "list(sent._.constituents)"
   ]
  },
  {
   "cell_type": "code",
   "execution_count": 293,
   "id": "3babfb1f",
   "metadata": {},
   "outputs": [
    {
     "data": {
      "text/plain": [
       "[]"
      ]
     },
     "execution_count": 293,
     "metadata": {},
     "output_type": "execute_result"
    }
   ],
   "source": [
    "list(list(sent._.children)[1]._.children)"
   ]
  },
  {
   "cell_type": "code",
   "execution_count": 331,
   "id": "8bd70593",
   "metadata": {},
   "outputs": [
    {
     "data": {
      "text/plain": [
       "238"
      ]
     },
     "execution_count": 331,
     "metadata": {},
     "output_type": "execute_result"
    }
   ],
   "source": [
    "sent.start"
   ]
  },
  {
   "cell_type": "code",
   "execution_count": 354,
   "id": "15bfd4a4",
   "metadata": {},
   "outputs": [
    {
     "data": {
      "text/plain": [
       "251"
      ]
     },
     "execution_count": 354,
     "metadata": {},
     "output_type": "execute_result"
    }
   ],
   "source": [
    "sbar0.start"
   ]
  },
  {
   "cell_type": "code",
   "execution_count": 352,
   "id": "92d05b26",
   "metadata": {},
   "outputs": [
    {
     "data": {
      "text/plain": [
       "Due to this neglect"
      ]
     },
     "execution_count": 352,
     "metadata": {},
     "output_type": "execute_result"
    }
   ],
   "source": [
    "sent.doc.char_span(1241, 1255, alignment_mode='expand')"
   ]
  },
  {
   "cell_type": "code",
   "execution_count": 350,
   "id": "213bc46a",
   "metadata": {},
   "outputs": [
    {
     "data": {
      "text/plain": [
       "1241"
      ]
     },
     "execution_count": 350,
     "metadata": {},
     "output_type": "execute_result"
    }
   ],
   "source": [
    "sent.start_char"
   ]
  },
  {
   "cell_type": "code",
   "execution_count": 345,
   "id": "8d13a424",
   "metadata": {
    "scrolled": true
   },
   "outputs": [
    {
     "data": {
      "text/plain": [
       "Due to this neglect, they will have a bad result in school because when they can not live without internet, they will have no time for their studying."
      ]
     },
     "execution_count": 345,
     "metadata": {},
     "output_type": "execute_result"
    }
   ],
   "source": [
    "sent"
   ]
  },
  {
   "cell_type": "code",
   "execution_count": 344,
   "id": "e9e66a3b",
   "metadata": {
    "scrolled": true
   },
   "outputs": [
    {
     "data": {
      "text/plain": [
       "differently"
      ]
     },
     "execution_count": 344,
     "metadata": {},
     "output_type": "execute_result"
    }
   ],
   "source": [
    "sent.doc.char_span(251,255, alignment_mode='expand')"
   ]
  },
  {
   "cell_type": "code",
   "execution_count": 342,
   "id": "af2db4c5",
   "metadata": {},
   "outputs": [
    {
     "data": {
      "text/plain": [
       "because when they can not live without internet, they will have no time for their studying"
      ]
     },
     "execution_count": 342,
     "metadata": {},
     "output_type": "execute_result"
    }
   ],
   "source": [
    "sbar0"
   ]
  },
  {
   "cell_type": "code",
   "execution_count": 375,
   "id": "1213f1be",
   "metadata": {},
   "outputs": [
    {
     "data": {
      "text/plain": [
       "You were washing the dishes and cleaning your room when I had gone to the market"
      ]
     },
     "execution_count": 375,
     "metadata": {},
     "output_type": "execute_result"
    }
   ],
   "source": []
  },
  {
   "cell_type": "code",
   "execution_count": 385,
   "id": "396c211c",
   "metadata": {},
   "outputs": [
    {
     "name": "stdout",
     "output_type": "stream",
     "text": [
      "Due to this neglect, they will have a bad result in school\n",
      "because when they can not live without internet, they will have no time for their studying\n",
      ".\n"
     ]
    }
   ],
   "source": [
    "\n",
    "for con in sent._.constituents:\n",
    "\n",
    "    if \"SBAR\" in con._.labels:\n",
    "        sbar0 = con\n",
    "        break\n",
    "        \n",
    "units = [sent.doc[sent.start:sbar0.start],sent.doc[sbar0.start:sbar0.end], sent.doc[sbar0.end:sent.end]]\n",
    "\n",
    "for u in units:\n",
    "    print(u)"
   ]
  },
  {
   "cell_type": "code",
   "execution_count": 170,
   "id": "b8cd9777",
   "metadata": {},
   "outputs": [
    {
     "name": "stdout",
     "output_type": "stream",
     "text": [
      "Due to this neglect, they will have a bad result in school because when they can not live without internet, they will have no time for their studying. \n",
      "\n",
      "Due 2 [] [to, neglect]\n",
      "to 0 [] []\n",
      "this 0 [] []\n",
      "neglect 1 [this] []\n",
      ", 0 [] []\n",
      "they 0 [] []\n",
      "will 0 [] []\n",
      "have 8 [Due, ,, they, will] [result, in, have, .]\n",
      "a 0 [] []\n",
      "bad 0 [] []\n",
      "result 2 [a, bad] []\n",
      "in 1 [] [school]\n",
      "school 0 [] []\n",
      "because 0 [] []\n",
      "when 0 [] []\n",
      "they 0 [] []\n",
      "can 0 [] []\n",
      "not 0 [] []\n",
      "live 5 [when, they, can, not] [without]\n",
      "without 1 [] [internet]\n",
      "internet 0 [] []\n",
      ", 0 [] []\n",
      "they 0 [] []\n",
      "will 0 [] []\n",
      "have 6 [because, live, ,, they, will] [time]\n",
      "no 0 [] []\n",
      "time 2 [no] [for]\n",
      "for 1 [] [studying]\n",
      "their 0 [] []\n",
      "studying 1 [their] []\n",
      ". 0 [] []\n"
     ]
    }
   ],
   "source": [
    "print(sent,\"\\n\")\n",
    "for tok in sent:\n",
    "    print(tok, len(list(tok.children)), list(tok.lefts), list(tok.rights))"
   ]
  },
  {
   "cell_type": "code",
   "execution_count": 134,
   "id": "b0ed5676",
   "metadata": {},
   "outputs": [
    {
     "name": "stdout",
     "output_type": "stream",
     "text": [
      "                                   washing_VBG                                     \n",
      "    ____________________________________|___________________                        \n",
      "   |       |       |        |           |                gone_VBN                  \n",
      "   |       |       |        |           |           ________|_________________      \n",
      "   |       |       |        |      cleaning_VBG    |        |        |      to_IN  \n",
      "   |       |       |        |           |          |        |        |        |     \n",
      "   |       |       |    dishes_NNS   room_NN       |        |        |    market_NN\n",
      "   |       |       |        |           |          |        |        |        |     \n",
      "You_PRP were_VBD and_CC   the_DT    your_PRP$   when_WRB  I_PRP   had_VBD   the_DT \n",
      "\n"
     ]
    },
    {
     "data": {
      "text/plain": [
       "[None]"
      ]
     },
     "execution_count": 134,
     "metadata": {},
     "output_type": "execute_result"
    }
   ],
   "source": [
    "doc = nlp('You were washing the dishes and cleaning your room when I had gone to the market')\n",
    "a= 'ds'\n",
    "\n",
    "def tok_format(tok):\n",
    "    return \"_\".join([tok.orth_, tok.tag_])\n",
    "\n",
    "\n",
    "def to_nltk_tree(node):\n",
    "    if node.n_lefts + node.n_rights > 0:\n",
    "        #if node.n_lefts.tag_ == 'VBG':\n",
    "            return Tree(tok_format(node), [to_nltk_tree(child) for child in node.children])\n",
    "    else:\n",
    "        return tok_format(node)\n",
    "    \n",
    "[to_nltk_tree(sent.root).pretty_print() for sent in doc.sents]"
   ]
  },
  {
   "cell_type": "code",
   "execution_count": 228,
   "id": "92d1a44f",
   "metadata": {},
   "outputs": [
    {
     "data": {
      "text/plain": [
       "'(S (PP (IN Due) (IN to) (NP (DT this) (NN neglect))) (, ,) (NP (PRP they)) (VP (MD will) (VP (VB have) (NP (DT a) (JJ bad) (NN result)) (PP (IN in) (NP (NN school))) (SBAR (IN because) (S (SBAR (WHADVP (WRB when)) (S (NP (PRP they)) (VP (MD can) (RB not) (VP (VB live) (PP (IN without) (NP (NN internet))))))) (, ,) (NP (PRP they)) (VP (MD will) (VP (VB have) (NP (NP (DT no) (NN time)) (PP (IN for) (NP (PRP$ their) (NN studying)))))))))) (. .))'"
      ]
     },
     "execution_count": 228,
     "metadata": {},
     "output_type": "execute_result"
    }
   ],
   "source": []
  },
  {
   "cell_type": "code",
   "execution_count": 137,
   "id": "7ec7d900",
   "metadata": {},
   "outputs": [
    {
     "name": "stdout",
     "output_type": "stream",
     "text": [
      "You      PRON  <════════════════╗   nsubj\n",
      "were     AUX   <══════════════╗ ║   aux\n",
      "washing  VERB  ═══╗═╗═══════╗═╝═╝═╗ ROOT\n",
      "the      DET   <╗ ║ ║       ║     ║ det\n",
      "dishes   NOUN  ═╝<╝ ║       ║     ║ dobj\n",
      "and      CCONJ <════╝       ║     ║ cc\n",
      "cleaning VERB  ═══╗<════════║═════╝ conj\n",
      "your     PRON  <╗ ║         ║       poss\n",
      "room     NOUN  ═╝<╝         ║       dobj\n",
      "when     SCONJ <══════════╗ ║       advmod\n",
      "I        PRON  <════════╗ ║ ║       nsubj\n",
      "had      AUX   <══════╗ ║ ║ ║       aux\n",
      "gone     VERB  ═════╗═╝═╝═╝<╝       advcl\n",
      "to       ADP   ═══╗<╝               prep\n",
      "the      DET   <╗ ║                 det\n",
      "market   NOUN  ═╝<╝                 pobj\n"
     ]
    }
   ],
   "source": [
    "deplacy.render(sent)"
   ]
  },
  {
   "cell_type": "code",
   "execution_count": 124,
   "id": "c9f9ce95",
   "metadata": {},
   "outputs": [
    {
     "data": {
      "text/plain": [
       "[when, I, had, to]"
      ]
     },
     "execution_count": 124,
     "metadata": {},
     "output_type": "execute_result"
    }
   ],
   "source": [
    "#Tree(sent[12].text, [w.text for w in sent[12].children])\n",
    "\n",
    "[c for c in sent[12].children]\n",
    "\n"
   ]
  },
  {
   "cell_type": "code",
   "execution_count": 129,
   "id": "8ac9b2e5",
   "metadata": {},
   "outputs": [
    {
     "data": {
      "text/plain": [
       "[You, were, dishes, and, cleaning, gone]"
      ]
     },
     "execution_count": 129,
     "metadata": {},
     "output_type": "execute_result"
    }
   ],
   "source": [
    "list(sent[2].children)"
   ]
  },
  {
   "cell_type": "code",
   "execution_count": 16,
   "id": "7f3a4bd5",
   "metadata": {},
   "outputs": [
    {
     "name": "stdout",
     "output_type": "stream",
     "text": [
      "                                   washing_VBG                                     \n",
      "    ____________________________________|___________________                        \n",
      "   |       |       |        |           |                gone_VBN                  \n",
      "   |       |       |        |           |           ________|_________________      \n",
      "   |       |       |        |      cleaning_VBG    |        |        |      to_IN  \n",
      "   |       |       |        |           |          |        |        |        |     \n",
      "   |       |       |    dishes_NNS   room_NN       |        |        |    market_NN\n",
      "   |       |       |        |           |          |        |        |        |     \n",
      "You_PRP were_VBD and_CC   the_DT    your_PRP$   when_WRB  I_PRP   had_VBD   the_DT \n",
      "\n"
     ]
    },
    {
     "data": {
      "text/plain": [
       "[None]"
      ]
     },
     "execution_count": 16,
     "metadata": {},
     "output_type": "execute_result"
    }
   ],
   "source": [
    "doc = nlp('You were washing the dishes and cleaning your room when I had gone to the market')\n",
    "a= 'ds'\n",
    "\n",
    "def tok_format(tok):\n",
    "    return \"_\".join([tok.orth_, tok.tag_])\n",
    "\n",
    "\n",
    "def to_nltk_tree(node):\n",
    "    if node.n_lefts + node.n_rights > 0:\n",
    "        #return Tree(tok_format(node), [to_nltk_tree(child) for child in node.children])\n",
    "        return Tree(tok_format(node), [to_nltk_tree(child) for child in node.children])\n",
    "    else:\n",
    "        return tok_format(node)\n",
    "    \n",
    "[to_nltk_tree(sent.root).pretty_print() for sent in doc.sents]"
   ]
  },
  {
   "cell_type": "code",
   "execution_count": 28,
   "id": "d8331d17",
   "metadata": {},
   "outputs": [],
   "source": [
    "doc[2].orth_\n",
    "\n",
    "\n",
    "from spacy.tokens import Token"
   ]
  },
  {
   "cell_type": "code",
   "execution_count": 32,
   "id": "ec899903",
   "metadata": {},
   "outputs": [
    {
     "name": "stdout",
     "output_type": "stream",
     "text": [
      "Help on getset descriptor spacy.tokens.token.Token.orth_:\n",
      "\n",
      "orth_\n",
      "    RETURNS (str): Verbatim text content (identical to\n",
      "    `Token.text`). Exists mostly for consistency with the other\n",
      "    attributes.\n",
      "\n"
     ]
    }
   ],
   "source": [
    "help(Token.orth_)"
   ]
  }
 ],
 "metadata": {
  "kernelspec": {
   "display_name": "Python 3 (ipykernel)",
   "language": "python",
   "name": "python3"
  },
  "language_info": {
   "codemirror_mode": {
    "name": "ipython",
    "version": 3
   },
   "file_extension": ".py",
   "mimetype": "text/x-python",
   "name": "python",
   "nbconvert_exporter": "python",
   "pygments_lexer": "ipython3",
   "version": "3.9.7"
  }
 },
 "nbformat": 4,
 "nbformat_minor": 5
}
