{
 "cells": [
  {
   "cell_type": "code",
   "execution_count": 1,
   "id": "59a7bd46",
   "metadata": {},
   "outputs": [],
   "source": [
    "import numpy as np\n",
    "import pandas as pd\n",
    "import spacy\n",
    "from spacy.tokens import Doc, Span, Token\n",
    "nlp = spacy.load(\"en_core_web_md\")\n",
    "import re\n",
    "\n",
    "from itertools import chain"
   ]
  },
  {
   "cell_type": "code",
   "execution_count": 2,
   "id": "97a65bbf",
   "metadata": {},
   "outputs": [],
   "source": [
    "from spacy import displacy\n",
    "import deplacy"
   ]
  },
  {
   "cell_type": "code",
   "execution_count": 148,
   "id": "e3449821",
   "metadata": {},
   "outputs": [],
   "source": [
    "doc_features = ['num_tokens']\n",
    "span_features = ['word_emb', 'num_tokens', 'num_verbs', 'num_pos_pronouns', 'num_conj_adv', 'num_punct', 'label']\n",
    "token_features =['word_emb']\n",
    "features_dict = dict(doc_features=doc_features, span_features=span_features, token_features=token_features)\n",
    "\n",
    "\n",
    "\n",
    "\n",
    "\n",
    "def create_extensions(features_dict=None, force=True):\n",
    "    \n",
    "    \n",
    "    \n",
    "\n",
    "    \n",
    "    # Feature Getters\n",
    "    \n",
    "    def get_label(span):\n",
    "        \n",
    "        # ADU vs non-ADU LABEL for the span\n",
    "\n",
    "        # Works if the span is larger or equal to the adu\n",
    "\n",
    "        # TODO:\n",
    "        # DOES NOT WORK IF SPAN IS SMALLER THAN ADU, OR IF ADU IS SPLIT BETWEEN TWO SPANS (NEEDS MORE WORK!!!)\n",
    "        # CLAIM VS PREMISE\n",
    "        essay_id = span.doc._.essay_id\n",
    "\n",
    "        span_start = span[0].idx\n",
    "        span_end = span[-1].idx  + len(span[-1])\n",
    "        start_inds = adus[adus['essay_id'] == essay_id ]['start_ind'].values\n",
    "        end_inds = adus[adus['essay_id'] == essay_id ]['end_ind'].values\n",
    "\n",
    "        # Checks if starting index of span is smaller than ADU and the ending index of the span is larger than the ADU\n",
    "        return ((start_inds >= span_start) & (end_inds <= span_end)).any()\n",
    "    \n",
    "\n",
    "    def get_word_emb(obj):\n",
    "        return obj.vector\n",
    "    \n",
    "    def get_num_tokens(obj):\n",
    "        return len(obj)\n",
    "    \n",
    "    def get_num_verbs(span):\n",
    "        return sum([1 for token in span if token.pos_ == \"VERB\"])\n",
    "\n",
    "    def get_num_pos_pronouns(span):\n",
    "        return sum([1 for token in span if token.tag_ == \"PRP$\"])\n",
    "\n",
    "    def get_num_pron(span):\n",
    "        return sum([1 for token in span if token.pos_ == \"PRON\"])\n",
    "    \n",
    "    def get_num_conj_adv(span):\n",
    "        conj_advs = ['moreover', 'incidentally', 'next', 'yet', 'finally', 'then', 'for example', 'thus', 'accordingly', 'namely', 'meanwhile', 'that is', 'also', 'undoubtedly', 'all in all', 'lately', 'hence', 'still', 'therefore', 'in addition', 'indeed', 'again', 'so', 'nevertheless', 'besides', 'instead', 'for instance', 'certainly', 'however', 'anyway', 'further', 'furthermore', 'similarly', 'now', 'in conclusion', 'nonetheless', 'thereafter', 'likewise', 'otherwise', 'consequently']\n",
    "        return sum([len(re.findall(adv, span.text.lower())) for adv in conj_advs])\n",
    "    \n",
    "    def get_num_punct(span):\n",
    "        return sum([1 for token in span if token.tag_ == \".\"])\n",
    "    \n",
    "    # Set Extensions\n",
    "    \n",
    "    for feature in features_dict['doc_features']:\n",
    "        Doc.set_extension(feature, force=force, getter=locals()[f\"get_{feature}\"])\n",
    "        \n",
    "    for feature in features_dict['span_features']:\n",
    "        Span.set_extension(feature, force=force, getter=locals()[f\"get_{feature}\"])\n",
    "        \n",
    "    for feature in features_dict['token_features']:\n",
    "        Token.set_extension(feature, force=force, getter=locals()[f\"get_{feature}\"])\n",
    "        \n",
    "create_extensions(features_dict)   \n",
    "Doc.set_extension(\"essay_id\", default=None, force=True)\n"
   ]
  },
  {
   "cell_type": "code",
   "execution_count": 4,
   "id": "4d9f38cc",
   "metadata": {},
   "outputs": [],
   "source": [
    "# Optional\n",
    "def add_full_stops(text):\n",
    "    \"\"\"adds full stops to texts that end with \\n missing full stops\"\"\"\n",
    "    return re.sub(\"\\n+(?!\\.)\",'.\\n', text)"
   ]
  },
  {
   "cell_type": "code",
   "execution_count": 5,
   "id": "a0288b67",
   "metadata": {},
   "outputs": [],
   "source": [
    "def text2doc(text):\n",
    "    return nlp(text)"
   ]
  },
  {
   "cell_type": "code",
   "execution_count": 6,
   "id": "497c7eea",
   "metadata": {},
   "outputs": [],
   "source": [
    "def segmentation(doc=None ,mode = 'sentence'):\n",
    "    if mode=='paragraph':\n",
    "        pass\n",
    "    if mode=='sentence':\n",
    "        return [sent for sent in doc.sents if not (sent.text.isspace() or sent.text =='')] #if not sent.text.isspace()]\n",
    "    if mode =='avg_n_grams':\n",
    "        # Code to segment with 15 grams here (aveage)    \n",
    "        pass\n",
    "    if mode=='clause':\n",
    "        # Code to segment by clause\n",
    "        pass\n",
    "    if mode=='token':\n",
    "        return [token for token in doc if not (token.text.isspace() or token.text =='')]"
   ]
  },
  {
   "cell_type": "code",
   "execution_count": 7,
   "id": "55209a20",
   "metadata": {},
   "outputs": [],
   "source": [
    "def unit2fv(unit,feature_list):\n",
    "    \n",
    "    fv = np.array([unit._.get(feature) for feature in feature_list], dtype='object')\n",
    "    \n",
    "    _fv = np.array([np.reshape(feature, -1) for feature in fv], dtype='object')\n",
    "    \n",
    "    return np.concatenate(_fv)"
   ]
  },
  {
   "cell_type": "code",
   "execution_count": 8,
   "id": "4c869f62",
   "metadata": {},
   "outputs": [],
   "source": [
    "# INPUTS \n",
    "essays = pd.read_csv(\"../data/output_csv/essays.csv\")\n",
    "adus = pd.read_csv(\"../data/output_csv/adus.csv\")\n"
   ]
  },
  {
   "cell_type": "code",
   "execution_count": 126,
   "id": "b23a9895",
   "metadata": {},
   "outputs": [],
   "source": [
    "# # TEST INPUT \n",
    "\n",
    "# data = [(row['text'], dict(id=row['essay_id'])) for ind, row in essays.iterrows()]\n",
    "# docs = []\n",
    "# data\n",
    "# for doc, context in nlp.pipe(data, as_tuples=True):\n",
    "#     doc._.essay_id = context['id']\n",
    "#     docs.append(doc)\n",
    "    "
   ]
  },
  {
   "cell_type": "code",
   "execution_count": 127,
   "id": "37f6494f",
   "metadata": {},
   "outputs": [],
   "source": [
    "# # Flattening list of docs\n",
    "# segmented_docs = [segmentation(doc, mode='sentence') for doc in docs]\n",
    "\n",
    "# segmented_docs\n",
    "\n",
    "\n",
    "# units = list(chain.from_iterable(segmented_docs))\n"
   ]
  },
  {
   "cell_type": "code",
   "execution_count": 128,
   "id": "b9cd8e41",
   "metadata": {},
   "outputs": [],
   "source": [
    "# X_features = span_features[:-1]\n",
    "# X_features\n",
    "\n",
    "# X = [unit2fv(unit, X_features) for unit in units]\n",
    "# y = [int(unit._.label) for unit in units]"
   ]
  },
  {
   "cell_type": "code",
   "execution_count": 60,
   "id": "3830e6c4",
   "metadata": {},
   "outputs": [],
   "source": [
    "# Pipelinev1\n",
    "\n",
    "def text2fv(df):\n",
    "    data = [(row['text'], dict(id=row['essay_id'])) for ind, row in df.iterrows()]\n",
    "    docs = []\n",
    "    data\n",
    "    for doc, context in nlp.pipe(data, as_tuples=True):\n",
    "        doc._.essay_id = context['id']\n",
    "        docs.append(doc)\n",
    "        \n",
    "    segmented_docs = [segmentation(doc, mode='sentence') for doc in docs]\n",
    "\n",
    "    units = list(chain.from_iterable(segmented_docs))\n",
    "    \n",
    "    X_features = span_features[:-1]\n",
    "\n",
    "    X = np.array([unit2fv(unit, X_features) for unit in units])\n",
    "    y = np.array([int(unit._.label) for unit in units])\n",
    "    \n",
    "    return X,y "
   ]
  },
  {
   "cell_type": "code",
   "execution_count": 61,
   "id": "db74011e",
   "metadata": {},
   "outputs": [],
   "source": [
    "train = essays[essays['label'] =='train']\n",
    "test =essays[essays['label'] =='test']\n",
    "\n",
    "X_train, y_train = text2fv(train)\n",
    "\n",
    "X_test, y_test = text2fv(test)\n",
    "\n",
    "#fv_all = text2fv(essays)"
   ]
  },
  {
   "cell_type": "code",
   "execution_count": 41,
   "id": "6fe3b982",
   "metadata": {},
   "outputs": [],
   "source": [
    "from sklearn.model_selection import train_test_split\n"
   ]
  },
  {
   "cell_type": "code",
   "execution_count": 51,
   "id": "f466ebe8",
   "metadata": {},
   "outputs": [],
   "source": [
    "X_train, X_test, y_train, y_test = train_test_split( fv_all[0], fv_all[1], test_size=0.33, random_state=42)"
   ]
  },
  {
   "cell_type": "code",
   "execution_count": 62,
   "id": "ab30ec8e",
   "metadata": {},
   "outputs": [
    {
     "data": {
      "text/plain": [
       "(5442, 305)"
      ]
     },
     "execution_count": 62,
     "metadata": {},
     "output_type": "execute_result"
    }
   ],
   "source": [
    "X_train.shape"
   ]
  },
  {
   "cell_type": "code",
   "execution_count": 63,
   "id": "66555297",
   "metadata": {},
   "outputs": [
    {
     "data": {
      "text/plain": [
       "(1384, 305)"
      ]
     },
     "execution_count": 63,
     "metadata": {},
     "output_type": "execute_result"
    }
   ],
   "source": [
    "X_test.shape"
   ]
  },
  {
   "cell_type": "code",
   "execution_count": 120,
   "id": "dadc15e7",
   "metadata": {},
   "outputs": [],
   "source": [
    "# CONTEXTUAL TEST\n",
    "input_text = essays['text'].iloc[0]\n",
    "\n",
    "doc = nlp(input_text)\n",
    "\n",
    "units = segmentation(doc)\n",
    "\n",
    "def seg_test(doc):\n",
    "    Span.set_extension('index_in_doc', default=None, force=True)\n",
    "    sents = []\n",
    "    \n",
    "    for ind, s in enumerate(doc.sents):\n",
    "        s._.index_in_doc = ind\n",
    "        sents.append(s)\n",
    "    return sents"
   ]
  },
  {
   "cell_type": "code",
   "execution_count": 194,
   "id": "72912db4",
   "metadata": {},
   "outputs": [
    {
     "data": {
      "text/plain": [
       "\n",
       "Consequently, no matter from the view of individual development or the relationship between competition and cooperation we can receive the same conclusion that a more cooperative attitudes towards life is more profitable in one's success."
      ]
     },
     "execution_count": 194,
     "metadata": {},
     "output_type": "execute_result"
    }
   ],
   "source": [
    "# SAVE (GET NEIGHBOUR SENT. INDEX) ONLY FOR SENTENCE\n",
    "sents[0].doc[sents[0][0].i -1].sent"
   ]
  },
  {
   "cell_type": "code",
   "execution_count": 222,
   "id": "75a55c47",
   "metadata": {},
   "outputs": [
    {
     "data": {
      "text/plain": [
       "Computer has negative effects to children\n",
       "\n",
       "Nowadays, thanks to the development of technology, computer is now indispensable to life. Some people think that computer is good for children and it should be used daily by children but some others think differently. In my opinion, the latter opinion is true.\n",
       "First, using computer constantly has bad influence on children's eyes. When they concentrate on computer for too long, their eyes will get tired, which is the main reason for some eyes problems, typically shortsighted.\n",
       "Moreover, children who play games too much on computer can seriously lack communicating skills, they will know little about the outside life. It is a well-known fact that people who are addicted to games, especially online games, can eventually bear dangerous consequences. For instance, several teenagers play games without rest, which leads to health depression, a typical example is the death of Korean gamer, who had a non-stop playing for 3 days.\n",
       "Finally, even people who are not interested in online game can still be negatively affected by using computer too much. Some social surveys have shown that a few children use computer for studying purpose, most of them are attracted by facebook, blog, etc. instead. Due to this neglect, they will have a bad result in school because when they can not live without internet, they will have no time for their studying.\n",
       "In conclusion, although it is undeniable that computer is a crucial part of human life, it still has its bad side, especially for children. People should learn how to use it properly to make it an effective tool because computer should be used not only for entertaining but also for working and studying purpose."
      ]
     },
     "execution_count": 222,
     "metadata": {},
     "output_type": "execute_result"
    }
   ],
   "source": [
    "doc"
   ]
  },
  {
   "cell_type": "code",
   "execution_count": 249,
   "id": "6e43f360",
   "metadata": {},
   "outputs": [],
   "source": [
    "def get_is_head(span):\n",
    "    \n",
    "    if span[0].text == '\\n':\n",
    "        return 1\n",
    "    \n",
    "    # Previous span's last token index\n",
    "    prev_span_ind = span[0].i - 1\n",
    "    \n",
    "    if span.doc[prev_span_ind].text == '\\n':\n",
    "        return 1\n",
    "        \n",
    "    return 0\n",
    "    \n",
    "    \n",
    "    "
   ]
  },
  {
   "cell_type": "code",
   "execution_count": 250,
   "id": "34f984eb",
   "metadata": {},
   "outputs": [],
   "source": [
    "Span.set_extension(\"is_head\", getter = get_is_head, force=True)"
   ]
  },
  {
   "cell_type": "code",
   "execution_count": 275,
   "id": "52c07b86",
   "metadata": {},
   "outputs": [],
   "source": [
    "doc = nlp(in_text)\n",
    "\n",
    "units = seg_test(doc)"
   ]
  },
  {
   "cell_type": "code",
   "execution_count": 276,
   "id": "5f107103",
   "metadata": {},
   "outputs": [
    {
     "name": "stdout",
     "output_type": "stream",
     "text": [
      "1 ---- Computer has negative effects to children\n",
      "\n",
      "Nowadays, thanks to the development of technology, computer is now indispensable to life. \n",
      "\n",
      "0 ---- Some people think that computer is good for children and it should be used daily by children but some others think differently. \n",
      "\n",
      "0 ---- In my opinion, the latter opinion is true. \n",
      "\n",
      "1 ---- \n",
      "First, using computer constantly has bad influence on children's eyes. \n",
      "\n",
      "0 ---- When they concentrate on computer for too long, their eyes will get tired, which is the main reason for some eyes problems, typically shortsighted. \n",
      "\n",
      "1 ---- \n",
      "Moreover, children who play games too much on computer can seriously lack communicating skills, they will know little about the outside life. \n",
      "\n",
      "0 ---- It is a well-known fact that people who are addicted to games, especially online games, can eventually bear dangerous consequences. \n",
      "\n",
      "0 ---- For instance, several teenagers play games without rest, which leads to health depression, a typical example is the death of Korean gamer, who had a non-stop playing for 3 days. \n",
      "\n",
      "1 ---- \n",
      "Finally, even people who are not interested in online game can still be negatively affected by using computer too much. \n",
      "\n",
      "0 ---- Some social surveys have shown that a few children use computer for studying purpose, most of them are attracted by facebook, blog, etc. instead. \n",
      "\n",
      "0 ---- Due to this neglect, they will have a bad result in school because when they can not live without internet, they will have no time for their studying. \n",
      "\n",
      "1 ---- In conclusion, although it is undeniable that computer is a crucial part of human life, it still has its bad side, especially for children. \n",
      "\n",
      "0 ---- People should learn how to use it properly to make it an effective tool because computer should be used not only for entertaining but also for working and studying purpose. \n",
      "\n"
     ]
    }
   ],
   "source": [
    "units_fixed = [s for s in units if not s.text.isspace()]\n",
    "\n",
    "for s in units_fixed:\n",
    "    print(s._.is_head,\"----\",s, \"\\n\")"
   ]
  },
  {
   "cell_type": "code",
   "execution_count": 262,
   "id": "1b714c05",
   "metadata": {},
   "outputs": [
    {
     "name": "stdout",
     "output_type": "stream",
     "text": [
      "1 ---- Computer has negative effects to children\n",
      "\n",
      "Nowadays, thanks to the development of technology, computer is now indispensable to life. \n",
      "\n",
      "0 ---- Some people think that computer is good for children and it should be used daily by children but some others think differently. \n",
      "\n",
      "0 ---- In my opinion, the latter opinion is true. \n",
      "\n",
      "1 ---- \n",
      "First, using computer constantly has bad influence on children's eyes. \n",
      "\n",
      "0 ---- When they concentrate on computer for too long, their eyes will get tired, which is the main reason for some eyes problems, typically shortsighted. \n",
      "\n",
      "1 ---- \n",
      "Moreover, children who play games too much on computer can seriously lack communicating skills, they will know little about the outside life. \n",
      "\n",
      "0 ---- It is a well-known fact that people who are addicted to games, especially online games, can eventually bear dangerous consequences. \n",
      "\n",
      "0 ---- For instance, several teenagers play games without rest, which leads to health depression, a typical example is the death of Korean gamer, who had a non-stop playing for 3 days. \n",
      "\n",
      "1 ---- \n",
      "Finally, even people who are not interested in online game can still be negatively affected by using computer too much. \n",
      "\n",
      "0 ---- Some social surveys have shown that a few children use computer for studying purpose, most of them are attracted by facebook, blog, etc. instead. \n",
      "\n",
      "0 ---- Due to this neglect, they will have a bad result in school because when they can not live without internet, they will have no time for their studying. \n",
      "\n",
      "1 ---- \n",
      " \n",
      "\n",
      "1 ---- In conclusion, although it is undeniable that computer is a crucial part of human life, it still has its bad side, especially for children. \n",
      "\n",
      "0 ---- People should learn how to use it properly to make it an effective tool because computer should be used not only for entertaining but also for working and studying purpose. \n",
      "\n",
      "1 ---- \n",
      " \n",
      "\n"
     ]
    }
   ],
   "source": [
    "for s in units:\n",
    "    print(s._.is_head,\"----\",s, \"\\n\")"
   ]
  },
  {
   "cell_type": "code",
   "execution_count": 269,
   "id": "632e8ea0",
   "metadata": {},
   "outputs": [
    {
     "name": "stdout",
     "output_type": "stream",
     "text": [
      "1 ---- Computer has negative effects to children.\n",
      "1 ---- \n",
      "Nowadays, thanks to the development of technology, computer is now indispensable to life.\n",
      "0 ---- Some people think that computer is good for children and it should be used daily by children but some others think differently.\n",
      "0 ---- In my opinion, the latter opinion is true..\n",
      "First, using computer constantly has bad influence on children's eyes.\n",
      "0 ---- When they concentrate on computer for too long, their eyes will get tired, which is the main reason for some eyes problems, typically shortsighted..\n",
      "Moreover, children who play games too much on computer can seriously lack communicating skills, they will know little about the outside life.\n",
      "0 ---- It is a well-known fact that people who are addicted to games, especially online games, can eventually bear dangerous consequences.\n",
      "0 ---- For instance, several teenagers play games without rest, which leads to health depression, a typical example is the death of Korean gamer, who had a non-stop playing for 3 days..\n",
      "Finally, even people who are not interested in online game can still be negatively affected by using computer too much.\n",
      "0 ---- Some social surveys have shown that a few children use computer for studying purpose, most of them are attracted by facebook, blog, etc. instead.\n",
      "0 ---- Due to this neglect, they will have a bad result in school because when they can not live without internet, they will have no time for their studying..\n",
      "1 ---- \n",
      "In conclusion, although it is undeniable that computer is a crucial part of human life, it still has its bad side, especially for children.\n",
      "0 ---- People should learn how to use it properly to make it an effective tool because computer should be used not only for entertaining but also for working and studying purpose..\n",
      "\n"
     ]
    }
   ],
   "source": [
    "in_2 = add_full_stops(in_text)\n",
    "\n",
    "doc2 = nlp(in_2)\n",
    "\n",
    "units2 = seg_test(doc2)\n",
    "\n",
    "\n",
    "for s in units:\n",
    "    print(s._.is_head, \"----\", s)"
   ]
  },
  {
   "cell_type": "code",
   "execution_count": 240,
   "id": "fbff351f",
   "metadata": {},
   "outputs": [
    {
     "data": {
      "text/plain": []
     },
     "execution_count": 240,
     "metadata": {},
     "output_type": "execute_result"
    }
   ],
   "source": [
    "ind = units[12][0].i\n",
    "\n",
    "units[12].doc[ind-1] "
   ]
  },
  {
   "cell_type": "code",
   "execution_count": null,
   "id": "c9bfae78",
   "metadata": {},
   "outputs": [],
   "source": []
  },
  {
   "cell_type": "code",
   "execution_count": 221,
   "id": "bc6ad45b",
   "metadata": {},
   "outputs": [
    {
     "data": {
      "text/plain": [
       "[Computer has negative effects to children\n",
       " \n",
       " Nowadays, thanks to the development of technology, computer is now indispensable to life.,\n",
       " Some people think that computer is good for children and it should be used daily by children but some others think differently.,\n",
       " In my opinion, the latter opinion is true.,\n",
       " \n",
       " First, using computer constantly has bad influence on children's eyes.,\n",
       " When they concentrate on computer for too long, their eyes will get tired, which is the main reason for some eyes problems, typically shortsighted.,\n",
       " \n",
       " Moreover, children who play games too much on computer can seriously lack communicating skills, they will know little about the outside life.,\n",
       " It is a well-known fact that people who are addicted to games, especially online games, can eventually bear dangerous consequences.,\n",
       " For instance, several teenagers play games without rest, which leads to health depression, a typical example is the death of Korean gamer, who had a non-stop playing for 3 days.,\n",
       " \n",
       " Finally, even people who are not interested in online game can still be negatively affected by using computer too much.,\n",
       " Some social surveys have shown that a few children use computer for studying purpose, most of them are attracted by facebook, blog, etc. instead.,\n",
       " Due to this neglect, they will have a bad result in school because when they can not live without internet, they will have no time for their studying.,\n",
       " ,\n",
       " In conclusion, although it is undeniable that computer is a crucial part of human life, it still has its bad side, especially for children.,\n",
       " People should learn how to use it properly to make it an effective tool because computer should be used not only for entertaining but also for working and studying purpose.,\n",
       " ]"
      ]
     },
     "execution_count": 221,
     "metadata": {},
     "output_type": "execute_result"
    }
   ],
   "source": [
    "# IS HEAD TEST\n",
    "\n",
    "in_text = essays['text'].iloc[23]\n",
    "\n",
    "doc = nlp(in_text)\n",
    "\n",
    "units = seg_test(doc)\n",
    "\n",
    "units"
   ]
  },
  {
   "cell_type": "code",
   "execution_count": 104,
   "id": "ee52ae66",
   "metadata": {},
   "outputs": [
    {
     "data": {
      "text/plain": [
       "In order to survive in the competition, companies continue to improve their products and service, and as a result, the whole society prospers."
      ]
     },
     "execution_count": 104,
     "metadata": {},
     "output_type": "execute_result"
    }
   ],
   "source": [
    "units[2]"
   ]
  },
  {
   "cell_type": "code",
   "execution_count": 91,
   "id": "6305a8f5",
   "metadata": {
    "scrolled": true
   },
   "outputs": [
    {
     "data": {
      "text/plain": [
       "\n",
       "\n",
       "It is always said that competition can effectively promote the development of economy."
      ]
     },
     "execution_count": 91,
     "metadata": {},
     "output_type": "execute_result"
    }
   ],
   "source": [
    "u1"
   ]
  },
  {
   "cell_type": "markdown",
   "id": "637d8acc",
   "metadata": {},
   "source": [
    "# Classification"
   ]
  },
  {
   "cell_type": "code",
   "execution_count": 64,
   "id": "b388630d",
   "metadata": {},
   "outputs": [],
   "source": [
    "from sklearn.linear_model import LogisticRegression\n",
    "from sklearn.metrics import confusion_matrix, classification_report"
   ]
  },
  {
   "cell_type": "code",
   "execution_count": 74,
   "id": "a9fd3284",
   "metadata": {},
   "outputs": [
    {
     "data": {
      "text/plain": [
       "LogisticRegression(solver='newton-cg')"
      ]
     },
     "execution_count": 74,
     "metadata": {},
     "output_type": "execute_result"
    }
   ],
   "source": [
    "logreg = LogisticRegression(solver='newton-cg')\n",
    "logreg.fit(X_train, y_train)\n"
   ]
  },
  {
   "cell_type": "code",
   "execution_count": 78,
   "id": "5a65a24e",
   "metadata": {},
   "outputs": [
    {
     "name": "stdout",
     "output_type": "stream",
     "text": [
      "              precision    recall  f1-score   support\n",
      "\n",
      "           0       0.70      0.24      0.35       250\n",
      "           1       0.85      0.98      0.91      1134\n",
      "\n",
      "    accuracy                           0.84      1384\n",
      "   macro avg       0.78      0.61      0.63      1384\n",
      "weighted avg       0.83      0.84      0.81      1384\n",
      "\n"
     ]
    }
   ],
   "source": [
    "preds_lr = logreg.predict(X_test)\n",
    "print(classification_report(y_test, preds_lr))"
   ]
  },
  {
   "cell_type": "code",
   "execution_count": 66,
   "id": "a54503cc",
   "metadata": {},
   "outputs": [],
   "source": [
    "from sklearn.ensemble import RandomForestClassifier\n",
    "rf = RandomForestClassifier()"
   ]
  },
  {
   "cell_type": "code",
   "execution_count": 67,
   "id": "3d81b7f3",
   "metadata": {},
   "outputs": [
    {
     "data": {
      "text/plain": [
       "RandomForestClassifier()"
      ]
     },
     "execution_count": 67,
     "metadata": {},
     "output_type": "execute_result"
    }
   ],
   "source": [
    "rf.fit(X_train, y_train)"
   ]
  },
  {
   "cell_type": "code",
   "execution_count": 68,
   "id": "e1fc039d",
   "metadata": {},
   "outputs": [
    {
     "data": {
      "text/plain": [
       "RandomForestClassifier()"
      ]
     },
     "execution_count": 68,
     "metadata": {},
     "output_type": "execute_result"
    }
   ],
   "source": [
    "rf"
   ]
  },
  {
   "cell_type": "code",
   "execution_count": null,
   "id": "b358f00b",
   "metadata": {},
   "outputs": [],
   "source": []
  },
  {
   "cell_type": "code",
   "execution_count": 69,
   "id": "ebaa8a03",
   "metadata": {},
   "outputs": [],
   "source": [
    "preds = rf.predict(X_test)"
   ]
  },
  {
   "cell_type": "code",
   "execution_count": 70,
   "id": "ae0ce264",
   "metadata": {},
   "outputs": [
    {
     "data": {
      "text/plain": [
       "array([[  34,  216],\n",
       "       [   9, 1125]], dtype=int64)"
      ]
     },
     "execution_count": 70,
     "metadata": {},
     "output_type": "execute_result"
    }
   ],
   "source": [
    "confusion_matrix(y_test, preds)"
   ]
  },
  {
   "cell_type": "code",
   "execution_count": 71,
   "id": "5457db0e",
   "metadata": {
    "scrolled": true
   },
   "outputs": [
    {
     "name": "stdout",
     "output_type": "stream",
     "text": [
      "              precision    recall  f1-score   support\n",
      "\n",
      "           0       0.79      0.14      0.23       250\n",
      "           1       0.84      0.99      0.91      1134\n",
      "\n",
      "    accuracy                           0.84      1384\n",
      "   macro avg       0.81      0.56      0.57      1384\n",
      "weighted avg       0.83      0.84      0.79      1384\n",
      "\n"
     ]
    }
   ],
   "source": [
    "print(classification_report(y_test, preds))"
   ]
  },
  {
   "cell_type": "code",
   "execution_count": 79,
   "id": "059a2bc9",
   "metadata": {},
   "outputs": [
    {
     "data": {
      "text/plain": [
       "0.8389261744966443"
      ]
     },
     "execution_count": 79,
     "metadata": {},
     "output_type": "execute_result"
    }
   ],
   "source": [
    "1125/(1125+216)"
   ]
  },
  {
   "cell_type": "code",
   "execution_count": 80,
   "id": "1f28c77c",
   "metadata": {},
   "outputs": [
    {
     "data": {
      "text/plain": [
       "0.9920634920634921"
      ]
     },
     "execution_count": 80,
     "metadata": {},
     "output_type": "execute_result"
    }
   ],
   "source": [
    "1125/(1125+9)"
   ]
  },
  {
   "cell_type": "code",
   "execution_count": 30,
   "id": "99f3f68c",
   "metadata": {},
   "outputs": [
    {
     "data": {
      "text/plain": [
       "5499"
      ]
     },
     "execution_count": 30,
     "metadata": {},
     "output_type": "execute_result"
    }
   ],
   "source": [
    "sum(preds)"
   ]
  },
  {
   "cell_type": "code",
   "execution_count": 31,
   "id": "0db6bc1f",
   "metadata": {},
   "outputs": [
    {
     "data": {
      "text/plain": [
       "1    5499\n",
       "0    1327\n",
       "dtype: int64"
      ]
     },
     "execution_count": 31,
     "metadata": {},
     "output_type": "execute_result"
    }
   ],
   "source": [
    "pd.Series(preds).value_counts()"
   ]
  },
  {
   "cell_type": "code",
   "execution_count": 32,
   "id": "a2e16a8a",
   "metadata": {},
   "outputs": [
    {
     "data": {
      "text/plain": [
       "RandomForestClassifier()"
      ]
     },
     "execution_count": 32,
     "metadata": {},
     "output_type": "execute_result"
    }
   ],
   "source": [
    "rf.fit(X_test, y_test)"
   ]
  },
  {
   "cell_type": "code",
   "execution_count": 33,
   "id": "b1f27fc4",
   "metadata": {},
   "outputs": [],
   "source": [
    "preds = rf.predict(X_train)"
   ]
  },
  {
   "cell_type": "code",
   "execution_count": null,
   "id": "cbbb8053",
   "metadata": {},
   "outputs": [],
   "source": []
  },
  {
   "cell_type": "code",
   "execution_count": 34,
   "id": "a07c71c3",
   "metadata": {},
   "outputs": [
    {
     "data": {
      "text/plain": [
       "array([[1328,    2],\n",
       "       [   1, 5495]], dtype=int64)"
      ]
     },
     "execution_count": 34,
     "metadata": {},
     "output_type": "execute_result"
    }
   ],
   "source": [
    "confusion_matrix(y_train, preds)"
   ]
  },
  {
   "cell_type": "code",
   "execution_count": 35,
   "id": "399a9666",
   "metadata": {},
   "outputs": [
    {
     "data": {
      "text/plain": [
       "(6826, 305)"
      ]
     },
     "execution_count": 35,
     "metadata": {},
     "output_type": "execute_result"
    }
   ],
   "source": [
    "X_train.shape"
   ]
  },
  {
   "cell_type": "code",
   "execution_count": 36,
   "id": "abddf72d",
   "metadata": {},
   "outputs": [
    {
     "data": {
      "text/plain": [
       "(6826, 305)"
      ]
     },
     "execution_count": 36,
     "metadata": {},
     "output_type": "execute_result"
    }
   ],
   "source": [
    "X_test.shape"
   ]
  },
  {
   "cell_type": "code",
   "execution_count": 37,
   "id": "fbb5d5c9",
   "metadata": {},
   "outputs": [
    {
     "data": {
      "text/plain": [
       "array([[-0.004337  ,  0.0057485 , -0.0807924 , ...,  0.        ,\n",
       "         0.        ,  0.        ],\n",
       "       [-0.10655527,  0.28985757, -0.05341565, ...,  0.        ,\n",
       "         0.        ,  0.        ],\n",
       "       [-0.11575627,  0.22593297, -0.05616171, ...,  1.        ,\n",
       "         1.        ,  0.        ],\n",
       "       ...,\n",
       "       [-0.045301  ,  0.228496  , -0.23810712, ...,  0.        ,\n",
       "         1.        ,  0.        ],\n",
       "       [-0.07727963,  0.26625875, -0.17565002, ...,  0.        ,\n",
       "         0.        ,  0.        ],\n",
       "       [-0.02388383,  0.24468371, -0.1548357 , ...,  0.        ,\n",
       "         1.        ,  0.        ]])"
      ]
     },
     "execution_count": 37,
     "metadata": {},
     "output_type": "execute_result"
    }
   ],
   "source": [
    "X_test"
   ]
  }
 ],
 "metadata": {
  "kernelspec": {
   "display_name": "Python 3 (ipykernel)",
   "language": "python",
   "name": "python3"
  },
  "language_info": {
   "codemirror_mode": {
    "name": "ipython",
    "version": 3
   },
   "file_extension": ".py",
   "mimetype": "text/x-python",
   "name": "python",
   "nbconvert_exporter": "python",
   "pygments_lexer": "ipython3",
   "version": "3.9.7"
  }
 },
 "nbformat": 4,
 "nbformat_minor": 5
}
