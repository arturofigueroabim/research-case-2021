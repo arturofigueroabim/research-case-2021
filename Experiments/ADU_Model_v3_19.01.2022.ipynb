{
 "cells": [
  {
   "cell_type": "code",
   "execution_count": 1,
   "id": "59a7bd46",
   "metadata": {},
   "outputs": [],
   "source": [
    "import numpy as np\n",
    "import pandas as pd\n",
    "import spacy\n",
    "from spacy.tokens import Doc, Span, Token\n",
    "nlp = spacy.load(\"en_core_web_md\")\n",
    "import re\n",
    "\n",
    "from itertools import chain"
   ]
  },
  {
   "cell_type": "code",
   "execution_count": 2,
   "id": "97a65bbf",
   "metadata": {},
   "outputs": [],
   "source": [
    "from spacy import displacy\n",
    "import deplacy"
   ]
  },
  {
   "cell_type": "code",
   "execution_count": 3,
   "id": "e3449821",
   "metadata": {},
   "outputs": [],
   "source": [
    "doc_features = ['num_tokens']\n",
    "span_features = ['word_emb', 'num_tokens', 'num_verbs', 'num_pos_pronouns', 'num_conj_adv', 'num_punct', 'label']\n",
    "token_features =['word_emb']\n",
    "features_dict = dict(doc_features=doc_features, span_features=span_features, token_features=token_features)\n",
    "\n",
    "\n",
    "\n",
    "\n",
    "\n",
    "def create_extensions(features_dict=None, force=True):\n",
    "    \n",
    "    \n",
    "    \n",
    "\n",
    "    \n",
    "    # Feature Getters\n",
    "    \n",
    "    def get_label(span):\n",
    "        \n",
    "        # ADU vs non-ADU LABEL for the span\n",
    "\n",
    "        # Works if the span is larger or equal to the adu\n",
    "\n",
    "        # TODO:\n",
    "        # DOES NOT WORK IF SPAN IS SMALLER THAN ADU, OR IF ADU IS SPLIT BETWEEN TWO SPANS (NEEDS MORE WORK!!!)\n",
    "        # CLAIM VS PREMISE\n",
    "        essay_id = span.doc._.essay_id\n",
    "\n",
    "        span_start = span[0].idx\n",
    "        span_end = span[-1].idx  + len(span[-1])\n",
    "        start_inds = adus[adus['essay_id'] == essay_id ]['start_ind'].values\n",
    "        end_inds = adus[adus['essay_id'] == essay_id ]['end_ind'].values\n",
    "\n",
    "        # Checks if starting index of span is smaller than ADU and the ending index of the span is larger than the ADU\n",
    "        return ((start_inds >= span_start) & (end_inds <= span_end)).any()\n",
    "    \n",
    "\n",
    "    def get_word_emb(obj):\n",
    "        return obj.vector\n",
    "    \n",
    "    def get_num_tokens(obj):\n",
    "        return len(obj)\n",
    "    \n",
    "    def get_num_verbs(span):\n",
    "        return sum([1 for token in span if token.pos_ == \"VERB\"])\n",
    "\n",
    "    def get_num_pos_pronouns(span):\n",
    "        return sum([1 for token in span if token.tag_ == \"PRP$\"])\n",
    "\n",
    "    def get_num_pron(span):\n",
    "        return sum([1 for token in span if token.pos_ == \"PRON\"])\n",
    "    \n",
    "    def get_num_conj_adv(span):\n",
    "        conj_advs = ['moreover', 'incidentally', 'next', 'yet', 'finally', 'then', 'for example', 'thus', 'accordingly', 'namely', 'meanwhile', 'that is', 'also', 'undoubtedly', 'all in all', 'lately', 'hence', 'still', 'therefore', 'in addition', 'indeed', 'again', 'so', 'nevertheless', 'besides', 'instead', 'for instance', 'certainly', 'however', 'anyway', 'further', 'furthermore', 'similarly', 'now', 'in conclusion', 'nonetheless', 'thereafter', 'likewise', 'otherwise', 'consequently']\n",
    "        return sum([len(re.findall(adv, span.text.lower())) for adv in conj_advs])\n",
    "    \n",
    "    def get_num_punct(span):\n",
    "        return sum([1 for token in span if token.tag_ == \"PUNCT\"])\n",
    "    \n",
    "    # Set Extensions\n",
    "    \n",
    "    for feature in features_dict['doc_features']:\n",
    "        Doc.set_extension(feature, force=force, getter=locals()[f\"get_{feature}\"])\n",
    "        \n",
    "    for feature in features_dict['span_features']:\n",
    "        Span.set_extension(feature, force=force, getter=locals()[f\"get_{feature}\"])\n",
    "        \n",
    "    for feature in features_dict['token_features']:\n",
    "        Token.set_extension(feature, force=force, getter=locals()[f\"get_{feature}\"])\n",
    "        \n",
    "create_extensions(features_dict)   \n",
    "Doc.set_extension(\"essay_id\", default=None, force=True)\n"
   ]
  },
  {
   "cell_type": "code",
   "execution_count": 4,
   "id": "4d9f38cc",
   "metadata": {},
   "outputs": [],
   "source": [
    "# Optional\n",
    "def add_full_stops(text):\n",
    "    \"\"\"adds full stops to texts that end with \\n missing full stops\"\"\"\n",
    "    return re.sub(\"\\n+(?!\\.)\",'.\\n', text)"
   ]
  },
  {
   "cell_type": "code",
   "execution_count": 5,
   "id": "a0288b67",
   "metadata": {},
   "outputs": [],
   "source": [
    "def text2doc(text):\n",
    "    return nlp(text)"
   ]
  },
  {
   "cell_type": "code",
   "execution_count": 6,
   "id": "497c7eea",
   "metadata": {},
   "outputs": [],
   "source": [
    "def segmentation(doc=None ,mode = 'sentence'):\n",
    "    if mode=='paragraph':\n",
    "        pass\n",
    "    if mode=='sentence':\n",
    "        return [sent for sent in doc.sents if not (sent.text.isspace() or sent.text =='')] #if not sent.text.isspace()]\n",
    "    if mode =='avg_n_grams':\n",
    "        # Code to segment with 15 grams here (aveage)    \n",
    "        pass\n",
    "    if mode=='clause':\n",
    "        # Code to segment by clause\n",
    "        pass\n",
    "    if mode=='token':\n",
    "        return [token for token in doc if not (token.text.isspace() or token.text =='')]"
   ]
  },
  {
   "cell_type": "code",
   "execution_count": 7,
   "id": "55209a20",
   "metadata": {},
   "outputs": [],
   "source": [
    "def unit2fv(unit,feature_list):\n",
    "    \n",
    "    fv = np.array([unit._.get(feature) for feature in feature_list], dtype='object')\n",
    "    \n",
    "    _fv = np.array([np.reshape(feature, -1) for feature in fv], dtype='object')\n",
    "    \n",
    "    return np.concatenate(_fv)"
   ]
  },
  {
   "cell_type": "code",
   "execution_count": 8,
   "id": "4c869f62",
   "metadata": {},
   "outputs": [],
   "source": [
    "# INPUTS \n",
    "essays = pd.read_csv(\"../data/output_csv/essays.csv\")\n",
    "adus = pd.read_csv(\"../data/output_csv/adus.csv\")\n"
   ]
  },
  {
   "cell_type": "code",
   "execution_count": 126,
   "id": "74f18def",
   "metadata": {},
   "outputs": [],
   "source": [
    "# # TEST INPUT \n",
    "\n",
    "# data = [(row['text'], dict(id=row['essay_id'])) for ind, row in essays.iterrows()]\n",
    "# docs = []\n",
    "# data\n",
    "# for doc, context in nlp.pipe(data, as_tuples=True):\n",
    "#     doc._.essay_id = context['id']\n",
    "#     docs.append(doc)\n",
    "    "
   ]
  },
  {
   "cell_type": "code",
   "execution_count": 127,
   "id": "bb45a84f",
   "metadata": {},
   "outputs": [],
   "source": [
    "# # Flattening list of docs\n",
    "# segmented_docs = [segmentation(doc, mode='sentence') for doc in docs]\n",
    "\n",
    "# segmented_docs\n",
    "\n",
    "\n",
    "# units = list(chain.from_iterable(segmented_docs))\n"
   ]
  },
  {
   "cell_type": "code",
   "execution_count": 128,
   "id": "a33faf10",
   "metadata": {},
   "outputs": [],
   "source": [
    "# X_features = span_features[:-1]\n",
    "# X_features\n",
    "\n",
    "# X = [unit2fv(unit, X_features) for unit in units]\n",
    "# y = [int(unit._.label) for unit in units]"
   ]
  },
  {
   "cell_type": "code",
   "execution_count": 60,
   "id": "0653f836",
   "metadata": {},
   "outputs": [],
   "source": [
    "# Pipelinev1\n",
    "\n",
    "def text2fv(df):\n",
    "    data = [(row['text'], dict(id=row['essay_id'])) for ind, row in df.iterrows()]\n",
    "    docs = []\n",
    "    data\n",
    "    for doc, context in nlp.pipe(data, as_tuples=True):\n",
    "        doc._.essay_id = context['id']\n",
    "        docs.append(doc)\n",
    "        \n",
    "    segmented_docs = [segmentation(doc, mode='sentence') for doc in docs]\n",
    "\n",
    "    units = list(chain.from_iterable(segmented_docs))\n",
    "    \n",
    "    X_features = span_features[:-1]\n",
    "\n",
    "    X = np.array([unit2fv(unit, X_features) for unit in units])\n",
    "    y = np.array([int(unit._.label) for unit in units])\n",
    "    \n",
    "    return X,y "
   ]
  },
  {
   "cell_type": "code",
   "execution_count": 61,
   "id": "5b0bac10",
   "metadata": {},
   "outputs": [],
   "source": [
    "train = essays[essays['label'] =='train']\n",
    "test =essays[essays['label'] =='test']\n",
    "\n",
    "X_train, y_train = text2fv(train)\n",
    "\n",
    "X_test, y_test = text2fv(test)\n",
    "\n",
    "#fv_all = text2fv(essays)"
   ]
  },
  {
   "cell_type": "code",
   "execution_count": 41,
   "id": "b8391294",
   "metadata": {},
   "outputs": [],
   "source": [
    "from sklearn.model_selection import train_test_split\n"
   ]
  },
  {
   "cell_type": "code",
   "execution_count": 51,
   "id": "60e56b5b",
   "metadata": {},
   "outputs": [],
   "source": [
    "X_train, X_test, y_train, y_test = train_test_split( fv_all[0], fv_all[1], test_size=0.33, random_state=42)"
   ]
  },
  {
   "cell_type": "code",
   "execution_count": 62,
   "id": "e1ca4d95",
   "metadata": {},
   "outputs": [
    {
     "data": {
      "text/plain": [
       "(5442, 305)"
      ]
     },
     "execution_count": 62,
     "metadata": {},
     "output_type": "execute_result"
    }
   ],
   "source": [
    "X_train.shape"
   ]
  },
  {
   "cell_type": "code",
   "execution_count": 63,
   "id": "8a1aa4cf",
   "metadata": {},
   "outputs": [
    {
     "data": {
      "text/plain": [
       "(1384, 305)"
      ]
     },
     "execution_count": 63,
     "metadata": {},
     "output_type": "execute_result"
    }
   ],
   "source": [
    "X_test.shape"
   ]
  },
  {
   "cell_type": "code",
   "execution_count": 85,
   "id": "76000595",
   "metadata": {},
   "outputs": [],
   "source": [
    "input_text = essays['text'].iloc[0]\n",
    "\n",
    "doc = nlp(input_text)\n",
    "\n",
    "units = segmentation(doc)"
   ]
  },
  {
   "cell_type": "code",
   "execution_count": 87,
   "id": "98940139",
   "metadata": {},
   "outputs": [],
   "source": [
    "u1 = units[1]"
   ]
  },
  {
   "cell_type": "code",
   "execution_count": 89,
   "id": "6f78ece5",
   "metadata": {
    "scrolled": true
   },
   "outputs": [
    {
     "data": {
      "text/plain": [
       "[Should students be taught to compete or to cooperate?,\n",
       " \n",
       " \n",
       " It is always said that competition can effectively promote the development of economy.,\n",
       " In order to survive in the competition, companies continue to improve their products and service, and as a result, the whole society prospers.,\n",
       " However, when we discuss the issue of competition or cooperation, what we are concerned about is not the whole society, but the development of an individual's whole life.,\n",
       " From this point of view, I firmly believe that we should attach more importance to cooperation during primary education.,\n",
       " \n",
       " First of all, through cooperation, children can learn about interpersonal skills which are significant in the future life of all students.,\n",
       " What we acquired from team work is not only how to achieve the same goal with others but more importantly, how to get along with others.,\n",
       " During the process of cooperation, children can learn about how to listen to opinions of others, how to communicate with others, how to think comprehensively, and even how to compromise with other team members when conflicts occurred.,\n",
       " All of these skills help them to get on well with other people and will benefit them for the whole life.,\n",
       " \n",
       " On the other hand, the significance of competition is that how to become more excellence to gain the victory.,\n",
       " Hence it is always said that competition makes the society more effective.,\n",
       " However, when we consider about the question that how to win the game, we always find that we need the cooperation.,\n",
       " The greater our goal is, the more competition we need.,\n",
       " Take Olympic games which is a form of competition for instance, it is hard to imagine how an athlete could win the game without the training of his or her coach, and the help of other professional staffs such as the people who take care of his diet, and those who are in charge of the medical care.,\n",
       " The winner is the athlete but the success belongs to the whole team.,\n",
       " Therefore without the cooperation, there would be no victory of competition.,\n",
       " \n",
       " Consequently, no matter from the view of individual development or the relationship between competition and cooperation we can receive the same conclusion that a more cooperative attitudes towards life is more profitable in one's success.]"
      ]
     },
     "execution_count": 89,
     "metadata": {},
     "output_type": "execute_result"
    }
   ],
   "source": []
  },
  {
   "cell_type": "markdown",
   "id": "637d8acc",
   "metadata": {},
   "source": [
    "# Classification"
   ]
  },
  {
   "cell_type": "code",
   "execution_count": 64,
   "id": "b388630d",
   "metadata": {},
   "outputs": [],
   "source": [
    "from sklearn.linear_model import LogisticRegression\n",
    "from sklearn.metrics import confusion_matrix, classification_report"
   ]
  },
  {
   "cell_type": "code",
   "execution_count": 74,
   "id": "a9fd3284",
   "metadata": {},
   "outputs": [
    {
     "data": {
      "text/plain": [
       "LogisticRegression(solver='newton-cg')"
      ]
     },
     "execution_count": 74,
     "metadata": {},
     "output_type": "execute_result"
    }
   ],
   "source": [
    "logreg = LogisticRegression(solver='newton-cg')\n",
    "logreg.fit(X_train, y_train)\n"
   ]
  },
  {
   "cell_type": "code",
   "execution_count": 78,
   "id": "d1ed30f3",
   "metadata": {},
   "outputs": [
    {
     "name": "stdout",
     "output_type": "stream",
     "text": [
      "              precision    recall  f1-score   support\n",
      "\n",
      "           0       0.70      0.24      0.35       250\n",
      "           1       0.85      0.98      0.91      1134\n",
      "\n",
      "    accuracy                           0.84      1384\n",
      "   macro avg       0.78      0.61      0.63      1384\n",
      "weighted avg       0.83      0.84      0.81      1384\n",
      "\n"
     ]
    }
   ],
   "source": [
    "preds_lr = logreg.predict(X_test)\n",
    "print(classification_report(y_test, preds_lr))"
   ]
  },
  {
   "cell_type": "code",
   "execution_count": 66,
   "id": "47d8aabd",
   "metadata": {},
   "outputs": [],
   "source": [
    "from sklearn.ensemble import RandomForestClassifier\n",
    "rf = RandomForestClassifier()"
   ]
  },
  {
   "cell_type": "code",
   "execution_count": 67,
   "id": "6c4e5ebd",
   "metadata": {},
   "outputs": [
    {
     "data": {
      "text/plain": [
       "RandomForestClassifier()"
      ]
     },
     "execution_count": 67,
     "metadata": {},
     "output_type": "execute_result"
    }
   ],
   "source": [
    "rf.fit(X_train, y_train)"
   ]
  },
  {
   "cell_type": "code",
   "execution_count": 68,
   "id": "19c7f0f3",
   "metadata": {},
   "outputs": [
    {
     "data": {
      "text/plain": [
       "RandomForestClassifier()"
      ]
     },
     "execution_count": 68,
     "metadata": {},
     "output_type": "execute_result"
    }
   ],
   "source": [
    "rf"
   ]
  },
  {
   "cell_type": "code",
   "execution_count": null,
   "id": "27ddec50",
   "metadata": {},
   "outputs": [],
   "source": []
  },
  {
   "cell_type": "code",
   "execution_count": 69,
   "id": "5eaac88f",
   "metadata": {},
   "outputs": [],
   "source": [
    "preds = rf.predict(X_test)"
   ]
  },
  {
   "cell_type": "code",
   "execution_count": 70,
   "id": "12cf0f0c",
   "metadata": {},
   "outputs": [
    {
     "data": {
      "text/plain": [
       "array([[  34,  216],\n",
       "       [   9, 1125]], dtype=int64)"
      ]
     },
     "execution_count": 70,
     "metadata": {},
     "output_type": "execute_result"
    }
   ],
   "source": [
    "confusion_matrix(y_test, preds)"
   ]
  },
  {
   "cell_type": "code",
   "execution_count": 71,
   "id": "0c894582",
   "metadata": {
    "scrolled": true
   },
   "outputs": [
    {
     "name": "stdout",
     "output_type": "stream",
     "text": [
      "              precision    recall  f1-score   support\n",
      "\n",
      "           0       0.79      0.14      0.23       250\n",
      "           1       0.84      0.99      0.91      1134\n",
      "\n",
      "    accuracy                           0.84      1384\n",
      "   macro avg       0.81      0.56      0.57      1384\n",
      "weighted avg       0.83      0.84      0.79      1384\n",
      "\n"
     ]
    }
   ],
   "source": [
    "print(classification_report(y_test, preds))"
   ]
  },
  {
   "cell_type": "code",
   "execution_count": 79,
   "id": "42a2123d",
   "metadata": {},
   "outputs": [
    {
     "data": {
      "text/plain": [
       "0.8389261744966443"
      ]
     },
     "execution_count": 79,
     "metadata": {},
     "output_type": "execute_result"
    }
   ],
   "source": [
    "1125/(1125+216)"
   ]
  },
  {
   "cell_type": "code",
   "execution_count": 80,
   "id": "1f2f85c1",
   "metadata": {},
   "outputs": [
    {
     "data": {
      "text/plain": [
       "0.9920634920634921"
      ]
     },
     "execution_count": 80,
     "metadata": {},
     "output_type": "execute_result"
    }
   ],
   "source": [
    "1125/(1125+9)"
   ]
  },
  {
   "cell_type": "code",
   "execution_count": 30,
   "id": "eec8bdbb",
   "metadata": {},
   "outputs": [
    {
     "data": {
      "text/plain": [
       "5499"
      ]
     },
     "execution_count": 30,
     "metadata": {},
     "output_type": "execute_result"
    }
   ],
   "source": [
    "sum(preds)"
   ]
  },
  {
   "cell_type": "code",
   "execution_count": 31,
   "id": "cd44ef61",
   "metadata": {},
   "outputs": [
    {
     "data": {
      "text/plain": [
       "1    5499\n",
       "0    1327\n",
       "dtype: int64"
      ]
     },
     "execution_count": 31,
     "metadata": {},
     "output_type": "execute_result"
    }
   ],
   "source": [
    "pd.Series(preds).value_counts()"
   ]
  },
  {
   "cell_type": "code",
   "execution_count": 32,
   "id": "0bfe901b",
   "metadata": {},
   "outputs": [
    {
     "data": {
      "text/plain": [
       "RandomForestClassifier()"
      ]
     },
     "execution_count": 32,
     "metadata": {},
     "output_type": "execute_result"
    }
   ],
   "source": [
    "rf.fit(X_test, y_test)"
   ]
  },
  {
   "cell_type": "code",
   "execution_count": 33,
   "id": "3316388c",
   "metadata": {},
   "outputs": [],
   "source": [
    "preds = rf.predict(X_train)"
   ]
  },
  {
   "cell_type": "code",
   "execution_count": null,
   "id": "192d1013",
   "metadata": {},
   "outputs": [],
   "source": []
  },
  {
   "cell_type": "code",
   "execution_count": 34,
   "id": "9ef5d9ff",
   "metadata": {},
   "outputs": [
    {
     "data": {
      "text/plain": [
       "array([[1328,    2],\n",
       "       [   1, 5495]], dtype=int64)"
      ]
     },
     "execution_count": 34,
     "metadata": {},
     "output_type": "execute_result"
    }
   ],
   "source": [
    "confusion_matrix(y_train, preds)"
   ]
  },
  {
   "cell_type": "code",
   "execution_count": 35,
   "id": "ebd59bb3",
   "metadata": {},
   "outputs": [
    {
     "data": {
      "text/plain": [
       "(6826, 305)"
      ]
     },
     "execution_count": 35,
     "metadata": {},
     "output_type": "execute_result"
    }
   ],
   "source": [
    "X_train.shape"
   ]
  },
  {
   "cell_type": "code",
   "execution_count": 36,
   "id": "65fffa56",
   "metadata": {},
   "outputs": [
    {
     "data": {
      "text/plain": [
       "(6826, 305)"
      ]
     },
     "execution_count": 36,
     "metadata": {},
     "output_type": "execute_result"
    }
   ],
   "source": [
    "X_test.shape"
   ]
  },
  {
   "cell_type": "code",
   "execution_count": 37,
   "id": "6aade078",
   "metadata": {},
   "outputs": [
    {
     "data": {
      "text/plain": [
       "array([[-0.004337  ,  0.0057485 , -0.0807924 , ...,  0.        ,\n",
       "         0.        ,  0.        ],\n",
       "       [-0.10655527,  0.28985757, -0.05341565, ...,  0.        ,\n",
       "         0.        ,  0.        ],\n",
       "       [-0.11575627,  0.22593297, -0.05616171, ...,  1.        ,\n",
       "         1.        ,  0.        ],\n",
       "       ...,\n",
       "       [-0.045301  ,  0.228496  , -0.23810712, ...,  0.        ,\n",
       "         1.        ,  0.        ],\n",
       "       [-0.07727963,  0.26625875, -0.17565002, ...,  0.        ,\n",
       "         0.        ,  0.        ],\n",
       "       [-0.02388383,  0.24468371, -0.1548357 , ...,  0.        ,\n",
       "         1.        ,  0.        ]])"
      ]
     },
     "execution_count": 37,
     "metadata": {},
     "output_type": "execute_result"
    }
   ],
   "source": [
    "X_test"
   ]
  }
 ],
 "metadata": {
  "kernelspec": {
   "display_name": "Python 3 (ipykernel)",
   "language": "python",
   "name": "python3"
  },
  "language_info": {
   "codemirror_mode": {
    "name": "ipython",
    "version": 3
   },
   "file_extension": ".py",
   "mimetype": "text/x-python",
   "name": "python",
   "nbconvert_exporter": "python",
   "pygments_lexer": "ipython3",
   "version": "3.9.7"
  }
 },
 "nbformat": 4,
 "nbformat_minor": 5
}
