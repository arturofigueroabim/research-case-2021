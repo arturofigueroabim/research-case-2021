{
 "cells": [
  {
   "cell_type": "code",
   "execution_count": 1,
   "id": "b1cb2dd3",
   "metadata": {
    "ExecuteTime": {
     "end_time": "2022-01-06T12:24:53.430442Z",
     "start_time": "2022-01-06T12:24:52.273361Z"
    }
   },
   "outputs": [],
   "source": [
    "import spacy\n",
    "nlp = spacy.load('en_core_web_md')\n",
    "import deplacy\n",
    "from spacy import displacy"
   ]
  },
  {
   "cell_type": "code",
   "execution_count": 2,
   "id": "be1cde19",
   "metadata": {
    "ExecuteTime": {
     "end_time": "2022-01-06T12:52:07.133055Z",
     "start_time": "2022-01-06T12:52:07.104058Z"
    }
   },
   "outputs": [],
   "source": [
    "s1 = \"The ice will melt when the temperature rises.\"\n",
    "s2 = \"The Scarecrow and the Tin Woodman stood up in a corner and kept quiet all night, although of course they could not sleep.\"\n",
    "s3 = \"Although volume upon volume is written to prove slavery a very good thing, we never hear of the man who wishes to take the good of it by being a slave himself.\"\n",
    "\n",
    "d1 = nlp(s1)\n",
    "d2 = nlp(s2)\n",
    "d3 = nlp(s3)\n"
   ]
  },
  {
   "cell_type": "code",
   "execution_count": 16,
   "id": "76db8a9c",
   "metadata": {},
   "outputs": [],
   "source": [
    "d5 = nlp(\"Although I believe computers are good and programming is useful, I will not study computer science.\")"
   ]
  },
  {
   "cell_type": "code",
   "execution_count": 17,
   "id": "012f6cba",
   "metadata": {},
   "outputs": [],
   "source": [
    "d4 = nlp(\"When I grow up, I’ll use complete sentences.\")"
   ]
  },
  {
   "cell_type": "code",
   "execution_count": 38,
   "id": "f1a23585",
   "metadata": {},
   "outputs": [
    {
     "data": {
      "text/plain": [
       "use"
      ]
     },
     "execution_count": 38,
     "metadata": {},
     "output_type": "execute_result"
    }
   ],
   "source": [
    "d4[:].root"
   ]
  },
  {
   "cell_type": "code",
   "execution_count": 47,
   "id": "d55170af",
   "metadata": {},
   "outputs": [
    {
     "name": "stdout",
     "output_type": "stream",
     "text": [
      "When I grow up, I’ll\n",
      "grow\n"
     ]
    }
   ],
   "source": [
    "t = d4[:7]\n",
    "print(t)\n",
    "print(t.root)"
   ]
  },
  {
   "cell_type": "code",
   "execution_count": 55,
   "id": "0e525f7d",
   "metadata": {},
   "outputs": [
    {
     "data": {
      "text/plain": [
       "[When, I, up]"
      ]
     },
     "execution_count": 55,
     "metadata": {},
     "output_type": "execute_result"
    }
   ],
   "source": [
    "[c for c in d4[2].children]"
   ]
  },
  {
   "cell_type": "code",
   "execution_count": 61,
   "id": "6c6c5eb8",
   "metadata": {},
   "outputs": [
    {
     "data": {
      "text/plain": [
       "[complete]"
      ]
     },
     "execution_count": 61,
     "metadata": {},
     "output_type": "execute_result"
    }
   ],
   "source": [
    "[c for c in d4[9].children]"
   ]
  },
  {
   "cell_type": "code",
   "execution_count": 62,
   "id": "4fa7b0b9",
   "metadata": {},
   "outputs": [
    {
     "data": {
      "text/plain": [
       "sentences"
      ]
     },
     "execution_count": 62,
     "metadata": {},
     "output_type": "execute_result"
    }
   ],
   "source": [
    "d4[9]"
   ]
  },
  {
   "cell_type": "code",
   "execution_count": 58,
   "id": "571b8d1e",
   "metadata": {},
   "outputs": [
    {
     "name": "stdout",
     "output_type": "stream",
     "text": [
      "When      SCONJ <════╗         advmod\n",
      "I         PRON  <══╗ ║         nsubj\n",
      "grow      VERB  ═╗═╝═╝<══╗     advcl\n",
      "up        ADP   <╝       ║     prt\n",
      ",         PUNCT <════════║═╗   punct\n",
      "I         PRON  <══════╗ ║ ║   nsubj\n",
      "’ll       AUX   <════╗ ║ ║ ║   aux\n",
      "use       VERB  ═══╗═╝═╝═╝═╝═╗ ROOT\n",
      "complete  ADJ   <╗ ║         ║ amod\n",
      "sentences NOUN  ═╝<╝         ║ dobj\n",
      ".         PUNCT <════════════╝ punct\n"
     ]
    }
   ],
   "source": [
    "deplacy.render(d4)"
   ]
  },
  {
   "cell_type": "code",
   "execution_count": 30,
   "id": "acbc9430",
   "metadata": {},
   "outputs": [],
   "source": [
    "a = nlp(\"I will be driving this car fast.\")\n",
    "b = nlp(\"I fast every year.\")"
   ]
  },
  {
   "cell_type": "code",
   "execution_count": 31,
   "id": "f3859f27",
   "metadata": {},
   "outputs": [
    {
     "name": "stdout",
     "output_type": "stream",
     "text": [
      "I       PRON  <══════════╗   nsubj\n",
      "will    AUX   <════════╗ ║   aux\n",
      "be      AUX   <══════╗ ║ ║   aux\n",
      "driving VERB  ═══╗═╗═╝═╝═╝═╗ ROOT\n",
      "this    DET   <╗ ║ ║       ║ det\n",
      "car     NOUN  ═╝<╝ ║       ║ dobj\n",
      "fast    ADV   <════╝       ║ advmod\n",
      ".       PUNCT <════════════╝ punct\n"
     ]
    }
   ],
   "source": [
    "deplacy.render(a)"
   ]
  },
  {
   "cell_type": "code",
   "execution_count": 29,
   "id": "1ed0d5b1",
   "metadata": {},
   "outputs": [
    {
     "name": "stdout",
     "output_type": "stream",
     "text": [
      "I     PRON  <════╗   nsubj\n",
      "fast  VERB  ═══╗═╝═╗ ROOT\n",
      "every DET   <╗ ║   ║ det\n",
      "year  NOUN  ═╝<╝   ║ npadvmod\n",
      ".     PUNCT <══════╝ punct\n"
     ]
    }
   ],
   "source": [
    "deplacy.render(b)"
   ]
  },
  {
   "cell_type": "code",
   "execution_count": 27,
   "id": "0d5f55b0",
   "metadata": {},
   "outputs": [
    {
     "name": "stdout",
     "output_type": "stream",
     "text": [
      "This DET\n",
      "car NOUN\n",
      "is AUX\n",
      "fast ADJ\n",
      ". PUNCT\n"
     ]
    }
   ],
   "source": [
    "for tok in a:\n",
    "    print(tok, tok.pos_)"
   ]
  },
  {
   "cell_type": "code",
   "execution_count": 26,
   "id": "1136a807",
   "metadata": {},
   "outputs": [
    {
     "name": "stdout",
     "output_type": "stream",
     "text": [
      "I PRON\n",
      "fast VERB\n",
      "every DET\n",
      "year NOUN\n",
      ". PUNCT\n"
     ]
    }
   ],
   "source": [
    "for tok in b:\n",
    "    print(tok, tok.pos_)"
   ]
  },
  {
   "cell_type": "code",
   "execution_count": 14,
   "id": "feb833ea",
   "metadata": {},
   "outputs": [
    {
     "name": "stdout",
     "output_type": "stream",
     "text": [
      "When      SCONJ <════╗         advmod\n",
      "I         PRON  <══╗ ║         nsubj\n",
      "grow      VERB  ═╗═╝═╝<══╗     advcl\n",
      "up        ADP   <╝       ║     prt\n",
      ",         PUNCT <════════║═╗   punct\n",
      "I         PRON  <══════╗ ║ ║   nsubj\n",
      "’ll       AUX   <════╗ ║ ║ ║   aux\n",
      "use       VERB  ═══╗═╝═╝═╝═╝═╗ ROOT\n",
      "complete  ADJ   <╗ ║         ║ amod\n",
      "sentences NOUN  ═╝<╝         ║ dobj\n",
      ".         PUNCT <════════════╝ punct\n"
     ]
    }
   ],
   "source": [
    "deplacy.render(d4)"
   ]
  },
  {
   "cell_type": "code",
   "execution_count": null,
   "id": "7badbf20",
   "metadata": {},
   "outputs": [],
   "source": []
  },
  {
   "cell_type": "code",
   "execution_count": 3,
   "id": "81d3d179",
   "metadata": {},
   "outputs": [
    {
     "data": {
      "text/plain": [
       "[('tok2vec', <spacy.pipeline.tok2vec.Tok2Vec at 0x1d6a420abe0>),\n",
       " ('tagger', <spacy.pipeline.tagger.Tagger at 0x1d6a439e1c0>),\n",
       " ('parser', <spacy.pipeline.dep_parser.DependencyParser at 0x1d6a420f270>),\n",
       " ('attribute_ruler',\n",
       "  <spacy.pipeline.attributeruler.AttributeRuler at 0x1d6a43d9e00>),\n",
       " ('lemmatizer', <spacy.lang.en.lemmatizer.EnglishLemmatizer at 0x1d6a4459300>),\n",
       " ('ner', <spacy.pipeline.ner.EntityRecognizer at 0x1d6a420f190>)]"
      ]
     },
     "execution_count": 3,
     "metadata": {},
     "output_type": "execute_result"
    }
   ],
   "source": [
    "nlp.pipeline"
   ]
  },
  {
   "cell_type": "code",
   "execution_count": 4,
   "id": "bc36f262",
   "metadata": {},
   "outputs": [],
   "source": [
    "s1\n",
    "\n",
    "def extract_len(t):\n",
    "    return len(t)"
   ]
  },
  {
   "cell_type": "code",
   "execution_count": 3,
   "id": "d93f8aa5",
   "metadata": {
    "ExecuteTime": {
     "end_time": "2022-01-06T12:52:07.428821Z",
     "start_time": "2022-01-06T12:52:07.422819Z"
    }
   },
   "outputs": [
    {
     "name": "stdout",
     "output_type": "stream",
     "text": [
      "The the DET DT det Xxx True True\n",
      "ice ice NOUN NN nsubj xxx True False\n",
      "will will AUX MD aux xxxx True True\n",
      "melt melt VERB VB ROOT xxxx True False\n",
      "when when SCONJ WRB advmod xxxx True True\n",
      "the the DET DT det xxx True True\n",
      "temperature temperature NOUN NN nsubj xxxx True False\n",
      "rises rise VERB VBZ advcl xxxx True False\n",
      ". . PUNCT . punct . False False\n"
     ]
    }
   ],
   "source": [
    "for token in d1:\n",
    "    print(token.text, token.lemma_, token.pos_, token.tag_, token.dep_,\n",
    "            token.shape_, token.is_alpha, token.is_stop)"
   ]
  },
  {
   "cell_type": "code",
   "execution_count": 4,
   "id": "f23040bc",
   "metadata": {
    "ExecuteTime": {
     "end_time": "2022-01-06T12:52:07.843118Z",
     "start_time": "2022-01-06T12:52:07.839118Z"
    }
   },
   "outputs": [],
   "source": [
    "options = {'distance':100}"
   ]
  },
  {
   "cell_type": "code",
   "execution_count": 5,
   "id": "5ba9a0f9",
   "metadata": {
    "ExecuteTime": {
     "end_time": "2022-01-06T12:52:09.078365Z",
     "start_time": "2022-01-06T12:52:09.072364Z"
    }
   },
   "outputs": [
    {
     "data": {
      "text/html": [
       "<span class=\"tex2jax_ignore\"><svg xmlns=\"http://www.w3.org/2000/svg\" xmlns:xlink=\"http://www.w3.org/1999/xlink\" xml:lang=\"en\" id=\"d1bbdb06f6064e0d946e2779c890e8db-0\" class=\"displacy\" width=\"850\" height=\"337.0\" direction=\"ltr\" style=\"max-width: none; height: 337.0px; color: #000000; background: #ffffff; font-family: Arial; direction: ltr\">\n",
       "<text class=\"displacy-token\" fill=\"currentColor\" text-anchor=\"middle\" y=\"247.0\">\n",
       "    <tspan class=\"displacy-word\" fill=\"currentColor\" x=\"50\">The</tspan>\n",
       "    <tspan class=\"displacy-tag\" dy=\"2em\" fill=\"currentColor\" x=\"50\">DET</tspan>\n",
       "</text>\n",
       "\n",
       "<text class=\"displacy-token\" fill=\"currentColor\" text-anchor=\"middle\" y=\"247.0\">\n",
       "    <tspan class=\"displacy-word\" fill=\"currentColor\" x=\"150\">ice</tspan>\n",
       "    <tspan class=\"displacy-tag\" dy=\"2em\" fill=\"currentColor\" x=\"150\">NOUN</tspan>\n",
       "</text>\n",
       "\n",
       "<text class=\"displacy-token\" fill=\"currentColor\" text-anchor=\"middle\" y=\"247.0\">\n",
       "    <tspan class=\"displacy-word\" fill=\"currentColor\" x=\"250\">will</tspan>\n",
       "    <tspan class=\"displacy-tag\" dy=\"2em\" fill=\"currentColor\" x=\"250\">AUX</tspan>\n",
       "</text>\n",
       "\n",
       "<text class=\"displacy-token\" fill=\"currentColor\" text-anchor=\"middle\" y=\"247.0\">\n",
       "    <tspan class=\"displacy-word\" fill=\"currentColor\" x=\"350\">melt</tspan>\n",
       "    <tspan class=\"displacy-tag\" dy=\"2em\" fill=\"currentColor\" x=\"350\">VERB</tspan>\n",
       "</text>\n",
       "\n",
       "<text class=\"displacy-token\" fill=\"currentColor\" text-anchor=\"middle\" y=\"247.0\">\n",
       "    <tspan class=\"displacy-word\" fill=\"currentColor\" x=\"450\">when</tspan>\n",
       "    <tspan class=\"displacy-tag\" dy=\"2em\" fill=\"currentColor\" x=\"450\">SCONJ</tspan>\n",
       "</text>\n",
       "\n",
       "<text class=\"displacy-token\" fill=\"currentColor\" text-anchor=\"middle\" y=\"247.0\">\n",
       "    <tspan class=\"displacy-word\" fill=\"currentColor\" x=\"550\">the</tspan>\n",
       "    <tspan class=\"displacy-tag\" dy=\"2em\" fill=\"currentColor\" x=\"550\">DET</tspan>\n",
       "</text>\n",
       "\n",
       "<text class=\"displacy-token\" fill=\"currentColor\" text-anchor=\"middle\" y=\"247.0\">\n",
       "    <tspan class=\"displacy-word\" fill=\"currentColor\" x=\"650\">temperature</tspan>\n",
       "    <tspan class=\"displacy-tag\" dy=\"2em\" fill=\"currentColor\" x=\"650\">NOUN</tspan>\n",
       "</text>\n",
       "\n",
       "<text class=\"displacy-token\" fill=\"currentColor\" text-anchor=\"middle\" y=\"247.0\">\n",
       "    <tspan class=\"displacy-word\" fill=\"currentColor\" x=\"750\">rises.</tspan>\n",
       "    <tspan class=\"displacy-tag\" dy=\"2em\" fill=\"currentColor\" x=\"750\">VERB</tspan>\n",
       "</text>\n",
       "\n",
       "<g class=\"displacy-arrow\">\n",
       "    <path class=\"displacy-arc\" id=\"arrow-d1bbdb06f6064e0d946e2779c890e8db-0-0\" stroke-width=\"2px\" d=\"M70,202.0 C70,152.0 135.0,152.0 135.0,202.0\" fill=\"none\" stroke=\"currentColor\"/>\n",
       "    <text dy=\"1.25em\" style=\"font-size: 0.8em; letter-spacing: 1px\">\n",
       "        <textPath xlink:href=\"#arrow-d1bbdb06f6064e0d946e2779c890e8db-0-0\" class=\"displacy-label\" startOffset=\"50%\" side=\"left\" fill=\"currentColor\" text-anchor=\"middle\">det</textPath>\n",
       "    </text>\n",
       "    <path class=\"displacy-arrowhead\" d=\"M70,204.0 L62,192.0 78,192.0\" fill=\"currentColor\"/>\n",
       "</g>\n",
       "\n",
       "<g class=\"displacy-arrow\">\n",
       "    <path class=\"displacy-arc\" id=\"arrow-d1bbdb06f6064e0d946e2779c890e8db-0-1\" stroke-width=\"2px\" d=\"M170,202.0 C170,102.0 340.0,102.0 340.0,202.0\" fill=\"none\" stroke=\"currentColor\"/>\n",
       "    <text dy=\"1.25em\" style=\"font-size: 0.8em; letter-spacing: 1px\">\n",
       "        <textPath xlink:href=\"#arrow-d1bbdb06f6064e0d946e2779c890e8db-0-1\" class=\"displacy-label\" startOffset=\"50%\" side=\"left\" fill=\"currentColor\" text-anchor=\"middle\">nsubj</textPath>\n",
       "    </text>\n",
       "    <path class=\"displacy-arrowhead\" d=\"M170,204.0 L162,192.0 178,192.0\" fill=\"currentColor\"/>\n",
       "</g>\n",
       "\n",
       "<g class=\"displacy-arrow\">\n",
       "    <path class=\"displacy-arc\" id=\"arrow-d1bbdb06f6064e0d946e2779c890e8db-0-2\" stroke-width=\"2px\" d=\"M270,202.0 C270,152.0 335.0,152.0 335.0,202.0\" fill=\"none\" stroke=\"currentColor\"/>\n",
       "    <text dy=\"1.25em\" style=\"font-size: 0.8em; letter-spacing: 1px\">\n",
       "        <textPath xlink:href=\"#arrow-d1bbdb06f6064e0d946e2779c890e8db-0-2\" class=\"displacy-label\" startOffset=\"50%\" side=\"left\" fill=\"currentColor\" text-anchor=\"middle\">aux</textPath>\n",
       "    </text>\n",
       "    <path class=\"displacy-arrowhead\" d=\"M270,204.0 L262,192.0 278,192.0\" fill=\"currentColor\"/>\n",
       "</g>\n",
       "\n",
       "<g class=\"displacy-arrow\">\n",
       "    <path class=\"displacy-arc\" id=\"arrow-d1bbdb06f6064e0d946e2779c890e8db-0-3\" stroke-width=\"2px\" d=\"M470,202.0 C470,52.0 745.0,52.0 745.0,202.0\" fill=\"none\" stroke=\"currentColor\"/>\n",
       "    <text dy=\"1.25em\" style=\"font-size: 0.8em; letter-spacing: 1px\">\n",
       "        <textPath xlink:href=\"#arrow-d1bbdb06f6064e0d946e2779c890e8db-0-3\" class=\"displacy-label\" startOffset=\"50%\" side=\"left\" fill=\"currentColor\" text-anchor=\"middle\">advmod</textPath>\n",
       "    </text>\n",
       "    <path class=\"displacy-arrowhead\" d=\"M470,204.0 L462,192.0 478,192.0\" fill=\"currentColor\"/>\n",
       "</g>\n",
       "\n",
       "<g class=\"displacy-arrow\">\n",
       "    <path class=\"displacy-arc\" id=\"arrow-d1bbdb06f6064e0d946e2779c890e8db-0-4\" stroke-width=\"2px\" d=\"M570,202.0 C570,152.0 635.0,152.0 635.0,202.0\" fill=\"none\" stroke=\"currentColor\"/>\n",
       "    <text dy=\"1.25em\" style=\"font-size: 0.8em; letter-spacing: 1px\">\n",
       "        <textPath xlink:href=\"#arrow-d1bbdb06f6064e0d946e2779c890e8db-0-4\" class=\"displacy-label\" startOffset=\"50%\" side=\"left\" fill=\"currentColor\" text-anchor=\"middle\">det</textPath>\n",
       "    </text>\n",
       "    <path class=\"displacy-arrowhead\" d=\"M570,204.0 L562,192.0 578,192.0\" fill=\"currentColor\"/>\n",
       "</g>\n",
       "\n",
       "<g class=\"displacy-arrow\">\n",
       "    <path class=\"displacy-arc\" id=\"arrow-d1bbdb06f6064e0d946e2779c890e8db-0-5\" stroke-width=\"2px\" d=\"M670,202.0 C670,152.0 735.0,152.0 735.0,202.0\" fill=\"none\" stroke=\"currentColor\"/>\n",
       "    <text dy=\"1.25em\" style=\"font-size: 0.8em; letter-spacing: 1px\">\n",
       "        <textPath xlink:href=\"#arrow-d1bbdb06f6064e0d946e2779c890e8db-0-5\" class=\"displacy-label\" startOffset=\"50%\" side=\"left\" fill=\"currentColor\" text-anchor=\"middle\">nsubj</textPath>\n",
       "    </text>\n",
       "    <path class=\"displacy-arrowhead\" d=\"M670,204.0 L662,192.0 678,192.0\" fill=\"currentColor\"/>\n",
       "</g>\n",
       "\n",
       "<g class=\"displacy-arrow\">\n",
       "    <path class=\"displacy-arc\" id=\"arrow-d1bbdb06f6064e0d946e2779c890e8db-0-6\" stroke-width=\"2px\" d=\"M370,202.0 C370,2.0 750.0,2.0 750.0,202.0\" fill=\"none\" stroke=\"currentColor\"/>\n",
       "    <text dy=\"1.25em\" style=\"font-size: 0.8em; letter-spacing: 1px\">\n",
       "        <textPath xlink:href=\"#arrow-d1bbdb06f6064e0d946e2779c890e8db-0-6\" class=\"displacy-label\" startOffset=\"50%\" side=\"left\" fill=\"currentColor\" text-anchor=\"middle\">advcl</textPath>\n",
       "    </text>\n",
       "    <path class=\"displacy-arrowhead\" d=\"M750.0,204.0 L758.0,192.0 742.0,192.0\" fill=\"currentColor\"/>\n",
       "</g>\n",
       "</svg></span>"
      ],
      "text/plain": [
       "<IPython.core.display.HTML object>"
      ]
     },
     "metadata": {},
     "output_type": "display_data"
    }
   ],
   "source": [
    "displacy.render(d1, options=options)"
   ]
  },
  {
   "cell_type": "markdown",
   "id": "d4b0408c",
   "metadata": {
    "ExecuteTime": {
     "end_time": "2022-01-06T12:53:38.106983Z",
     "start_time": "2022-01-06T12:53:38.087985Z"
    }
   },
   "source": [
    "#### deplacy.render(d1[1:3])"
   ]
  },
  {
   "cell_type": "code",
   "execution_count": 19,
   "id": "c301128f",
   "metadata": {},
   "outputs": [],
   "source": [
    "def return_one(span):\n",
    "    return 'featureeeee'\n",
    "\n",
    "def rrrrr(span):\n",
    "    return 'featureeeee'"
   ]
  },
  {
   "cell_type": "code",
   "execution_count": 20,
   "id": "0473bc1f",
   "metadata": {},
   "outputs": [],
   "source": [
    "\n",
    "d1.set_extension(\"some_custom_feature\", getter=return_one, force=True)"
   ]
  },
  {
   "cell_type": "code",
   "execution_count": 21,
   "id": "f9ddfa82",
   "metadata": {},
   "outputs": [
    {
     "data": {
      "text/plain": [
       "'featureeeee'"
      ]
     },
     "execution_count": 21,
     "metadata": {},
     "output_type": "execute_result"
    }
   ],
   "source": [
    "d1._.some_custom_feature"
   ]
  },
  {
   "cell_type": "code",
   "execution_count": null,
   "id": "8688685a",
   "metadata": {},
   "outputs": [],
   "source": [
    "d1_feats = [d1._.some_custom_feature, d1.]"
   ]
  },
  {
   "cell_type": "code",
   "execution_count": 23,
   "id": "beda0c31",
   "metadata": {},
   "outputs": [
    {
     "name": "stdout",
     "output_type": "stream",
     "text": [
      "The the DET DT det Xxx True True\n",
      "ice ice NOUN NN nsubj xxx True False\n",
      "will will AUX MD aux xxxx True True\n",
      "melt melt VERB VB ROOT xxxx True False\n",
      "when when SCONJ WRB advmod xxxx True True\n",
      "the the DET DT det xxx True True\n",
      "temperature temperature NOUN NN nsubj xxxx True False\n",
      "rises rise VERB VBZ advcl xxxx True False\n",
      ". . PUNCT . punct . False False\n"
     ]
    }
   ],
   "source": [
    "for token in d1:\n",
    "    print(token.text, token.lemma_, token.pos_, token.tag_, token.dep_,\n",
    "            token.shape_, token.is_alpha, token.is_stop)"
   ]
  },
  {
   "cell_type": "code",
   "execution_count": 24,
   "id": "d4ef2c90",
   "metadata": {},
   "outputs": [
    {
     "data": {
      "text/plain": [
       "The ice will melt when the temperature rises."
      ]
     },
     "execution_count": 24,
     "metadata": {},
     "output_type": "execute_result"
    }
   ],
   "source": [
    "d1"
   ]
  }
 ],
 "metadata": {
  "kernelspec": {
   "display_name": "Python 3 (ipykernel)",
   "language": "python",
   "name": "python3"
  },
  "language_info": {
   "codemirror_mode": {
    "name": "ipython",
    "version": 3
   },
   "file_extension": ".py",
   "mimetype": "text/x-python",
   "name": "python",
   "nbconvert_exporter": "python",
   "pygments_lexer": "ipython3",
   "version": "3.9.7"
  }
 },
 "nbformat": 4,
 "nbformat_minor": 5
}
