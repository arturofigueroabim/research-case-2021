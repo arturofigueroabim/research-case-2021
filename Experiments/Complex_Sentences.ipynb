{
 "cells": [
  {
   "cell_type": "code",
   "execution_count": 1,
   "id": "b1cb2dd3",
   "metadata": {
    "ExecuteTime": {
     "end_time": "2022-01-07T12:34:40.272972Z",
     "start_time": "2022-01-07T12:34:30.117376Z"
    }
   },
   "outputs": [],
   "source": [
    "import spacy\n",
    "nlp = spacy.load('en_core_web_md')\n",
    "import deplacy\n",
    "from spacy import displacy"
   ]
  },
  {
   "cell_type": "code",
   "execution_count": 2,
   "id": "be1cde19",
   "metadata": {
    "ExecuteTime": {
     "end_time": "2022-01-07T12:34:40.325764Z",
     "start_time": "2022-01-07T12:34:40.272972Z"
    }
   },
   "outputs": [],
   "source": [
    "s1 = \"The ice will melt when the temperature rises.\"\n",
    "s2 = \"The Scarecrow and the Tin Woodman stood up in a corner and kept quiet all night, although of course they could not sleep.\"\n",
    "s3 = \"Although volume upon volume is written to prove slavery a very good thing, we never hear of the man who wishes to take the good of it by being a slave himself.\"\n",
    "\n",
    "d1 = nlp(s1)\n",
    "d2 = nlp(s2)\n",
    "d3 = nlp(s3)\n"
   ]
  },
  {
   "cell_type": "code",
   "execution_count": 3,
   "id": "81d3d179",
   "metadata": {
    "ExecuteTime": {
     "end_time": "2022-01-07T12:34:40.342766Z",
     "start_time": "2022-01-07T12:34:40.326765Z"
    }
   },
   "outputs": [
    {
     "data": {
      "text/plain": [
       "[('tok2vec', <spacy.pipeline.tok2vec.Tok2Vec at 0x205c91266d0>),\n",
       " ('tagger', <spacy.pipeline.tagger.Tagger at 0x205c91149f0>),\n",
       " ('parser', <spacy.pipeline.dep_parser.DependencyParser at 0x205c8f6edc0>),\n",
       " ('attribute_ruler',\n",
       "  <spacy.pipeline.attributeruler.AttributeRuler at 0x205c9174bc0>),\n",
       " ('lemmatizer', <spacy.lang.en.lemmatizer.EnglishLemmatizer at 0x205c917f3c0>),\n",
       " ('ner', <spacy.pipeline.ner.EntityRecognizer at 0x205c8f6e9a0>)]"
      ]
     },
     "execution_count": 3,
     "metadata": {},
     "output_type": "execute_result"
    }
   ],
   "source": [
    "nlp.pipeline"
   ]
  },
  {
   "cell_type": "code",
   "execution_count": 8,
   "id": "097febf9",
   "metadata": {
    "ExecuteTime": {
     "end_time": "2022-01-07T13:06:53.578203Z",
     "start_time": "2022-01-07T13:06:53.573202Z"
    }
   },
   "outputs": [
    {
     "name": "stdout",
     "output_type": "stream",
     "text": [
      "Although SCONJ <══════════════════╗               mark\n",
      "volume   NOUN  ═══╗<════════════╗ ║               nsubjpass\n",
      "upon     SCONJ ═╗<╝             ║ ║               prep\n",
      "volume   NOUN  <╝               ║ ║               pobj\n",
      "is       AUX   <══════════════╗ ║ ║               auxpass\n",
      "written  VERB  ═════════════╗═╝═╝═╝<════════╗     advcl\n",
      "to       PART  <══════════╗ ║               ║     aux\n",
      "prove    VERB  ═════════╗═╝<╝               ║     advcl\n",
      "slavery  NOUN  ═══════╗<╝                   ║     xcomp\n",
      "a        DET   <════╗ ║                     ║     det\n",
      "very     ADV   <╗   ║ ║                     ║     advmod\n",
      "good     ADJ   ═╝<╗ ║ ║                     ║     amod\n",
      "thing    NOUN  ═══╝═╝<╝                     ║     dobj\n",
      ",        PUNCT <════════════════════════════║═╗   punct\n",
      "we       PRON  <══════════════════════════╗ ║ ║   nsubj\n",
      "never    ADV   <════════════════════════╗ ║ ║ ║   neg\n",
      "hear     VERB  ═══════════════════════╗═╝═╝═╝═╝═╗ ROOT\n",
      "of       ADP   ═════════════════════╗<╝         ║ prep\n",
      "the      DET   <══════════════════╗ ║           ║ det\n",
      "man      NOUN  ═════════════════╗═╝<╝           ║ pobj\n",
      "who      PRON  <══════════════╗ ║               ║ nsubj\n",
      "wishes   VERB  ═════════════╗═╝<╝               ║ relcl\n",
      "to       PART  <══════════╗ ║                   ║ aux\n",
      "take     VERB  ═══════╗═╗═╝<╝                   ║ xcomp\n",
      "the      DET   <════╗ ║ ║                       ║ det\n",
      "good     NOUN  ═══╗═╝<╝ ║                       ║ dobj\n",
      "of       ADP   ═╗<╝     ║                       ║ prep\n",
      "it       PRON  <╝       ║                       ║ pobj\n",
      "by       ADP   ═══════╗<╝                       ║ prep\n",
      "being    VERB  ═════╗<╝                         ║ pcomp\n",
      "a        DET   <══╗ ║                           ║ det\n",
      "slave    NOUN  ═╗═╝<╝                           ║ attr\n",
      "himself  PRON  <╝                               ║ appos\n",
      ".        PUNCT <════════════════════════════════╝ punct\n"
     ]
    }
   ],
   "source": [
    "deplacy.render(d3)"
   ]
  },
  {
   "cell_type": "code",
   "execution_count": 9,
   "id": "7ab578ed",
   "metadata": {
    "ExecuteTime": {
     "end_time": "2022-01-07T13:55:51.759850Z",
     "start_time": "2022-01-07T13:55:51.746847Z"
    }
   },
   "outputs": [
    {
     "name": "stdout",
     "output_type": "stream",
     "text": [
      "Scar   NOUN  <══╗   nsubj\n",
      "killed VERB  ═╗═╝═╗ ROOT\n",
      "Mufasa PROPN <╝   ║ dobj\n",
      ".      PUNCT <════╝ punct\n"
     ]
    }
   ],
   "source": [
    "d0 = nlp(\"Scar killed Mufasa.\")\n",
    "\n",
    "deplacy.render(d0)"
   ]
  },
  {
   "cell_type": "code",
   "execution_count": 4,
   "id": "bc36f262",
   "metadata": {
    "ExecuteTime": {
     "end_time": "2022-01-07T12:34:40.348766Z",
     "start_time": "2022-01-07T12:34:40.344766Z"
    }
   },
   "outputs": [],
   "source": [
    "s1\n",
    "\n",
    "def extract_len(t):\n",
    "    return len(t)"
   ]
  },
  {
   "cell_type": "code",
   "execution_count": 5,
   "id": "d93f8aa5",
   "metadata": {
    "ExecuteTime": {
     "end_time": "2022-01-07T12:34:40.358767Z",
     "start_time": "2022-01-07T12:34:40.350766Z"
    }
   },
   "outputs": [
    {
     "name": "stdout",
     "output_type": "stream",
     "text": [
      "The the DET DT det Xxx True True\n",
      "ice ice NOUN NN nsubj xxx True False\n",
      "will will AUX MD aux xxxx True True\n",
      "melt melt VERB VB ROOT xxxx True False\n",
      "when when ADV WRB advmod xxxx True True\n",
      "the the DET DT det xxx True True\n",
      "temperature temperature NOUN NN nsubj xxxx True False\n",
      "rises rise VERB VBZ advcl xxxx True False\n",
      ". . PUNCT . punct . False False\n"
     ]
    }
   ],
   "source": [
    "for token in d1:\n",
    "    print(token.text, token.lemma_, token.pos_, token.tag_, token.dep_,\n",
    "            token.shape_, token.is_alpha, token.is_stop)"
   ]
  },
  {
   "cell_type": "code",
   "execution_count": 6,
   "id": "f23040bc",
   "metadata": {
    "ExecuteTime": {
     "end_time": "2022-01-07T12:34:40.363768Z",
     "start_time": "2022-01-07T12:34:40.360768Z"
    }
   },
   "outputs": [],
   "source": [
    "options = {'distance':100}"
   ]
  },
  {
   "cell_type": "code",
   "execution_count": 7,
   "id": "5ba9a0f9",
   "metadata": {
    "ExecuteTime": {
     "end_time": "2022-01-07T12:34:40.545781Z",
     "start_time": "2022-01-07T12:34:40.366768Z"
    }
   },
   "outputs": [
    {
     "data": {
      "text/html": [
       "<span class=\"tex2jax_ignore\"><svg xmlns=\"http://www.w3.org/2000/svg\" xmlns:xlink=\"http://www.w3.org/1999/xlink\" xml:lang=\"en\" id=\"0dbe12ec484349cf85805970c9305ecd-0\" class=\"displacy\" width=\"850\" height=\"337.0\" direction=\"ltr\" style=\"max-width: none; height: 337.0px; color: #000000; background: #ffffff; font-family: Arial; direction: ltr\">\n",
       "<text class=\"displacy-token\" fill=\"currentColor\" text-anchor=\"middle\" y=\"247.0\">\n",
       "    <tspan class=\"displacy-word\" fill=\"currentColor\" x=\"50\">The</tspan>\n",
       "    <tspan class=\"displacy-tag\" dy=\"2em\" fill=\"currentColor\" x=\"50\">DET</tspan>\n",
       "</text>\n",
       "\n",
       "<text class=\"displacy-token\" fill=\"currentColor\" text-anchor=\"middle\" y=\"247.0\">\n",
       "    <tspan class=\"displacy-word\" fill=\"currentColor\" x=\"150\">ice</tspan>\n",
       "    <tspan class=\"displacy-tag\" dy=\"2em\" fill=\"currentColor\" x=\"150\">NOUN</tspan>\n",
       "</text>\n",
       "\n",
       "<text class=\"displacy-token\" fill=\"currentColor\" text-anchor=\"middle\" y=\"247.0\">\n",
       "    <tspan class=\"displacy-word\" fill=\"currentColor\" x=\"250\">will</tspan>\n",
       "    <tspan class=\"displacy-tag\" dy=\"2em\" fill=\"currentColor\" x=\"250\">AUX</tspan>\n",
       "</text>\n",
       "\n",
       "<text class=\"displacy-token\" fill=\"currentColor\" text-anchor=\"middle\" y=\"247.0\">\n",
       "    <tspan class=\"displacy-word\" fill=\"currentColor\" x=\"350\">melt</tspan>\n",
       "    <tspan class=\"displacy-tag\" dy=\"2em\" fill=\"currentColor\" x=\"350\">VERB</tspan>\n",
       "</text>\n",
       "\n",
       "<text class=\"displacy-token\" fill=\"currentColor\" text-anchor=\"middle\" y=\"247.0\">\n",
       "    <tspan class=\"displacy-word\" fill=\"currentColor\" x=\"450\">when</tspan>\n",
       "    <tspan class=\"displacy-tag\" dy=\"2em\" fill=\"currentColor\" x=\"450\">ADV</tspan>\n",
       "</text>\n",
       "\n",
       "<text class=\"displacy-token\" fill=\"currentColor\" text-anchor=\"middle\" y=\"247.0\">\n",
       "    <tspan class=\"displacy-word\" fill=\"currentColor\" x=\"550\">the</tspan>\n",
       "    <tspan class=\"displacy-tag\" dy=\"2em\" fill=\"currentColor\" x=\"550\">DET</tspan>\n",
       "</text>\n",
       "\n",
       "<text class=\"displacy-token\" fill=\"currentColor\" text-anchor=\"middle\" y=\"247.0\">\n",
       "    <tspan class=\"displacy-word\" fill=\"currentColor\" x=\"650\">temperature</tspan>\n",
       "    <tspan class=\"displacy-tag\" dy=\"2em\" fill=\"currentColor\" x=\"650\">NOUN</tspan>\n",
       "</text>\n",
       "\n",
       "<text class=\"displacy-token\" fill=\"currentColor\" text-anchor=\"middle\" y=\"247.0\">\n",
       "    <tspan class=\"displacy-word\" fill=\"currentColor\" x=\"750\">rises.</tspan>\n",
       "    <tspan class=\"displacy-tag\" dy=\"2em\" fill=\"currentColor\" x=\"750\">VERB</tspan>\n",
       "</text>\n",
       "\n",
       "<g class=\"displacy-arrow\">\n",
       "    <path class=\"displacy-arc\" id=\"arrow-0dbe12ec484349cf85805970c9305ecd-0-0\" stroke-width=\"2px\" d=\"M70,202.0 C70,152.0 135.0,152.0 135.0,202.0\" fill=\"none\" stroke=\"currentColor\"/>\n",
       "    <text dy=\"1.25em\" style=\"font-size: 0.8em; letter-spacing: 1px\">\n",
       "        <textPath xlink:href=\"#arrow-0dbe12ec484349cf85805970c9305ecd-0-0\" class=\"displacy-label\" startOffset=\"50%\" side=\"left\" fill=\"currentColor\" text-anchor=\"middle\">det</textPath>\n",
       "    </text>\n",
       "    <path class=\"displacy-arrowhead\" d=\"M70,204.0 L62,192.0 78,192.0\" fill=\"currentColor\"/>\n",
       "</g>\n",
       "\n",
       "<g class=\"displacy-arrow\">\n",
       "    <path class=\"displacy-arc\" id=\"arrow-0dbe12ec484349cf85805970c9305ecd-0-1\" stroke-width=\"2px\" d=\"M170,202.0 C170,102.0 340.0,102.0 340.0,202.0\" fill=\"none\" stroke=\"currentColor\"/>\n",
       "    <text dy=\"1.25em\" style=\"font-size: 0.8em; letter-spacing: 1px\">\n",
       "        <textPath xlink:href=\"#arrow-0dbe12ec484349cf85805970c9305ecd-0-1\" class=\"displacy-label\" startOffset=\"50%\" side=\"left\" fill=\"currentColor\" text-anchor=\"middle\">nsubj</textPath>\n",
       "    </text>\n",
       "    <path class=\"displacy-arrowhead\" d=\"M170,204.0 L162,192.0 178,192.0\" fill=\"currentColor\"/>\n",
       "</g>\n",
       "\n",
       "<g class=\"displacy-arrow\">\n",
       "    <path class=\"displacy-arc\" id=\"arrow-0dbe12ec484349cf85805970c9305ecd-0-2\" stroke-width=\"2px\" d=\"M270,202.0 C270,152.0 335.0,152.0 335.0,202.0\" fill=\"none\" stroke=\"currentColor\"/>\n",
       "    <text dy=\"1.25em\" style=\"font-size: 0.8em; letter-spacing: 1px\">\n",
       "        <textPath xlink:href=\"#arrow-0dbe12ec484349cf85805970c9305ecd-0-2\" class=\"displacy-label\" startOffset=\"50%\" side=\"left\" fill=\"currentColor\" text-anchor=\"middle\">aux</textPath>\n",
       "    </text>\n",
       "    <path class=\"displacy-arrowhead\" d=\"M270,204.0 L262,192.0 278,192.0\" fill=\"currentColor\"/>\n",
       "</g>\n",
       "\n",
       "<g class=\"displacy-arrow\">\n",
       "    <path class=\"displacy-arc\" id=\"arrow-0dbe12ec484349cf85805970c9305ecd-0-3\" stroke-width=\"2px\" d=\"M470,202.0 C470,52.0 745.0,52.0 745.0,202.0\" fill=\"none\" stroke=\"currentColor\"/>\n",
       "    <text dy=\"1.25em\" style=\"font-size: 0.8em; letter-spacing: 1px\">\n",
       "        <textPath xlink:href=\"#arrow-0dbe12ec484349cf85805970c9305ecd-0-3\" class=\"displacy-label\" startOffset=\"50%\" side=\"left\" fill=\"currentColor\" text-anchor=\"middle\">advmod</textPath>\n",
       "    </text>\n",
       "    <path class=\"displacy-arrowhead\" d=\"M470,204.0 L462,192.0 478,192.0\" fill=\"currentColor\"/>\n",
       "</g>\n",
       "\n",
       "<g class=\"displacy-arrow\">\n",
       "    <path class=\"displacy-arc\" id=\"arrow-0dbe12ec484349cf85805970c9305ecd-0-4\" stroke-width=\"2px\" d=\"M570,202.0 C570,152.0 635.0,152.0 635.0,202.0\" fill=\"none\" stroke=\"currentColor\"/>\n",
       "    <text dy=\"1.25em\" style=\"font-size: 0.8em; letter-spacing: 1px\">\n",
       "        <textPath xlink:href=\"#arrow-0dbe12ec484349cf85805970c9305ecd-0-4\" class=\"displacy-label\" startOffset=\"50%\" side=\"left\" fill=\"currentColor\" text-anchor=\"middle\">det</textPath>\n",
       "    </text>\n",
       "    <path class=\"displacy-arrowhead\" d=\"M570,204.0 L562,192.0 578,192.0\" fill=\"currentColor\"/>\n",
       "</g>\n",
       "\n",
       "<g class=\"displacy-arrow\">\n",
       "    <path class=\"displacy-arc\" id=\"arrow-0dbe12ec484349cf85805970c9305ecd-0-5\" stroke-width=\"2px\" d=\"M670,202.0 C670,152.0 735.0,152.0 735.0,202.0\" fill=\"none\" stroke=\"currentColor\"/>\n",
       "    <text dy=\"1.25em\" style=\"font-size: 0.8em; letter-spacing: 1px\">\n",
       "        <textPath xlink:href=\"#arrow-0dbe12ec484349cf85805970c9305ecd-0-5\" class=\"displacy-label\" startOffset=\"50%\" side=\"left\" fill=\"currentColor\" text-anchor=\"middle\">nsubj</textPath>\n",
       "    </text>\n",
       "    <path class=\"displacy-arrowhead\" d=\"M670,204.0 L662,192.0 678,192.0\" fill=\"currentColor\"/>\n",
       "</g>\n",
       "\n",
       "<g class=\"displacy-arrow\">\n",
       "    <path class=\"displacy-arc\" id=\"arrow-0dbe12ec484349cf85805970c9305ecd-0-6\" stroke-width=\"2px\" d=\"M370,202.0 C370,2.0 750.0,2.0 750.0,202.0\" fill=\"none\" stroke=\"currentColor\"/>\n",
       "    <text dy=\"1.25em\" style=\"font-size: 0.8em; letter-spacing: 1px\">\n",
       "        <textPath xlink:href=\"#arrow-0dbe12ec484349cf85805970c9305ecd-0-6\" class=\"displacy-label\" startOffset=\"50%\" side=\"left\" fill=\"currentColor\" text-anchor=\"middle\">advcl</textPath>\n",
       "    </text>\n",
       "    <path class=\"displacy-arrowhead\" d=\"M750.0,204.0 L758.0,192.0 742.0,192.0\" fill=\"currentColor\"/>\n",
       "</g>\n",
       "</svg></span>"
      ],
      "text/plain": [
       "<IPython.core.display.HTML object>"
      ]
     },
     "metadata": {},
     "output_type": "display_data"
    }
   ],
   "source": [
    "displacy.render(d1, options=options)"
   ]
  }
 ],
 "metadata": {
  "kernelspec": {
   "display_name": "Python 3 (ipykernel)",
   "language": "python",
   "name": "python3"
  },
  "language_info": {
   "codemirror_mode": {
    "name": "ipython",
    "version": 3
   },
   "file_extension": ".py",
   "mimetype": "text/x-python",
   "name": "python",
   "nbconvert_exporter": "python",
   "pygments_lexer": "ipython3",
   "version": "3.8.5"
  }
 },
 "nbformat": 4,
 "nbformat_minor": 5
}
