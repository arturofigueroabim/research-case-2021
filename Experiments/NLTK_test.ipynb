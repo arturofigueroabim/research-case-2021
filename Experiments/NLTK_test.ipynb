{
 "cells": [
  {
   "cell_type": "code",
   "execution_count": 1,
   "id": "distributed-leonard",
   "metadata": {
    "ExecuteTime": {
     "end_time": "2021-10-19T22:29:52.988396Z",
     "start_time": "2021-10-19T22:29:52.985396Z"
    }
   },
   "outputs": [],
   "source": [
    "import nltk\n",
    "import random\n",
    "from nltk.corpus import movie_reviewsews"
   ]
  },
  {
   "cell_type": "code",
   "execution_count": 14,
   "id": "endless-indianapolis",
   "metadata": {
    "ExecuteTime": {
     "end_time": "2021-10-19T22:35:06.168868Z",
     "start_time": "2021-10-19T22:34:51.916861Z"
    }
   },
   "outputs": [],
   "source": [
    "docs = [(list(movie_reviews.words(fileid)), category)\n",
    "        for category in movie_reviews.categories() \n",
    "        for fileid in movie_reviews.fileids(category)]\n",
    "\n"
   ]
  },
  {
   "cell_type": "code",
   "execution_count": 34,
   "id": "combined-complex",
   "metadata": {
    "ExecuteTime": {
     "end_time": "2021-10-19T22:38:49.275166Z",
     "start_time": "2021-10-19T22:38:49.268165Z"
    }
   },
   "outputs": [
    {
     "data": {
      "text/plain": [
       "['brian', 'de', 'palma', ',', 'the', 'director', 'who', ...]"
      ]
     },
     "execution_count": 34,
     "metadata": {},
     "output_type": "execute_result"
    }
   ],
   "source": [
    "movie_reviews.fileids(\"neg\")\n",
    "\n",
    "movie_reviews.words('neg/cv084_15183.txt')\n"
   ]
  },
  {
   "cell_type": "code",
   "execution_count": 36,
   "id": "corporate-lawrence",
   "metadata": {
    "ExecuteTime": {
     "end_time": "2021-10-19T23:26:48.911823Z",
     "start_time": "2021-10-19T23:26:48.898821Z"
    }
   },
   "outputs": [
    {
     "data": {
      "text/plain": [
       "(['it',\n",
       "  'is',\n",
       "  'movies',\n",
       "  'like',\n",
       "  'these',\n",
       "  'that',\n",
       "  'make',\n",
       "  'a',\n",
       "  'jaded',\n",
       "  'movie',\n",
       "  'viewer',\n",
       "  'thankful',\n",
       "  'for',\n",
       "  'the',\n",
       "  'invention',\n",
       "  'of',\n",
       "  'the',\n",
       "  'timex',\n",
       "  'indiglo',\n",
       "  'watch',\n",
       "  '.',\n",
       "  'based',\n",
       "  'on',\n",
       "  'the',\n",
       "  'late',\n",
       "  '1960',\n",
       "  \"'\",\n",
       "  's',\n",
       "  'television',\n",
       "  'show',\n",
       "  'by',\n",
       "  'the',\n",
       "  'same',\n",
       "  'name',\n",
       "  ',',\n",
       "  'the',\n",
       "  'mod',\n",
       "  'squad',\n",
       "  'tells',\n",
       "  'the',\n",
       "  'tale',\n",
       "  'of',\n",
       "  'three',\n",
       "  'reformed',\n",
       "  'criminals',\n",
       "  'under',\n",
       "  'the',\n",
       "  'employ',\n",
       "  'of',\n",
       "  'the',\n",
       "  'police',\n",
       "  'to',\n",
       "  'go',\n",
       "  'undercover',\n",
       "  '.',\n",
       "  'however',\n",
       "  ',',\n",
       "  'things',\n",
       "  'go',\n",
       "  'wrong',\n",
       "  'as',\n",
       "  'evidence',\n",
       "  'gets',\n",
       "  'stolen',\n",
       "  'and',\n",
       "  'they',\n",
       "  'are',\n",
       "  'immediately',\n",
       "  'under',\n",
       "  'suspicion',\n",
       "  '.',\n",
       "  'of',\n",
       "  'course',\n",
       "  ',',\n",
       "  'the',\n",
       "  'ads',\n",
       "  'make',\n",
       "  'it',\n",
       "  'seem',\n",
       "  'like',\n",
       "  'so',\n",
       "  'much',\n",
       "  'more',\n",
       "  '.',\n",
       "  'quick',\n",
       "  'cuts',\n",
       "  ',',\n",
       "  'cool',\n",
       "  'music',\n",
       "  ',',\n",
       "  'claire',\n",
       "  'dane',\n",
       "  \"'\",\n",
       "  's',\n",
       "  'nice',\n",
       "  'hair',\n",
       "  'and',\n",
       "  'cute',\n",
       "  'outfits',\n",
       "  ',',\n",
       "  'car',\n",
       "  'chases',\n",
       "  ',',\n",
       "  'stuff',\n",
       "  'blowing',\n",
       "  'up',\n",
       "  ',',\n",
       "  'and',\n",
       "  'the',\n",
       "  'like',\n",
       "  '.',\n",
       "  'sounds',\n",
       "  'like',\n",
       "  'a',\n",
       "  'cool',\n",
       "  'movie',\n",
       "  ',',\n",
       "  'does',\n",
       "  'it',\n",
       "  'not',\n",
       "  '?',\n",
       "  'after',\n",
       "  'the',\n",
       "  'first',\n",
       "  'fifteen',\n",
       "  'minutes',\n",
       "  ',',\n",
       "  'it',\n",
       "  'quickly',\n",
       "  'becomes',\n",
       "  'apparent',\n",
       "  'that',\n",
       "  'it',\n",
       "  'is',\n",
       "  'not',\n",
       "  '.',\n",
       "  'the',\n",
       "  'mod',\n",
       "  'squad',\n",
       "  'is',\n",
       "  'certainly',\n",
       "  'a',\n",
       "  'slick',\n",
       "  'looking',\n",
       "  'production',\n",
       "  ',',\n",
       "  'complete',\n",
       "  'with',\n",
       "  'nice',\n",
       "  'hair',\n",
       "  'and',\n",
       "  'costumes',\n",
       "  ',',\n",
       "  'but',\n",
       "  'that',\n",
       "  'simply',\n",
       "  'isn',\n",
       "  \"'\",\n",
       "  't',\n",
       "  'enough',\n",
       "  '.',\n",
       "  'the',\n",
       "  'film',\n",
       "  'is',\n",
       "  'best',\n",
       "  'described',\n",
       "  'as',\n",
       "  'a',\n",
       "  'cross',\n",
       "  'between',\n",
       "  'an',\n",
       "  'hour',\n",
       "  '-',\n",
       "  'long',\n",
       "  'cop',\n",
       "  'show',\n",
       "  'and',\n",
       "  'a',\n",
       "  'music',\n",
       "  'video',\n",
       "  ',',\n",
       "  'both',\n",
       "  'stretched',\n",
       "  'out',\n",
       "  'into',\n",
       "  'the',\n",
       "  'span',\n",
       "  'of',\n",
       "  'an',\n",
       "  'hour',\n",
       "  'and',\n",
       "  'a',\n",
       "  'half',\n",
       "  '.',\n",
       "  'and',\n",
       "  'with',\n",
       "  'it',\n",
       "  'comes',\n",
       "  'every',\n",
       "  'single',\n",
       "  'clich',\n",
       "  '?',\n",
       "  '.',\n",
       "  'it',\n",
       "  'doesn',\n",
       "  \"'\",\n",
       "  't',\n",
       "  'really',\n",
       "  'matter',\n",
       "  'that',\n",
       "  'the',\n",
       "  'film',\n",
       "  'is',\n",
       "  'based',\n",
       "  'on',\n",
       "  'a',\n",
       "  'television',\n",
       "  'show',\n",
       "  ',',\n",
       "  'as',\n",
       "  'most',\n",
       "  'of',\n",
       "  'the',\n",
       "  'plot',\n",
       "  'elements',\n",
       "  'have',\n",
       "  'been',\n",
       "  'recycled',\n",
       "  'from',\n",
       "  'everything',\n",
       "  'we',\n",
       "  \"'\",\n",
       "  've',\n",
       "  'already',\n",
       "  'seen',\n",
       "  '.',\n",
       "  'the',\n",
       "  'characters',\n",
       "  'and',\n",
       "  'acting',\n",
       "  'is',\n",
       "  'nothing',\n",
       "  'spectacular',\n",
       "  ',',\n",
       "  'sometimes',\n",
       "  'even',\n",
       "  'bordering',\n",
       "  'on',\n",
       "  'wooden',\n",
       "  '.',\n",
       "  'claire',\n",
       "  'danes',\n",
       "  'and',\n",
       "  'omar',\n",
       "  'epps',\n",
       "  'deliver',\n",
       "  'their',\n",
       "  'lines',\n",
       "  'as',\n",
       "  'if',\n",
       "  'they',\n",
       "  'are',\n",
       "  'bored',\n",
       "  ',',\n",
       "  'which',\n",
       "  'really',\n",
       "  'transfers',\n",
       "  'onto',\n",
       "  'the',\n",
       "  'audience',\n",
       "  '.',\n",
       "  'the',\n",
       "  'only',\n",
       "  'one',\n",
       "  'to',\n",
       "  'escape',\n",
       "  'relatively',\n",
       "  'unscathed',\n",
       "  'is',\n",
       "  'giovanni',\n",
       "  'ribisi',\n",
       "  ',',\n",
       "  'who',\n",
       "  'plays',\n",
       "  'the',\n",
       "  'resident',\n",
       "  'crazy',\n",
       "  'man',\n",
       "  ',',\n",
       "  'ultimately',\n",
       "  'being',\n",
       "  'the',\n",
       "  'only',\n",
       "  'thing',\n",
       "  'worth',\n",
       "  'watching',\n",
       "  '.',\n",
       "  'unfortunately',\n",
       "  ',',\n",
       "  'even',\n",
       "  'he',\n",
       "  \"'\",\n",
       "  's',\n",
       "  'not',\n",
       "  'enough',\n",
       "  'to',\n",
       "  'save',\n",
       "  'this',\n",
       "  'convoluted',\n",
       "  'mess',\n",
       "  ',',\n",
       "  'as',\n",
       "  'all',\n",
       "  'the',\n",
       "  'characters',\n",
       "  'don',\n",
       "  \"'\",\n",
       "  't',\n",
       "  'do',\n",
       "  'much',\n",
       "  'apart',\n",
       "  'from',\n",
       "  'occupying',\n",
       "  'screen',\n",
       "  'time',\n",
       "  '.',\n",
       "  'with',\n",
       "  'the',\n",
       "  'young',\n",
       "  'cast',\n",
       "  ',',\n",
       "  'cool',\n",
       "  'clothes',\n",
       "  ',',\n",
       "  'nice',\n",
       "  'hair',\n",
       "  ',',\n",
       "  'and',\n",
       "  'hip',\n",
       "  'soundtrack',\n",
       "  ',',\n",
       "  'it',\n",
       "  'appears',\n",
       "  'that',\n",
       "  'the',\n",
       "  'film',\n",
       "  'is',\n",
       "  'geared',\n",
       "  'towards',\n",
       "  'the',\n",
       "  'teenage',\n",
       "  'mindset',\n",
       "  '.',\n",
       "  'despite',\n",
       "  'an',\n",
       "  'american',\n",
       "  \"'\",\n",
       "  'r',\n",
       "  \"'\",\n",
       "  'rating',\n",
       "  '(',\n",
       "  'which',\n",
       "  'the',\n",
       "  'content',\n",
       "  'does',\n",
       "  'not',\n",
       "  'justify',\n",
       "  ')',\n",
       "  ',',\n",
       "  'the',\n",
       "  'film',\n",
       "  'is',\n",
       "  'way',\n",
       "  'too',\n",
       "  'juvenile',\n",
       "  'for',\n",
       "  'the',\n",
       "  'older',\n",
       "  'mindset',\n",
       "  '.',\n",
       "  'information',\n",
       "  'on',\n",
       "  'the',\n",
       "  'characters',\n",
       "  'is',\n",
       "  'literally',\n",
       "  'spoon',\n",
       "  '-',\n",
       "  'fed',\n",
       "  'to',\n",
       "  'the',\n",
       "  'audience',\n",
       "  '(',\n",
       "  'would',\n",
       "  'it',\n",
       "  'be',\n",
       "  'that',\n",
       "  'hard',\n",
       "  'to',\n",
       "  'show',\n",
       "  'us',\n",
       "  'instead',\n",
       "  'of',\n",
       "  'telling',\n",
       "  'us',\n",
       "  '?',\n",
       "  ')',\n",
       "  ',',\n",
       "  'dialogue',\n",
       "  'is',\n",
       "  'poorly',\n",
       "  'written',\n",
       "  ',',\n",
       "  'and',\n",
       "  'the',\n",
       "  'plot',\n",
       "  'is',\n",
       "  'extremely',\n",
       "  'predictable',\n",
       "  '.',\n",
       "  'the',\n",
       "  'way',\n",
       "  'the',\n",
       "  'film',\n",
       "  'progresses',\n",
       "  ',',\n",
       "  'you',\n",
       "  'likely',\n",
       "  'won',\n",
       "  \"'\",\n",
       "  't',\n",
       "  'even',\n",
       "  'care',\n",
       "  'if',\n",
       "  'the',\n",
       "  'heroes',\n",
       "  'are',\n",
       "  'in',\n",
       "  'any',\n",
       "  'jeopardy',\n",
       "  ',',\n",
       "  'because',\n",
       "  'you',\n",
       "  \"'\",\n",
       "  'll',\n",
       "  'know',\n",
       "  'they',\n",
       "  'aren',\n",
       "  \"'\",\n",
       "  't',\n",
       "  '.',\n",
       "  'basing',\n",
       "  'the',\n",
       "  'show',\n",
       "  'on',\n",
       "  'a',\n",
       "  '1960',\n",
       "  \"'\",\n",
       "  's',\n",
       "  'television',\n",
       "  'show',\n",
       "  'that',\n",
       "  'nobody',\n",
       "  'remembers',\n",
       "  'is',\n",
       "  'of',\n",
       "  'questionable',\n",
       "  'wisdom',\n",
       "  ',',\n",
       "  'especially',\n",
       "  'when',\n",
       "  'one',\n",
       "  'considers',\n",
       "  'the',\n",
       "  'target',\n",
       "  'audience',\n",
       "  'and',\n",
       "  'the',\n",
       "  'fact',\n",
       "  'that',\n",
       "  'the',\n",
       "  'number',\n",
       "  'of',\n",
       "  'memorable',\n",
       "  'films',\n",
       "  'based',\n",
       "  'on',\n",
       "  'television',\n",
       "  'shows',\n",
       "  'can',\n",
       "  'be',\n",
       "  'counted',\n",
       "  'on',\n",
       "  'one',\n",
       "  'hand',\n",
       "  '(',\n",
       "  'even',\n",
       "  'one',\n",
       "  'that',\n",
       "  \"'\",\n",
       "  's',\n",
       "  'missing',\n",
       "  'a',\n",
       "  'finger',\n",
       "  'or',\n",
       "  'two',\n",
       "  ')',\n",
       "  '.',\n",
       "  'the',\n",
       "  'number',\n",
       "  'of',\n",
       "  'times',\n",
       "  'that',\n",
       "  'i',\n",
       "  'checked',\n",
       "  'my',\n",
       "  'watch',\n",
       "  '(',\n",
       "  'six',\n",
       "  ')',\n",
       "  'is',\n",
       "  'a',\n",
       "  'clear',\n",
       "  'indication',\n",
       "  'that',\n",
       "  'this',\n",
       "  'film',\n",
       "  'is',\n",
       "  'not',\n",
       "  'one',\n",
       "  'of',\n",
       "  'them',\n",
       "  '.',\n",
       "  'it',\n",
       "  'is',\n",
       "  'clear',\n",
       "  'that',\n",
       "  'the',\n",
       "  'film',\n",
       "  'is',\n",
       "  'nothing',\n",
       "  'more',\n",
       "  'than',\n",
       "  'an',\n",
       "  'attempt',\n",
       "  'to',\n",
       "  'cash',\n",
       "  'in',\n",
       "  'on',\n",
       "  'the',\n",
       "  'teenage',\n",
       "  'spending',\n",
       "  'dollar',\n",
       "  ',',\n",
       "  'judging',\n",
       "  'from',\n",
       "  'the',\n",
       "  'rash',\n",
       "  'of',\n",
       "  'really',\n",
       "  'awful',\n",
       "  'teen',\n",
       "  '-',\n",
       "  'flicks',\n",
       "  'that',\n",
       "  'we',\n",
       "  \"'\",\n",
       "  've',\n",
       "  'been',\n",
       "  'seeing',\n",
       "  'as',\n",
       "  'of',\n",
       "  'late',\n",
       "  '.',\n",
       "  'avoid',\n",
       "  'this',\n",
       "  'film',\n",
       "  'at',\n",
       "  'all',\n",
       "  'costs',\n",
       "  '.'],\n",
       " 'neg')"
      ]
     },
     "execution_count": 36,
     "metadata": {},
     "output_type": "execute_result"
    }
   ],
   "source": [
    "docs[0]\n",
    "\n",
    "docs[2]"
   ]
  },
  {
   "cell_type": "code",
   "execution_count": null,
   "id": "d8c964bd",
   "metadata": {},
   "outputs": [],
   "source": []
  },
  {
   "cell_type": "code",
   "execution_count": null,
   "id": "48c43fb4",
   "metadata": {},
   "outputs": [],
   "source": []
  },
  {
   "cell_type": "code",
   "execution_count": null,
   "id": "e3144c82",
   "metadata": {},
   "outputs": [],
   "source": []
  },
  {
   "cell_type": "code",
   "execution_count": 34,
   "id": "99338289",
   "metadata": {
    "ExecuteTime": {
     "end_time": "2021-10-20T18:24:30.245651Z",
     "start_time": "2021-10-20T18:24:28.891511Z"
    }
   },
   "outputs": [],
   "source": [
    "import spacy\n",
    "#parse\n",
    "nlp = spacy.load(\"en_core_web_md\")"
   ]
  },
  {
   "cell_type": "code",
   "execution_count": 57,
   "id": "a08d6924",
   "metadata": {
    "ExecuteTime": {
     "end_time": "2021-10-20T18:26:56.936207Z",
     "start_time": "2021-10-20T18:26:56.921205Z"
    }
   },
   "outputs": [],
   "source": [
    "doc = nlp(string)"
   ]
  },
  {
   "cell_type": "code",
   "execution_count": 35,
   "id": "360d947f",
   "metadata": {
    "ExecuteTime": {
     "end_time": "2021-10-20T18:24:51.454354Z",
     "start_time": "2021-10-20T18:24:51.450354Z"
    }
   },
   "outputs": [],
   "source": [
    "string = \"this is a sentence. This is the second sentence. This is the rest of the essay.\""
   ]
  },
  {
   "cell_type": "code",
   "execution_count": 64,
   "id": "9c2ed6a1",
   "metadata": {
    "ExecuteTime": {
     "end_time": "2021-10-20T18:27:55.554892Z",
     "start_time": "2021-10-20T18:27:55.536878Z"
    }
   },
   "outputs": [
    {
     "name": "stdout",
     "output_type": "stream",
     "text": [
      "this: DET\n",
      "is: AUX\n",
      "a: DET\n",
      "sentence: NOUN\n",
      ".: PUNCT\n",
      "This: DET\n",
      "is: AUX\n",
      "the: DET\n",
      "second: ADJ\n",
      "sentence: NOUN\n",
      ".: PUNCT\n",
      "This: DET\n",
      "is: AUX\n",
      "the: DET\n",
      "rest: NOUN\n",
      "of: ADP\n",
      "the: DET\n",
      "essay: NOUN\n",
      ".: PUNCT\n"
     ]
    }
   ],
   "source": [
    "doc = nlp(string)\n",
    "\n",
    "for token in doc:\n",
    "    print(f\"{token}: {token.pos_}\")"
   ]
  },
  {
   "cell_type": "code",
   "execution_count": 55,
   "id": "1b366147",
   "metadata": {
    "ExecuteTime": {
     "end_time": "2021-10-20T18:26:28.743238Z",
     "start_time": "2021-10-20T18:26:28.738237Z"
    }
   },
   "outputs": [
    {
     "data": {
      "text/plain": [
       "this is a sentence. This is the second sentence. This is the rest of the essay."
      ]
     },
     "execution_count": 55,
     "metadata": {},
     "output_type": "execute_result"
    }
   ],
   "source": [
    "doc"
   ]
  },
  {
   "cell_type": "code",
   "execution_count": 49,
   "id": "dbc1ece3",
   "metadata": {
    "ExecuteTime": {
     "end_time": "2021-10-20T18:25:58.653003Z",
     "start_time": "2021-10-20T18:25:58.649799Z"
    }
   },
   "outputs": [
    {
     "name": "stdout",
     "output_type": "stream",
     "text": [
      "sentence: this is a sentence.\n",
      "sentence: This is the second sentence.\n",
      "sentence: This is the rest of the essay.\n"
     ]
    }
   ],
   "source": [
    "for s in doc.sents:\n",
    "    print(\"sentence:\",s)"
   ]
  },
  {
   "cell_type": "code",
   "execution_count": 31,
   "id": "306fee10",
   "metadata": {
    "ExecuteTime": {
     "end_time": "2021-10-20T17:48:24.426967Z",
     "start_time": "2021-10-20T17:48:24.420967Z"
    }
   },
   "outputs": [
    {
     "data": {
      "text/plain": [
       "[0, 0]"
      ]
     },
     "execution_count": 31,
     "metadata": {},
     "output_type": "execute_result"
    }
   ],
   "source": [
    "len(list(doc.sents)) * [0]"
   ]
  },
  {
   "cell_type": "code",
   "execution_count": 33,
   "id": "723a4dd1",
   "metadata": {
    "ExecuteTime": {
     "end_time": "2021-10-20T17:48:37.314049Z",
     "start_time": "2021-10-20T17:48:37.309050Z"
    }
   },
   "outputs": [
    {
     "data": {
      "text/plain": [
       "[this is a sentence., This is the second sentence.]"
      ]
     },
     "execution_count": 33,
     "metadata": {},
     "output_type": "execute_result"
    }
   ],
   "source": [
    "list(doc.sents)"
   ]
  },
  {
   "cell_type": "code",
   "execution_count": null,
   "id": "a9584cb9",
   "metadata": {},
   "outputs": [],
   "source": [
    "from sklearn.metrics.pairwise import cosine_similarity"
   ]
  },
  {
   "cell_type": "code",
   "execution_count": 135,
   "id": "de707fbb",
   "metadata": {
    "ExecuteTime": {
     "end_time": "2021-10-20T18:49:28.696135Z",
     "start_time": "2021-10-20T18:49:28.664135Z"
    }
   },
   "outputs": [],
   "source": [
    "rev1 = nlp(\"This movie is good\")\n",
    "rev2 = nlp(\"I enjoyed this movie a lot\")\n",
    "# neg\n",
    "rev3 = nlp(\"This movie was garbage, a waste of time\")\n",
    "\n",
    "rev4 = nlp(\"I love this movie, I had a good time\")"
   ]
  },
  {
   "cell_type": "code",
   "execution_count": 145,
   "id": "d04b8c05",
   "metadata": {
    "ExecuteTime": {
     "end_time": "2021-10-20T18:49:45.822275Z",
     "start_time": "2021-10-20T18:49:45.816277Z"
    }
   },
   "outputs": [
    {
     "data": {
      "text/plain": [
       "array([[0.94735026]], dtype=float32)"
      ]
     },
     "execution_count": 145,
     "metadata": {},
     "output_type": "execute_result"
    }
   ],
   "source": [
    "v1 = rev4\n",
    "v2 = rev2\n",
    "\n",
    "cosine_similarity(v1.vector.reshape(1,-1), v2.vector.reshape(1,-1))"
   ]
  },
  {
   "cell_type": "code",
   "execution_count": 178,
   "id": "3afa3acf",
   "metadata": {
    "ExecuteTime": {
     "end_time": "2021-10-20T18:53:53.966006Z",
     "start_time": "2021-10-20T18:53:53.938005Z"
    }
   },
   "outputs": [],
   "source": [
    "king = nlp(\"King\")\n",
    "man = nlp(\"Man\")\n",
    "woman = nlp(\"Woman\")\n",
    "queen = nlp(\"Queen\")"
   ]
  },
  {
   "cell_type": "code",
   "execution_count": 179,
   "id": "5dc0cc0a",
   "metadata": {
    "ExecuteTime": {
     "end_time": "2021-10-20T18:53:54.143296Z",
     "start_time": "2021-10-20T18:53:54.136295Z"
    }
   },
   "outputs": [
    {
     "data": {
      "text/plain": [
       "array([[0.7880845]], dtype=float32)"
      ]
     },
     "execution_count": 179,
     "metadata": {},
     "output_type": "execute_result"
    }
   ],
   "source": [
    "\n",
    "\n",
    "v1 = king.vector - man.vector + woman.vector\n",
    "v2 = queen.vector\n",
    "\n",
    "cosine_similarity(v1.reshape(1,-1), v2.reshape(1,-1))"
   ]
  },
  {
   "cell_type": "code",
   "execution_count": null,
   "id": "3e12689c",
   "metadata": {},
   "outputs": [],
   "source": []
  }
 ],
 "metadata": {
  "kernelspec": {
   "display_name": "Python 3 (ipykernel)",
   "language": "python",
   "name": "python3"
  },
  "language_info": {
   "codemirror_mode": {
    "name": "ipython",
    "version": 3
   },
   "file_extension": ".py",
   "mimetype": "text/x-python",
   "name": "python",
   "nbconvert_exporter": "python",
   "pygments_lexer": "ipython3",
   "version": "3.8.5"
  }
 },
 "nbformat": 4,
 "nbformat_minor": 5
}
