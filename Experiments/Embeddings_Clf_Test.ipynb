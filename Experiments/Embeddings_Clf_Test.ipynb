{
 "cells": [
  {
   "cell_type": "code",
   "execution_count": 181,
   "id": "5ba99b04",
   "metadata": {
    "ExecuteTime": {
     "end_time": "2022-01-05T14:45:57.224905Z",
     "start_time": "2022-01-05T14:45:57.219907Z"
    }
   },
   "outputs": [],
   "source": [
    "import spacy\n",
    "from sklearn.metrics.pairwise import cosine_similarity\n",
    "import numpy as np\n",
    "import pandas as pd\n",
    "from sklearn.linear_model import LogisticRegression\n",
    "from sklearn.decomposition import PCA\n",
    "from sklearn.preprocessing import StandardScaler\n",
    "from matplotlib import pyplot as plt"
   ]
  },
  {
   "cell_type": "code",
   "execution_count": 182,
   "id": "397f44e4",
   "metadata": {
    "ExecuteTime": {
     "end_time": "2022-01-05T14:45:58.843039Z",
     "start_time": "2022-01-05T14:45:57.411934Z"
    }
   },
   "outputs": [],
   "source": [
    "nlp = spacy.load('en_core_web_md')"
   ]
  },
  {
   "cell_type": "code",
   "execution_count": 183,
   "id": "31e4d964",
   "metadata": {
    "ExecuteTime": {
     "end_time": "2022-01-05T14:45:58.848426Z",
     "start_time": "2022-01-05T14:45:58.845041Z"
    }
   },
   "outputs": [],
   "source": [
    "def cos_sim(a,b):\n",
    "    return np.dot(a, b)/(np.linalg.norm(a)*np.linalg.norm(b))"
   ]
  },
  {
   "cell_type": "code",
   "execution_count": 293,
   "id": "24ff2086",
   "metadata": {
    "ExecuteTime": {
     "end_time": "2022-01-05T15:25:25.022045Z",
     "start_time": "2022-01-05T15:25:24.899034Z"
    }
   },
   "outputs": [
    {
     "data": {
      "text/plain": [
       "LogisticRegression()"
      ]
     },
     "execution_count": 293,
     "metadata": {},
     "output_type": "execute_result"
    }
   ],
   "source": [
    "\n",
    "words = ['badminton', 'soccer','football','tennis','basketball','volleyball','golf','bowling']\n",
    "\n",
    "embs =[]\n",
    "for word in words:\n",
    "    doc = nlp(word)\n",
    "    \n",
    "    embs.append(doc[0].vector)\n",
    "\n",
    "df = pd.DataFrame(embs)\n",
    "df['y'] = 1\n",
    "\n",
    "df\n",
    "\n",
    "words_n = ['rice', 'food','ramen','sushi','schnitzel','bread','steak','soup','curry','ham']\n",
    "embs_n =[]\n",
    "for word in words_n:\n",
    "    doc = nlp(word)\n",
    "    \n",
    "    embs_n.append(doc[0].vector)\n",
    "\n",
    "df_n = pd.DataFrame(embs_n)\n",
    "df_n['y'] = 0\n",
    "\n",
    "df_n\n",
    "df = pd.concat([df,df_n])\n",
    "df.index = words + words_n\n",
    "\n",
    "logreg = LogisticRegression()\n",
    "\n",
    "logreg.fit(dat.drop('y',axis=1), dat['y'])\n"
   ]
  },
  {
   "cell_type": "code",
   "execution_count": 443,
   "id": "e44dc6cd",
   "metadata": {
    "ExecuteTime": {
     "end_time": "2022-01-05T15:42:43.392278Z",
     "start_time": "2022-01-05T15:42:43.377277Z"
    }
   },
   "outputs": [
    {
     "name": "stdout",
     "output_type": "stream",
     "text": [
      "[[0.96963595 0.03036405]]\n"
     ]
    },
    {
     "data": {
      "text/plain": [
       "'food'"
      ]
     },
     "execution_count": 443,
     "metadata": {},
     "output_type": "execute_result"
    }
   ],
   "source": [
    "w = 'food'\n",
    "d = nlp(w)\n",
    "predword = d.vector.reshape(1,-1) \n",
    "print(logreg.predict_proba(predword))\n",
    "'sport' if logreg.predict(predword)[0] else 'food'"
   ]
  },
  {
   "cell_type": "code",
   "execution_count": 295,
   "id": "935ad3e9",
   "metadata": {
    "ExecuteTime": {
     "end_time": "2022-01-05T15:25:27.478194Z",
     "start_time": "2022-01-05T15:25:27.475030Z"
    }
   },
   "outputs": [],
   "source": [
    "from sklearn.decomposition import PCA\n",
    "from sklearn.preprocessing import StandardScaler\n",
    "from matplotlib import pyplot as plt"
   ]
  },
  {
   "cell_type": "code",
   "execution_count": 413,
   "id": "4f820090",
   "metadata": {
    "ExecuteTime": {
     "end_time": "2022-01-05T15:39:51.537356Z",
     "start_time": "2022-01-05T15:39:51.522359Z"
    }
   },
   "outputs": [],
   "source": [
    "scale = StandardScaler()\n",
    "\n",
    "df_scale = scale.fit_transform(df.drop('y', axis=1))\n",
    "\n",
    "pca = PCA()\n",
    "\n",
    "pca_fitted = pca.fit_transform(df_scale)\n",
    "pca_df = pd.DataFrame(pca_fitted, index = df.index, columns=labels)\n"
   ]
  },
  {
   "cell_type": "code",
   "execution_count": 462,
   "id": "6a5e87bb",
   "metadata": {
    "ExecuteTime": {
     "end_time": "2022-01-05T15:45:30.779204Z",
     "start_time": "2022-01-05T15:45:30.609191Z"
    }
   },
   "outputs": [
    {
     "name": "stdout",
     "output_type": "stream",
     "text": [
      "Prediction: food\n"
     ]
    },
    {
     "data": {
      "image/png": "[encoded data removed]",
      "text/plain": [
       "<Figure size 432x288 with 1 Axes>"
      ]
     },
     "metadata": {
      "needs_background": "light"
     },
     "output_type": "display_data"
    }
   ],
   "source": [
    "# PLOT WORD PCA\n",
    "pca_df = pd.DataFrame(pca_fitted, index = df.index, columns=labels)\n",
    "\n",
    "w = 'cooking'\n",
    "d = nlp(w)\n",
    "d_pca = pca.transform(scale.transform(d.vector.reshape(1,-1)))\n",
    "plt.scatter(pca_df['PC1'], pca_df['PC2'])\n",
    "\n",
    "\n",
    "\n",
    "for sample in pca_df.index:\n",
    "    plt.annotate(sample, (pca_df['PC1'].loc[sample],pca_df['PC2'].loc[sample]))\n",
    "    \n",
    "plt.scatter(d_pca[0][0], d_pca[0][1])\n",
    "plt.annotate(w, (d_pca[0][0], d_pca[0][1]))\n",
    "\n",
    "predword = d.vector.reshape(1,-1) \n",
    "print(f\"Prediction: {'sport' if logreg.predict(predword)[0] else 'food'}\")"
   ]
  },
  {
   "cell_type": "code",
   "execution_count": null,
   "id": "8e46394a",
   "metadata": {},
   "outputs": [],
   "source": []
  }
 ],
 "metadata": {
  "kernelspec": {
   "display_name": "Python 3 (ipykernel)",
   "language": "python",
   "name": "python3"
  },
  "language_info": {
   "codemirror_mode": {
    "name": "ipython",
    "version": 3
   },
   "file_extension": ".py",
   "mimetype": "text/x-python",
   "name": "python",
   "nbconvert_exporter": "python",
   "pygments_lexer": "ipython3",
   "version": "3.8.5"
  }
 },
 "nbformat": 4,
 "nbformat_minor": 5
}
